{
 "cells": [
  {
   "cell_type": "markdown",
   "metadata": {},
   "source": [
    "<center><h1>Graph project: Epidemic spreading</h1></center>\n",
    "\n",
    "<center><h4>ENSEEIHT SN</h4></center>"
   ]
  },
  {
   "cell_type": "markdown",
   "metadata": {},
   "source": [
    "<div style=\"width:75%;margin:0 auto;\">\n",
    "    \n",
    "## Introduction\n",
    "<a id='intro'></a>\n",
    "    \n",
    "<p style=\"text-align:justify;\"> As you know, a new epidemic has overwhelmed the world, COVID-19 jeopardizes people and changes our habits. It is easy to realise that knowing how illnesses spread is vital to our own protection. How can we predict whether a disease will cause an epidemic, how many people it will infect, which people it will infect, and whether or not it is dangerous to society as a whole ? Also, how can we determine which techniques to use in fighting an epidemic once it begins ? One way to answer all of these questions is through <strong>mathematical modeling</strong>. </p>\n",
    "\n",
    "<p style=\"text-align:justify;\"> In this work you will have to review different epidemic modelings relying all on the representation by graphs of a human network called a <strong>contact network</strong>. A vertex in a contact network represents an individual and an edge between two vertices represents a contact between two individuals. The disease only spread from individual to individual if they are in contact, so through the edges. This representation is actually really common in research, and a lot of state-of-the-art modeling are built over it. From these different models you will be asked to draw conclusions from experiments on varying contact networks</p>\n",
    "\n",
    "<p style=\"text-align:justify;\"> For readability and ease of use, this project will be carried on a Jupyter Notebook, hence code and question answering have to be written in this unique file. This is a <strong>DUO</strong> project, no group of one person will be accepted, the duo has to be composed of same TD group students, if the number of students in the TD group is odd we will accept one group composed of three students. It will be coded in Julia using the LightGraphs package. <strong>BEWARE:</strong> \n",
    "    \n",
    "- If the code does not provide good results, its readability as well as its comments are essential for the corrector to potentially find some notation points.\n",
    "- The specifications of the functions have to be strictly respected.\n",
    "- Do not neglect written questions they stand for an important part of the notation, you are not only evaluated on the coding. Also, even so a written question may not ask you directly to code or provide results from code, support your arguments when possible with a runable example is very welcome and sometimes even expected.\n",
    "- Any initiatives and additional efforts bringing contents and thoughts out of the question scope may result in bonus points if pertinent.\n",
    "</p> \n",
    "    \n",
    "<p style=\"text-align:justify;\"> Deliverable: You will deliver your work on moodle before <strong style=\"font-size:1.3em\">23.01.2022</strong> in a <strong style=\"font-size:1.3em\">.tar</strong> containing the notebook with your codes and your written answers, and the different graph figures in .png you will generate. The corrector will use the student N7 computers for running your code, so take care of verifying that your work is running as expected on these computers !</p>\n",
    "\n",
    "LightGraphs documentation: https://juliagraphs.org/LightGraphs.jl/v1.2/index.html\n",
    "    \n",
    "<!---\n",
    "http://makie.juliaplots.org/stable/basic-tutorial.html#Adding-plots-to-a-Scene\n",
    "TODO: afficher l'historique gplot des graphes durant la simu pour voir visuellement ce que ça donne. Peut etre necessiter de locker l'affichage graphique.\n",
    "afficher pour tau fixer sur different graphe de degré le nombre max d'infecté durant la simu.\n",
    "    \n",
    "Faire coder le modèle SAIS et SIR\n",
    "\n",
    "    Pour SIR faire la courbe dans un des sites dans les favoris\n",
    "    \n",
    "    Expliquer en quoi la distance et Jordan ne sont pas tout le temps optimal. Expliquer pourquoi le DMP peut présenter de meilleur résultat.\n",
    "\n",
    "Demander d'imaginer d'autres modèle inspirer de maladie\n",
    "--->\n",
    "</div>\n"
   ]
  },
  {
   "cell_type": "markdown",
   "metadata": {},
   "source": [
    "<div style=\"width:75%;margin:0 auto;\">\n",
    "\n",
    "## Environment and packages installation\n",
    "<a id='env'></a>\n",
    "    \n",
    "\n",
    "<p style=\"text-align:justify;\"> <strong>IMPORTANT</strong>: For evaluation, coding questions have to run with no additional packages ! Only the ones present here ! However if you want to use another package to go further in your answer and add bonus contents, take care of separating the cells and precising which packages you are using.</p>\n",
    "\n",
    "</div>\n"
   ]
  },
  {
   "cell_type": "code",
   "execution_count": null,
   "metadata": {},
   "outputs": [],
   "source": [
    "# TO RUN ONCE\n",
    "using Pkg\n",
    "Pkg.activate(\".\") # Path to Manifest.toml and Project.toml\n",
    "Pkg.resolve()"
   ]
  },
  {
   "cell_type": "code",
   "execution_count": 1,
   "metadata": {
    "scrolled": true
   },
   "outputs": [
    {
     "name": "stderr",
     "output_type": "stream",
     "text": [
      "\u001b[32m\u001b[1m Activating\u001b[22m\u001b[39m environment at `~/Documents/GitHub/epidemic-spreading-sim/src/Project.toml`\n"
     ]
    }
   ],
   "source": [
    "# Import packages\n",
    "using Pkg\n",
    "Pkg.activate(\".\") # Path to Manifest.toml and Project.toml\n",
    "using LightGraphs\n",
    "using GraphPlot\n",
    "using Colors\n",
    "using CairoMakie\n",
    "using StatsBase\n",
    "using Plots\n",
    "using JLD2\n",
    "using Compose\n",
    "\n",
    "# Include local packages\n",
    "include(\"lib.jl\")\n",
    "include(\"sis.jl\")\n",
    "include(\"sir.jl\")\n",
    "include(\"sair.jl\")"
   ]
  },
  {
   "cell_type": "markdown",
   "metadata": {},
   "source": [
    "<div style=\"width:75%;margin:0 auto;\">\n",
    "\n",
    "## Part 1 - SIS model\n",
    "<a id='part1'></a>\n",
    "\n",
    "SIS is a compartmental model, ie a model where the population is divided into subgroups that represent the disease status of its members. SIS stands for Susceptible $\\rightarrow$ Infected $\\rightarrow$ Susceptible where the susceptible group contains those who remain susceptible to the infection, and the infected group consists of those who not only have the disease but are also in the contagious period of the disease.\n",
    "    \n",
    "Combine with a contact network approach, this model can capture contact patterns (family, company, friends). Each vertex represents an individual in the host population, and contacts between two individuals are represented by an edge that connects the two. The probability of transmitting the disease from an infected to a susceptible individual along one of these edges or contacts is $\\beta$ (=<strong>infection rate</strong>). The probability to cure is $\\alpha$ (= <strong>curing rate</strong>).\n",
    "\n",
    "    \n",
    "In order for a disease to begin spreading through a network, the disease must be introduced into the population, either through infecting a proportion of the population or through infecting one individual. As time moves forward, the disease will spread away from those initially infected, and two things may occur simultaneously at each time step $t$. First, each infected individual will spread disease to each of its contacts with a probability $\\beta$. Secondly, each infectious individual will recover at a rate, $\\alpha$ , at which point the individual will then no longer infect any of its contacts. After the disease has run its course, we can determine how the disease affected the network by calculating various quantities that help us better understand the outbreak.\n",
    "\n",
    "<br>\n",
    "    \n",
    "<p style=\"font-size:0.9em\">P. Van Mieghem, J. Omic, R. E. Kooij, <em>“Virus Spread in Networks”</em>,\n",
    "IEEE/ACM Transaction on Networking (2009)<p>\n",
    "\n",
    "</div>\n",
    "<!---\n",
    "<div style=\"background-color:rgba(0, 0, 0, 0.0470588); padding:10px 0;font-family:monospace;\">\n",
    "<font size = 4.5px><b>Algorithm 1:</b> Girvan Newman</font><br>\n",
    "    <div style=\"margin-left:50px;border-left:2px solid black;padding-left:10px;\">\n",
    "    <b> WHILE </b> there are still edges<b> OR </b> desired nb of communities unreached <b>DO</b>\n",
    "        <div style=\"margin-left:50px;border-left:2px solid black;padding-left:10px;\">\n",
    "        Calculate betweeness of all edges <br>\n",
    "        Remove the edge with the highest betweeness <br>\n",
    "        Calculate the number of strongly connected components\n",
    "        </div>\n",
    "    <b> END WHILE </b>   \n",
    "    </div>\n",
    "</div>\n",
    "--->"
   ]
  },
  {
   "cell_type": "markdown",
   "metadata": {},
   "source": [
    "<div style=\"width:75%;margin:0 auto;\">\n",
    "\n",
    "### 1.1 Contact networks sample"
   ]
  },
  {
   "cell_type": "code",
   "execution_count": 55,
   "metadata": {},
   "outputs": [],
   "source": [
    "\"\"\"karat7: A graph representing the karate club of N7 and the connections between the persons in this club.\n",
    "There are 34 people in this network. It is actually inspired by one of the most famous problem in graph\n",
    "theory: the Zachary's karate club.\n",
    "\"\"\"\n",
    "karat7 = smallgraph(:karate)\n",
    "nodecolor = [colorant\"lightseagreen\"]\n",
    "draw(PNG(\"out/karat7.png\", 100cm, 100cm), gplot(karat7,nodefillc=nodecolor))"
   ]
  },
  {
   "cell_type": "code",
   "execution_count": 3,
   "metadata": {},
   "outputs": [],
   "source": [
    "\"\"\"n7_2A: A graph representing the second year students at N7. Each department (SN, MF2E, 3EA) form a \n",
    "community where connections are denser, connections between department are rarer.\n",
    "\"\"\"\n",
    "c=[[10,0,0] [0.1,10,0] [0.1,0.1,10]]\n",
    "n=[100,70,50]\n",
    "n7_2A = stochastic_block_model(c,n)\n",
    "nodecolor = [colorant\"lightseagreen\"]\n",
    "draw(PNG(\"out/n7_2A.png\", 100cm, 100cm), gplot(n7_2A,nodefillc=nodecolor))"
   ]
  },
  {
   "cell_type": "code",
   "execution_count": 3,
   "metadata": {},
   "outputs": [],
   "source": [
    "\"\"\"toulouse_neigh: A graph representing a neighborhood composed of 1000 people in Toulouse.\n",
    "\"\"\"\n",
    "toulouse_neigh = barabasi_albert(1000, 1)\n",
    "nodecolor = [colorant\"lightseagreen\"]\n",
    "draw(PNG(\"out/toulouse_neigh.png\", 100cm, 100cm), gplot(toulouse_neigh,nodefillc=nodecolor))"
   ]
  },
  {
   "cell_type": "markdown",
   "metadata": {},
   "source": [
    "<div style=\"width:75%;margin:0 auto;\">\n",
    "  \n",
    "### 1.2 Introduce the infection\n",
    "    \n",
    "<p style=\"text-align:justify;\">We denote by <code>state</code> a vector containing the disease status of each vertex where Susceptible=0 and Infected=1. Then <code>state</code> is an <code>Array{Int32,1}</code> of length the number of vertices. This array in addition of a graph (represented internally by an adjacency matrix or an adjacency list) will be the data structure of our model.</p>\n",
    "    \n",
    "<span style=\"font-size:0.9em\">In <code>Array{Int32,1}</code>, <code>Int32</code> refers to the kind of data in the array, here 32 bits integers, <code>1</code> refers to the dimension of the array, here we have a 1-dimensional structure so a vector.</span>\n",
    "</div>"
   ]
  },
  {
   "cell_type": "markdown",
   "metadata": {},
   "source": [
    "<div style=\"width:75%;margin:0 auto;\">\n",
    "\n",
    "<strong style=\"color:cornflowerblue\">Question 1 (code):</strong> For each graph in the graph sample (<code>karat7</code>, <code>n7_2A</code>, <code>toulouse_neigh</code>) initialize the state array by assigning each vertex to susceptible and add randomly one or numerous infected people. Save the graph as a .png image using <code>gplot</code> and <code>draw</code>, infected should appear in a different color (<code>colorant\"orange\"</code>).\n",
    "    \n",
    "Due to a bug on certain version of Jupyter Notebook, the graph <span style=\"font-size:1.3em\">figures should be saved in a file and not plot inside the notebook </span> !!!\n",
    "    \n",
    "Gplot GitHub: https://github.com/JuliaGraphs/GraphPlot.jl\n",
    "    \n",
    "Gplot examples: https://juliagraphs.org/GraphPlot.jl/\n",
    "</div>\n"
   ]
  },
  {
   "cell_type": "code",
   "execution_count": 59,
   "metadata": {},
   "outputs": [],
   "source": [
    "# Infect Karat7\n",
    "karat7 = smallgraph(:karate)\n",
    "cleannodecolor = colorant\"lightseagreen\"\n",
    "infectednodecolor = colorant\"orange\"\n",
    "# randomly choose ammount of infected people\n",
    "infected = rand(1:floor(Int, nv(karat7)/2))\n",
    "# randomly choose patient zero\n",
    "patient_zero_indices = [rand(1:nv(karat7)) for i in 1:infected]\n",
    "# create a list of uninfected nodes\n",
    "nodecolor = [cleannodecolor for i in 0:nv(karat7)]\n",
    "# infect previously chosen nodes\n",
    "for i in 1:infected\n",
    "  nodecolor[patient_zero_indices[i]] = infectednodecolor\n",
    "end\n",
    "# draw the graph\n",
    "draw(PNG(\"out/karat7.png\", 100cm, 100cm), gplot(karat7, nodefillc=nodecolor))"
   ]
  },
  {
   "cell_type": "code",
   "execution_count": 61,
   "metadata": {},
   "outputs": [],
   "source": [
    "# Infect N7_2A\n",
    "c=[[10,0,0] [0.1,10,0] [0.1,0.1,10]]\n",
    "n=[100,70,50]\n",
    "n7_2A = stochastic_block_model(c,n)\n",
    "cleannodecolor = colorant\"lightseagreen\"\n",
    "infectednodecolor = colorant\"orange\"\n",
    "# randomly choose the number of infected people\n",
    "infected = rand(1:floor(Int, nv(n7_2A) / 2))\n",
    "# randomly choose patient zero\n",
    "patient_zero_indices = [rand(1:nv(n7_2A)) for i in 1:infected] \n",
    "# create a list of uninfected nodes\n",
    "nodecolor = [cleannodecolor for i in 0:(nv(n7_2A))]\n",
    "# infect patient zero\n",
    "for i in 1:infected\n",
    "    nodecolor[patient_zero_indices[i]] = infectednodecolor\n",
    "end\n",
    "# draw the graph\n",
    "draw(PNG(\"out/n7_2A.png\", 100cm, 100cm), gplot(n7_2A,nodefillc=nodecolor))"
   ]
  },
  {
   "cell_type": "code",
   "execution_count": 7,
   "metadata": {},
   "outputs": [],
   "source": [
    "# Infect Toulouse_neigh\n",
    "toulouse_neigh = barabasi_albert(1000, 1)\n",
    "cleannodecolor = colorant\"lightseagreen\"\n",
    "infectednodecolor = colorant\"orange\"\n",
    "# randomly choose the number of infected people\n",
    "infected = rand(1:floor(Int, nv(toulouse_neigh)/2))\n",
    "# randomly choose patient zero\n",
    "patient_zero_indices = [rand(1:nv(toulouse_neigh)) for i in 1:infected] \n",
    "# create a list of uninfected nodes\n",
    "nodecolor = [cleannodecolor for i in 0:(nv(toulouse_neigh))]\n",
    "# infect patient zero\n",
    "for i in 1:infected\n",
    "    nodecolor[patient_zero_indices[i]] = infectednodecolor\n",
    "end\n",
    "# draw the graph\n",
    "draw(PNG(\"out/toulouse_neigh.png\", 100cm, 100cm), gplot(toulouse_neigh,nodefillc=nodecolor))"
   ]
  },
  {
   "cell_type": "markdown",
   "metadata": {},
   "source": [
    "<div style=\"width:75%;margin:0 auto;\">\n",
    "\n",
    "<strong style=\"color:cadetblue\">Question 2 (written):</strong> What do you think/predict about the influence of the initial number of infected people and their locations on the evolution of an SIS model epidemic ?\n",
    "\n",
    "<br>\n",
    "\n",
    "Plus il y a de personnes infectées au départ, plus l'infection se fera rapidement. De la même manière, plus les personnes infectées sont éloignées, plus la contagion se produira rapidement.\n",
    "\n",
    "</div>\n"
   ]
  },
  {
   "cell_type": "markdown",
   "metadata": {},
   "source": [
    "<div style=\"width:75%;margin:0 auto;\">\n",
    "  \n",
    "### 1.3 Spread the infection"
   ]
  },
  {
   "cell_type": "markdown",
   "metadata": {},
   "source": [
    "<div style=\"width:75%;margin:0 auto;\">\n",
    "      \n",
    "<strong style=\"color:cornflowerblue\">Question 3 (code):</strong> Implement the <code>function SIS</code> (respect the header and the specifications). You can use <code>rand</code> to translate the probabilities. Test your algorithm on <code>karat7</code>, <code>n7_2A</code>, and <code>toulouse_neigh</code> with arbitrary $\\beta$, $\\alpha$, and $t$.\n",
    "    \n",
    "<span style=\"font-size:0.9em\">The corrector should be able to write <code>new_state = SIS(net,state,beta,alpha,t)</code> with your code.</span>\n",
    "\n",
    "</div>\n"
   ]
  },
  {
   "cell_type": "code",
   "execution_count": 8,
   "metadata": {},
   "outputs": [
    {
     "data": {
      "text/plain": [
       "Simulation_SIS"
      ]
     },
     "metadata": {},
     "output_type": "display_data"
    }
   ],
   "source": [
    "# Code can be found in sis.jl\n",
    "include(\"sis.jl\")"
   ]
  },
  {
   "cell_type": "code",
   "execution_count": 9,
   "metadata": {},
   "outputs": [],
   "source": [
    "# Test on Karat7\n",
    "nombre_infecte = 1\n",
    "karat7 = smallgraph(:karate)\n",
    "state = init_State(nv(karat7), nombre_infecte)\n",
    "beta = 0.1\n",
    "alpha = 0.3\n",
    "t = 10\n",
    "state = SIS(karat7,state,beta,alpha,t)\n",
    "draw_Net_Graph(karat7, state, \"karat7.png\")"
   ]
  },
  {
   "cell_type": "code",
   "execution_count": 10,
   "metadata": {},
   "outputs": [],
   "source": [
    "# Test on N7_2A\n",
    "nombre_infecte = 3\n",
    "c=[[10,0,0] [0.1,10,0] [0.1,0.1,10]]\n",
    "n=[100,70,50]\n",
    "n7_2A = stochastic_block_model(c,n)\n",
    "state = init_State(nv(n7_2A), nombre_infecte)\n",
    "beta = 0.1\n",
    "alpha = 0.5\n",
    "t = 10\n",
    "state = SIS(n7_2A,state,beta,alpha,t)\n",
    "draw_Net_Graph(n7_2A, state, \"n7_2A.png\")"
   ]
  },
  {
   "cell_type": "code",
   "execution_count": 11,
   "metadata": {},
   "outputs": [],
   "source": [
    "# Test on Toulouse_neigh\n",
    "nombre_infecte = 10\n",
    "toulouse_neigh = barabasi_albert(1000, 1)\n",
    "state = init_State(nv(toulouse_neigh), nombre_infecte)\n",
    "beta = 0.1\n",
    "alpha = 0.5\n",
    "t = 20\n",
    "state = SIS(toulouse_neigh,state,beta,alpha,t)\n",
    "draw_Net_Graph(toulouse_neigh, state, \"toulouse_neigh.png\")"
   ]
  },
  {
   "cell_type": "markdown",
   "metadata": {},
   "source": [
    "<div style=\"width:75%;margin:0 auto;\">\n",
    "\n",
    "### 1.4 Simulate and understand the epidemic\n",
    "    \n",
    "<p style=\"text-align:justify;\">In the SIS model of this project, every disease is characterized by:\n",
    "    \n",
    "* The infection rate $\\beta$ representing the chance of infection when being in contact with an infected individual.\n",
    "* The curing rate $\\alpha$ representing the chance of being cured of the disease.\n",
    "* The effective spreading rate $\\tau=\\frac{\\beta}{\\alpha}$ representing the capacity of the disease to spread. More the disease infect easily ($\\beta$ high) and less it is cured easily ($\\alpha$ low) more $\\tau$ can be high.\n",
    "\n",
    "We are now willing to understand what are the influences of these parameters as well as the contact network shape on an epidemic.</p>\n",
    "\n",
    "</div>\n"
   ]
  },
  {
   "cell_type": "markdown",
   "metadata": {},
   "source": [
    "<div style=\"width:75%;margin:0 auto;\">\n",
    "\n",
    "<strong style=\"color:cadetblue\">Question 4 (written):</strong> The <code>function SIS</code> you implemented launches one run of a SIS model on a given contact network. As it makes use of randomness, one run of spreading is stochastic. Then what simple method can you propose to provide a prediction of the disease spreading on a given contact network ?\n",
    "   \n",
    "<br>\n",
    "\n",
    "On peut estimer l'évolution de la propagation de la maladie en lançant la simulation un grand nombre de fois jusqu'à obtenir des statistiques suffisament fiables\n",
    "\n",
    "</div>\n"
   ]
  },
  {
   "cell_type": "markdown",
   "metadata": {},
   "source": [
    "<div style=\"width:75%;margin:0 auto;\">\n",
    "    \n",
    "<strong style=\"color:cornflowerblue\">Question 5 (code):</strong> Implement the <code>function Simulation_SIS</code> (respect the header and the specifications).\n",
    "    \n",
    "<span style=\"font-size:0.9em\">The corrector should be able to write <code>predictions, taus = Simulation_SIS(net,nbinf,betas,alphas,t,nbsimu)</code> with your code.</span>\n",
    "\n",
    "</div>\n"
   ]
  },
  {
   "cell_type": "code",
   "execution_count": 28,
   "metadata": {},
   "outputs": [],
   "source": [
    "# Code can be found in sis.jl\n",
    "include(\"sis.jl\")"
   ]
  },
  {
   "cell_type": "markdown",
   "metadata": {},
   "source": [
    "<div style=\"width:75%;margin:0 auto;\">\n",
    "\n",
    "<strong style=\"color:cadetblue\">Question 6 (written)</strong>: Run the 2 scripts below and describe what you see. Conclude on the influence of $\\tau$, $\\beta$, and $\\alpha$ on an epidemic we can model with SIS.\n",
    "    \n",
    "<br>\n",
    "\n",
    "We can see how, the lower the effective spreading rate $\\tau$ gets, the longer it takes for the population to get infected. Therefore, we can assume that a higher $\\beta$ and a lower $\\alpha$ mean a faster infection with the SIS model.\n",
    "\n",
    "</div>\n"
   ]
  },
  {
   "cell_type": "code",
   "execution_count": 101,
   "metadata": {},
   "outputs": [],
   "source": [
    "# Script launching predictions on different diseases on karat7 and printing \n",
    "# the precentage of infected at each time step.\n",
    "karat7 = smallgraph(:karate)\n",
    "\n",
    "betas=[0.05,0.1,0.01,0.4,0.04,0.05,0.005]\n",
    "alphas=[0.05,0.1,0.01,0.1,0.01,0.1,0.01]\n",
    "\n",
    "# The original code is commented out because only 60 time steps are needed \n",
    "# for the sim to stabilize itself.\n",
    "\n",
    "# predictions, taus = Simulation_SIS(karat7,2,betas,alphas,1000,1000)\n",
    "predictions, taus = Simulation_SIS(karat7,2,betas,alphas,60,1000)\n",
    "\n",
    "Plots.plot(predictions, label=taus',xlabel=\"Time\",ylabel=\"Avg % of infected\")\n",
    "savefig(\"out/karat7_predictions_SIS.png\") # comment this line if you want to see the plot"
   ]
  },
  {
   "cell_type": "code",
   "execution_count": 102,
   "metadata": {},
   "outputs": [],
   "source": [
    "# Same as before but applied on toulouse_neigh. May be a bit long to run.\n",
    "toulouse_neigh = barabasi_albert(1000, 1)\n",
    "\n",
    "betas = [0.05,0.1,0.15,0.25,0.35,0.45,0.55,0.65,0.75,0.85,0.95]\n",
    "alphas = [0.2,0.2,0.2,0.2,0.2,0.2,0.2,0.2,0.2,0.2,0.2]\n",
    "\n",
    "# Same thing here, the original timestep values were waaay too high. I really can't leave my computer\n",
    "# running overnight every time I want to run this script.\n",
    "\n",
    "# predictions, taus = Simulation_SIS(toulouse_neigh,100,betas,alphas,1000,100)\n",
    "predictions, taus = Simulation_SIS(toulouse_neigh,100,betas,alphas,100,100)\n",
    "\n",
    "Plots.plot(predictions, label=taus',xlabel=\"Time\",ylabel=\"Avg % of infected\")\n",
    "savefig(\"out/toulouse_neigh_predictions_SIS.png\") # comment this line if you want to see the plot"
   ]
  },
  {
   "cell_type": "markdown",
   "metadata": {},
   "source": [
    "<div style=\"width:75%;margin:0 auto;\">\n",
    "\n",
    "<strong style=\"color:cadetblue\">Question 7 (written):</strong> Change the initial number of infected in the scripts above, is it in accordance with your answer in Question 2 ?\n",
    "    \n",
    "<br>\n",
    "\n",
    "Yes, the result does make sense. The speed at which the population gets infected is still proportional to the effective spreading rate $\\tau$. The result does not appear on this notebook though, as we did not run the simulation more than once (it takes a long time to complete, and we mistakenly cleared the cell outputs a couple days ago).\n",
    "</div>\n"
   ]
  },
  {
   "cell_type": "code",
   "execution_count": null,
   "metadata": {
    "scrolled": true
   },
   "outputs": [],
   "source": [
    "# Change the initial number of infected\n",
    "karat7 = smallgraph(:karate)\n",
    "\n",
    "betas=[0.05,0.1,0.01,0.4,0.04,0.05,0.005]\n",
    "alphas=[0.05,0.1,0.01,0.1,0.01,0.1,0.01]\n",
    "\n",
    "predictions, taus = Simulation_SIS(karat7,8,betas,alphas,1000,1000)\n",
    "\n",
    "Plots.plot(predictions, label=taus',xlabel=\"Time\",ylabel=\"Avg % of infected\")"
   ]
  },
  {
   "cell_type": "markdown",
   "metadata": {},
   "source": [
    "<div style=\"width:75%;margin:0 auto;\">\n",
    "\n",
    "<strong style=\"color:cornflowerblue\">Question 8 (code):</strong> Implement a script plotting the maximum percentage of infected people according to $\\tau$ over 300 time steps for 3 contact networks:\n",
    "\n",
    "* A regular graph of 200 vertices with degree 2.\n",
    "* A regular graph of 200 vertices with degree 5.\n",
    "* A regular graph of 200 vertices with degree 10.\n",
    "\n",
    "You can use the function <code>random_regular_graph(n,d)</code> of LighGraphs. As you probably need to use a certain number of different values of $\\tau$ to visualize something interesting (the more there are the more the figure will be smooth) you should fix $\\alpha$ and make $\\beta$ vary. \n",
    "\n",
    "<span style=\"font-size:0.9em\">A regular graph is a graph where each vertex has the same degree.</span>\n",
    "\n",
    "</div>"
   ]
  },
  {
   "cell_type": "code",
   "execution_count": 66,
   "metadata": {},
   "outputs": [
    {
     "data": {
      "image/png": "[encoded data removed]",
      "image/svg+xml": "<?xml version=\"1.0\" encoding=\"utf-8\"?>\n<svg xmlns=\"http://www.w3.org/2000/svg\" xmlns:xlink=\"http://www.w3.org/1999/xlink\" width=\"600\" height=\"400\" viewBox=\"0 0 2400 1600\">\n<defs>\n  <clipPath id=\"clip080\">\n    <rect x=\"0\" y=\"0\" width=\"2400\" height=\"1600\"/>\n  </clipPath>\n</defs>\n<path clip-path=\"url(#clip080)\" d=\"\nM0 1600 L2400 1600 L2400 0 L0 0  Z\n  \" fill=\"#ffffff\" fill-rule=\"evenodd\" fill-opacity=\"1\"/>\n<defs>\n  <clipPath id=\"clip081\">\n    <rect x=\"480\" y=\"0\" width=\"1681\" height=\"1600\"/>\n  </clipPath>\n</defs>\n<path clip-path=\"url(#clip080)\" d=\"\nM238.13 1423.18 L2352.76 1423.18 L2352.76 47.2441 L238.13 47.2441  Z\n  \" fill=\"#ffffff\" fill-rule=\"evenodd\" fill-opacity=\"1\"/>\n<defs>\n  <clipPath id=\"clip082\">\n    <rect x=\"238\" y=\"47\" width=\"2116\" height=\"1377\"/>\n  </clipPath>\n</defs>\n<polyline clip-path=\"url(#clip082)\" style=\"stroke:#000000; stroke-width:2; stroke-opacity:0.1; fill:none\" points=\"\n  277.827,1423.18 277.827,47.2441 \n  \"/>\n<polyline clip-path=\"url(#clip082)\" style=\"stroke:#000000; stroke-width:2; stroke-opacity:0.1; fill:none\" points=\"\n  781.597,1423.18 781.597,47.2441 \n  \"/>\n<polyline clip-path=\"url(#clip082)\" style=\"stroke:#000000; stroke-width:2; stroke-opacity:0.1; fill:none\" points=\"\n  1285.37,1423.18 1285.37,47.2441 \n  \"/>\n<polyline clip-path=\"url(#clip082)\" style=\"stroke:#000000; stroke-width:2; stroke-opacity:0.1; fill:none\" points=\"\n  1789.14,1423.18 1789.14,47.2441 \n  \"/>\n<polyline clip-path=\"url(#clip082)\" style=\"stroke:#000000; stroke-width:2; stroke-opacity:0.1; fill:none\" points=\"\n  2292.91,1423.18 2292.91,47.2441 \n  \"/>\n<polyline clip-path=\"url(#clip080)\" style=\"stroke:#000000; stroke-width:4; stroke-opacity:1; fill:none\" points=\"\n  238.13,1423.18 2352.76,1423.18 \n  \"/>\n<polyline clip-path=\"url(#clip080)\" style=\"stroke:#000000; stroke-width:4; stroke-opacity:1; fill:none\" points=\"\n  277.827,1423.18 277.827,1406.67 \n  \"/>\n<polyline clip-path=\"url(#clip080)\" style=\"stroke:#000000; stroke-width:4; stroke-opacity:1; fill:none\" points=\"\n  781.597,1423.18 781.597,1406.67 \n  \"/>\n<polyline clip-path=\"url(#clip080)\" style=\"stroke:#000000; stroke-width:4; stroke-opacity:1; fill:none\" points=\"\n  1285.37,1423.18 1285.37,1406.67 \n  \"/>\n<polyline clip-path=\"url(#clip080)\" style=\"stroke:#000000; stroke-width:4; stroke-opacity:1; fill:none\" points=\"\n  1789.14,1423.18 1789.14,1406.67 \n  \"/>\n<polyline clip-path=\"url(#clip080)\" style=\"stroke:#000000; stroke-width:4; stroke-opacity:1; fill:none\" points=\"\n  2292.91,1423.18 2292.91,1406.67 \n  \"/>\n<path clip-path=\"url(#clip080)\" d=\"M 0 0 M245.837 1452.37 Q242.225 1452.37 240.397 1455.94 Q238.591 1459.48 238.591 1466.61 Q238.591 1473.71 240.397 1477.28 Q242.225 1480.82 245.837 1480.82 Q249.471 1480.82 251.276 1477.28 Q253.105 1473.71 253.105 1466.61 Q253.105 1459.48 251.276 1455.94 Q249.471 1452.37 245.837 1452.37 M245.837 1448.67 Q251.647 1448.67 254.702 1453.27 Q257.781 1457.86 257.781 1466.61 Q257.781 1475.33 254.702 1479.94 Q251.647 1484.52 245.837 1484.52 Q240.026 1484.52 236.948 1479.94 Q233.892 1475.33 233.892 1466.61 Q233.892 1457.86 236.948 1453.27 Q240.026 1448.67 245.837 1448.67 Z\" fill=\"#000000\" fill-rule=\"evenodd\" fill-opacity=\"1\" /><path clip-path=\"url(#clip080)\" d=\"M 0 0 M262.85 1477.97 L267.735 1477.97 L267.735 1483.85 L262.85 1483.85 L262.85 1477.97 Z\" fill=\"#000000\" fill-rule=\"evenodd\" fill-opacity=\"1\" /><path clip-path=\"url(#clip080)\" d=\"M 0 0 M282.804 1452.37 Q279.193 1452.37 277.364 1455.94 Q275.559 1459.48 275.559 1466.61 Q275.559 1473.71 277.364 1477.28 Q279.193 1480.82 282.804 1480.82 Q286.438 1480.82 288.244 1477.28 Q290.072 1473.71 290.072 1466.61 Q290.072 1459.48 288.244 1455.94 Q286.438 1452.37 282.804 1452.37 M282.804 1448.67 Q288.614 1448.67 291.67 1453.27 Q294.748 1457.86 294.748 1466.61 Q294.748 1475.33 291.67 1479.94 Q288.614 1484.52 282.804 1484.52 Q276.994 1484.52 273.915 1479.94 Q270.86 1475.33 270.86 1466.61 Q270.86 1457.86 273.915 1453.27 Q276.994 1448.67 282.804 1448.67 Z\" fill=\"#000000\" fill-rule=\"evenodd\" fill-opacity=\"1\" /><path clip-path=\"url(#clip080)\" d=\"M 0 0 M309.818 1452.37 Q306.207 1452.37 304.378 1455.94 Q302.572 1459.48 302.572 1466.61 Q302.572 1473.71 304.378 1477.28 Q306.207 1480.82 309.818 1480.82 Q313.452 1480.82 315.258 1477.28 Q317.086 1473.71 317.086 1466.61 Q317.086 1459.48 315.258 1455.94 Q313.452 1452.37 309.818 1452.37 M309.818 1448.67 Q315.628 1448.67 318.683 1453.27 Q321.762 1457.86 321.762 1466.61 Q321.762 1475.33 318.683 1479.94 Q315.628 1484.52 309.818 1484.52 Q304.008 1484.52 300.929 1479.94 Q297.873 1475.33 297.873 1466.61 Q297.873 1457.86 300.929 1453.27 Q304.008 1448.67 309.818 1448.67 Z\" fill=\"#000000\" fill-rule=\"evenodd\" fill-opacity=\"1\" /><path clip-path=\"url(#clip080)\" d=\"M 0 0 M750.903 1452.37 Q747.292 1452.37 745.463 1455.94 Q743.658 1459.48 743.658 1466.61 Q743.658 1473.71 745.463 1477.28 Q747.292 1480.82 750.903 1480.82 Q754.537 1480.82 756.343 1477.28 Q758.172 1473.71 758.172 1466.61 Q758.172 1459.48 756.343 1455.94 Q754.537 1452.37 750.903 1452.37 M750.903 1448.67 Q756.713 1448.67 759.769 1453.27 Q762.847 1457.86 762.847 1466.61 Q762.847 1475.33 759.769 1479.94 Q756.713 1484.52 750.903 1484.52 Q745.093 1484.52 742.014 1479.94 Q738.959 1475.33 738.959 1466.61 Q738.959 1457.86 742.014 1453.27 Q745.093 1448.67 750.903 1448.67 Z\" fill=\"#000000\" fill-rule=\"evenodd\" fill-opacity=\"1\" /><path clip-path=\"url(#clip080)\" d=\"M 0 0 M767.917 1477.97 L772.801 1477.97 L772.801 1483.85 L767.917 1483.85 L767.917 1477.97 Z\" fill=\"#000000\" fill-rule=\"evenodd\" fill-opacity=\"1\" /><path clip-path=\"url(#clip080)\" d=\"M 0 0 M781.898 1479.92 L798.218 1479.92 L798.218 1483.85 L776.273 1483.85 L776.273 1479.92 Q778.935 1477.16 783.519 1472.53 Q788.125 1467.88 789.306 1466.54 Q791.551 1464.01 792.431 1462.28 Q793.333 1460.52 793.333 1458.83 Q793.333 1456.07 791.389 1454.34 Q789.468 1452.6 786.366 1452.6 Q784.167 1452.6 781.713 1453.37 Q779.283 1454.13 776.505 1455.68 L776.505 1450.96 Q779.329 1449.82 781.783 1449.25 Q784.236 1448.67 786.273 1448.67 Q791.644 1448.67 794.838 1451.35 Q798.032 1454.04 798.032 1458.53 Q798.032 1460.66 797.222 1462.58 Q796.435 1464.48 794.329 1467.07 Q793.75 1467.74 790.648 1470.96 Q787.546 1474.15 781.898 1479.92 Z\" fill=\"#000000\" fill-rule=\"evenodd\" fill-opacity=\"1\" /><path clip-path=\"url(#clip080)\" d=\"M 0 0 M803.333 1449.29 L821.69 1449.29 L821.69 1453.23 L807.616 1453.23 L807.616 1461.7 Q808.634 1461.35 809.653 1461.19 Q810.671 1461 811.69 1461 Q817.477 1461 820.856 1464.18 Q824.236 1467.35 824.236 1472.76 Q824.236 1478.34 820.764 1481.44 Q817.292 1484.52 810.972 1484.52 Q808.796 1484.52 806.528 1484.15 Q804.282 1483.78 801.875 1483.04 L801.875 1478.34 Q803.958 1479.48 806.181 1480.03 Q808.403 1480.59 810.88 1480.59 Q814.884 1480.59 817.222 1478.48 Q819.56 1476.38 819.56 1472.76 Q819.56 1469.15 817.222 1467.05 Q814.884 1464.94 810.88 1464.94 Q809.005 1464.94 807.13 1465.36 Q805.278 1465.77 803.333 1466.65 L803.333 1449.29 Z\" fill=\"#000000\" fill-rule=\"evenodd\" fill-opacity=\"1\" /><path clip-path=\"url(#clip080)\" d=\"M 0 0 M1253.87 1452.37 Q1250.26 1452.37 1248.43 1455.94 Q1246.63 1459.48 1246.63 1466.61 Q1246.63 1473.71 1248.43 1477.28 Q1250.26 1480.82 1253.87 1480.82 Q1257.51 1480.82 1259.31 1477.28 Q1261.14 1473.71 1261.14 1466.61 Q1261.14 1459.48 1259.31 1455.94 Q1257.51 1452.37 1253.87 1452.37 M1253.87 1448.67 Q1259.68 1448.67 1262.74 1453.27 Q1265.82 1457.86 1265.82 1466.61 Q1265.82 1475.33 1262.74 1479.94 Q1259.68 1484.52 1253.87 1484.52 Q1248.06 1484.52 1244.99 1479.94 Q1241.93 1475.33 1241.93 1466.61 Q1241.93 1457.86 1244.99 1453.27 Q1248.06 1448.67 1253.87 1448.67 Z\" fill=\"#000000\" fill-rule=\"evenodd\" fill-opacity=\"1\" /><path clip-path=\"url(#clip080)\" d=\"M 0 0 M1270.89 1477.97 L1275.77 1477.97 L1275.77 1483.85 L1270.89 1483.85 L1270.89 1477.97 Z\" fill=\"#000000\" fill-rule=\"evenodd\" fill-opacity=\"1\" /><path clip-path=\"url(#clip080)\" d=\"M 0 0 M1280.89 1449.29 L1299.24 1449.29 L1299.24 1453.23 L1285.17 1453.23 L1285.17 1461.7 Q1286.19 1461.35 1287.21 1461.19 Q1288.23 1461 1289.24 1461 Q1295.03 1461 1298.41 1464.18 Q1301.79 1467.35 1301.79 1472.76 Q1301.79 1478.34 1298.32 1481.44 Q1294.85 1484.52 1288.53 1484.52 Q1286.35 1484.52 1284.08 1484.15 Q1281.84 1483.78 1279.43 1483.04 L1279.43 1478.34 Q1281.51 1479.48 1283.74 1480.03 Q1285.96 1480.59 1288.43 1480.59 Q1292.44 1480.59 1294.78 1478.48 Q1297.12 1476.38 1297.12 1472.76 Q1297.12 1469.15 1294.78 1467.05 Q1292.44 1464.94 1288.43 1464.94 Q1286.56 1464.94 1284.68 1465.36 Q1282.83 1465.77 1280.89 1466.65 L1280.89 1449.29 Z\" fill=\"#000000\" fill-rule=\"evenodd\" fill-opacity=\"1\" /><path clip-path=\"url(#clip080)\" d=\"M 0 0 M1316.86 1452.37 Q1313.25 1452.37 1311.42 1455.94 Q1309.62 1459.48 1309.62 1466.61 Q1309.62 1473.71 1311.42 1477.28 Q1313.25 1480.82 1316.86 1480.82 Q1320.49 1480.82 1322.3 1477.28 Q1324.13 1473.71 1324.13 1466.61 Q1324.13 1459.48 1322.3 1455.94 Q1320.49 1452.37 1316.86 1452.37 M1316.86 1448.67 Q1322.67 1448.67 1325.73 1453.27 Q1328.8 1457.86 1328.8 1466.61 Q1328.8 1475.33 1325.73 1479.94 Q1322.67 1484.52 1316.86 1484.52 Q1311.05 1484.52 1307.97 1479.94 Q1304.92 1475.33 1304.92 1466.61 Q1304.92 1457.86 1307.97 1453.27 Q1311.05 1448.67 1316.86 1448.67 Z\" fill=\"#000000\" fill-rule=\"evenodd\" fill-opacity=\"1\" /><path clip-path=\"url(#clip080)\" d=\"M 0 0 M1758.1 1452.37 Q1754.49 1452.37 1752.66 1455.94 Q1750.85 1459.48 1750.85 1466.61 Q1750.85 1473.71 1752.66 1477.28 Q1754.49 1480.82 1758.1 1480.82 Q1761.73 1480.82 1763.54 1477.28 Q1765.36 1473.71 1765.36 1466.61 Q1765.36 1459.48 1763.54 1455.94 Q1761.73 1452.37 1758.1 1452.37 M1758.1 1448.67 Q1763.91 1448.67 1766.96 1453.27 Q1770.04 1457.86 1770.04 1466.61 Q1770.04 1475.33 1766.96 1479.94 Q1763.91 1484.52 1758.1 1484.52 Q1752.29 1484.52 1749.21 1479.94 Q1746.15 1475.33 1746.15 1466.61 Q1746.15 1457.86 1749.21 1453.27 Q1752.29 1448.67 1758.1 1448.67 Z\" fill=\"#000000\" fill-rule=\"evenodd\" fill-opacity=\"1\" /><path clip-path=\"url(#clip080)\" d=\"M 0 0 M1775.11 1477.97 L1779.99 1477.97 L1779.99 1483.85 L1775.11 1483.85 L1775.11 1477.97 Z\" fill=\"#000000\" fill-rule=\"evenodd\" fill-opacity=\"1\" /><path clip-path=\"url(#clip080)\" d=\"M 0 0 M1783.88 1449.29 L1806.11 1449.29 L1806.11 1451.28 L1793.56 1483.85 L1788.67 1483.85 L1800.48 1453.23 L1783.88 1453.23 L1783.88 1449.29 Z\" fill=\"#000000\" fill-rule=\"evenodd\" fill-opacity=\"1\" /><path clip-path=\"url(#clip080)\" d=\"M 0 0 M1811.22 1449.29 L1829.58 1449.29 L1829.58 1453.23 L1815.5 1453.23 L1815.5 1461.7 Q1816.52 1461.35 1817.54 1461.19 Q1818.56 1461 1819.58 1461 Q1825.36 1461 1828.74 1464.18 Q1832.12 1467.35 1832.12 1472.76 Q1832.12 1478.34 1828.65 1481.44 Q1825.18 1484.52 1818.86 1484.52 Q1816.68 1484.52 1814.42 1484.15 Q1812.17 1483.78 1809.76 1483.04 L1809.76 1478.34 Q1811.85 1479.48 1814.07 1480.03 Q1816.29 1480.59 1818.77 1480.59 Q1822.77 1480.59 1825.11 1478.48 Q1827.45 1476.38 1827.45 1472.76 Q1827.45 1469.15 1825.11 1467.05 Q1822.77 1464.94 1818.77 1464.94 Q1816.89 1464.94 1815.02 1465.36 Q1813.17 1465.77 1811.22 1466.65 L1811.22 1449.29 Z\" fill=\"#000000\" fill-rule=\"evenodd\" fill-opacity=\"1\" /><path clip-path=\"url(#clip080)\" d=\"M 0 0 M2251.3 1479.92 L2258.94 1479.92 L2258.94 1453.55 L2250.63 1455.22 L2250.63 1450.96 L2258.89 1449.29 L2263.57 1449.29 L2263.57 1479.92 L2271.21 1479.92 L2271.21 1483.85 L2251.3 1483.85 L2251.3 1479.92 Z\" fill=\"#000000\" fill-rule=\"evenodd\" fill-opacity=\"1\" /><path clip-path=\"url(#clip080)\" d=\"M 0 0 M2276.28 1477.97 L2281.16 1477.97 L2281.16 1483.85 L2276.28 1483.85 L2276.28 1477.97 Z\" fill=\"#000000\" fill-rule=\"evenodd\" fill-opacity=\"1\" /><path clip-path=\"url(#clip080)\" d=\"M 0 0 M2296.23 1452.37 Q2292.62 1452.37 2290.79 1455.94 Q2288.98 1459.48 2288.98 1466.61 Q2288.98 1473.71 2290.79 1477.28 Q2292.62 1480.82 2296.23 1480.82 Q2299.86 1480.82 2301.67 1477.28 Q2303.5 1473.71 2303.5 1466.61 Q2303.5 1459.48 2301.67 1455.94 Q2299.86 1452.37 2296.23 1452.37 M2296.23 1448.67 Q2302.04 1448.67 2305.1 1453.27 Q2308.17 1457.86 2308.17 1466.61 Q2308.17 1475.33 2305.1 1479.94 Q2302.04 1484.52 2296.23 1484.52 Q2290.42 1484.52 2287.34 1479.94 Q2284.29 1475.33 2284.29 1466.61 Q2284.29 1457.86 2287.34 1453.27 Q2290.42 1448.67 2296.23 1448.67 Z\" fill=\"#000000\" fill-rule=\"evenodd\" fill-opacity=\"1\" /><path clip-path=\"url(#clip080)\" d=\"M 0 0 M2323.24 1452.37 Q2319.63 1452.37 2317.8 1455.94 Q2316 1459.48 2316 1466.61 Q2316 1473.71 2317.8 1477.28 Q2319.63 1480.82 2323.24 1480.82 Q2326.88 1480.82 2328.68 1477.28 Q2330.51 1473.71 2330.51 1466.61 Q2330.51 1459.48 2328.68 1455.94 Q2326.88 1452.37 2323.24 1452.37 M2323.24 1448.67 Q2329.05 1448.67 2332.11 1453.27 Q2335.19 1457.86 2335.19 1466.61 Q2335.19 1475.33 2332.11 1479.94 Q2329.05 1484.52 2323.24 1484.52 Q2317.43 1484.52 2314.35 1479.94 Q2311.3 1475.33 2311.3 1466.61 Q2311.3 1457.86 2314.35 1453.27 Q2317.43 1448.67 2323.24 1448.67 Z\" fill=\"#000000\" fill-rule=\"evenodd\" fill-opacity=\"1\" /><path clip-path=\"url(#clip080)\" d=\"M 0 0 M1246.03 1508.52 L1286.23 1508.52 L1286.23 1513.93 L1269.36 1513.93 L1269.36 1556.04 L1262.9 1556.04 L1262.9 1513.93 L1246.03 1513.93 L1246.03 1508.52 Z\" fill=\"#000000\" fill-rule=\"evenodd\" fill-opacity=\"1\" /><path clip-path=\"url(#clip080)\" d=\"M 0 0 M1297.78 1538.12 Q1290.68 1538.12 1287.95 1539.75 Q1285.21 1541.37 1285.21 1545.29 Q1285.21 1548.4 1287.25 1550.25 Q1289.32 1552.07 1292.85 1552.07 Q1297.72 1552.07 1300.65 1548.63 Q1303.61 1545.16 1303.61 1539.43 L1303.61 1538.12 L1297.78 1538.12 M1309.46 1535.71 L1309.46 1556.04 L1303.61 1556.04 L1303.61 1550.63 Q1301.6 1553.88 1298.61 1555.44 Q1295.62 1556.97 1291.29 1556.97 Q1285.81 1556.97 1282.57 1553.91 Q1279.35 1550.82 1279.35 1545.67 Q1279.35 1539.65 1283.36 1536.6 Q1287.41 1533.54 1295.4 1533.54 L1303.61 1533.54 L1303.61 1532.97 Q1303.61 1528.93 1300.93 1526.73 Q1298.29 1524.5 1293.49 1524.5 Q1290.43 1524.5 1287.53 1525.23 Q1284.64 1525.97 1281.96 1527.43 L1281.96 1522.02 Q1285.18 1520.78 1288.2 1520.17 Q1291.23 1519.54 1294.09 1519.54 Q1301.82 1519.54 1305.64 1523.55 Q1309.46 1527.56 1309.46 1535.71 Z\" fill=\"#000000\" fill-rule=\"evenodd\" fill-opacity=\"1\" /><path clip-path=\"url(#clip080)\" d=\"M 0 0 M1315 1541.98 L1315 1520.4 L1320.86 1520.4 L1320.86 1541.75 Q1320.86 1546.81 1322.83 1549.36 Q1324.8 1551.87 1328.75 1551.87 Q1333.49 1551.87 1336.23 1548.85 Q1339 1545.83 1339 1540.61 L1339 1520.4 L1344.86 1520.4 L1344.86 1556.04 L1339 1556.04 L1339 1550.57 Q1336.87 1553.82 1334.04 1555.41 Q1331.23 1556.97 1327.51 1556.97 Q1321.37 1556.97 1318.18 1553.15 Q1315 1549.33 1315 1541.98 M1329.74 1519.54 L1329.74 1519.54 Z\" fill=\"#000000\" fill-rule=\"evenodd\" fill-opacity=\"1\" /><polyline clip-path=\"url(#clip082)\" style=\"stroke:#000000; stroke-width:2; stroke-opacity:0.1; fill:none\" points=\"\n  238.13,1384.24 2352.76,1384.24 \n  \"/>\n<polyline clip-path=\"url(#clip082)\" style=\"stroke:#000000; stroke-width:2; stroke-opacity:0.1; fill:none\" points=\"\n  238.13,1059.73 2352.76,1059.73 \n  \"/>\n<polyline clip-path=\"url(#clip082)\" style=\"stroke:#000000; stroke-width:2; stroke-opacity:0.1; fill:none\" points=\"\n  238.13,735.212 2352.76,735.212 \n  \"/>\n<polyline clip-path=\"url(#clip082)\" style=\"stroke:#000000; stroke-width:2; stroke-opacity:0.1; fill:none\" points=\"\n  238.13,410.699 2352.76,410.699 \n  \"/>\n<polyline clip-path=\"url(#clip082)\" style=\"stroke:#000000; stroke-width:2; stroke-opacity:0.1; fill:none\" points=\"\n  238.13,86.1857 2352.76,86.1857 \n  \"/>\n<polyline clip-path=\"url(#clip080)\" style=\"stroke:#000000; stroke-width:4; stroke-opacity:1; fill:none\" points=\"\n  238.13,1423.18 238.13,47.2441 \n  \"/>\n<polyline clip-path=\"url(#clip080)\" style=\"stroke:#000000; stroke-width:4; stroke-opacity:1; fill:none\" points=\"\n  238.13,1384.24 263.506,1384.24 \n  \"/>\n<polyline clip-path=\"url(#clip080)\" style=\"stroke:#000000; stroke-width:4; stroke-opacity:1; fill:none\" points=\"\n  238.13,1059.73 263.506,1059.73 \n  \"/>\n<polyline clip-path=\"url(#clip080)\" style=\"stroke:#000000; stroke-width:4; stroke-opacity:1; fill:none\" points=\"\n  238.13,735.212 263.506,735.212 \n  \"/>\n<polyline clip-path=\"url(#clip080)\" style=\"stroke:#000000; stroke-width:4; stroke-opacity:1; fill:none\" points=\"\n  238.13,410.699 263.506,410.699 \n  \"/>\n<polyline clip-path=\"url(#clip080)\" style=\"stroke:#000000; stroke-width:4; stroke-opacity:1; fill:none\" points=\"\n  238.13,86.1857 263.506,86.1857 \n  \"/>\n<path clip-path=\"url(#clip080)\" d=\"M 0 0 M126.205 1370.04 Q122.593 1370.04 120.765 1373.6 Q118.959 1377.14 118.959 1384.27 Q118.959 1391.38 120.765 1394.94 Q122.593 1398.49 126.205 1398.49 Q129.839 1398.49 131.644 1394.94 Q133.473 1391.38 133.473 1384.27 Q133.473 1377.14 131.644 1373.6 Q129.839 1370.04 126.205 1370.04 M126.205 1366.33 Q132.015 1366.33 135.07 1370.94 Q138.149 1375.52 138.149 1384.27 Q138.149 1393 135.07 1397.61 Q132.015 1402.19 126.205 1402.19 Q120.394 1402.19 117.316 1397.61 Q114.26 1393 114.26 1384.27 Q114.26 1375.52 117.316 1370.94 Q120.394 1366.33 126.205 1366.33 Z\" fill=\"#000000\" fill-rule=\"evenodd\" fill-opacity=\"1\" /><path clip-path=\"url(#clip080)\" d=\"M 0 0 M143.218 1395.64 L148.103 1395.64 L148.103 1401.52 L143.218 1401.52 L143.218 1395.64 Z\" fill=\"#000000\" fill-rule=\"evenodd\" fill-opacity=\"1\" /><path clip-path=\"url(#clip080)\" d=\"M 0 0 M163.172 1370.04 Q159.561 1370.04 157.732 1373.6 Q155.927 1377.14 155.927 1384.27 Q155.927 1391.38 157.732 1394.94 Q159.561 1398.49 163.172 1398.49 Q166.806 1398.49 168.612 1394.94 Q170.44 1391.38 170.44 1384.27 Q170.44 1377.14 168.612 1373.6 Q166.806 1370.04 163.172 1370.04 M163.172 1366.33 Q168.982 1366.33 172.038 1370.94 Q175.116 1375.52 175.116 1384.27 Q175.116 1393 172.038 1397.61 Q168.982 1402.19 163.172 1402.19 Q157.362 1402.19 154.283 1397.61 Q151.228 1393 151.228 1384.27 Q151.228 1375.52 154.283 1370.94 Q157.362 1366.33 163.172 1366.33 Z\" fill=\"#000000\" fill-rule=\"evenodd\" fill-opacity=\"1\" /><path clip-path=\"url(#clip080)\" d=\"M 0 0 M190.186 1370.04 Q186.575 1370.04 184.746 1373.6 Q182.94 1377.14 182.94 1384.27 Q182.94 1391.38 184.746 1394.94 Q186.575 1398.49 190.186 1398.49 Q193.82 1398.49 195.625 1394.94 Q197.454 1391.38 197.454 1384.27 Q197.454 1377.14 195.625 1373.6 Q193.82 1370.04 190.186 1370.04 M190.186 1366.33 Q195.996 1366.33 199.051 1370.94 Q202.13 1375.52 202.13 1384.27 Q202.13 1393 199.051 1397.61 Q195.996 1402.19 190.186 1402.19 Q184.376 1402.19 181.297 1397.61 Q178.241 1393 178.241 1384.27 Q178.241 1375.52 181.297 1370.94 Q184.376 1366.33 190.186 1366.33 Z\" fill=\"#000000\" fill-rule=\"evenodd\" fill-opacity=\"1\" /><path clip-path=\"url(#clip080)\" d=\"M 0 0 M128.797 1045.52 Q125.186 1045.52 123.357 1049.09 Q121.552 1052.63 121.552 1059.76 Q121.552 1066.87 123.357 1070.43 Q125.186 1073.97 128.797 1073.97 Q132.431 1073.97 134.237 1070.43 Q136.066 1066.87 136.066 1059.76 Q136.066 1052.63 134.237 1049.09 Q132.431 1045.52 128.797 1045.52 M128.797 1041.82 Q134.607 1041.82 137.663 1046.43 Q140.741 1051.01 140.741 1059.76 Q140.741 1068.49 137.663 1073.09 Q134.607 1077.68 128.797 1077.68 Q122.987 1077.68 119.908 1073.09 Q116.853 1068.49 116.853 1059.76 Q116.853 1051.01 119.908 1046.43 Q122.987 1041.82 128.797 1041.82 Z\" fill=\"#000000\" fill-rule=\"evenodd\" fill-opacity=\"1\" /><path clip-path=\"url(#clip080)\" d=\"M 0 0 M145.811 1071.13 L150.695 1071.13 L150.695 1077.01 L145.811 1077.01 L145.811 1071.13 Z\" fill=\"#000000\" fill-rule=\"evenodd\" fill-opacity=\"1\" /><path clip-path=\"url(#clip080)\" d=\"M 0 0 M159.792 1073.07 L176.112 1073.07 L176.112 1077.01 L154.167 1077.01 L154.167 1073.07 Q156.829 1070.32 161.413 1065.69 Q166.019 1061.03 167.2 1059.69 Q169.445 1057.17 170.325 1055.43 Q171.227 1053.67 171.227 1051.98 Q171.227 1049.23 169.283 1047.49 Q167.362 1045.76 164.26 1045.76 Q162.061 1045.76 159.607 1046.52 Q157.177 1047.28 154.399 1048.83 L154.399 1044.11 Q157.223 1042.98 159.677 1042.4 Q162.13 1041.82 164.167 1041.82 Q169.538 1041.82 172.732 1044.51 Q175.926 1047.19 175.926 1051.68 Q175.926 1053.81 175.116 1055.73 Q174.329 1057.63 172.223 1060.22 Q171.644 1060.89 168.542 1064.11 Q165.44 1067.31 159.792 1073.07 Z\" fill=\"#000000\" fill-rule=\"evenodd\" fill-opacity=\"1\" /><path clip-path=\"url(#clip080)\" d=\"M 0 0 M181.227 1042.45 L199.584 1042.45 L199.584 1046.38 L185.51 1046.38 L185.51 1054.85 Q186.528 1054.51 187.547 1054.34 Q188.565 1054.16 189.584 1054.16 Q195.371 1054.16 198.75 1057.33 Q202.13 1060.5 202.13 1065.92 Q202.13 1071.5 198.658 1074.6 Q195.186 1077.68 188.866 1077.68 Q186.69 1077.68 184.422 1077.31 Q182.176 1076.94 179.769 1076.19 L179.769 1071.5 Q181.852 1072.63 184.075 1073.19 Q186.297 1073.74 188.774 1073.74 Q192.778 1073.74 195.116 1071.63 Q197.454 1069.53 197.454 1065.92 Q197.454 1062.31 195.116 1060.2 Q192.778 1058.09 188.774 1058.09 Q186.899 1058.09 185.024 1058.51 Q183.172 1058.93 181.227 1059.81 L181.227 1042.45 Z\" fill=\"#000000\" fill-rule=\"evenodd\" fill-opacity=\"1\" /><path clip-path=\"url(#clip080)\" d=\"M 0 0 M127.2 721.011 Q123.589 721.011 121.76 724.575 Q119.955 728.117 119.955 735.247 Q119.955 742.353 121.76 745.918 Q123.589 749.46 127.2 749.46 Q130.834 749.46 132.64 745.918 Q134.468 742.353 134.468 735.247 Q134.468 728.117 132.64 724.575 Q130.834 721.011 127.2 721.011 M127.2 717.307 Q133.01 717.307 136.066 721.913 Q139.144 726.497 139.144 735.247 Q139.144 743.973 136.066 748.58 Q133.01 753.163 127.2 753.163 Q121.39 753.163 118.311 748.58 Q115.256 743.973 115.256 735.247 Q115.256 726.497 118.311 721.913 Q121.39 717.307 127.2 717.307 Z\" fill=\"#000000\" fill-rule=\"evenodd\" fill-opacity=\"1\" /><path clip-path=\"url(#clip080)\" d=\"M 0 0 M144.214 746.612 L149.098 746.612 L149.098 752.492 L144.214 752.492 L144.214 746.612 Z\" fill=\"#000000\" fill-rule=\"evenodd\" fill-opacity=\"1\" /><path clip-path=\"url(#clip080)\" d=\"M 0 0 M154.214 717.932 L172.57 717.932 L172.57 721.867 L158.496 721.867 L158.496 730.339 Q159.515 729.992 160.533 729.83 Q161.552 729.645 162.57 729.645 Q168.357 729.645 171.737 732.816 Q175.116 735.987 175.116 741.404 Q175.116 746.983 171.644 750.085 Q168.172 753.163 161.852 753.163 Q159.677 753.163 157.408 752.793 Q155.163 752.423 152.755 751.682 L152.755 746.983 Q154.839 748.117 157.061 748.673 Q159.283 749.228 161.76 749.228 Q165.765 749.228 168.102 747.122 Q170.44 745.015 170.44 741.404 Q170.44 737.793 168.102 735.687 Q165.765 733.58 161.76 733.58 Q159.885 733.58 158.01 733.997 Q156.158 734.413 154.214 735.293 L154.214 717.932 Z\" fill=\"#000000\" fill-rule=\"evenodd\" fill-opacity=\"1\" /><path clip-path=\"url(#clip080)\" d=\"M 0 0 M190.186 721.011 Q186.575 721.011 184.746 724.575 Q182.94 728.117 182.94 735.247 Q182.94 742.353 184.746 745.918 Q186.575 749.46 190.186 749.46 Q193.82 749.46 195.625 745.918 Q197.454 742.353 197.454 735.247 Q197.454 728.117 195.625 724.575 Q193.82 721.011 190.186 721.011 M190.186 717.307 Q195.996 717.307 199.051 721.913 Q202.13 726.497 202.13 735.247 Q202.13 743.973 199.051 748.58 Q195.996 753.163 190.186 753.163 Q184.376 753.163 181.297 748.58 Q178.241 743.973 178.241 735.247 Q178.241 726.497 181.297 721.913 Q184.376 717.307 190.186 717.307 Z\" fill=\"#000000\" fill-rule=\"evenodd\" fill-opacity=\"1\" /><path clip-path=\"url(#clip080)\" d=\"M 0 0 M128.103 396.498 Q124.492 396.498 122.663 400.062 Q120.857 403.604 120.857 410.734 Q120.857 417.84 122.663 421.405 Q124.492 424.946 128.103 424.946 Q131.737 424.946 133.542 421.405 Q135.371 417.84 135.371 410.734 Q135.371 403.604 133.542 400.062 Q131.737 396.498 128.103 396.498 M128.103 392.794 Q133.913 392.794 136.968 397.4 Q140.047 401.984 140.047 410.734 Q140.047 419.46 136.968 424.067 Q133.913 428.65 128.103 428.65 Q122.293 428.65 119.214 424.067 Q116.158 419.46 116.158 410.734 Q116.158 401.984 119.214 397.4 Q122.293 392.794 128.103 392.794 Z\" fill=\"#000000\" fill-rule=\"evenodd\" fill-opacity=\"1\" /><path clip-path=\"url(#clip080)\" d=\"M 0 0 M145.116 422.099 L150.001 422.099 L150.001 427.979 L145.116 427.979 L145.116 422.099 Z\" fill=\"#000000\" fill-rule=\"evenodd\" fill-opacity=\"1\" /><path clip-path=\"url(#clip080)\" d=\"M 0 0 M153.89 393.419 L176.112 393.419 L176.112 395.41 L163.565 427.979 L158.681 427.979 L170.487 397.354 L153.89 397.354 L153.89 393.419 Z\" fill=\"#000000\" fill-rule=\"evenodd\" fill-opacity=\"1\" /><path clip-path=\"url(#clip080)\" d=\"M 0 0 M181.227 393.419 L199.584 393.419 L199.584 397.354 L185.51 397.354 L185.51 405.826 Q186.528 405.479 187.547 405.317 Q188.565 405.132 189.584 405.132 Q195.371 405.132 198.75 408.303 Q202.13 411.474 202.13 416.891 Q202.13 422.47 198.658 425.571 Q195.186 428.65 188.866 428.65 Q186.69 428.65 184.422 428.28 Q182.176 427.909 179.769 427.169 L179.769 422.47 Q181.852 423.604 184.075 424.159 Q186.297 424.715 188.774 424.715 Q192.778 424.715 195.116 422.608 Q197.454 420.502 197.454 416.891 Q197.454 413.28 195.116 411.173 Q192.778 409.067 188.774 409.067 Q186.899 409.067 185.024 409.484 Q183.172 409.9 181.227 410.78 L181.227 393.419 Z\" fill=\"#000000\" fill-rule=\"evenodd\" fill-opacity=\"1\" /><path clip-path=\"url(#clip080)\" d=\"M 0 0 M118.242 99.5305 L125.88 99.5305 L125.88 73.1649 L117.57 74.8316 L117.57 70.5723 L125.834 68.9057 L130.51 68.9057 L130.51 99.5305 L138.149 99.5305 L138.149 103.466 L118.242 103.466 L118.242 99.5305 Z\" fill=\"#000000\" fill-rule=\"evenodd\" fill-opacity=\"1\" /><path clip-path=\"url(#clip080)\" d=\"M 0 0 M143.218 97.5861 L148.103 97.5861 L148.103 103.466 L143.218 103.466 L143.218 97.5861 Z\" fill=\"#000000\" fill-rule=\"evenodd\" fill-opacity=\"1\" /><path clip-path=\"url(#clip080)\" d=\"M 0 0 M163.172 71.9844 Q159.561 71.9844 157.732 75.5492 Q155.927 79.0908 155.927 86.2204 Q155.927 93.3268 157.732 96.8916 Q159.561 100.433 163.172 100.433 Q166.806 100.433 168.612 96.8916 Q170.44 93.3268 170.44 86.2204 Q170.44 79.0908 168.612 75.5492 Q166.806 71.9844 163.172 71.9844 M163.172 68.2807 Q168.982 68.2807 172.038 72.8871 Q175.116 77.4704 175.116 86.2204 Q175.116 94.9472 172.038 99.5537 Q168.982 104.137 163.172 104.137 Q157.362 104.137 154.283 99.5537 Q151.228 94.9472 151.228 86.2204 Q151.228 77.4704 154.283 72.8871 Q157.362 68.2807 163.172 68.2807 Z\" fill=\"#000000\" fill-rule=\"evenodd\" fill-opacity=\"1\" /><path clip-path=\"url(#clip080)\" d=\"M 0 0 M190.186 71.9844 Q186.575 71.9844 184.746 75.5492 Q182.94 79.0908 182.94 86.2204 Q182.94 93.3268 184.746 96.8916 Q186.575 100.433 190.186 100.433 Q193.82 100.433 195.625 96.8916 Q197.454 93.3268 197.454 86.2204 Q197.454 79.0908 195.625 75.5492 Q193.82 71.9844 190.186 71.9844 M190.186 68.2807 Q195.996 68.2807 199.051 72.8871 Q202.13 77.4704 202.13 86.2204 Q202.13 94.9472 199.051 99.5537 Q195.996 104.137 190.186 104.137 Q184.376 104.137 181.297 99.5537 Q178.241 94.9472 178.241 86.2204 Q178.241 77.4704 181.297 72.8871 Q184.376 68.2807 190.186 68.2807 Z\" fill=\"#000000\" fill-rule=\"evenodd\" fill-opacity=\"1\" /><path clip-path=\"url(#clip080)\" d=\"M 0 0 M40.4842 1000.93 L40.4842 991.352 L72.8219 979.225 L40.4842 967.035 L40.4842 957.455 L88.0042 957.455 L88.0042 963.725 L46.277 963.725 L78.8694 975.979 L78.8694 982.44 L46.277 994.694 L88.0042 994.694 L88.0042 1000.93 L40.4842 1000.93 Z\" fill=\"#000000\" fill-rule=\"evenodd\" fill-opacity=\"1\" /><path clip-path=\"url(#clip080)\" d=\"M 0 0 M70.0847 935.111 Q70.0847 942.209 71.7079 944.946 Q73.3312 947.683 77.2461 947.683 Q80.3653 947.683 82.2114 945.646 Q84.0256 943.577 84.0256 940.044 Q84.0256 935.175 80.5881 932.247 Q77.1188 929.286 71.3897 929.286 L70.0847 929.286 L70.0847 935.111 M67.6657 923.43 L88.0042 923.43 L88.0042 929.286 L82.5933 929.286 Q85.8398 931.292 87.3994 934.284 Q88.9272 937.275 88.9272 941.604 Q88.9272 947.079 85.8716 950.325 Q82.7843 953.54 77.6281 953.54 Q71.6125 953.54 68.5569 949.529 Q65.5014 945.487 65.5014 937.498 L65.5014 929.286 L64.9285 929.286 Q60.8862 929.286 58.6901 931.96 Q56.4621 934.602 56.4621 939.408 Q56.4621 942.463 57.1941 945.36 Q57.9262 948.256 59.3903 950.93 L53.9795 950.93 Q52.7381 947.715 52.1334 944.691 Q51.4968 941.668 51.4968 938.803 Q51.4968 931.069 55.5072 927.249 Q59.5176 923.43 67.6657 923.43 Z\" fill=\"#000000\" fill-rule=\"evenodd\" fill-opacity=\"1\" /><path clip-path=\"url(#clip080)\" d=\"M 0 0 M52.3562 887.655 L69.7028 900.545 L88.0042 886.986 L88.0042 893.893 L73.9996 904.269 L88.0042 914.645 L88.0042 921.552 L69.3526 907.707 L52.3562 920.374 L52.3562 913.468 L65.0558 904.015 L52.3562 894.562 L52.3562 887.655 Z\" fill=\"#000000\" fill-rule=\"evenodd\" fill-opacity=\"1\" /><path clip-path=\"url(#clip080)\" d=\"M 0 0 M67.0928 818.873 Q67.0928 821.642 69.4481 823.234 Q71.8034 824.793 76.0048 824.793 Q80.1425 824.793 82.5296 823.234 Q84.885 821.642 84.885 818.873 Q84.885 816.168 82.5296 814.608 Q80.1425 813.017 76.0048 813.017 Q71.8353 813.017 69.48 814.608 Q67.0928 816.168 67.0928 818.873 M63.0506 818.873 Q63.0506 813.844 66.5517 810.884 Q70.0529 807.924 76.0048 807.924 Q81.9567 807.924 85.4579 810.916 Q88.9272 813.876 88.9272 818.873 Q88.9272 823.966 85.4579 826.926 Q81.9567 829.886 76.0048 829.886 Q70.021 829.886 66.5517 826.926 Q63.0506 823.934 63.0506 818.873 M43.667 851.72 Q43.667 854.458 46.0542 856.049 Q48.4095 857.609 52.5472 857.609 Q56.7485 857.609 59.1038 856.049 Q61.4592 854.489 61.4592 851.72 Q61.4592 848.951 59.1038 847.392 Q56.7485 845.8 52.5472 845.8 Q48.4413 845.8 46.0542 847.392 Q43.667 848.983 43.667 851.72 M39.6248 822.979 L39.6248 817.887 L88.9272 847.614 L88.9272 852.707 L39.6248 822.979 M39.6248 851.72 Q39.6248 846.691 43.1259 843.7 Q46.5952 840.708 52.5472 840.708 Q58.5628 840.708 62.0321 843.7 Q65.5014 846.66 65.5014 851.72 Q65.5014 856.781 62.0321 859.741 Q58.5309 862.669 52.5472 862.669 Q46.6271 862.669 43.1259 859.709 Q39.6248 856.749 39.6248 851.72 Z\" fill=\"#000000\" fill-rule=\"evenodd\" fill-opacity=\"1\" /><path clip-path=\"url(#clip080)\" d=\"M 0 0 M56.4621 767.247 Q56.4621 771.958 60.1542 774.695 Q63.8145 777.433 70.212 777.433 Q76.6095 777.433 80.3017 774.727 Q83.9619 771.99 83.9619 767.247 Q83.9619 762.569 80.2698 759.831 Q76.5777 757.094 70.212 757.094 Q63.8781 757.094 60.186 759.831 Q56.4621 762.569 56.4621 767.247 M51.4968 767.247 Q51.4968 759.609 56.4621 755.248 Q61.4273 750.888 70.212 750.888 Q78.9649 750.888 83.9619 755.248 Q88.9272 759.609 88.9272 767.247 Q88.9272 774.918 83.9619 779.279 Q78.9649 783.607 70.212 783.607 Q61.4273 783.607 56.4621 779.279 Q51.4968 774.918 51.4968 767.247 Z\" fill=\"#000000\" fill-rule=\"evenodd\" fill-opacity=\"1\" /><path clip-path=\"url(#clip080)\" d=\"M 0 0 M38.479 726.698 L43.3487 726.698 L43.3487 732.3 Q43.3487 735.451 44.6219 736.692 Q45.895 737.901 49.2052 737.901 L52.3562 737.901 L52.3562 728.257 L56.9077 728.257 L56.9077 737.901 L88.0042 737.901 L88.0042 743.79 L56.9077 743.79 L56.9077 749.392 L52.3562 749.392 L52.3562 743.79 L49.8736 743.79 Q43.9216 743.79 41.2162 741.021 Q38.479 738.252 38.479 732.236 L38.479 726.698 Z\" fill=\"#000000\" fill-rule=\"evenodd\" fill-opacity=\"1\" /><path clip-path=\"url(#clip080)\" d=\"M 0 0 M52.3562 699.835 L52.3562 693.978 L88.0042 693.978 L88.0042 699.835 L52.3562 699.835 M38.479 699.835 L38.479 693.978 L45.895 693.978 L45.895 699.835 L38.479 699.835 Z\" fill=\"#000000\" fill-rule=\"evenodd\" fill-opacity=\"1\" /><path clip-path=\"url(#clip080)\" d=\"M 0 0 M66.4881 658.203 L88.0042 658.203 L88.0042 664.059 L66.679 664.059 Q61.6183 664.059 59.1038 666.033 Q56.5894 668.006 56.5894 671.953 Q56.5894 676.695 59.6131 679.432 Q62.6368 682.17 67.8567 682.17 L88.0042 682.17 L88.0042 688.058 L52.3562 688.058 L52.3562 682.17 L57.8944 682.17 Q54.6797 680.069 53.0883 677.236 Q51.4968 674.372 51.4968 670.648 Q51.4968 664.505 55.3163 661.354 Q59.1038 658.203 66.4881 658.203 Z\" fill=\"#000000\" fill-rule=\"evenodd\" fill-opacity=\"1\" /><path clip-path=\"url(#clip080)\" d=\"M 0 0 M38.479 634.013 L43.3487 634.013 L43.3487 639.615 Q43.3487 642.766 44.6219 644.007 Q45.895 645.217 49.2052 645.217 L52.3562 645.217 L52.3562 635.573 L56.9077 635.573 L56.9077 645.217 L88.0042 645.217 L88.0042 651.105 L56.9077 651.105 L56.9077 656.707 L52.3562 656.707 L52.3562 651.105 L49.8736 651.105 Q43.9216 651.105 41.2162 648.336 Q38.479 645.567 38.479 639.551 L38.479 634.013 Z\" fill=\"#000000\" fill-rule=\"evenodd\" fill-opacity=\"1\" /><path clip-path=\"url(#clip080)\" d=\"M 0 0 M68.7161 597.379 L71.5806 597.379 L71.5806 624.305 Q77.6281 623.924 80.8109 620.677 Q83.9619 617.399 83.9619 611.574 Q83.9619 608.2 83.1344 605.049 Q82.3069 601.866 80.6518 598.747 L86.1899 598.747 Q87.5267 601.898 88.227 605.208 Q88.9272 608.518 88.9272 611.924 Q88.9272 620.454 83.9619 625.451 Q78.9967 630.417 70.5303 630.417 Q61.7774 630.417 56.6531 625.706 Q51.4968 620.963 51.4968 612.943 Q51.4968 605.749 56.1438 601.58 Q60.7589 597.379 68.7161 597.379 M66.9973 603.235 Q62.1912 603.299 59.3266 605.94 Q56.4621 608.55 56.4621 612.879 Q56.4621 617.781 59.2312 620.741 Q62.0002 623.669 67.0292 624.114 L66.9973 603.235 Z\" fill=\"#000000\" fill-rule=\"evenodd\" fill-opacity=\"1\" /><path clip-path=\"url(#clip080)\" d=\"M 0 0 M53.7248 565.582 L59.1993 565.582 Q57.8307 568.064 57.1623 570.579 Q56.4621 573.062 56.4621 575.608 Q56.4621 581.305 60.0905 584.456 Q63.6872 587.607 70.212 587.607 Q76.7369 587.607 80.3653 584.456 Q83.9619 581.305 83.9619 575.608 Q83.9619 573.062 83.2935 570.579 Q82.5933 568.064 81.2247 565.582 L86.6355 565.582 Q87.7814 568.033 88.3543 570.674 Q88.9272 573.284 88.9272 576.244 Q88.9272 584.297 83.8664 589.039 Q78.8057 593.782 70.212 593.782 Q61.491 593.782 56.4939 589.008 Q51.4968 584.201 51.4968 575.862 Q51.4968 573.157 52.0697 570.579 Q52.6108 568.001 53.7248 565.582 Z\" fill=\"#000000\" fill-rule=\"evenodd\" fill-opacity=\"1\" /><path clip-path=\"url(#clip080)\" d=\"M 0 0 M42.2347 553.646 L52.3562 553.646 L52.3562 541.583 L56.9077 541.583 L56.9077 553.646 L76.2594 553.646 Q80.6199 553.646 81.8613 552.468 Q83.1026 551.259 83.1026 547.599 L83.1026 541.583 L88.0042 541.583 L88.0042 547.599 Q88.0042 554.378 85.4897 556.956 Q82.9434 559.534 76.2594 559.534 L56.9077 559.534 L56.9077 563.831 L52.3562 563.831 L52.3562 559.534 L42.2347 559.534 L42.2347 553.646 Z\" fill=\"#000000\" fill-rule=\"evenodd\" fill-opacity=\"1\" /><path clip-path=\"url(#clip080)\" d=\"M 0 0 M68.7161 504.948 L71.5806 504.948 L71.5806 531.875 Q77.6281 531.493 80.8109 528.247 Q83.9619 524.969 83.9619 519.144 Q83.9619 515.77 83.1344 512.619 Q82.3069 509.436 80.6518 506.317 L86.1899 506.317 Q87.5267 509.468 88.227 512.778 Q88.9272 516.088 88.9272 519.494 Q88.9272 528.024 83.9619 533.021 Q78.9967 537.986 70.5303 537.986 Q61.7774 537.986 56.6531 533.276 Q51.4968 528.533 51.4968 520.513 Q51.4968 513.319 56.1438 509.15 Q60.7589 504.948 68.7161 504.948 M66.9973 510.805 Q62.1912 510.869 59.3266 513.51 Q56.4621 516.12 56.4621 520.449 Q56.4621 525.351 59.2312 528.311 Q62.0002 531.239 67.0292 531.684 L66.9973 510.805 Z\" fill=\"#000000\" fill-rule=\"evenodd\" fill-opacity=\"1\" /><path clip-path=\"url(#clip080)\" d=\"M 0 0 M57.7671 475.348 L38.479 475.348 L38.479 469.491 L88.0042 469.491 L88.0042 475.348 L82.657 475.348 Q85.8398 477.194 87.3994 480.027 Q88.9272 482.828 88.9272 486.774 Q88.9272 493.236 83.771 497.31 Q78.6147 501.352 70.212 501.352 Q61.8093 501.352 56.6531 497.31 Q51.4968 493.236 51.4968 486.774 Q51.4968 482.828 53.0564 480.027 Q54.5842 477.194 57.7671 475.348 M70.212 495.304 Q76.6732 495.304 80.3653 492.663 Q84.0256 489.989 84.0256 485.342 Q84.0256 480.695 80.3653 478.022 Q76.6732 475.348 70.212 475.348 Q63.7508 475.348 60.0905 478.022 Q56.3984 480.695 56.3984 485.342 Q56.3984 489.989 60.0905 492.663 Q63.7508 495.304 70.212 495.304 Z\" fill=\"#000000\" fill-rule=\"evenodd\" fill-opacity=\"1\" /><polyline clip-path=\"url(#clip082)\" style=\"stroke:#009af9; stroke-width:4; stroke-opacity:1; fill:none\" points=\"\n  297.978,1384.24 318.129,1384.24 338.28,1384.24 358.43,1384.24 378.581,1364.77 398.732,1371.26 418.883,1371.26 439.034,1364.77 459.184,138.108 479.335,138.108 \n  499.486,138.108 519.637,138.108 539.788,118.637 559.938,138.108 580.089,138.108 600.24,105.656 620.391,138.108 640.542,138.108 660.693,138.108 680.843,118.637 \n  700.994,118.637 721.145,118.637 741.296,138.108 761.447,138.108 781.597,138.108 801.748,138.108 821.899,138.108 842.05,138.108 862.201,138.108 882.351,118.637 \n  902.502,138.108 922.653,138.108 942.804,138.108 962.955,138.108 983.105,138.108 1003.26,138.108 1023.41,138.108 1043.56,138.108 1063.71,138.108 1083.86,138.108 \n  1104.01,105.656 1124.16,138.108 1144.31,138.108 1164.46,86.1857 1184.61,118.637 1204.76,138.108 1224.92,105.656 1245.07,138.108 1265.22,138.108 1285.37,138.108 \n  1305.52,138.108 1325.67,138.108 1345.82,138.108 1365.97,138.108 1386.12,105.656 1406.27,138.108 1426.42,138.108 1446.57,138.108 1466.72,105.656 1486.88,138.108 \n  1507.03,138.108 1527.18,138.108 1547.33,138.108 1567.48,138.108 1587.63,138.108 1607.78,138.108 1627.93,138.108 1648.08,138.108 1668.23,105.656 1688.38,86.1857 \n  1708.53,138.108 1728.69,138.108 1748.84,138.108 1768.99,138.108 1789.14,138.108 1809.29,138.108 1829.44,138.108 1849.59,138.108 1869.74,138.108 1889.89,138.108 \n  1910.04,138.108 1930.19,138.108 1950.34,138.108 1970.5,118.637 1990.65,118.637 2010.8,138.108 2030.95,118.637 2051.1,138.108 2071.25,138.108 2091.4,105.656 \n  2111.55,138.108 2131.7,138.108 2151.85,138.108 2172,105.656 2192.15,138.108 2212.3,138.108 2232.46,138.108 2252.61,118.637 2272.76,138.108 2292.91,138.108 \n  \n  \"/>\n<polyline clip-path=\"url(#clip082)\" style=\"stroke:#e26f46; stroke-width:4; stroke-opacity:1; fill:none\" points=\"\n  297.978,1384.24 318.129,1384.24 338.28,1384.24 358.43,1384.24 378.581,1384.24 398.732,1384.24 418.883,1377.75 439.034,1364.77 459.184,86.1857 479.335,86.1857 \n  499.486,86.1857 519.637,86.1857 539.788,86.1857 559.938,86.1857 580.089,86.1857 600.24,86.1857 620.391,86.1857 640.542,86.1857 660.693,86.1857 680.843,86.1857 \n  700.994,86.1857 721.145,86.1857 741.296,86.1857 761.447,86.1857 781.597,86.1857 801.748,86.1857 821.899,86.1857 842.05,86.1857 862.201,86.1857 882.351,86.1857 \n  902.502,86.1857 922.653,86.1857 942.804,86.1857 962.955,86.1857 983.105,86.1857 1003.26,86.1857 1023.41,86.1857 1043.56,86.1857 1063.71,86.1857 1083.86,86.1857 \n  1104.01,86.1857 1124.16,86.1857 1144.31,86.1857 1164.46,86.1857 1184.61,86.1857 1204.76,86.1857 1224.92,86.1857 1245.07,86.1857 1265.22,86.1857 1285.37,86.1857 \n  1305.52,86.1857 1325.67,86.1857 1345.82,86.1857 1365.97,86.1857 1386.12,86.1857 1406.27,86.1857 1426.42,86.1857 1446.57,86.1857 1466.72,86.1857 1486.88,86.1857 \n  1507.03,86.1857 1527.18,86.1857 1547.33,86.1857 1567.48,86.1857 1587.63,86.1857 1607.78,86.1857 1627.93,86.1857 1648.08,86.1857 1668.23,86.1857 1688.38,86.1857 \n  1708.53,86.1857 1728.69,86.1857 1748.84,86.1857 1768.99,86.1857 1789.14,86.1857 1809.29,86.1857 1829.44,86.1857 1849.59,86.1857 1869.74,86.1857 1889.89,86.1857 \n  1910.04,86.1857 1930.19,86.1857 1950.34,86.1857 1970.5,86.1857 1990.65,86.1857 2010.8,86.1857 2030.95,86.1857 2051.1,86.1857 2071.25,86.1857 2091.4,86.1857 \n  2111.55,86.1857 2131.7,86.1857 2151.85,86.1857 2172,86.1857 2192.15,86.1857 2212.3,86.1857 2232.46,86.1857 2252.61,86.1857 2272.76,86.1857 2292.91,86.1857 \n  \n  \"/>\n<polyline clip-path=\"url(#clip082)\" style=\"stroke:#3da44d; stroke-width:4; stroke-opacity:1; fill:none\" points=\"\n  297.978,1384.24 318.129,1384.24 338.28,1384.24 358.43,1384.24 378.581,1384.24 398.732,1377.75 418.883,1377.75 439.034,1371.26 459.184,1377.75 479.335,86.1857 \n  499.486,86.1857 519.637,86.1857 539.788,86.1857 559.938,86.1857 580.089,86.1857 600.24,86.1857 620.391,86.1857 640.542,86.1857 660.693,86.1857 680.843,86.1857 \n  700.994,86.1857 721.145,86.1857 741.296,86.1857 761.447,86.1857 781.597,86.1857 801.748,86.1857 821.899,86.1857 842.05,86.1857 862.201,86.1857 882.351,86.1857 \n  902.502,86.1857 922.653,86.1857 942.804,86.1857 962.955,86.1857 983.105,86.1857 1003.26,86.1857 1023.41,86.1857 1043.56,86.1857 1063.71,86.1857 1083.86,86.1857 \n  1104.01,86.1857 1124.16,86.1857 1144.31,86.1857 1164.46,86.1857 1184.61,86.1857 1204.76,86.1857 1224.92,86.1857 1245.07,86.1857 1265.22,86.1857 1285.37,86.1857 \n  1305.52,86.1857 1325.67,86.1857 1345.82,86.1857 1365.97,86.1857 1386.12,86.1857 1406.27,86.1857 1426.42,86.1857 1446.57,86.1857 1466.72,86.1857 1486.88,86.1857 \n  1507.03,86.1857 1527.18,86.1857 1547.33,86.1857 1567.48,86.1857 1587.63,86.1857 1607.78,86.1857 1627.93,86.1857 1648.08,86.1857 1668.23,86.1857 1688.38,86.1857 \n  1708.53,86.1857 1728.69,86.1857 1748.84,86.1857 1768.99,86.1857 1789.14,86.1857 1809.29,86.1857 1829.44,86.1857 1849.59,86.1857 1869.74,86.1857 1889.89,86.1857 \n  1910.04,86.1857 1930.19,86.1857 1950.34,86.1857 1970.5,86.1857 1990.65,86.1857 2010.8,86.1857 2030.95,86.1857 2051.1,86.1857 2071.25,86.1857 2091.4,86.1857 \n  2111.55,86.1857 2131.7,86.1857 2151.85,86.1857 2172,86.1857 2192.15,86.1857 2212.3,86.1857 2232.46,86.1857 2252.61,86.1857 2272.76,86.1857 2292.91,86.1857 \n  \n  \"/>\n<path clip-path=\"url(#clip080)\" d=\"\nM1995.71 335.029 L2282.27 335.029 L2282.27 93.1086 L1995.71 93.1086  Z\n  \" fill=\"#ffffff\" fill-rule=\"evenodd\" fill-opacity=\"1\"/>\n<polyline clip-path=\"url(#clip080)\" style=\"stroke:#000000; stroke-width:4; stroke-opacity:1; fill:none\" points=\"\n  1995.71,335.029 2282.27,335.029 2282.27,93.1086 1995.71,93.1086 1995.71,335.029 \n  \"/>\n<polyline clip-path=\"url(#clip080)\" style=\"stroke:#009af9; stroke-width:4; stroke-opacity:1; fill:none\" points=\"\n  2019.21,153.589 2160.18,153.589 \n  \"/>\n<path clip-path=\"url(#clip080)\" d=\"M 0 0 M2197.52 173.276 Q2195.72 177.906 2194 179.318 Q2192.29 180.73 2189.42 180.73 L2186.02 180.73 L2186.02 177.165 L2188.52 177.165 Q2190.28 177.165 2191.25 176.332 Q2192.22 175.498 2193.4 172.396 L2194.17 170.452 L2183.68 144.943 L2188.19 144.943 L2196.3 165.221 L2204.4 144.943 L2208.91 144.943 L2197.52 173.276 Z\" fill=\"#000000\" fill-rule=\"evenodd\" fill-opacity=\"1\" /><path clip-path=\"url(#clip080)\" d=\"M 0 0 M2214.79 166.933 L2222.43 166.933 L2222.43 140.568 L2214.12 142.235 L2214.12 137.975 L2222.38 136.309 L2227.06 136.309 L2227.06 166.933 L2234.7 166.933 L2234.7 170.869 L2214.79 170.869 L2214.79 166.933 Z\" fill=\"#000000\" fill-rule=\"evenodd\" fill-opacity=\"1\" /><polyline clip-path=\"url(#clip080)\" style=\"stroke:#e26f46; stroke-width:4; stroke-opacity:1; fill:none\" points=\"\n  2019.21,214.069 2160.18,214.069 \n  \"/>\n<path clip-path=\"url(#clip080)\" d=\"M 0 0 M2197.52 233.756 Q2195.72 238.386 2194 239.798 Q2192.29 241.21 2189.42 241.21 L2186.02 241.21 L2186.02 237.645 L2188.52 237.645 Q2190.28 237.645 2191.25 236.812 Q2192.22 235.978 2193.4 232.876 L2194.17 230.932 L2183.68 205.423 L2188.19 205.423 L2196.3 225.701 L2204.4 205.423 L2208.91 205.423 L2197.52 233.756 Z\" fill=\"#000000\" fill-rule=\"evenodd\" fill-opacity=\"1\" /><path clip-path=\"url(#clip080)\" d=\"M 0 0 M2218.01 227.413 L2234.33 227.413 L2234.33 231.349 L2212.38 231.349 L2212.38 227.413 Q2215.05 224.659 2219.63 220.029 Q2224.24 215.376 2225.42 214.034 Q2227.66 211.511 2228.54 209.775 Q2229.44 208.015 2229.44 206.326 Q2229.44 203.571 2227.5 201.835 Q2225.58 200.099 2222.48 200.099 Q2220.28 200.099 2217.82 200.863 Q2215.39 201.627 2212.61 203.177 L2212.61 198.455 Q2215.44 197.321 2217.89 196.742 Q2220.35 196.164 2222.38 196.164 Q2227.75 196.164 2230.95 198.849 Q2234.14 201.534 2234.14 206.025 Q2234.14 208.154 2233.33 210.076 Q2232.55 211.974 2230.44 214.566 Q2229.86 215.238 2226.76 218.455 Q2223.66 221.65 2218.01 227.413 Z\" fill=\"#000000\" fill-rule=\"evenodd\" fill-opacity=\"1\" /><polyline clip-path=\"url(#clip080)\" style=\"stroke:#3da44d; stroke-width:4; stroke-opacity:1; fill:none\" points=\"\n  2019.21,274.549 2160.18,274.549 \n  \"/>\n<path clip-path=\"url(#clip080)\" d=\"M 0 0 M2197.52 294.236 Q2195.72 298.866 2194 300.278 Q2192.29 301.69 2189.42 301.69 L2186.02 301.69 L2186.02 298.125 L2188.52 298.125 Q2190.28 298.125 2191.25 297.292 Q2192.22 296.458 2193.4 293.356 L2194.17 291.412 L2183.68 265.903 L2188.19 265.903 L2196.3 286.181 L2204.4 265.903 L2208.91 265.903 L2197.52 294.236 Z\" fill=\"#000000\" fill-rule=\"evenodd\" fill-opacity=\"1\" /><path clip-path=\"url(#clip080)\" d=\"M 0 0 M2228.15 273.194 Q2231.5 273.912 2233.38 276.181 Q2235.28 278.449 2235.28 281.782 Q2235.28 286.898 2231.76 289.699 Q2228.24 292.5 2221.76 292.5 Q2219.58 292.5 2217.27 292.06 Q2214.98 291.643 2212.52 290.787 L2212.52 286.273 Q2214.47 287.407 2216.78 287.986 Q2219.1 288.565 2221.62 288.565 Q2226.02 288.565 2228.31 286.829 Q2230.62 285.093 2230.62 281.782 Q2230.62 278.727 2228.47 277.014 Q2226.34 275.278 2222.52 275.278 L2218.49 275.278 L2218.49 271.435 L2222.71 271.435 Q2226.16 271.435 2227.99 270.069 Q2229.81 268.681 2229.81 266.088 Q2229.81 263.426 2227.92 262.014 Q2226.04 260.579 2222.52 260.579 Q2220.6 260.579 2218.4 260.995 Q2216.2 261.412 2213.56 262.292 L2213.56 258.125 Q2216.23 257.384 2218.54 257.014 Q2220.88 256.644 2222.94 256.644 Q2228.26 256.644 2231.36 259.074 Q2234.47 261.482 2234.47 265.602 Q2234.47 268.472 2232.82 270.463 Q2231.18 272.431 2228.15 273.194 Z\" fill=\"#000000\" fill-rule=\"evenodd\" fill-opacity=\"1\" /></svg>\n",
      "text/html": [
       "<?xml version=\"1.0\" encoding=\"utf-8\"?>\n",
       "<svg xmlns=\"http://www.w3.org/2000/svg\" xmlns:xlink=\"http://www.w3.org/1999/xlink\" width=\"600\" height=\"400\" viewBox=\"0 0 2400 1600\">\n",
       "<defs>\n",
       "  <clipPath id=\"clip130\">\n",
       "    <rect x=\"0\" y=\"0\" width=\"2400\" height=\"1600\"/>\n",
       "  </clipPath>\n",
       "</defs>\n",
       "<path clip-path=\"url(#clip130)\" d=\"\n",
       "M0 1600 L2400 1600 L2400 0 L0 0  Z\n",
       "  \" fill=\"#ffffff\" fill-rule=\"evenodd\" fill-opacity=\"1\"/>\n",
       "<defs>\n",
       "  <clipPath id=\"clip131\">\n",
       "    <rect x=\"480\" y=\"0\" width=\"1681\" height=\"1600\"/>\n",
       "  </clipPath>\n",
       "</defs>\n",
       "<path clip-path=\"url(#clip130)\" d=\"\n",
       "M238.13 1423.18 L2352.76 1423.18 L2352.76 47.2441 L238.13 47.2441  Z\n",
       "  \" fill=\"#ffffff\" fill-rule=\"evenodd\" fill-opacity=\"1\"/>\n",
       "<defs>\n",
       "  <clipPath id=\"clip132\">\n",
       "    <rect x=\"238\" y=\"47\" width=\"2116\" height=\"1377\"/>\n",
       "  </clipPath>\n",
       "</defs>\n",
       "<polyline clip-path=\"url(#clip132)\" style=\"stroke:#000000; stroke-width:2; stroke-opacity:0.1; fill:none\" points=\"\n",
       "  277.827,1423.18 277.827,47.2441 \n",
       "  \"/>\n",
       "<polyline clip-path=\"url(#clip132)\" style=\"stroke:#000000; stroke-width:2; stroke-opacity:0.1; fill:none\" points=\"\n",
       "  781.597,1423.18 781.597,47.2441 \n",
       "  \"/>\n",
       "<polyline clip-path=\"url(#clip132)\" style=\"stroke:#000000; stroke-width:2; stroke-opacity:0.1; fill:none\" points=\"\n",
       "  1285.37,1423.18 1285.37,47.2441 \n",
       "  \"/>\n",
       "<polyline clip-path=\"url(#clip132)\" style=\"stroke:#000000; stroke-width:2; stroke-opacity:0.1; fill:none\" points=\"\n",
       "  1789.14,1423.18 1789.14,47.2441 \n",
       "  \"/>\n",
       "<polyline clip-path=\"url(#clip132)\" style=\"stroke:#000000; stroke-width:2; stroke-opacity:0.1; fill:none\" points=\"\n",
       "  2292.91,1423.18 2292.91,47.2441 \n",
       "  \"/>\n",
       "<polyline clip-path=\"url(#clip130)\" style=\"stroke:#000000; stroke-width:4; stroke-opacity:1; fill:none\" points=\"\n",
       "  238.13,1423.18 2352.76,1423.18 \n",
       "  \"/>\n",
       "<polyline clip-path=\"url(#clip130)\" style=\"stroke:#000000; stroke-width:4; stroke-opacity:1; fill:none\" points=\"\n",
       "  277.827,1423.18 277.827,1406.67 \n",
       "  \"/>\n",
       "<polyline clip-path=\"url(#clip130)\" style=\"stroke:#000000; stroke-width:4; stroke-opacity:1; fill:none\" points=\"\n",
       "  781.597,1423.18 781.597,1406.67 \n",
       "  \"/>\n",
       "<polyline clip-path=\"url(#clip130)\" style=\"stroke:#000000; stroke-width:4; stroke-opacity:1; fill:none\" points=\"\n",
       "  1285.37,1423.18 1285.37,1406.67 \n",
       "  \"/>\n",
       "<polyline clip-path=\"url(#clip130)\" style=\"stroke:#000000; stroke-width:4; stroke-opacity:1; fill:none\" points=\"\n",
       "  1789.14,1423.18 1789.14,1406.67 \n",
       "  \"/>\n",
       "<polyline clip-path=\"url(#clip130)\" style=\"stroke:#000000; stroke-width:4; stroke-opacity:1; fill:none\" points=\"\n",
       "  2292.91,1423.18 2292.91,1406.67 \n",
       "  \"/>\n",
       "<path clip-path=\"url(#clip130)\" d=\"M 0 0 M245.837 1452.37 Q242.225 1452.37 240.397 1455.94 Q238.591 1459.48 238.591 1466.61 Q238.591 1473.71 240.397 1477.28 Q242.225 1480.82 245.837 1480.82 Q249.471 1480.82 251.276 1477.28 Q253.105 1473.71 253.105 1466.61 Q253.105 1459.48 251.276 1455.94 Q249.471 1452.37 245.837 1452.37 M245.837 1448.67 Q251.647 1448.67 254.702 1453.27 Q257.781 1457.86 257.781 1466.61 Q257.781 1475.33 254.702 1479.94 Q251.647 1484.52 245.837 1484.52 Q240.026 1484.52 236.948 1479.94 Q233.892 1475.33 233.892 1466.61 Q233.892 1457.86 236.948 1453.27 Q240.026 1448.67 245.837 1448.67 Z\" fill=\"#000000\" fill-rule=\"evenodd\" fill-opacity=\"1\" /><path clip-path=\"url(#clip130)\" d=\"M 0 0 M262.85 1477.97 L267.735 1477.97 L267.735 1483.85 L262.85 1483.85 L262.85 1477.97 Z\" fill=\"#000000\" fill-rule=\"evenodd\" fill-opacity=\"1\" /><path clip-path=\"url(#clip130)\" d=\"M 0 0 M282.804 1452.37 Q279.193 1452.37 277.364 1455.94 Q275.559 1459.48 275.559 1466.61 Q275.559 1473.71 277.364 1477.28 Q279.193 1480.82 282.804 1480.82 Q286.438 1480.82 288.244 1477.28 Q290.072 1473.71 290.072 1466.61 Q290.072 1459.48 288.244 1455.94 Q286.438 1452.37 282.804 1452.37 M282.804 1448.67 Q288.614 1448.67 291.67 1453.27 Q294.748 1457.86 294.748 1466.61 Q294.748 1475.33 291.67 1479.94 Q288.614 1484.52 282.804 1484.52 Q276.994 1484.52 273.915 1479.94 Q270.86 1475.33 270.86 1466.61 Q270.86 1457.86 273.915 1453.27 Q276.994 1448.67 282.804 1448.67 Z\" fill=\"#000000\" fill-rule=\"evenodd\" fill-opacity=\"1\" /><path clip-path=\"url(#clip130)\" d=\"M 0 0 M309.818 1452.37 Q306.207 1452.37 304.378 1455.94 Q302.572 1459.48 302.572 1466.61 Q302.572 1473.71 304.378 1477.28 Q306.207 1480.82 309.818 1480.82 Q313.452 1480.82 315.258 1477.28 Q317.086 1473.71 317.086 1466.61 Q317.086 1459.48 315.258 1455.94 Q313.452 1452.37 309.818 1452.37 M309.818 1448.67 Q315.628 1448.67 318.683 1453.27 Q321.762 1457.86 321.762 1466.61 Q321.762 1475.33 318.683 1479.94 Q315.628 1484.52 309.818 1484.52 Q304.008 1484.52 300.929 1479.94 Q297.873 1475.33 297.873 1466.61 Q297.873 1457.86 300.929 1453.27 Q304.008 1448.67 309.818 1448.67 Z\" fill=\"#000000\" fill-rule=\"evenodd\" fill-opacity=\"1\" /><path clip-path=\"url(#clip130)\" d=\"M 0 0 M750.903 1452.37 Q747.292 1452.37 745.463 1455.94 Q743.658 1459.48 743.658 1466.61 Q743.658 1473.71 745.463 1477.28 Q747.292 1480.82 750.903 1480.82 Q754.537 1480.82 756.343 1477.28 Q758.172 1473.71 758.172 1466.61 Q758.172 1459.48 756.343 1455.94 Q754.537 1452.37 750.903 1452.37 M750.903 1448.67 Q756.713 1448.67 759.769 1453.27 Q762.847 1457.86 762.847 1466.61 Q762.847 1475.33 759.769 1479.94 Q756.713 1484.52 750.903 1484.52 Q745.093 1484.52 742.014 1479.94 Q738.959 1475.33 738.959 1466.61 Q738.959 1457.86 742.014 1453.27 Q745.093 1448.67 750.903 1448.67 Z\" fill=\"#000000\" fill-rule=\"evenodd\" fill-opacity=\"1\" /><path clip-path=\"url(#clip130)\" d=\"M 0 0 M767.917 1477.97 L772.801 1477.97 L772.801 1483.85 L767.917 1483.85 L767.917 1477.97 Z\" fill=\"#000000\" fill-rule=\"evenodd\" fill-opacity=\"1\" /><path clip-path=\"url(#clip130)\" d=\"M 0 0 M781.898 1479.92 L798.218 1479.92 L798.218 1483.85 L776.273 1483.85 L776.273 1479.92 Q778.935 1477.16 783.519 1472.53 Q788.125 1467.88 789.306 1466.54 Q791.551 1464.01 792.431 1462.28 Q793.333 1460.52 793.333 1458.83 Q793.333 1456.07 791.389 1454.34 Q789.468 1452.6 786.366 1452.6 Q784.167 1452.6 781.713 1453.37 Q779.283 1454.13 776.505 1455.68 L776.505 1450.96 Q779.329 1449.82 781.783 1449.25 Q784.236 1448.67 786.273 1448.67 Q791.644 1448.67 794.838 1451.35 Q798.032 1454.04 798.032 1458.53 Q798.032 1460.66 797.222 1462.58 Q796.435 1464.48 794.329 1467.07 Q793.75 1467.74 790.648 1470.96 Q787.546 1474.15 781.898 1479.92 Z\" fill=\"#000000\" fill-rule=\"evenodd\" fill-opacity=\"1\" /><path clip-path=\"url(#clip130)\" d=\"M 0 0 M803.333 1449.29 L821.69 1449.29 L821.69 1453.23 L807.616 1453.23 L807.616 1461.7 Q808.634 1461.35 809.653 1461.19 Q810.671 1461 811.69 1461 Q817.477 1461 820.856 1464.18 Q824.236 1467.35 824.236 1472.76 Q824.236 1478.34 820.764 1481.44 Q817.292 1484.52 810.972 1484.52 Q808.796 1484.52 806.528 1484.15 Q804.282 1483.78 801.875 1483.04 L801.875 1478.34 Q803.958 1479.48 806.181 1480.03 Q808.403 1480.59 810.88 1480.59 Q814.884 1480.59 817.222 1478.48 Q819.56 1476.38 819.56 1472.76 Q819.56 1469.15 817.222 1467.05 Q814.884 1464.94 810.88 1464.94 Q809.005 1464.94 807.13 1465.36 Q805.278 1465.77 803.333 1466.65 L803.333 1449.29 Z\" fill=\"#000000\" fill-rule=\"evenodd\" fill-opacity=\"1\" /><path clip-path=\"url(#clip130)\" d=\"M 0 0 M1253.87 1452.37 Q1250.26 1452.37 1248.43 1455.94 Q1246.63 1459.48 1246.63 1466.61 Q1246.63 1473.71 1248.43 1477.28 Q1250.26 1480.82 1253.87 1480.82 Q1257.51 1480.82 1259.31 1477.28 Q1261.14 1473.71 1261.14 1466.61 Q1261.14 1459.48 1259.31 1455.94 Q1257.51 1452.37 1253.87 1452.37 M1253.87 1448.67 Q1259.68 1448.67 1262.74 1453.27 Q1265.82 1457.86 1265.82 1466.61 Q1265.82 1475.33 1262.74 1479.94 Q1259.68 1484.52 1253.87 1484.52 Q1248.06 1484.52 1244.99 1479.94 Q1241.93 1475.33 1241.93 1466.61 Q1241.93 1457.86 1244.99 1453.27 Q1248.06 1448.67 1253.87 1448.67 Z\" fill=\"#000000\" fill-rule=\"evenodd\" fill-opacity=\"1\" /><path clip-path=\"url(#clip130)\" d=\"M 0 0 M1270.89 1477.97 L1275.77 1477.97 L1275.77 1483.85 L1270.89 1483.85 L1270.89 1477.97 Z\" fill=\"#000000\" fill-rule=\"evenodd\" fill-opacity=\"1\" /><path clip-path=\"url(#clip130)\" d=\"M 0 0 M1280.89 1449.29 L1299.24 1449.29 L1299.24 1453.23 L1285.17 1453.23 L1285.17 1461.7 Q1286.19 1461.35 1287.21 1461.19 Q1288.23 1461 1289.24 1461 Q1295.03 1461 1298.41 1464.18 Q1301.79 1467.35 1301.79 1472.76 Q1301.79 1478.34 1298.32 1481.44 Q1294.85 1484.52 1288.53 1484.52 Q1286.35 1484.52 1284.08 1484.15 Q1281.84 1483.78 1279.43 1483.04 L1279.43 1478.34 Q1281.51 1479.48 1283.74 1480.03 Q1285.96 1480.59 1288.43 1480.59 Q1292.44 1480.59 1294.78 1478.48 Q1297.12 1476.38 1297.12 1472.76 Q1297.12 1469.15 1294.78 1467.05 Q1292.44 1464.94 1288.43 1464.94 Q1286.56 1464.94 1284.68 1465.36 Q1282.83 1465.77 1280.89 1466.65 L1280.89 1449.29 Z\" fill=\"#000000\" fill-rule=\"evenodd\" fill-opacity=\"1\" /><path clip-path=\"url(#clip130)\" d=\"M 0 0 M1316.86 1452.37 Q1313.25 1452.37 1311.42 1455.94 Q1309.62 1459.48 1309.62 1466.61 Q1309.62 1473.71 1311.42 1477.28 Q1313.25 1480.82 1316.86 1480.82 Q1320.49 1480.82 1322.3 1477.28 Q1324.13 1473.71 1324.13 1466.61 Q1324.13 1459.48 1322.3 1455.94 Q1320.49 1452.37 1316.86 1452.37 M1316.86 1448.67 Q1322.67 1448.67 1325.73 1453.27 Q1328.8 1457.86 1328.8 1466.61 Q1328.8 1475.33 1325.73 1479.94 Q1322.67 1484.52 1316.86 1484.52 Q1311.05 1484.52 1307.97 1479.94 Q1304.92 1475.33 1304.92 1466.61 Q1304.92 1457.86 1307.97 1453.27 Q1311.05 1448.67 1316.86 1448.67 Z\" fill=\"#000000\" fill-rule=\"evenodd\" fill-opacity=\"1\" /><path clip-path=\"url(#clip130)\" d=\"M 0 0 M1758.1 1452.37 Q1754.49 1452.37 1752.66 1455.94 Q1750.85 1459.48 1750.85 1466.61 Q1750.85 1473.71 1752.66 1477.28 Q1754.49 1480.82 1758.1 1480.82 Q1761.73 1480.82 1763.54 1477.28 Q1765.36 1473.71 1765.36 1466.61 Q1765.36 1459.48 1763.54 1455.94 Q1761.73 1452.37 1758.1 1452.37 M1758.1 1448.67 Q1763.91 1448.67 1766.96 1453.27 Q1770.04 1457.86 1770.04 1466.61 Q1770.04 1475.33 1766.96 1479.94 Q1763.91 1484.52 1758.1 1484.52 Q1752.29 1484.52 1749.21 1479.94 Q1746.15 1475.33 1746.15 1466.61 Q1746.15 1457.86 1749.21 1453.27 Q1752.29 1448.67 1758.1 1448.67 Z\" fill=\"#000000\" fill-rule=\"evenodd\" fill-opacity=\"1\" /><path clip-path=\"url(#clip130)\" d=\"M 0 0 M1775.11 1477.97 L1779.99 1477.97 L1779.99 1483.85 L1775.11 1483.85 L1775.11 1477.97 Z\" fill=\"#000000\" fill-rule=\"evenodd\" fill-opacity=\"1\" /><path clip-path=\"url(#clip130)\" d=\"M 0 0 M1783.88 1449.29 L1806.11 1449.29 L1806.11 1451.28 L1793.56 1483.85 L1788.67 1483.85 L1800.48 1453.23 L1783.88 1453.23 L1783.88 1449.29 Z\" fill=\"#000000\" fill-rule=\"evenodd\" fill-opacity=\"1\" /><path clip-path=\"url(#clip130)\" d=\"M 0 0 M1811.22 1449.29 L1829.58 1449.29 L1829.58 1453.23 L1815.5 1453.23 L1815.5 1461.7 Q1816.52 1461.35 1817.54 1461.19 Q1818.56 1461 1819.58 1461 Q1825.36 1461 1828.74 1464.18 Q1832.12 1467.35 1832.12 1472.76 Q1832.12 1478.34 1828.65 1481.44 Q1825.18 1484.52 1818.86 1484.52 Q1816.68 1484.52 1814.42 1484.15 Q1812.17 1483.78 1809.76 1483.04 L1809.76 1478.34 Q1811.85 1479.48 1814.07 1480.03 Q1816.29 1480.59 1818.77 1480.59 Q1822.77 1480.59 1825.11 1478.48 Q1827.45 1476.38 1827.45 1472.76 Q1827.45 1469.15 1825.11 1467.05 Q1822.77 1464.94 1818.77 1464.94 Q1816.89 1464.94 1815.02 1465.36 Q1813.17 1465.77 1811.22 1466.65 L1811.22 1449.29 Z\" fill=\"#000000\" fill-rule=\"evenodd\" fill-opacity=\"1\" /><path clip-path=\"url(#clip130)\" d=\"M 0 0 M2251.3 1479.92 L2258.94 1479.92 L2258.94 1453.55 L2250.63 1455.22 L2250.63 1450.96 L2258.89 1449.29 L2263.57 1449.29 L2263.57 1479.92 L2271.21 1479.92 L2271.21 1483.85 L2251.3 1483.85 L2251.3 1479.92 Z\" fill=\"#000000\" fill-rule=\"evenodd\" fill-opacity=\"1\" /><path clip-path=\"url(#clip130)\" d=\"M 0 0 M2276.28 1477.97 L2281.16 1477.97 L2281.16 1483.85 L2276.28 1483.85 L2276.28 1477.97 Z\" fill=\"#000000\" fill-rule=\"evenodd\" fill-opacity=\"1\" /><path clip-path=\"url(#clip130)\" d=\"M 0 0 M2296.23 1452.37 Q2292.62 1452.37 2290.79 1455.94 Q2288.98 1459.48 2288.98 1466.61 Q2288.98 1473.71 2290.79 1477.28 Q2292.62 1480.82 2296.23 1480.82 Q2299.86 1480.82 2301.67 1477.28 Q2303.5 1473.71 2303.5 1466.61 Q2303.5 1459.48 2301.67 1455.94 Q2299.86 1452.37 2296.23 1452.37 M2296.23 1448.67 Q2302.04 1448.67 2305.1 1453.27 Q2308.17 1457.86 2308.17 1466.61 Q2308.17 1475.33 2305.1 1479.94 Q2302.04 1484.52 2296.23 1484.52 Q2290.42 1484.52 2287.34 1479.94 Q2284.29 1475.33 2284.29 1466.61 Q2284.29 1457.86 2287.34 1453.27 Q2290.42 1448.67 2296.23 1448.67 Z\" fill=\"#000000\" fill-rule=\"evenodd\" fill-opacity=\"1\" /><path clip-path=\"url(#clip130)\" d=\"M 0 0 M2323.24 1452.37 Q2319.63 1452.37 2317.8 1455.94 Q2316 1459.48 2316 1466.61 Q2316 1473.71 2317.8 1477.28 Q2319.63 1480.82 2323.24 1480.82 Q2326.88 1480.82 2328.68 1477.28 Q2330.51 1473.71 2330.51 1466.61 Q2330.51 1459.48 2328.68 1455.94 Q2326.88 1452.37 2323.24 1452.37 M2323.24 1448.67 Q2329.05 1448.67 2332.11 1453.27 Q2335.19 1457.86 2335.19 1466.61 Q2335.19 1475.33 2332.11 1479.94 Q2329.05 1484.52 2323.24 1484.52 Q2317.43 1484.52 2314.35 1479.94 Q2311.3 1475.33 2311.3 1466.61 Q2311.3 1457.86 2314.35 1453.27 Q2317.43 1448.67 2323.24 1448.67 Z\" fill=\"#000000\" fill-rule=\"evenodd\" fill-opacity=\"1\" /><path clip-path=\"url(#clip130)\" d=\"M 0 0 M1246.03 1508.52 L1286.23 1508.52 L1286.23 1513.93 L1269.36 1513.93 L1269.36 1556.04 L1262.9 1556.04 L1262.9 1513.93 L1246.03 1513.93 L1246.03 1508.52 Z\" fill=\"#000000\" fill-rule=\"evenodd\" fill-opacity=\"1\" /><path clip-path=\"url(#clip130)\" d=\"M 0 0 M1297.78 1538.12 Q1290.68 1538.12 1287.95 1539.75 Q1285.21 1541.37 1285.21 1545.29 Q1285.21 1548.4 1287.25 1550.25 Q1289.32 1552.07 1292.85 1552.07 Q1297.72 1552.07 1300.65 1548.63 Q1303.61 1545.16 1303.61 1539.43 L1303.61 1538.12 L1297.78 1538.12 M1309.46 1535.71 L1309.46 1556.04 L1303.61 1556.04 L1303.61 1550.63 Q1301.6 1553.88 1298.61 1555.44 Q1295.62 1556.97 1291.29 1556.97 Q1285.81 1556.97 1282.57 1553.91 Q1279.35 1550.82 1279.35 1545.67 Q1279.35 1539.65 1283.36 1536.6 Q1287.41 1533.54 1295.4 1533.54 L1303.61 1533.54 L1303.61 1532.97 Q1303.61 1528.93 1300.93 1526.73 Q1298.29 1524.5 1293.49 1524.5 Q1290.43 1524.5 1287.53 1525.23 Q1284.64 1525.97 1281.96 1527.43 L1281.96 1522.02 Q1285.18 1520.78 1288.2 1520.17 Q1291.23 1519.54 1294.09 1519.54 Q1301.82 1519.54 1305.64 1523.55 Q1309.46 1527.56 1309.46 1535.71 Z\" fill=\"#000000\" fill-rule=\"evenodd\" fill-opacity=\"1\" /><path clip-path=\"url(#clip130)\" d=\"M 0 0 M1315 1541.98 L1315 1520.4 L1320.86 1520.4 L1320.86 1541.75 Q1320.86 1546.81 1322.83 1549.36 Q1324.8 1551.87 1328.75 1551.87 Q1333.49 1551.87 1336.23 1548.85 Q1339 1545.83 1339 1540.61 L1339 1520.4 L1344.86 1520.4 L1344.86 1556.04 L1339 1556.04 L1339 1550.57 Q1336.87 1553.82 1334.04 1555.41 Q1331.23 1556.97 1327.51 1556.97 Q1321.37 1556.97 1318.18 1553.15 Q1315 1549.33 1315 1541.98 M1329.74 1519.54 L1329.74 1519.54 Z\" fill=\"#000000\" fill-rule=\"evenodd\" fill-opacity=\"1\" /><polyline clip-path=\"url(#clip132)\" style=\"stroke:#000000; stroke-width:2; stroke-opacity:0.1; fill:none\" points=\"\n",
       "  238.13,1384.24 2352.76,1384.24 \n",
       "  \"/>\n",
       "<polyline clip-path=\"url(#clip132)\" style=\"stroke:#000000; stroke-width:2; stroke-opacity:0.1; fill:none\" points=\"\n",
       "  238.13,1059.73 2352.76,1059.73 \n",
       "  \"/>\n",
       "<polyline clip-path=\"url(#clip132)\" style=\"stroke:#000000; stroke-width:2; stroke-opacity:0.1; fill:none\" points=\"\n",
       "  238.13,735.212 2352.76,735.212 \n",
       "  \"/>\n",
       "<polyline clip-path=\"url(#clip132)\" style=\"stroke:#000000; stroke-width:2; stroke-opacity:0.1; fill:none\" points=\"\n",
       "  238.13,410.699 2352.76,410.699 \n",
       "  \"/>\n",
       "<polyline clip-path=\"url(#clip132)\" style=\"stroke:#000000; stroke-width:2; stroke-opacity:0.1; fill:none\" points=\"\n",
       "  238.13,86.1857 2352.76,86.1857 \n",
       "  \"/>\n",
       "<polyline clip-path=\"url(#clip130)\" style=\"stroke:#000000; stroke-width:4; stroke-opacity:1; fill:none\" points=\"\n",
       "  238.13,1423.18 238.13,47.2441 \n",
       "  \"/>\n",
       "<polyline clip-path=\"url(#clip130)\" style=\"stroke:#000000; stroke-width:4; stroke-opacity:1; fill:none\" points=\"\n",
       "  238.13,1384.24 263.506,1384.24 \n",
       "  \"/>\n",
       "<polyline clip-path=\"url(#clip130)\" style=\"stroke:#000000; stroke-width:4; stroke-opacity:1; fill:none\" points=\"\n",
       "  238.13,1059.73 263.506,1059.73 \n",
       "  \"/>\n",
       "<polyline clip-path=\"url(#clip130)\" style=\"stroke:#000000; stroke-width:4; stroke-opacity:1; fill:none\" points=\"\n",
       "  238.13,735.212 263.506,735.212 \n",
       "  \"/>\n",
       "<polyline clip-path=\"url(#clip130)\" style=\"stroke:#000000; stroke-width:4; stroke-opacity:1; fill:none\" points=\"\n",
       "  238.13,410.699 263.506,410.699 \n",
       "  \"/>\n",
       "<polyline clip-path=\"url(#clip130)\" style=\"stroke:#000000; stroke-width:4; stroke-opacity:1; fill:none\" points=\"\n",
       "  238.13,86.1857 263.506,86.1857 \n",
       "  \"/>\n",
       "<path clip-path=\"url(#clip130)\" d=\"M 0 0 M126.205 1370.04 Q122.593 1370.04 120.765 1373.6 Q118.959 1377.14 118.959 1384.27 Q118.959 1391.38 120.765 1394.94 Q122.593 1398.49 126.205 1398.49 Q129.839 1398.49 131.644 1394.94 Q133.473 1391.38 133.473 1384.27 Q133.473 1377.14 131.644 1373.6 Q129.839 1370.04 126.205 1370.04 M126.205 1366.33 Q132.015 1366.33 135.07 1370.94 Q138.149 1375.52 138.149 1384.27 Q138.149 1393 135.07 1397.61 Q132.015 1402.19 126.205 1402.19 Q120.394 1402.19 117.316 1397.61 Q114.26 1393 114.26 1384.27 Q114.26 1375.52 117.316 1370.94 Q120.394 1366.33 126.205 1366.33 Z\" fill=\"#000000\" fill-rule=\"evenodd\" fill-opacity=\"1\" /><path clip-path=\"url(#clip130)\" d=\"M 0 0 M143.218 1395.64 L148.103 1395.64 L148.103 1401.52 L143.218 1401.52 L143.218 1395.64 Z\" fill=\"#000000\" fill-rule=\"evenodd\" fill-opacity=\"1\" /><path clip-path=\"url(#clip130)\" d=\"M 0 0 M163.172 1370.04 Q159.561 1370.04 157.732 1373.6 Q155.927 1377.14 155.927 1384.27 Q155.927 1391.38 157.732 1394.94 Q159.561 1398.49 163.172 1398.49 Q166.806 1398.49 168.612 1394.94 Q170.44 1391.38 170.44 1384.27 Q170.44 1377.14 168.612 1373.6 Q166.806 1370.04 163.172 1370.04 M163.172 1366.33 Q168.982 1366.33 172.038 1370.94 Q175.116 1375.52 175.116 1384.27 Q175.116 1393 172.038 1397.61 Q168.982 1402.19 163.172 1402.19 Q157.362 1402.19 154.283 1397.61 Q151.228 1393 151.228 1384.27 Q151.228 1375.52 154.283 1370.94 Q157.362 1366.33 163.172 1366.33 Z\" fill=\"#000000\" fill-rule=\"evenodd\" fill-opacity=\"1\" /><path clip-path=\"url(#clip130)\" d=\"M 0 0 M190.186 1370.04 Q186.575 1370.04 184.746 1373.6 Q182.94 1377.14 182.94 1384.27 Q182.94 1391.38 184.746 1394.94 Q186.575 1398.49 190.186 1398.49 Q193.82 1398.49 195.625 1394.94 Q197.454 1391.38 197.454 1384.27 Q197.454 1377.14 195.625 1373.6 Q193.82 1370.04 190.186 1370.04 M190.186 1366.33 Q195.996 1366.33 199.051 1370.94 Q202.13 1375.52 202.13 1384.27 Q202.13 1393 199.051 1397.61 Q195.996 1402.19 190.186 1402.19 Q184.376 1402.19 181.297 1397.61 Q178.241 1393 178.241 1384.27 Q178.241 1375.52 181.297 1370.94 Q184.376 1366.33 190.186 1366.33 Z\" fill=\"#000000\" fill-rule=\"evenodd\" fill-opacity=\"1\" /><path clip-path=\"url(#clip130)\" d=\"M 0 0 M128.797 1045.52 Q125.186 1045.52 123.357 1049.09 Q121.552 1052.63 121.552 1059.76 Q121.552 1066.87 123.357 1070.43 Q125.186 1073.97 128.797 1073.97 Q132.431 1073.97 134.237 1070.43 Q136.066 1066.87 136.066 1059.76 Q136.066 1052.63 134.237 1049.09 Q132.431 1045.52 128.797 1045.52 M128.797 1041.82 Q134.607 1041.82 137.663 1046.43 Q140.741 1051.01 140.741 1059.76 Q140.741 1068.49 137.663 1073.09 Q134.607 1077.68 128.797 1077.68 Q122.987 1077.68 119.908 1073.09 Q116.853 1068.49 116.853 1059.76 Q116.853 1051.01 119.908 1046.43 Q122.987 1041.82 128.797 1041.82 Z\" fill=\"#000000\" fill-rule=\"evenodd\" fill-opacity=\"1\" /><path clip-path=\"url(#clip130)\" d=\"M 0 0 M145.811 1071.13 L150.695 1071.13 L150.695 1077.01 L145.811 1077.01 L145.811 1071.13 Z\" fill=\"#000000\" fill-rule=\"evenodd\" fill-opacity=\"1\" /><path clip-path=\"url(#clip130)\" d=\"M 0 0 M159.792 1073.07 L176.112 1073.07 L176.112 1077.01 L154.167 1077.01 L154.167 1073.07 Q156.829 1070.32 161.413 1065.69 Q166.019 1061.03 167.2 1059.69 Q169.445 1057.17 170.325 1055.43 Q171.227 1053.67 171.227 1051.98 Q171.227 1049.23 169.283 1047.49 Q167.362 1045.76 164.26 1045.76 Q162.061 1045.76 159.607 1046.52 Q157.177 1047.28 154.399 1048.83 L154.399 1044.11 Q157.223 1042.98 159.677 1042.4 Q162.13 1041.82 164.167 1041.82 Q169.538 1041.82 172.732 1044.51 Q175.926 1047.19 175.926 1051.68 Q175.926 1053.81 175.116 1055.73 Q174.329 1057.63 172.223 1060.22 Q171.644 1060.89 168.542 1064.11 Q165.44 1067.31 159.792 1073.07 Z\" fill=\"#000000\" fill-rule=\"evenodd\" fill-opacity=\"1\" /><path clip-path=\"url(#clip130)\" d=\"M 0 0 M181.227 1042.45 L199.584 1042.45 L199.584 1046.38 L185.51 1046.38 L185.51 1054.85 Q186.528 1054.51 187.547 1054.34 Q188.565 1054.16 189.584 1054.16 Q195.371 1054.16 198.75 1057.33 Q202.13 1060.5 202.13 1065.92 Q202.13 1071.5 198.658 1074.6 Q195.186 1077.68 188.866 1077.68 Q186.69 1077.68 184.422 1077.31 Q182.176 1076.94 179.769 1076.19 L179.769 1071.5 Q181.852 1072.63 184.075 1073.19 Q186.297 1073.74 188.774 1073.74 Q192.778 1073.74 195.116 1071.63 Q197.454 1069.53 197.454 1065.92 Q197.454 1062.31 195.116 1060.2 Q192.778 1058.09 188.774 1058.09 Q186.899 1058.09 185.024 1058.51 Q183.172 1058.93 181.227 1059.81 L181.227 1042.45 Z\" fill=\"#000000\" fill-rule=\"evenodd\" fill-opacity=\"1\" /><path clip-path=\"url(#clip130)\" d=\"M 0 0 M127.2 721.011 Q123.589 721.011 121.76 724.575 Q119.955 728.117 119.955 735.247 Q119.955 742.353 121.76 745.918 Q123.589 749.46 127.2 749.46 Q130.834 749.46 132.64 745.918 Q134.468 742.353 134.468 735.247 Q134.468 728.117 132.64 724.575 Q130.834 721.011 127.2 721.011 M127.2 717.307 Q133.01 717.307 136.066 721.913 Q139.144 726.497 139.144 735.247 Q139.144 743.973 136.066 748.58 Q133.01 753.163 127.2 753.163 Q121.39 753.163 118.311 748.58 Q115.256 743.973 115.256 735.247 Q115.256 726.497 118.311 721.913 Q121.39 717.307 127.2 717.307 Z\" fill=\"#000000\" fill-rule=\"evenodd\" fill-opacity=\"1\" /><path clip-path=\"url(#clip130)\" d=\"M 0 0 M144.214 746.612 L149.098 746.612 L149.098 752.492 L144.214 752.492 L144.214 746.612 Z\" fill=\"#000000\" fill-rule=\"evenodd\" fill-opacity=\"1\" /><path clip-path=\"url(#clip130)\" d=\"M 0 0 M154.214 717.932 L172.57 717.932 L172.57 721.867 L158.496 721.867 L158.496 730.339 Q159.515 729.992 160.533 729.83 Q161.552 729.645 162.57 729.645 Q168.357 729.645 171.737 732.816 Q175.116 735.987 175.116 741.404 Q175.116 746.983 171.644 750.085 Q168.172 753.163 161.852 753.163 Q159.677 753.163 157.408 752.793 Q155.163 752.423 152.755 751.682 L152.755 746.983 Q154.839 748.117 157.061 748.673 Q159.283 749.228 161.76 749.228 Q165.765 749.228 168.102 747.122 Q170.44 745.015 170.44 741.404 Q170.44 737.793 168.102 735.687 Q165.765 733.58 161.76 733.58 Q159.885 733.58 158.01 733.997 Q156.158 734.413 154.214 735.293 L154.214 717.932 Z\" fill=\"#000000\" fill-rule=\"evenodd\" fill-opacity=\"1\" /><path clip-path=\"url(#clip130)\" d=\"M 0 0 M190.186 721.011 Q186.575 721.011 184.746 724.575 Q182.94 728.117 182.94 735.247 Q182.94 742.353 184.746 745.918 Q186.575 749.46 190.186 749.46 Q193.82 749.46 195.625 745.918 Q197.454 742.353 197.454 735.247 Q197.454 728.117 195.625 724.575 Q193.82 721.011 190.186 721.011 M190.186 717.307 Q195.996 717.307 199.051 721.913 Q202.13 726.497 202.13 735.247 Q202.13 743.973 199.051 748.58 Q195.996 753.163 190.186 753.163 Q184.376 753.163 181.297 748.58 Q178.241 743.973 178.241 735.247 Q178.241 726.497 181.297 721.913 Q184.376 717.307 190.186 717.307 Z\" fill=\"#000000\" fill-rule=\"evenodd\" fill-opacity=\"1\" /><path clip-path=\"url(#clip130)\" d=\"M 0 0 M128.103 396.498 Q124.492 396.498 122.663 400.062 Q120.857 403.604 120.857 410.734 Q120.857 417.84 122.663 421.405 Q124.492 424.946 128.103 424.946 Q131.737 424.946 133.542 421.405 Q135.371 417.84 135.371 410.734 Q135.371 403.604 133.542 400.062 Q131.737 396.498 128.103 396.498 M128.103 392.794 Q133.913 392.794 136.968 397.4 Q140.047 401.984 140.047 410.734 Q140.047 419.46 136.968 424.067 Q133.913 428.65 128.103 428.65 Q122.293 428.65 119.214 424.067 Q116.158 419.46 116.158 410.734 Q116.158 401.984 119.214 397.4 Q122.293 392.794 128.103 392.794 Z\" fill=\"#000000\" fill-rule=\"evenodd\" fill-opacity=\"1\" /><path clip-path=\"url(#clip130)\" d=\"M 0 0 M145.116 422.099 L150.001 422.099 L150.001 427.979 L145.116 427.979 L145.116 422.099 Z\" fill=\"#000000\" fill-rule=\"evenodd\" fill-opacity=\"1\" /><path clip-path=\"url(#clip130)\" d=\"M 0 0 M153.89 393.419 L176.112 393.419 L176.112 395.41 L163.565 427.979 L158.681 427.979 L170.487 397.354 L153.89 397.354 L153.89 393.419 Z\" fill=\"#000000\" fill-rule=\"evenodd\" fill-opacity=\"1\" /><path clip-path=\"url(#clip130)\" d=\"M 0 0 M181.227 393.419 L199.584 393.419 L199.584 397.354 L185.51 397.354 L185.51 405.826 Q186.528 405.479 187.547 405.317 Q188.565 405.132 189.584 405.132 Q195.371 405.132 198.75 408.303 Q202.13 411.474 202.13 416.891 Q202.13 422.47 198.658 425.571 Q195.186 428.65 188.866 428.65 Q186.69 428.65 184.422 428.28 Q182.176 427.909 179.769 427.169 L179.769 422.47 Q181.852 423.604 184.075 424.159 Q186.297 424.715 188.774 424.715 Q192.778 424.715 195.116 422.608 Q197.454 420.502 197.454 416.891 Q197.454 413.28 195.116 411.173 Q192.778 409.067 188.774 409.067 Q186.899 409.067 185.024 409.484 Q183.172 409.9 181.227 410.78 L181.227 393.419 Z\" fill=\"#000000\" fill-rule=\"evenodd\" fill-opacity=\"1\" /><path clip-path=\"url(#clip130)\" d=\"M 0 0 M118.242 99.5305 L125.88 99.5305 L125.88 73.1649 L117.57 74.8316 L117.57 70.5723 L125.834 68.9057 L130.51 68.9057 L130.51 99.5305 L138.149 99.5305 L138.149 103.466 L118.242 103.466 L118.242 99.5305 Z\" fill=\"#000000\" fill-rule=\"evenodd\" fill-opacity=\"1\" /><path clip-path=\"url(#clip130)\" d=\"M 0 0 M143.218 97.5861 L148.103 97.5861 L148.103 103.466 L143.218 103.466 L143.218 97.5861 Z\" fill=\"#000000\" fill-rule=\"evenodd\" fill-opacity=\"1\" /><path clip-path=\"url(#clip130)\" d=\"M 0 0 M163.172 71.9844 Q159.561 71.9844 157.732 75.5492 Q155.927 79.0908 155.927 86.2204 Q155.927 93.3268 157.732 96.8916 Q159.561 100.433 163.172 100.433 Q166.806 100.433 168.612 96.8916 Q170.44 93.3268 170.44 86.2204 Q170.44 79.0908 168.612 75.5492 Q166.806 71.9844 163.172 71.9844 M163.172 68.2807 Q168.982 68.2807 172.038 72.8871 Q175.116 77.4704 175.116 86.2204 Q175.116 94.9472 172.038 99.5537 Q168.982 104.137 163.172 104.137 Q157.362 104.137 154.283 99.5537 Q151.228 94.9472 151.228 86.2204 Q151.228 77.4704 154.283 72.8871 Q157.362 68.2807 163.172 68.2807 Z\" fill=\"#000000\" fill-rule=\"evenodd\" fill-opacity=\"1\" /><path clip-path=\"url(#clip130)\" d=\"M 0 0 M190.186 71.9844 Q186.575 71.9844 184.746 75.5492 Q182.94 79.0908 182.94 86.2204 Q182.94 93.3268 184.746 96.8916 Q186.575 100.433 190.186 100.433 Q193.82 100.433 195.625 96.8916 Q197.454 93.3268 197.454 86.2204 Q197.454 79.0908 195.625 75.5492 Q193.82 71.9844 190.186 71.9844 M190.186 68.2807 Q195.996 68.2807 199.051 72.8871 Q202.13 77.4704 202.13 86.2204 Q202.13 94.9472 199.051 99.5537 Q195.996 104.137 190.186 104.137 Q184.376 104.137 181.297 99.5537 Q178.241 94.9472 178.241 86.2204 Q178.241 77.4704 181.297 72.8871 Q184.376 68.2807 190.186 68.2807 Z\" fill=\"#000000\" fill-rule=\"evenodd\" fill-opacity=\"1\" /><path clip-path=\"url(#clip130)\" d=\"M 0 0 M40.4842 1000.93 L40.4842 991.352 L72.8219 979.225 L40.4842 967.035 L40.4842 957.455 L88.0042 957.455 L88.0042 963.725 L46.277 963.725 L78.8694 975.979 L78.8694 982.44 L46.277 994.694 L88.0042 994.694 L88.0042 1000.93 L40.4842 1000.93 Z\" fill=\"#000000\" fill-rule=\"evenodd\" fill-opacity=\"1\" /><path clip-path=\"url(#clip130)\" d=\"M 0 0 M70.0847 935.111 Q70.0847 942.209 71.7079 944.946 Q73.3312 947.683 77.2461 947.683 Q80.3653 947.683 82.2114 945.646 Q84.0256 943.577 84.0256 940.044 Q84.0256 935.175 80.5881 932.247 Q77.1188 929.286 71.3897 929.286 L70.0847 929.286 L70.0847 935.111 M67.6657 923.43 L88.0042 923.43 L88.0042 929.286 L82.5933 929.286 Q85.8398 931.292 87.3994 934.284 Q88.9272 937.275 88.9272 941.604 Q88.9272 947.079 85.8716 950.325 Q82.7843 953.54 77.6281 953.54 Q71.6125 953.54 68.5569 949.529 Q65.5014 945.487 65.5014 937.498 L65.5014 929.286 L64.9285 929.286 Q60.8862 929.286 58.6901 931.96 Q56.4621 934.602 56.4621 939.408 Q56.4621 942.463 57.1941 945.36 Q57.9262 948.256 59.3903 950.93 L53.9795 950.93 Q52.7381 947.715 52.1334 944.691 Q51.4968 941.668 51.4968 938.803 Q51.4968 931.069 55.5072 927.249 Q59.5176 923.43 67.6657 923.43 Z\" fill=\"#000000\" fill-rule=\"evenodd\" fill-opacity=\"1\" /><path clip-path=\"url(#clip130)\" d=\"M 0 0 M52.3562 887.655 L69.7028 900.545 L88.0042 886.986 L88.0042 893.893 L73.9996 904.269 L88.0042 914.645 L88.0042 921.552 L69.3526 907.707 L52.3562 920.374 L52.3562 913.468 L65.0558 904.015 L52.3562 894.562 L52.3562 887.655 Z\" fill=\"#000000\" fill-rule=\"evenodd\" fill-opacity=\"1\" /><path clip-path=\"url(#clip130)\" d=\"M 0 0 M67.0928 818.873 Q67.0928 821.642 69.4481 823.234 Q71.8034 824.793 76.0048 824.793 Q80.1425 824.793 82.5296 823.234 Q84.885 821.642 84.885 818.873 Q84.885 816.168 82.5296 814.608 Q80.1425 813.017 76.0048 813.017 Q71.8353 813.017 69.48 814.608 Q67.0928 816.168 67.0928 818.873 M63.0506 818.873 Q63.0506 813.844 66.5517 810.884 Q70.0529 807.924 76.0048 807.924 Q81.9567 807.924 85.4579 810.916 Q88.9272 813.876 88.9272 818.873 Q88.9272 823.966 85.4579 826.926 Q81.9567 829.886 76.0048 829.886 Q70.021 829.886 66.5517 826.926 Q63.0506 823.934 63.0506 818.873 M43.667 851.72 Q43.667 854.458 46.0542 856.049 Q48.4095 857.609 52.5472 857.609 Q56.7485 857.609 59.1038 856.049 Q61.4592 854.489 61.4592 851.72 Q61.4592 848.951 59.1038 847.392 Q56.7485 845.8 52.5472 845.8 Q48.4413 845.8 46.0542 847.392 Q43.667 848.983 43.667 851.72 M39.6248 822.979 L39.6248 817.887 L88.9272 847.614 L88.9272 852.707 L39.6248 822.979 M39.6248 851.72 Q39.6248 846.691 43.1259 843.7 Q46.5952 840.708 52.5472 840.708 Q58.5628 840.708 62.0321 843.7 Q65.5014 846.66 65.5014 851.72 Q65.5014 856.781 62.0321 859.741 Q58.5309 862.669 52.5472 862.669 Q46.6271 862.669 43.1259 859.709 Q39.6248 856.749 39.6248 851.72 Z\" fill=\"#000000\" fill-rule=\"evenodd\" fill-opacity=\"1\" /><path clip-path=\"url(#clip130)\" d=\"M 0 0 M56.4621 767.247 Q56.4621 771.958 60.1542 774.695 Q63.8145 777.433 70.212 777.433 Q76.6095 777.433 80.3017 774.727 Q83.9619 771.99 83.9619 767.247 Q83.9619 762.569 80.2698 759.831 Q76.5777 757.094 70.212 757.094 Q63.8781 757.094 60.186 759.831 Q56.4621 762.569 56.4621 767.247 M51.4968 767.247 Q51.4968 759.609 56.4621 755.248 Q61.4273 750.888 70.212 750.888 Q78.9649 750.888 83.9619 755.248 Q88.9272 759.609 88.9272 767.247 Q88.9272 774.918 83.9619 779.279 Q78.9649 783.607 70.212 783.607 Q61.4273 783.607 56.4621 779.279 Q51.4968 774.918 51.4968 767.247 Z\" fill=\"#000000\" fill-rule=\"evenodd\" fill-opacity=\"1\" /><path clip-path=\"url(#clip130)\" d=\"M 0 0 M38.479 726.698 L43.3487 726.698 L43.3487 732.3 Q43.3487 735.451 44.6219 736.692 Q45.895 737.901 49.2052 737.901 L52.3562 737.901 L52.3562 728.257 L56.9077 728.257 L56.9077 737.901 L88.0042 737.901 L88.0042 743.79 L56.9077 743.79 L56.9077 749.392 L52.3562 749.392 L52.3562 743.79 L49.8736 743.79 Q43.9216 743.79 41.2162 741.021 Q38.479 738.252 38.479 732.236 L38.479 726.698 Z\" fill=\"#000000\" fill-rule=\"evenodd\" fill-opacity=\"1\" /><path clip-path=\"url(#clip130)\" d=\"M 0 0 M52.3562 699.835 L52.3562 693.978 L88.0042 693.978 L88.0042 699.835 L52.3562 699.835 M38.479 699.835 L38.479 693.978 L45.895 693.978 L45.895 699.835 L38.479 699.835 Z\" fill=\"#000000\" fill-rule=\"evenodd\" fill-opacity=\"1\" /><path clip-path=\"url(#clip130)\" d=\"M 0 0 M66.4881 658.203 L88.0042 658.203 L88.0042 664.059 L66.679 664.059 Q61.6183 664.059 59.1038 666.033 Q56.5894 668.006 56.5894 671.953 Q56.5894 676.695 59.6131 679.432 Q62.6368 682.17 67.8567 682.17 L88.0042 682.17 L88.0042 688.058 L52.3562 688.058 L52.3562 682.17 L57.8944 682.17 Q54.6797 680.069 53.0883 677.236 Q51.4968 674.372 51.4968 670.648 Q51.4968 664.505 55.3163 661.354 Q59.1038 658.203 66.4881 658.203 Z\" fill=\"#000000\" fill-rule=\"evenodd\" fill-opacity=\"1\" /><path clip-path=\"url(#clip130)\" d=\"M 0 0 M38.479 634.013 L43.3487 634.013 L43.3487 639.615 Q43.3487 642.766 44.6219 644.007 Q45.895 645.217 49.2052 645.217 L52.3562 645.217 L52.3562 635.573 L56.9077 635.573 L56.9077 645.217 L88.0042 645.217 L88.0042 651.105 L56.9077 651.105 L56.9077 656.707 L52.3562 656.707 L52.3562 651.105 L49.8736 651.105 Q43.9216 651.105 41.2162 648.336 Q38.479 645.567 38.479 639.551 L38.479 634.013 Z\" fill=\"#000000\" fill-rule=\"evenodd\" fill-opacity=\"1\" /><path clip-path=\"url(#clip130)\" d=\"M 0 0 M68.7161 597.379 L71.5806 597.379 L71.5806 624.305 Q77.6281 623.924 80.8109 620.677 Q83.9619 617.399 83.9619 611.574 Q83.9619 608.2 83.1344 605.049 Q82.3069 601.866 80.6518 598.747 L86.1899 598.747 Q87.5267 601.898 88.227 605.208 Q88.9272 608.518 88.9272 611.924 Q88.9272 620.454 83.9619 625.451 Q78.9967 630.417 70.5303 630.417 Q61.7774 630.417 56.6531 625.706 Q51.4968 620.963 51.4968 612.943 Q51.4968 605.749 56.1438 601.58 Q60.7589 597.379 68.7161 597.379 M66.9973 603.235 Q62.1912 603.299 59.3266 605.94 Q56.4621 608.55 56.4621 612.879 Q56.4621 617.781 59.2312 620.741 Q62.0002 623.669 67.0292 624.114 L66.9973 603.235 Z\" fill=\"#000000\" fill-rule=\"evenodd\" fill-opacity=\"1\" /><path clip-path=\"url(#clip130)\" d=\"M 0 0 M53.7248 565.582 L59.1993 565.582 Q57.8307 568.064 57.1623 570.579 Q56.4621 573.062 56.4621 575.608 Q56.4621 581.305 60.0905 584.456 Q63.6872 587.607 70.212 587.607 Q76.7369 587.607 80.3653 584.456 Q83.9619 581.305 83.9619 575.608 Q83.9619 573.062 83.2935 570.579 Q82.5933 568.064 81.2247 565.582 L86.6355 565.582 Q87.7814 568.033 88.3543 570.674 Q88.9272 573.284 88.9272 576.244 Q88.9272 584.297 83.8664 589.039 Q78.8057 593.782 70.212 593.782 Q61.491 593.782 56.4939 589.008 Q51.4968 584.201 51.4968 575.862 Q51.4968 573.157 52.0697 570.579 Q52.6108 568.001 53.7248 565.582 Z\" fill=\"#000000\" fill-rule=\"evenodd\" fill-opacity=\"1\" /><path clip-path=\"url(#clip130)\" d=\"M 0 0 M42.2347 553.646 L52.3562 553.646 L52.3562 541.583 L56.9077 541.583 L56.9077 553.646 L76.2594 553.646 Q80.6199 553.646 81.8613 552.468 Q83.1026 551.259 83.1026 547.599 L83.1026 541.583 L88.0042 541.583 L88.0042 547.599 Q88.0042 554.378 85.4897 556.956 Q82.9434 559.534 76.2594 559.534 L56.9077 559.534 L56.9077 563.831 L52.3562 563.831 L52.3562 559.534 L42.2347 559.534 L42.2347 553.646 Z\" fill=\"#000000\" fill-rule=\"evenodd\" fill-opacity=\"1\" /><path clip-path=\"url(#clip130)\" d=\"M 0 0 M68.7161 504.948 L71.5806 504.948 L71.5806 531.875 Q77.6281 531.493 80.8109 528.247 Q83.9619 524.969 83.9619 519.144 Q83.9619 515.77 83.1344 512.619 Q82.3069 509.436 80.6518 506.317 L86.1899 506.317 Q87.5267 509.468 88.227 512.778 Q88.9272 516.088 88.9272 519.494 Q88.9272 528.024 83.9619 533.021 Q78.9967 537.986 70.5303 537.986 Q61.7774 537.986 56.6531 533.276 Q51.4968 528.533 51.4968 520.513 Q51.4968 513.319 56.1438 509.15 Q60.7589 504.948 68.7161 504.948 M66.9973 510.805 Q62.1912 510.869 59.3266 513.51 Q56.4621 516.12 56.4621 520.449 Q56.4621 525.351 59.2312 528.311 Q62.0002 531.239 67.0292 531.684 L66.9973 510.805 Z\" fill=\"#000000\" fill-rule=\"evenodd\" fill-opacity=\"1\" /><path clip-path=\"url(#clip130)\" d=\"M 0 0 M57.7671 475.348 L38.479 475.348 L38.479 469.491 L88.0042 469.491 L88.0042 475.348 L82.657 475.348 Q85.8398 477.194 87.3994 480.027 Q88.9272 482.828 88.9272 486.774 Q88.9272 493.236 83.771 497.31 Q78.6147 501.352 70.212 501.352 Q61.8093 501.352 56.6531 497.31 Q51.4968 493.236 51.4968 486.774 Q51.4968 482.828 53.0564 480.027 Q54.5842 477.194 57.7671 475.348 M70.212 495.304 Q76.6732 495.304 80.3653 492.663 Q84.0256 489.989 84.0256 485.342 Q84.0256 480.695 80.3653 478.022 Q76.6732 475.348 70.212 475.348 Q63.7508 475.348 60.0905 478.022 Q56.3984 480.695 56.3984 485.342 Q56.3984 489.989 60.0905 492.663 Q63.7508 495.304 70.212 495.304 Z\" fill=\"#000000\" fill-rule=\"evenodd\" fill-opacity=\"1\" /><polyline clip-path=\"url(#clip132)\" style=\"stroke:#009af9; stroke-width:4; stroke-opacity:1; fill:none\" points=\"\n",
       "  297.978,1384.24 318.129,1384.24 338.28,1384.24 358.43,1384.24 378.581,1364.77 398.732,1371.26 418.883,1371.26 439.034,1364.77 459.184,138.108 479.335,138.108 \n",
       "  499.486,138.108 519.637,138.108 539.788,118.637 559.938,138.108 580.089,138.108 600.24,105.656 620.391,138.108 640.542,138.108 660.693,138.108 680.843,118.637 \n",
       "  700.994,118.637 721.145,118.637 741.296,138.108 761.447,138.108 781.597,138.108 801.748,138.108 821.899,138.108 842.05,138.108 862.201,138.108 882.351,118.637 \n",
       "  902.502,138.108 922.653,138.108 942.804,138.108 962.955,138.108 983.105,138.108 1003.26,138.108 1023.41,138.108 1043.56,138.108 1063.71,138.108 1083.86,138.108 \n",
       "  1104.01,105.656 1124.16,138.108 1144.31,138.108 1164.46,86.1857 1184.61,118.637 1204.76,138.108 1224.92,105.656 1245.07,138.108 1265.22,138.108 1285.37,138.108 \n",
       "  1305.52,138.108 1325.67,138.108 1345.82,138.108 1365.97,138.108 1386.12,105.656 1406.27,138.108 1426.42,138.108 1446.57,138.108 1466.72,105.656 1486.88,138.108 \n",
       "  1507.03,138.108 1527.18,138.108 1547.33,138.108 1567.48,138.108 1587.63,138.108 1607.78,138.108 1627.93,138.108 1648.08,138.108 1668.23,105.656 1688.38,86.1857 \n",
       "  1708.53,138.108 1728.69,138.108 1748.84,138.108 1768.99,138.108 1789.14,138.108 1809.29,138.108 1829.44,138.108 1849.59,138.108 1869.74,138.108 1889.89,138.108 \n",
       "  1910.04,138.108 1930.19,138.108 1950.34,138.108 1970.5,118.637 1990.65,118.637 2010.8,138.108 2030.95,118.637 2051.1,138.108 2071.25,138.108 2091.4,105.656 \n",
       "  2111.55,138.108 2131.7,138.108 2151.85,138.108 2172,105.656 2192.15,138.108 2212.3,138.108 2232.46,138.108 2252.61,118.637 2272.76,138.108 2292.91,138.108 \n",
       "  \n",
       "  \"/>\n",
       "<polyline clip-path=\"url(#clip132)\" style=\"stroke:#e26f46; stroke-width:4; stroke-opacity:1; fill:none\" points=\"\n",
       "  297.978,1384.24 318.129,1384.24 338.28,1384.24 358.43,1384.24 378.581,1384.24 398.732,1384.24 418.883,1377.75 439.034,1364.77 459.184,86.1857 479.335,86.1857 \n",
       "  499.486,86.1857 519.637,86.1857 539.788,86.1857 559.938,86.1857 580.089,86.1857 600.24,86.1857 620.391,86.1857 640.542,86.1857 660.693,86.1857 680.843,86.1857 \n",
       "  700.994,86.1857 721.145,86.1857 741.296,86.1857 761.447,86.1857 781.597,86.1857 801.748,86.1857 821.899,86.1857 842.05,86.1857 862.201,86.1857 882.351,86.1857 \n",
       "  902.502,86.1857 922.653,86.1857 942.804,86.1857 962.955,86.1857 983.105,86.1857 1003.26,86.1857 1023.41,86.1857 1043.56,86.1857 1063.71,86.1857 1083.86,86.1857 \n",
       "  1104.01,86.1857 1124.16,86.1857 1144.31,86.1857 1164.46,86.1857 1184.61,86.1857 1204.76,86.1857 1224.92,86.1857 1245.07,86.1857 1265.22,86.1857 1285.37,86.1857 \n",
       "  1305.52,86.1857 1325.67,86.1857 1345.82,86.1857 1365.97,86.1857 1386.12,86.1857 1406.27,86.1857 1426.42,86.1857 1446.57,86.1857 1466.72,86.1857 1486.88,86.1857 \n",
       "  1507.03,86.1857 1527.18,86.1857 1547.33,86.1857 1567.48,86.1857 1587.63,86.1857 1607.78,86.1857 1627.93,86.1857 1648.08,86.1857 1668.23,86.1857 1688.38,86.1857 \n",
       "  1708.53,86.1857 1728.69,86.1857 1748.84,86.1857 1768.99,86.1857 1789.14,86.1857 1809.29,86.1857 1829.44,86.1857 1849.59,86.1857 1869.74,86.1857 1889.89,86.1857 \n",
       "  1910.04,86.1857 1930.19,86.1857 1950.34,86.1857 1970.5,86.1857 1990.65,86.1857 2010.8,86.1857 2030.95,86.1857 2051.1,86.1857 2071.25,86.1857 2091.4,86.1857 \n",
       "  2111.55,86.1857 2131.7,86.1857 2151.85,86.1857 2172,86.1857 2192.15,86.1857 2212.3,86.1857 2232.46,86.1857 2252.61,86.1857 2272.76,86.1857 2292.91,86.1857 \n",
       "  \n",
       "  \"/>\n",
       "<polyline clip-path=\"url(#clip132)\" style=\"stroke:#3da44d; stroke-width:4; stroke-opacity:1; fill:none\" points=\"\n",
       "  297.978,1384.24 318.129,1384.24 338.28,1384.24 358.43,1384.24 378.581,1384.24 398.732,1377.75 418.883,1377.75 439.034,1371.26 459.184,1377.75 479.335,86.1857 \n",
       "  499.486,86.1857 519.637,86.1857 539.788,86.1857 559.938,86.1857 580.089,86.1857 600.24,86.1857 620.391,86.1857 640.542,86.1857 660.693,86.1857 680.843,86.1857 \n",
       "  700.994,86.1857 721.145,86.1857 741.296,86.1857 761.447,86.1857 781.597,86.1857 801.748,86.1857 821.899,86.1857 842.05,86.1857 862.201,86.1857 882.351,86.1857 \n",
       "  902.502,86.1857 922.653,86.1857 942.804,86.1857 962.955,86.1857 983.105,86.1857 1003.26,86.1857 1023.41,86.1857 1043.56,86.1857 1063.71,86.1857 1083.86,86.1857 \n",
       "  1104.01,86.1857 1124.16,86.1857 1144.31,86.1857 1164.46,86.1857 1184.61,86.1857 1204.76,86.1857 1224.92,86.1857 1245.07,86.1857 1265.22,86.1857 1285.37,86.1857 \n",
       "  1305.52,86.1857 1325.67,86.1857 1345.82,86.1857 1365.97,86.1857 1386.12,86.1857 1406.27,86.1857 1426.42,86.1857 1446.57,86.1857 1466.72,86.1857 1486.88,86.1857 \n",
       "  1507.03,86.1857 1527.18,86.1857 1547.33,86.1857 1567.48,86.1857 1587.63,86.1857 1607.78,86.1857 1627.93,86.1857 1648.08,86.1857 1668.23,86.1857 1688.38,86.1857 \n",
       "  1708.53,86.1857 1728.69,86.1857 1748.84,86.1857 1768.99,86.1857 1789.14,86.1857 1809.29,86.1857 1829.44,86.1857 1849.59,86.1857 1869.74,86.1857 1889.89,86.1857 \n",
       "  1910.04,86.1857 1930.19,86.1857 1950.34,86.1857 1970.5,86.1857 1990.65,86.1857 2010.8,86.1857 2030.95,86.1857 2051.1,86.1857 2071.25,86.1857 2091.4,86.1857 \n",
       "  2111.55,86.1857 2131.7,86.1857 2151.85,86.1857 2172,86.1857 2192.15,86.1857 2212.3,86.1857 2232.46,86.1857 2252.61,86.1857 2272.76,86.1857 2292.91,86.1857 \n",
       "  \n",
       "  \"/>\n",
       "<path clip-path=\"url(#clip130)\" d=\"\n",
       "M1995.71 335.029 L2282.27 335.029 L2282.27 93.1086 L1995.71 93.1086  Z\n",
       "  \" fill=\"#ffffff\" fill-rule=\"evenodd\" fill-opacity=\"1\"/>\n",
       "<polyline clip-path=\"url(#clip130)\" style=\"stroke:#000000; stroke-width:4; stroke-opacity:1; fill:none\" points=\"\n",
       "  1995.71,335.029 2282.27,335.029 2282.27,93.1086 1995.71,93.1086 1995.71,335.029 \n",
       "  \"/>\n",
       "<polyline clip-path=\"url(#clip130)\" style=\"stroke:#009af9; stroke-width:4; stroke-opacity:1; fill:none\" points=\"\n",
       "  2019.21,153.589 2160.18,153.589 \n",
       "  \"/>\n",
       "<path clip-path=\"url(#clip130)\" d=\"M 0 0 M2197.52 173.276 Q2195.72 177.906 2194 179.318 Q2192.29 180.73 2189.42 180.73 L2186.02 180.73 L2186.02 177.165 L2188.52 177.165 Q2190.28 177.165 2191.25 176.332 Q2192.22 175.498 2193.4 172.396 L2194.17 170.452 L2183.68 144.943 L2188.19 144.943 L2196.3 165.221 L2204.4 144.943 L2208.91 144.943 L2197.52 173.276 Z\" fill=\"#000000\" fill-rule=\"evenodd\" fill-opacity=\"1\" /><path clip-path=\"url(#clip130)\" d=\"M 0 0 M2214.79 166.933 L2222.43 166.933 L2222.43 140.568 L2214.12 142.235 L2214.12 137.975 L2222.38 136.309 L2227.06 136.309 L2227.06 166.933 L2234.7 166.933 L2234.7 170.869 L2214.79 170.869 L2214.79 166.933 Z\" fill=\"#000000\" fill-rule=\"evenodd\" fill-opacity=\"1\" /><polyline clip-path=\"url(#clip130)\" style=\"stroke:#e26f46; stroke-width:4; stroke-opacity:1; fill:none\" points=\"\n",
       "  2019.21,214.069 2160.18,214.069 \n",
       "  \"/>\n",
       "<path clip-path=\"url(#clip130)\" d=\"M 0 0 M2197.52 233.756 Q2195.72 238.386 2194 239.798 Q2192.29 241.21 2189.42 241.21 L2186.02 241.21 L2186.02 237.645 L2188.52 237.645 Q2190.28 237.645 2191.25 236.812 Q2192.22 235.978 2193.4 232.876 L2194.17 230.932 L2183.68 205.423 L2188.19 205.423 L2196.3 225.701 L2204.4 205.423 L2208.91 205.423 L2197.52 233.756 Z\" fill=\"#000000\" fill-rule=\"evenodd\" fill-opacity=\"1\" /><path clip-path=\"url(#clip130)\" d=\"M 0 0 M2218.01 227.413 L2234.33 227.413 L2234.33 231.349 L2212.38 231.349 L2212.38 227.413 Q2215.05 224.659 2219.63 220.029 Q2224.24 215.376 2225.42 214.034 Q2227.66 211.511 2228.54 209.775 Q2229.44 208.015 2229.44 206.326 Q2229.44 203.571 2227.5 201.835 Q2225.58 200.099 2222.48 200.099 Q2220.28 200.099 2217.82 200.863 Q2215.39 201.627 2212.61 203.177 L2212.61 198.455 Q2215.44 197.321 2217.89 196.742 Q2220.35 196.164 2222.38 196.164 Q2227.75 196.164 2230.95 198.849 Q2234.14 201.534 2234.14 206.025 Q2234.14 208.154 2233.33 210.076 Q2232.55 211.974 2230.44 214.566 Q2229.86 215.238 2226.76 218.455 Q2223.66 221.65 2218.01 227.413 Z\" fill=\"#000000\" fill-rule=\"evenodd\" fill-opacity=\"1\" /><polyline clip-path=\"url(#clip130)\" style=\"stroke:#3da44d; stroke-width:4; stroke-opacity:1; fill:none\" points=\"\n",
       "  2019.21,274.549 2160.18,274.549 \n",
       "  \"/>\n",
       "<path clip-path=\"url(#clip130)\" d=\"M 0 0 M2197.52 294.236 Q2195.72 298.866 2194 300.278 Q2192.29 301.69 2189.42 301.69 L2186.02 301.69 L2186.02 298.125 L2188.52 298.125 Q2190.28 298.125 2191.25 297.292 Q2192.22 296.458 2193.4 293.356 L2194.17 291.412 L2183.68 265.903 L2188.19 265.903 L2196.3 286.181 L2204.4 265.903 L2208.91 265.903 L2197.52 294.236 Z\" fill=\"#000000\" fill-rule=\"evenodd\" fill-opacity=\"1\" /><path clip-path=\"url(#clip130)\" d=\"M 0 0 M2228.15 273.194 Q2231.5 273.912 2233.38 276.181 Q2235.28 278.449 2235.28 281.782 Q2235.28 286.898 2231.76 289.699 Q2228.24 292.5 2221.76 292.5 Q2219.58 292.5 2217.27 292.06 Q2214.98 291.643 2212.52 290.787 L2212.52 286.273 Q2214.47 287.407 2216.78 287.986 Q2219.1 288.565 2221.62 288.565 Q2226.02 288.565 2228.31 286.829 Q2230.62 285.093 2230.62 281.782 Q2230.62 278.727 2228.47 277.014 Q2226.34 275.278 2222.52 275.278 L2218.49 275.278 L2218.49 271.435 L2222.71 271.435 Q2226.16 271.435 2227.99 270.069 Q2229.81 268.681 2229.81 266.088 Q2229.81 263.426 2227.92 262.014 Q2226.04 260.579 2222.52 260.579 Q2220.6 260.579 2218.4 260.995 Q2216.2 261.412 2213.56 262.292 L2213.56 258.125 Q2216.23 257.384 2218.54 257.014 Q2220.88 256.644 2222.94 256.644 Q2228.26 256.644 2231.36 259.074 Q2234.47 261.482 2234.47 265.602 Q2234.47 268.472 2232.82 270.463 Q2231.18 272.431 2228.15 273.194 Z\" fill=\"#000000\" fill-rule=\"evenodd\" fill-opacity=\"1\" /></svg>\n"
      ]
     },
     "metadata": {},
     "output_type": "display_data"
    }
   ],
   "source": [
    "# Plots of the maximum percentage of infected people according to tau over 300 time \n",
    "# steps for 3 contact networks.\n",
    "\n",
    "samples = 100\n",
    "initial_infected = 5\n",
    "\n",
    "graph1 = random_regular_graph(200, 2)\n",
    "graph2 = random_regular_graph(200, 5)\n",
    "graph3 = random_regular_graph(200, 10)\n",
    "\n",
    "alphas=[10 for i in 1:samples]\n",
    "betas=[i*0.1 for i in 1:samples]\n",
    "taus = betas ./ alphas\n",
    "\n",
    "prediction1, ~ = Simulation_SIS(graph1, initial_infected, betas, alphas, 300, 1)\n",
    "prediction2, ~ = Simulation_SIS(graph2, initial_infected, betas, alphas, 300, 1)\n",
    "prediction3, ~ = Simulation_SIS(graph3, initial_infected, betas, alphas, 300, 1)\n",
    "\n",
    "output = zeros(samples, 3)\n",
    "\n",
    "# calculate the maximum percentage of infected people for each tau\n",
    "output[:, 1] = [findmax(prediction1[:,i])[1] for i in 1:samples]\n",
    "output[:, 2] = [findmax(prediction2[:,i])[1] for i in 1:samples]\n",
    "output[:, 3] = [findmax(prediction3[:,i])[1] for i in 1:samples]\n",
    "\n",
    "# plot the results\n",
    "Plots.plot(taus, output, xlabel=\"Tau\",ylabel=\"Max % of infected\")\n",
    "savefig(\"out/max_infected.png\") # comment this line if you want to see the plot"
   ]
  },
  {
   "cell_type": "markdown",
   "metadata": {},
   "source": [
    "<div style=\"width:75%;margin:0 auto;\">\n",
    "\n",
    "<strong style=\"color:cadetblue\">Question 9 (written):</strong> Describe the figure and draw conclusions on the epidemic behavior for different degrees $d$ on regular graphs. Thus, in addition of the inner properties of the disease ($\\alpha$, $\\beta$, $\\tau$) what other parameter is essential in the spreading ? Finally, what analogy can be done with real life from this experiment ?\n",
    "    \n",
    "<br>\n",
    "    \n",
    "The figure shows us that the higher the degree of the graph, the easier it is for the disease to spread, as the vertices are more connected.\n",
    "\n",
    "However, this is not the only decisive factor, as we can clearly see that the effective spreading rate $\\tau$ has a strong influence on whether the disease manages to infect the population or not. \n",
    "\n",
    "This simulation makes it clear that social distancing, and the infection to recovery probability ratio, are the two most important factors in the spreading of a disease.\n",
    "\n",
    "</div>\n"
   ]
  },
  {
   "cell_type": "markdown",
   "metadata": {},
   "source": [
    "<div style=\"width:75%;margin:0 auto;\">\n",
    "\n",
    "## Part 2 - SIR and SAIR model\n",
    "<a id='part2'></a>\n",
    "\n",
    "Unfortunately SIS model is valuable for diseases we can catch back since a cured person can get ill again. This is true for the flu, the cold, etc. However COVID-19 might create immunity for whom already got it and SIS can not take into account immune or dead persons. That is why we propose in this part to consider another model more adapted to COVID-19 called SIR. It stands for Susceptible $\\rightarrow$ Infected $\\rightarrow$ Recovered where the susceptible group contains those who remain susceptible to the infection, the infected group consists of those who not only have the disease but are also in the contagious period of the disease, and the recovered group contains those who were ill, got cured, are not contagious and can not get ill anymore.\n",
    "\n",
    "<br/>\n",
    "\n",
    "<p style=\"font-size:0.9em\">M. Youssef and C. Scoglio, <cite>\"An individual-based approach to SIR epidemics in contact networks\"</cite>, Journal of Theoretical Biology 283 (2011)</p>\n",
    "\n",
    "<br/>\n",
    "    \n",
    "One limitation of SIR is that it does not model the reaction of humans when they feel the presence of the epidemic. Indeed, if feeling threatened or surrounded by infected, an individual may change its behaviors: wear mask, wash its hands, etc. This result in a smaller infection rate. That is why in this part we will also consider a variant of SIR called SAIR which stands for Susceptible $\\rightarrow$ Alert $\\rightarrow$ Infected $\\rightarrow$ Recovered. A susceptible individual becomes infected by the infection rate $\\beta_0$, an infected individual recovers and gets immune by the curing rate $\\alpha$, an individual can observe the states of its neighbors, then a susceptible individual might go to the alert state if surrounded by infected individuals with an alert rate $\\kappa$ on each contact with an infected, an alert inividual becomes infected by the infection rate $\\beta_1$ where $0<\\beta_1<\\beta_0$. In our simple SAIR model, an individual can not go back to a susceptible state when he got into the alert state.\n",
    "    \n",
    "<br/>\n",
    "    \n",
    "<p style=\"font-size:0.9em\"> F. Darabi Sahneh and C. Scoglio, <cite>\"Epidemic Spread in Human Networks\"</cite>, 50th IEEE Conf. Decision and Contol, Orlando, Florida (2011)</p>\n",
    "\n",
    "</div>\n"
   ]
  },
  {
   "cell_type": "markdown",
   "metadata": {},
   "source": [
    "<div style=\"width:75%;margin:0 auto;\">\n",
    "\n",
    "### 2.1 SIR\n",
    "    \n",
    "<p style=\"text-align:justify;\">The vector containing the disease status <code>state</code> has to change a bit since we added a new state. Hence it will be an <code>Array{Int32,1}</code> where Susceptible=0, Infected=1, and Recovered=2.</p>\n",
    "</div>\n"
   ]
  },
  {
   "cell_type": "markdown",
   "metadata": {},
   "source": [
    "<div style=\"width:75%;margin:0 auto;\">\n",
    "    \n",
    "<strong style=\"color:cornflowerblue\">Question 10 (code):</strong> Implement the <code>function SIR</code> (respect the header and the specifications). You can use <code>rand</code> to translate the probabilities. Test your algorithm on <code>karat7</code>, <code>n7_2A</code>, and <code>toulouse_neigh</code> with arbitrary $\\beta$, $\\alpha$, and $t$. Recovered vertices should appear in a different color (<code>colorant\"purple\"</code>).\n",
    "    \n",
    "<span style=\"font-size:0.9em\">The corrector should be able to write <code>new_state = SIR(net,state,beta,alpha,t)</code> with your code.</span>\n",
    "</div>\n"
   ]
  },
  {
   "cell_type": "code",
   "execution_count": 97,
   "metadata": {},
   "outputs": [
    {
     "data": {
      "text/plain": [
       "Simulation_SIR"
      ]
     },
     "metadata": {},
     "output_type": "display_data"
    }
   ],
   "source": [
    "# Code can be found in sir.jl\n",
    "include(\"sir.jl\")"
   ]
  },
  {
   "cell_type": "code",
   "execution_count": 98,
   "metadata": {},
   "outputs": [],
   "source": [
    "# Test on Karat7\n",
    "nombre_infecte = 1\n",
    "karat7 = smallgraph(:karate)\n",
    "state = init_State(nv(karat7), nombre_infecte)\n",
    "beta = 0.1\n",
    "alpha = 0.3\n",
    "t = 10\n",
    "state = SIR(karat7,state,beta,alpha,t)\n",
    "draw_Net_Graph(karat7, state, \"SIR_karat7.png\")"
   ]
  },
  {
   "cell_type": "code",
   "execution_count": 87,
   "metadata": {},
   "outputs": [],
   "source": [
    "# Test on N7_2A\n",
    "nombre_infecte = 3\n",
    "c=[[10,0,0] [0.1,10,0] [0.1,0.1,10]]\n",
    "n=[100,70,50]\n",
    "n7_2A = stochastic_block_model(c,n)\n",
    "state = init_State(nv(n7_2A), nombre_infecte)\n",
    "beta = 0.1\n",
    "alpha = 0.5\n",
    "t = 10\n",
    "state = SIR(n7_2A,state,beta,alpha,t)\n",
    "draw_Net_Graph(n7_2A, state, \"SIR_n7_2A.png\")"
   ]
  },
  {
   "cell_type": "code",
   "execution_count": 88,
   "metadata": {},
   "outputs": [],
   "source": [
    "# Test on Toulouse_neigh\n",
    "nombre_infecte = 10\n",
    "toulouse_neigh = barabasi_albert(1000, 1)\n",
    "state = init_State(nv(toulouse_neigh), nombre_infecte)\n",
    "beta = 0.1\n",
    "alpha = 0.5\n",
    "t = 20\n",
    "state = SIR(toulouse_neigh,state,beta,alpha,t)\n",
    "draw_Net_Graph(toulouse_neigh, state, \"SIR_toulouse_neigh.png\")"
   ]
  },
  {
   "cell_type": "markdown",
   "metadata": {},
   "source": [
    "<div style=\"width:75%;margin:0 auto;\">\n",
    "    \n",
    "<strong style=\"color:cornflowerblue\">Question 11 (code):</strong> Implement the <code>function Simulation_SIR</code> (respect the header and the specifications).\n",
    "    \n",
    "<span style=\"font-size:0.9em\">The corrector should be able to write <code>predictions, taus = Simulation_SIR(net,nbinf,betas,alphas,t,nbsimu)</code> with your code.</span>"
   ]
  },
  {
   "cell_type": "markdown",
   "metadata": {},
   "source": [
    "<div style=\"width:75%;margin:0 auto;\">\n",
    "\n",
    "<strong style=\"color:cadetblue\">Question 12 (written):</strong> Run the script below and describe what you see. Why the infected curve does not behave the same as for SIS ? \n",
    "    \n",
    "<br>\n",
    "\n",
    "Dans le cas du modèle SIS, toute personne soigné peut être à nouveau infecté, donc le taux d'infection va tendre vers une valeure non nulle si alpha n'est pas trop grand comparé à beta. Tandis que pour le modèle SIR, une personne infecté finira par être soigné et ne pourra plus être infecté donc la courbe converge vers 0 personnes infectées."
   ]
  },
  {
   "cell_type": "code",
   "execution_count": 104,
   "metadata": {},
   "outputs": [
    {
     "data": {
      "image/png": "[encoded data removed]",
      "image/svg+xml": "<?xml version=\"1.0\" encoding=\"utf-8\"?>\n<svg xmlns=\"http://www.w3.org/2000/svg\" xmlns:xlink=\"http://www.w3.org/1999/xlink\" width=\"600\" height=\"400\" viewBox=\"0 0 2400 1600\">\n<defs>\n  <clipPath id=\"clip380\">\n    <rect x=\"0\" y=\"0\" width=\"2400\" height=\"1600\"/>\n  </clipPath>\n</defs>\n<path clip-path=\"url(#clip380)\" d=\"\nM0 1600 L2400 1600 L2400 0 L0 0  Z\n  \" fill=\"#ffffff\" fill-rule=\"evenodd\" fill-opacity=\"1\"/>\n<defs>\n  <clipPath id=\"clip381\">\n    <rect x=\"480\" y=\"0\" width=\"1681\" height=\"1600\"/>\n  </clipPath>\n</defs>\n<path clip-path=\"url(#clip380)\" d=\"\nM319.171 1423.18 L2352.76 1423.18 L2352.76 47.2441 L319.171 47.2441  Z\n  \" fill=\"#ffffff\" fill-rule=\"evenodd\" fill-opacity=\"1\"/>\n<defs>\n  <clipPath id=\"clip382\">\n    <rect x=\"319\" y=\"47\" width=\"2035\" height=\"1377\"/>\n  </clipPath>\n</defs>\n<polyline clip-path=\"url(#clip382)\" style=\"stroke:#000000; stroke-width:2; stroke-opacity:0.1; fill:none\" points=\"\n  337.573,1423.18 337.573,47.2441 \n  \"/>\n<polyline clip-path=\"url(#clip382)\" style=\"stroke:#000000; stroke-width:2; stroke-opacity:0.1; fill:none\" points=\"\n  729.099,1423.18 729.099,47.2441 \n  \"/>\n<polyline clip-path=\"url(#clip382)\" style=\"stroke:#000000; stroke-width:2; stroke-opacity:0.1; fill:none\" points=\"\n  1120.62,1423.18 1120.62,47.2441 \n  \"/>\n<polyline clip-path=\"url(#clip382)\" style=\"stroke:#000000; stroke-width:2; stroke-opacity:0.1; fill:none\" points=\"\n  1512.15,1423.18 1512.15,47.2441 \n  \"/>\n<polyline clip-path=\"url(#clip382)\" style=\"stroke:#000000; stroke-width:2; stroke-opacity:0.1; fill:none\" points=\"\n  1903.68,1423.18 1903.68,47.2441 \n  \"/>\n<polyline clip-path=\"url(#clip382)\" style=\"stroke:#000000; stroke-width:2; stroke-opacity:0.1; fill:none\" points=\"\n  2295.2,1423.18 2295.2,47.2441 \n  \"/>\n<polyline clip-path=\"url(#clip380)\" style=\"stroke:#000000; stroke-width:4; stroke-opacity:1; fill:none\" points=\"\n  319.171,1423.18 2352.76,1423.18 \n  \"/>\n<polyline clip-path=\"url(#clip380)\" style=\"stroke:#000000; stroke-width:4; stroke-opacity:1; fill:none\" points=\"\n  337.573,1423.18 337.573,1406.67 \n  \"/>\n<polyline clip-path=\"url(#clip380)\" style=\"stroke:#000000; stroke-width:4; stroke-opacity:1; fill:none\" points=\"\n  729.099,1423.18 729.099,1406.67 \n  \"/>\n<polyline clip-path=\"url(#clip380)\" style=\"stroke:#000000; stroke-width:4; stroke-opacity:1; fill:none\" points=\"\n  1120.62,1423.18 1120.62,1406.67 \n  \"/>\n<polyline clip-path=\"url(#clip380)\" style=\"stroke:#000000; stroke-width:4; stroke-opacity:1; fill:none\" points=\"\n  1512.15,1423.18 1512.15,1406.67 \n  \"/>\n<polyline clip-path=\"url(#clip380)\" style=\"stroke:#000000; stroke-width:4; stroke-opacity:1; fill:none\" points=\"\n  1903.68,1423.18 1903.68,1406.67 \n  \"/>\n<polyline clip-path=\"url(#clip380)\" style=\"stroke:#000000; stroke-width:4; stroke-opacity:1; fill:none\" points=\"\n  2295.2,1423.18 2295.2,1406.67 \n  \"/>\n<path clip-path=\"url(#clip380)\" d=\"M 0 0 M337.573 1452.37 Q333.962 1452.37 332.133 1455.94 Q330.328 1459.48 330.328 1466.61 Q330.328 1473.71 332.133 1477.28 Q333.962 1480.82 337.573 1480.82 Q341.207 1480.82 343.013 1477.28 Q344.841 1473.71 344.841 1466.61 Q344.841 1459.48 343.013 1455.94 Q341.207 1452.37 337.573 1452.37 M337.573 1448.67 Q343.383 1448.67 346.439 1453.27 Q349.517 1457.86 349.517 1466.61 Q349.517 1475.33 346.439 1479.94 Q343.383 1484.52 337.573 1484.52 Q331.763 1484.52 328.684 1479.94 Q325.629 1475.33 325.629 1466.61 Q325.629 1457.86 328.684 1453.27 Q331.763 1448.67 337.573 1448.67 Z\" fill=\"#000000\" fill-rule=\"evenodd\" fill-opacity=\"1\" /><path clip-path=\"url(#clip380)\" d=\"M 0 0 M705.974 1479.92 L713.613 1479.92 L713.613 1453.55 L705.303 1455.22 L705.303 1450.96 L713.566 1449.29 L718.242 1449.29 L718.242 1479.92 L725.881 1479.92 L725.881 1483.85 L705.974 1483.85 L705.974 1479.92 Z\" fill=\"#000000\" fill-rule=\"evenodd\" fill-opacity=\"1\" /><path clip-path=\"url(#clip380)\" d=\"M 0 0 M740.951 1452.37 Q737.339 1452.37 735.511 1455.94 Q733.705 1459.48 733.705 1466.61 Q733.705 1473.71 735.511 1477.28 Q737.339 1480.82 740.951 1480.82 Q744.585 1480.82 746.39 1477.28 Q748.219 1473.71 748.219 1466.61 Q748.219 1459.48 746.39 1455.94 Q744.585 1452.37 740.951 1452.37 M740.951 1448.67 Q746.761 1448.67 749.816 1453.27 Q752.895 1457.86 752.895 1466.61 Q752.895 1475.33 749.816 1479.94 Q746.761 1484.52 740.951 1484.52 Q735.14 1484.52 732.062 1479.94 Q729.006 1475.33 729.006 1466.61 Q729.006 1457.86 732.062 1453.27 Q735.14 1448.67 740.951 1448.67 Z\" fill=\"#000000\" fill-rule=\"evenodd\" fill-opacity=\"1\" /><path clip-path=\"url(#clip380)\" d=\"M 0 0 M1101.77 1479.92 L1118.09 1479.92 L1118.09 1483.85 L1096.15 1483.85 L1096.15 1479.92 Q1098.81 1477.16 1103.39 1472.53 Q1108 1467.88 1109.18 1466.54 Q1111.42 1464.01 1112.3 1462.28 Q1113.21 1460.52 1113.21 1458.83 Q1113.21 1456.07 1111.26 1454.34 Q1109.34 1452.6 1106.24 1452.6 Q1104.04 1452.6 1101.59 1453.37 Q1099.15 1454.13 1096.38 1455.68 L1096.38 1450.96 Q1099.2 1449.82 1101.65 1449.25 Q1104.11 1448.67 1106.15 1448.67 Q1111.52 1448.67 1114.71 1451.35 Q1117.9 1454.04 1117.9 1458.53 Q1117.9 1460.66 1117.09 1462.58 Q1116.31 1464.48 1114.2 1467.07 Q1113.62 1467.74 1110.52 1470.96 Q1107.42 1474.15 1101.77 1479.92 Z\" fill=\"#000000\" fill-rule=\"evenodd\" fill-opacity=\"1\" /><path clip-path=\"url(#clip380)\" d=\"M 0 0 M1133.16 1452.37 Q1129.55 1452.37 1127.72 1455.94 Q1125.91 1459.48 1125.91 1466.61 Q1125.91 1473.71 1127.72 1477.28 Q1129.55 1480.82 1133.16 1480.82 Q1136.79 1480.82 1138.6 1477.28 Q1140.43 1473.71 1140.43 1466.61 Q1140.43 1459.48 1138.6 1455.94 Q1136.79 1452.37 1133.16 1452.37 M1133.16 1448.67 Q1138.97 1448.67 1142.02 1453.27 Q1145.1 1457.86 1145.1 1466.61 Q1145.1 1475.33 1142.02 1479.94 Q1138.97 1484.52 1133.16 1484.52 Q1127.35 1484.52 1124.27 1479.94 Q1121.21 1475.33 1121.21 1466.61 Q1121.21 1457.86 1124.27 1453.27 Q1127.35 1448.67 1133.16 1448.67 Z\" fill=\"#000000\" fill-rule=\"evenodd\" fill-opacity=\"1\" /><path clip-path=\"url(#clip380)\" d=\"M 0 0 M1502.89 1465.22 Q1506.25 1465.94 1508.12 1468.2 Q1510.02 1470.47 1510.02 1473.81 Q1510.02 1478.92 1506.5 1481.72 Q1502.98 1484.52 1496.5 1484.52 Q1494.33 1484.52 1492.01 1484.08 Q1489.72 1483.67 1487.27 1482.81 L1487.27 1478.3 Q1489.21 1479.43 1491.53 1480.01 Q1493.84 1480.59 1496.36 1480.59 Q1500.76 1480.59 1503.05 1478.85 Q1505.37 1477.12 1505.37 1473.81 Q1505.37 1470.75 1503.22 1469.04 Q1501.09 1467.3 1497.27 1467.3 L1493.24 1467.3 L1493.24 1463.46 L1497.45 1463.46 Q1500.9 1463.46 1502.73 1462.09 Q1504.56 1460.7 1504.56 1458.11 Q1504.56 1455.45 1502.66 1454.04 Q1500.78 1452.6 1497.27 1452.6 Q1495.34 1452.6 1493.15 1453.02 Q1490.95 1453.44 1488.31 1454.31 L1488.31 1450.15 Q1490.97 1449.41 1493.28 1449.04 Q1495.62 1448.67 1497.68 1448.67 Q1503.01 1448.67 1506.11 1451.1 Q1509.21 1453.5 1509.21 1457.63 Q1509.21 1460.5 1507.57 1462.49 Q1505.92 1464.45 1502.89 1465.22 Z\" fill=\"#000000\" fill-rule=\"evenodd\" fill-opacity=\"1\" /><path clip-path=\"url(#clip380)\" d=\"M 0 0 M1525.09 1452.37 Q1521.48 1452.37 1519.65 1455.94 Q1517.84 1459.48 1517.84 1466.61 Q1517.84 1473.71 1519.65 1477.28 Q1521.48 1480.82 1525.09 1480.82 Q1528.72 1480.82 1530.53 1477.28 Q1532.36 1473.71 1532.36 1466.61 Q1532.36 1459.48 1530.53 1455.94 Q1528.72 1452.37 1525.09 1452.37 M1525.09 1448.67 Q1530.9 1448.67 1533.96 1453.27 Q1537.03 1457.86 1537.03 1466.61 Q1537.03 1475.33 1533.96 1479.94 Q1530.9 1484.52 1525.09 1484.52 Q1519.28 1484.52 1516.2 1479.94 Q1513.15 1475.33 1513.15 1466.61 Q1513.15 1457.86 1516.2 1453.27 Q1519.28 1448.67 1525.09 1448.67 Z\" fill=\"#000000\" fill-rule=\"evenodd\" fill-opacity=\"1\" /><path clip-path=\"url(#clip380)\" d=\"M 0 0 M1893.18 1453.37 L1881.37 1471.81 L1893.18 1471.81 L1893.18 1453.37 M1891.95 1449.29 L1897.83 1449.29 L1897.83 1471.81 L1902.76 1471.81 L1902.76 1475.7 L1897.83 1475.7 L1897.83 1483.85 L1893.18 1483.85 L1893.18 1475.7 L1877.58 1475.7 L1877.58 1471.19 L1891.95 1449.29 Z\" fill=\"#000000\" fill-rule=\"evenodd\" fill-opacity=\"1\" /><path clip-path=\"url(#clip380)\" d=\"M 0 0 M1917.83 1452.37 Q1914.22 1452.37 1912.39 1455.94 Q1910.59 1459.48 1910.59 1466.61 Q1910.59 1473.71 1912.39 1477.28 Q1914.22 1480.82 1917.83 1480.82 Q1921.47 1480.82 1923.27 1477.28 Q1925.1 1473.71 1925.1 1466.61 Q1925.1 1459.48 1923.27 1455.94 Q1921.47 1452.37 1917.83 1452.37 M1917.83 1448.67 Q1923.64 1448.67 1926.7 1453.27 Q1929.78 1457.86 1929.78 1466.61 Q1929.78 1475.33 1926.7 1479.94 Q1923.64 1484.52 1917.83 1484.52 Q1912.02 1484.52 1908.94 1479.94 Q1905.89 1475.33 1905.89 1466.61 Q1905.89 1457.86 1908.94 1453.27 Q1912.02 1448.67 1917.83 1448.67 Z\" fill=\"#000000\" fill-rule=\"evenodd\" fill-opacity=\"1\" /><path clip-path=\"url(#clip380)\" d=\"M 0 0 M2271.97 1449.29 L2290.33 1449.29 L2290.33 1453.23 L2276.25 1453.23 L2276.25 1461.7 Q2277.27 1461.35 2278.29 1461.19 Q2279.31 1461 2280.33 1461 Q2286.12 1461 2289.5 1464.18 Q2292.88 1467.35 2292.88 1472.76 Q2292.88 1478.34 2289.4 1481.44 Q2285.93 1484.52 2279.61 1484.52 Q2277.44 1484.52 2275.17 1484.15 Q2272.92 1483.78 2270.51 1483.04 L2270.51 1478.34 Q2272.6 1479.48 2274.82 1480.03 Q2277.04 1480.59 2279.52 1480.59 Q2283.52 1480.59 2285.86 1478.48 Q2288.2 1476.38 2288.2 1472.76 Q2288.2 1469.15 2285.86 1467.05 Q2283.52 1464.94 2279.52 1464.94 Q2277.64 1464.94 2275.77 1465.36 Q2273.92 1465.77 2271.97 1466.65 L2271.97 1449.29 Z\" fill=\"#000000\" fill-rule=\"evenodd\" fill-opacity=\"1\" /><path clip-path=\"url(#clip380)\" d=\"M 0 0 M2307.94 1452.37 Q2304.33 1452.37 2302.5 1455.94 Q2300.7 1459.48 2300.7 1466.61 Q2300.7 1473.71 2302.5 1477.28 Q2304.33 1480.82 2307.94 1480.82 Q2311.58 1480.82 2313.38 1477.28 Q2315.21 1473.71 2315.21 1466.61 Q2315.21 1459.48 2313.38 1455.94 Q2311.58 1452.37 2307.94 1452.37 M2307.94 1448.67 Q2313.75 1448.67 2316.81 1453.27 Q2319.89 1457.86 2319.89 1466.61 Q2319.89 1475.33 2316.81 1479.94 Q2313.75 1484.52 2307.94 1484.52 Q2302.13 1484.52 2299.06 1479.94 Q2296 1475.33 2296 1466.61 Q2296 1457.86 2299.06 1453.27 Q2302.13 1448.67 2307.94 1448.67 Z\" fill=\"#000000\" fill-rule=\"evenodd\" fill-opacity=\"1\" /><path clip-path=\"url(#clip380)\" d=\"M 0 0 M1335.02 1510.27 L1335.02 1520.4 L1347.09 1520.4 L1347.09 1524.95 L1335.02 1524.95 L1335.02 1544.3 Q1335.02 1548.66 1336.2 1549.9 Q1337.41 1551.14 1341.07 1551.14 L1347.09 1551.14 L1347.09 1556.04 L1341.07 1556.04 Q1334.29 1556.04 1331.71 1553.53 Q1329.14 1550.98 1329.14 1544.3 L1329.14 1524.95 L1324.84 1524.95 L1324.84 1520.4 L1329.14 1520.4 L1329.14 1510.27 L1335.02 1510.27 Z\" fill=\"#000000\" fill-rule=\"evenodd\" fill-opacity=\"1\" /><polyline clip-path=\"url(#clip382)\" style=\"stroke:#000000; stroke-width:2; stroke-opacity:0.1; fill:none\" points=\"\n  319.171,1384.24 2352.76,1384.24 \n  \"/>\n<polyline clip-path=\"url(#clip382)\" style=\"stroke:#000000; stroke-width:2; stroke-opacity:0.1; fill:none\" points=\"\n  319.171,1061.2 2352.76,1061.2 \n  \"/>\n<polyline clip-path=\"url(#clip382)\" style=\"stroke:#000000; stroke-width:2; stroke-opacity:0.1; fill:none\" points=\"\n  319.171,738.162 2352.76,738.162 \n  \"/>\n<polyline clip-path=\"url(#clip382)\" style=\"stroke:#000000; stroke-width:2; stroke-opacity:0.1; fill:none\" points=\"\n  319.171,415.124 2352.76,415.124 \n  \"/>\n<polyline clip-path=\"url(#clip382)\" style=\"stroke:#000000; stroke-width:2; stroke-opacity:0.1; fill:none\" points=\"\n  319.171,92.0858 2352.76,92.0858 \n  \"/>\n<polyline clip-path=\"url(#clip380)\" style=\"stroke:#000000; stroke-width:4; stroke-opacity:1; fill:none\" points=\"\n  319.171,1423.18 319.171,47.2441 \n  \"/>\n<polyline clip-path=\"url(#clip380)\" style=\"stroke:#000000; stroke-width:4; stroke-opacity:1; fill:none\" points=\"\n  319.171,1384.24 343.574,1384.24 \n  \"/>\n<polyline clip-path=\"url(#clip380)\" style=\"stroke:#000000; stroke-width:4; stroke-opacity:1; fill:none\" points=\"\n  319.171,1061.2 343.574,1061.2 \n  \"/>\n<polyline clip-path=\"url(#clip380)\" style=\"stroke:#000000; stroke-width:4; stroke-opacity:1; fill:none\" points=\"\n  319.171,738.162 343.574,738.162 \n  \"/>\n<polyline clip-path=\"url(#clip380)\" style=\"stroke:#000000; stroke-width:4; stroke-opacity:1; fill:none\" points=\"\n  319.171,415.124 343.574,415.124 \n  \"/>\n<polyline clip-path=\"url(#clip380)\" style=\"stroke:#000000; stroke-width:4; stroke-opacity:1; fill:none\" points=\"\n  319.171,92.0858 343.574,92.0858 \n  \"/>\n<path clip-path=\"url(#clip380)\" d=\"M 0 0 M126.205 1370.04 Q122.593 1370.04 120.765 1373.6 Q118.959 1377.14 118.959 1384.27 Q118.959 1391.38 120.765 1394.94 Q122.593 1398.49 126.205 1398.49 Q129.839 1398.49 131.644 1394.94 Q133.473 1391.38 133.473 1384.27 Q133.473 1377.14 131.644 1373.6 Q129.839 1370.04 126.205 1370.04 M126.205 1366.33 Q132.015 1366.33 135.07 1370.94 Q138.149 1375.52 138.149 1384.27 Q138.149 1393 135.07 1397.61 Q132.015 1402.19 126.205 1402.19 Q120.394 1402.19 117.316 1397.61 Q114.26 1393 114.26 1384.27 Q114.26 1375.52 117.316 1370.94 Q120.394 1366.33 126.205 1366.33 Z\" fill=\"#000000\" fill-rule=\"evenodd\" fill-opacity=\"1\" /><path clip-path=\"url(#clip380)\" d=\"M 0 0 M143.218 1395.64 L148.103 1395.64 L148.103 1401.52 L143.218 1401.52 L143.218 1395.64 Z\" fill=\"#000000\" fill-rule=\"evenodd\" fill-opacity=\"1\" /><path clip-path=\"url(#clip380)\" d=\"M 0 0 M163.172 1370.04 Q159.561 1370.04 157.732 1373.6 Q155.927 1377.14 155.927 1384.27 Q155.927 1391.38 157.732 1394.94 Q159.561 1398.49 163.172 1398.49 Q166.806 1398.49 168.612 1394.94 Q170.44 1391.38 170.44 1384.27 Q170.44 1377.14 168.612 1373.6 Q166.806 1370.04 163.172 1370.04 M163.172 1366.33 Q168.982 1366.33 172.038 1370.94 Q175.116 1375.52 175.116 1384.27 Q175.116 1393 172.038 1397.61 Q168.982 1402.19 163.172 1402.19 Q157.362 1402.19 154.283 1397.61 Q151.228 1393 151.228 1384.27 Q151.228 1375.52 154.283 1370.94 Q157.362 1366.33 163.172 1366.33 Z\" fill=\"#000000\" fill-rule=\"evenodd\" fill-opacity=\"1\" /><path clip-path=\"url(#clip380)\" d=\"M 0 0 M190.186 1370.04 Q186.575 1370.04 184.746 1373.6 Q182.94 1377.14 182.94 1384.27 Q182.94 1391.38 184.746 1394.94 Q186.575 1398.49 190.186 1398.49 Q193.82 1398.49 195.625 1394.94 Q197.454 1391.38 197.454 1384.27 Q197.454 1377.14 195.625 1373.6 Q193.82 1370.04 190.186 1370.04 M190.186 1366.33 Q195.996 1366.33 199.051 1370.94 Q202.13 1375.52 202.13 1384.27 Q202.13 1393 199.051 1397.61 Q195.996 1402.19 190.186 1402.19 Q184.376 1402.19 181.297 1397.61 Q178.241 1393 178.241 1384.27 Q178.241 1375.52 181.297 1370.94 Q184.376 1366.33 190.186 1366.33 Z\" fill=\"#000000\" fill-rule=\"evenodd\" fill-opacity=\"1\" /><path clip-path=\"url(#clip380)\" d=\"M 0 0 M217.199 1370.04 Q213.588 1370.04 211.76 1373.6 Q209.954 1377.14 209.954 1384.27 Q209.954 1391.38 211.76 1394.94 Q213.588 1398.49 217.199 1398.49 Q220.834 1398.49 222.639 1394.94 Q224.468 1391.38 224.468 1384.27 Q224.468 1377.14 222.639 1373.6 Q220.834 1370.04 217.199 1370.04 M217.199 1366.33 Q223.01 1366.33 226.065 1370.94 Q229.144 1375.52 229.144 1384.27 Q229.144 1393 226.065 1397.61 Q223.01 1402.19 217.199 1402.19 Q211.389 1402.19 208.311 1397.61 Q205.255 1393 205.255 1384.27 Q205.255 1375.52 208.311 1370.94 Q211.389 1366.33 217.199 1366.33 Z\" fill=\"#000000\" fill-rule=\"evenodd\" fill-opacity=\"1\" /><path clip-path=\"url(#clip380)\" d=\"M 0 0 M244.213 1370.04 Q240.602 1370.04 238.773 1373.6 Q236.968 1377.14 236.968 1384.27 Q236.968 1391.38 238.773 1394.94 Q240.602 1398.49 244.213 1398.49 Q247.847 1398.49 249.653 1394.94 Q251.482 1391.38 251.482 1384.27 Q251.482 1377.14 249.653 1373.6 Q247.847 1370.04 244.213 1370.04 M244.213 1366.33 Q250.023 1366.33 253.079 1370.94 Q256.158 1375.52 256.158 1384.27 Q256.158 1393 253.079 1397.61 Q250.023 1402.19 244.213 1402.19 Q238.403 1402.19 235.324 1397.61 Q232.269 1393 232.269 1384.27 Q232.269 1375.52 235.324 1370.94 Q238.403 1366.33 244.213 1366.33 Z\" fill=\"#000000\" fill-rule=\"evenodd\" fill-opacity=\"1\" /><path clip-path=\"url(#clip380)\" d=\"M 0 0 M271.227 1370.04 Q267.616 1370.04 265.787 1373.6 Q263.982 1377.14 263.982 1384.27 Q263.982 1391.38 265.787 1394.94 Q267.616 1398.49 271.227 1398.49 Q274.861 1398.49 276.667 1394.94 Q278.495 1391.38 278.495 1384.27 Q278.495 1377.14 276.667 1373.6 Q274.861 1370.04 271.227 1370.04 M271.227 1366.33 Q277.037 1366.33 280.093 1370.94 Q283.171 1375.52 283.171 1384.27 Q283.171 1393 280.093 1397.61 Q277.037 1402.19 271.227 1402.19 Q265.417 1402.19 262.338 1397.61 Q259.283 1393 259.283 1384.27 Q259.283 1375.52 262.338 1370.94 Q265.417 1366.33 271.227 1366.33 Z\" fill=\"#000000\" fill-rule=\"evenodd\" fill-opacity=\"1\" /><path clip-path=\"url(#clip380)\" d=\"M 0 0 M128.797 1047 Q125.186 1047 123.357 1050.56 Q121.552 1054.11 121.552 1061.23 Q121.552 1068.34 123.357 1071.91 Q125.186 1075.45 128.797 1075.45 Q132.431 1075.45 134.237 1071.91 Q136.066 1068.34 136.066 1061.23 Q136.066 1054.11 134.237 1050.56 Q132.431 1047 128.797 1047 M128.797 1043.3 Q134.607 1043.3 137.663 1047.9 Q140.741 1052.48 140.741 1061.23 Q140.741 1069.96 137.663 1074.57 Q134.607 1079.15 128.797 1079.15 Q122.987 1079.15 119.908 1074.57 Q116.853 1069.96 116.853 1061.23 Q116.853 1052.48 119.908 1047.9 Q122.987 1043.3 128.797 1043.3 Z\" fill=\"#000000\" fill-rule=\"evenodd\" fill-opacity=\"1\" /><path clip-path=\"url(#clip380)\" d=\"M 0 0 M145.811 1072.6 L150.695 1072.6 L150.695 1078.48 L145.811 1078.48 L145.811 1072.6 Z\" fill=\"#000000\" fill-rule=\"evenodd\" fill-opacity=\"1\" /><path clip-path=\"url(#clip380)\" d=\"M 0 0 M165.765 1047 Q162.153 1047 160.325 1050.56 Q158.519 1054.11 158.519 1061.23 Q158.519 1068.34 160.325 1071.91 Q162.153 1075.45 165.765 1075.45 Q169.399 1075.45 171.204 1071.91 Q173.033 1068.34 173.033 1061.23 Q173.033 1054.11 171.204 1050.56 Q169.399 1047 165.765 1047 M165.765 1043.3 Q171.575 1043.3 174.63 1047.9 Q177.709 1052.48 177.709 1061.23 Q177.709 1069.96 174.63 1074.57 Q171.575 1079.15 165.765 1079.15 Q159.954 1079.15 156.876 1074.57 Q153.82 1069.96 153.82 1061.23 Q153.82 1052.48 156.876 1047.9 Q159.954 1043.3 165.765 1043.3 Z\" fill=\"#000000\" fill-rule=\"evenodd\" fill-opacity=\"1\" /><path clip-path=\"url(#clip380)\" d=\"M 0 0 M192.778 1047 Q189.167 1047 187.338 1050.56 Q185.533 1054.11 185.533 1061.23 Q185.533 1068.34 187.338 1071.91 Q189.167 1075.45 192.778 1075.45 Q196.412 1075.45 198.218 1071.91 Q200.047 1068.34 200.047 1061.23 Q200.047 1054.11 198.218 1050.56 Q196.412 1047 192.778 1047 M192.778 1043.3 Q198.588 1043.3 201.644 1047.9 Q204.723 1052.48 204.723 1061.23 Q204.723 1069.96 201.644 1074.57 Q198.588 1079.15 192.778 1079.15 Q186.968 1079.15 183.889 1074.57 Q180.834 1069.96 180.834 1061.23 Q180.834 1052.48 183.889 1047.9 Q186.968 1043.3 192.778 1043.3 Z\" fill=\"#000000\" fill-rule=\"evenodd\" fill-opacity=\"1\" /><path clip-path=\"url(#clip380)\" d=\"M 0 0 M219.792 1047 Q216.181 1047 214.352 1050.56 Q212.547 1054.11 212.547 1061.23 Q212.547 1068.34 214.352 1071.91 Q216.181 1075.45 219.792 1075.45 Q223.426 1075.45 225.232 1071.91 Q227.06 1068.34 227.06 1061.23 Q227.06 1054.11 225.232 1050.56 Q223.426 1047 219.792 1047 M219.792 1043.3 Q225.602 1043.3 228.658 1047.9 Q231.736 1052.48 231.736 1061.23 Q231.736 1069.96 228.658 1074.57 Q225.602 1079.15 219.792 1079.15 Q213.982 1079.15 210.903 1074.57 Q207.848 1069.96 207.848 1061.23 Q207.848 1052.48 210.903 1047.9 Q213.982 1043.3 219.792 1043.3 Z\" fill=\"#000000\" fill-rule=\"evenodd\" fill-opacity=\"1\" /><path clip-path=\"url(#clip380)\" d=\"M 0 0 M240.834 1074.54 L257.153 1074.54 L257.153 1078.48 L235.209 1078.48 L235.209 1074.54 Q237.871 1071.79 242.454 1067.16 Q247.06 1062.51 248.241 1061.17 Q250.486 1058.64 251.366 1056.91 Q252.269 1055.15 252.269 1053.46 Q252.269 1050.7 250.324 1048.97 Q248.403 1047.23 245.301 1047.23 Q243.102 1047.23 240.648 1047.99 Q238.218 1048.76 235.44 1050.31 L235.44 1045.59 Q238.264 1044.45 240.718 1043.87 Q243.172 1043.3 245.209 1043.3 Q250.579 1043.3 253.773 1045.98 Q256.968 1048.67 256.968 1053.16 Q256.968 1055.29 256.158 1057.21 Q255.371 1059.11 253.264 1061.7 Q252.685 1062.37 249.584 1065.59 Q246.482 1068.78 240.834 1074.54 Z\" fill=\"#000000\" fill-rule=\"evenodd\" fill-opacity=\"1\" /><path clip-path=\"url(#clip380)\" d=\"M 0 0 M262.269 1043.92 L280.625 1043.92 L280.625 1047.86 L266.551 1047.86 L266.551 1056.33 Q267.57 1055.98 268.588 1055.82 Q269.607 1055.63 270.625 1055.63 Q276.412 1055.63 279.792 1058.8 Q283.171 1061.98 283.171 1067.39 Q283.171 1072.97 279.699 1076.07 Q276.227 1079.15 269.907 1079.15 Q267.732 1079.15 265.463 1078.78 Q263.218 1078.41 260.81 1077.67 L260.81 1072.97 Q262.894 1074.11 265.116 1074.66 Q267.338 1075.22 269.815 1075.22 Q273.819 1075.22 276.157 1073.11 Q278.495 1071 278.495 1067.39 Q278.495 1063.78 276.157 1061.67 Q273.819 1059.57 269.815 1059.57 Q267.94 1059.57 266.065 1059.98 Q264.213 1060.4 262.269 1061.28 L262.269 1043.92 Z\" fill=\"#000000\" fill-rule=\"evenodd\" fill-opacity=\"1\" /><path clip-path=\"url(#clip380)\" d=\"M 0 0 M127.2 723.961 Q123.589 723.961 121.76 727.526 Q119.955 731.067 119.955 738.197 Q119.955 745.303 121.76 748.868 Q123.589 752.41 127.2 752.41 Q130.834 752.41 132.64 748.868 Q134.468 745.303 134.468 738.197 Q134.468 731.067 132.64 727.526 Q130.834 723.961 127.2 723.961 M127.2 720.257 Q133.01 720.257 136.066 724.863 Q139.144 729.447 139.144 738.197 Q139.144 746.924 136.066 751.53 Q133.01 756.113 127.2 756.113 Q121.39 756.113 118.311 751.53 Q115.256 746.924 115.256 738.197 Q115.256 729.447 118.311 724.863 Q121.39 720.257 127.2 720.257 Z\" fill=\"#000000\" fill-rule=\"evenodd\" fill-opacity=\"1\" /><path clip-path=\"url(#clip380)\" d=\"M 0 0 M144.214 749.562 L149.098 749.562 L149.098 755.442 L144.214 755.442 L144.214 749.562 Z\" fill=\"#000000\" fill-rule=\"evenodd\" fill-opacity=\"1\" /><path clip-path=\"url(#clip380)\" d=\"M 0 0 M164.167 723.961 Q160.556 723.961 158.728 727.526 Q156.922 731.067 156.922 738.197 Q156.922 745.303 158.728 748.868 Q160.556 752.41 164.167 752.41 Q167.802 752.41 169.607 748.868 Q171.436 745.303 171.436 738.197 Q171.436 731.067 169.607 727.526 Q167.802 723.961 164.167 723.961 M164.167 720.257 Q169.977 720.257 173.033 724.863 Q176.112 729.447 176.112 738.197 Q176.112 746.924 173.033 751.53 Q169.977 756.113 164.167 756.113 Q158.357 756.113 155.278 751.53 Q152.223 746.924 152.223 738.197 Q152.223 729.447 155.278 724.863 Q158.357 720.257 164.167 720.257 Z\" fill=\"#000000\" fill-rule=\"evenodd\" fill-opacity=\"1\" /><path clip-path=\"url(#clip380)\" d=\"M 0 0 M191.181 723.961 Q187.57 723.961 185.741 727.526 Q183.936 731.067 183.936 738.197 Q183.936 745.303 185.741 748.868 Q187.57 752.41 191.181 752.41 Q194.815 752.41 196.621 748.868 Q198.45 745.303 198.45 738.197 Q198.45 731.067 196.621 727.526 Q194.815 723.961 191.181 723.961 M191.181 720.257 Q196.991 720.257 200.047 724.863 Q203.125 729.447 203.125 738.197 Q203.125 746.924 200.047 751.53 Q196.991 756.113 191.181 756.113 Q185.371 756.113 182.292 751.53 Q179.237 746.924 179.237 738.197 Q179.237 729.447 182.292 724.863 Q185.371 720.257 191.181 720.257 Z\" fill=\"#000000\" fill-rule=\"evenodd\" fill-opacity=\"1\" /><path clip-path=\"url(#clip380)\" d=\"M 0 0 M218.195 723.961 Q214.584 723.961 212.755 727.526 Q210.949 731.067 210.949 738.197 Q210.949 745.303 212.755 748.868 Q214.584 752.41 218.195 752.41 Q221.829 752.41 223.635 748.868 Q225.463 745.303 225.463 738.197 Q225.463 731.067 223.635 727.526 Q221.829 723.961 218.195 723.961 M218.195 720.257 Q224.005 720.257 227.06 724.863 Q230.139 729.447 230.139 738.197 Q230.139 746.924 227.06 751.53 Q224.005 756.113 218.195 756.113 Q212.385 756.113 209.306 751.53 Q206.25 746.924 206.25 738.197 Q206.25 729.447 209.306 724.863 Q212.385 720.257 218.195 720.257 Z\" fill=\"#000000\" fill-rule=\"evenodd\" fill-opacity=\"1\" /><path clip-path=\"url(#clip380)\" d=\"M 0 0 M235.255 720.882 L253.611 720.882 L253.611 724.817 L239.537 724.817 L239.537 733.289 Q240.556 732.942 241.574 732.78 Q242.593 732.595 243.611 732.595 Q249.398 732.595 252.778 735.766 Q256.158 738.937 256.158 744.354 Q256.158 749.933 252.685 753.035 Q249.213 756.113 242.894 756.113 Q240.718 756.113 238.449 755.743 Q236.204 755.373 233.797 754.632 L233.797 749.933 Q235.88 751.067 238.102 751.623 Q240.324 752.178 242.801 752.178 Q246.806 752.178 249.144 750.072 Q251.482 747.965 251.482 744.354 Q251.482 740.743 249.144 738.637 Q246.806 736.53 242.801 736.53 Q240.926 736.53 239.051 736.947 Q237.199 737.363 235.255 738.243 L235.255 720.882 Z\" fill=\"#000000\" fill-rule=\"evenodd\" fill-opacity=\"1\" /><path clip-path=\"url(#clip380)\" d=\"M 0 0 M271.227 723.961 Q267.616 723.961 265.787 727.526 Q263.982 731.067 263.982 738.197 Q263.982 745.303 265.787 748.868 Q267.616 752.41 271.227 752.41 Q274.861 752.41 276.667 748.868 Q278.495 745.303 278.495 738.197 Q278.495 731.067 276.667 727.526 Q274.861 723.961 271.227 723.961 M271.227 720.257 Q277.037 720.257 280.093 724.863 Q283.171 729.447 283.171 738.197 Q283.171 746.924 280.093 751.53 Q277.037 756.113 271.227 756.113 Q265.417 756.113 262.338 751.53 Q259.283 746.924 259.283 738.197 Q259.283 729.447 262.338 724.863 Q265.417 720.257 271.227 720.257 Z\" fill=\"#000000\" fill-rule=\"evenodd\" fill-opacity=\"1\" /><path clip-path=\"url(#clip380)\" d=\"M 0 0 M128.103 400.923 Q124.492 400.923 122.663 404.487 Q120.857 408.029 120.857 415.159 Q120.857 422.265 122.663 425.83 Q124.492 429.372 128.103 429.372 Q131.737 429.372 133.542 425.83 Q135.371 422.265 135.371 415.159 Q135.371 408.029 133.542 404.487 Q131.737 400.923 128.103 400.923 M128.103 397.219 Q133.913 397.219 136.968 401.825 Q140.047 406.409 140.047 415.159 Q140.047 423.885 136.968 428.492 Q133.913 433.075 128.103 433.075 Q122.293 433.075 119.214 428.492 Q116.158 423.885 116.158 415.159 Q116.158 406.409 119.214 401.825 Q122.293 397.219 128.103 397.219 Z\" fill=\"#000000\" fill-rule=\"evenodd\" fill-opacity=\"1\" /><path clip-path=\"url(#clip380)\" d=\"M 0 0 M145.116 426.524 L150.001 426.524 L150.001 432.404 L145.116 432.404 L145.116 426.524 Z\" fill=\"#000000\" fill-rule=\"evenodd\" fill-opacity=\"1\" /><path clip-path=\"url(#clip380)\" d=\"M 0 0 M165.07 400.923 Q161.459 400.923 159.63 404.487 Q157.825 408.029 157.825 415.159 Q157.825 422.265 159.63 425.83 Q161.459 429.372 165.07 429.372 Q168.704 429.372 170.51 425.83 Q172.339 422.265 172.339 415.159 Q172.339 408.029 170.51 404.487 Q168.704 400.923 165.07 400.923 M165.07 397.219 Q170.88 397.219 173.936 401.825 Q177.014 406.409 177.014 415.159 Q177.014 423.885 173.936 428.492 Q170.88 433.075 165.07 433.075 Q159.26 433.075 156.181 428.492 Q153.126 423.885 153.126 415.159 Q153.126 406.409 156.181 401.825 Q159.26 397.219 165.07 397.219 Z\" fill=\"#000000\" fill-rule=\"evenodd\" fill-opacity=\"1\" /><path clip-path=\"url(#clip380)\" d=\"M 0 0 M192.084 400.923 Q188.473 400.923 186.644 404.487 Q184.838 408.029 184.838 415.159 Q184.838 422.265 186.644 425.83 Q188.473 429.372 192.084 429.372 Q195.718 429.372 197.524 425.83 Q199.352 422.265 199.352 415.159 Q199.352 408.029 197.524 404.487 Q195.718 400.923 192.084 400.923 M192.084 397.219 Q197.894 397.219 200.95 401.825 Q204.028 406.409 204.028 415.159 Q204.028 423.885 200.95 428.492 Q197.894 433.075 192.084 433.075 Q186.274 433.075 183.195 428.492 Q180.139 423.885 180.139 415.159 Q180.139 406.409 183.195 401.825 Q186.274 397.219 192.084 397.219 Z\" fill=\"#000000\" fill-rule=\"evenodd\" fill-opacity=\"1\" /><path clip-path=\"url(#clip380)\" d=\"M 0 0 M219.098 400.923 Q215.486 400.923 213.658 404.487 Q211.852 408.029 211.852 415.159 Q211.852 422.265 213.658 425.83 Q215.486 429.372 219.098 429.372 Q222.732 429.372 224.537 425.83 Q226.366 422.265 226.366 415.159 Q226.366 408.029 224.537 404.487 Q222.732 400.923 219.098 400.923 M219.098 397.219 Q224.908 397.219 227.963 401.825 Q231.042 406.409 231.042 415.159 Q231.042 423.885 227.963 428.492 Q224.908 433.075 219.098 433.075 Q213.287 433.075 210.209 428.492 Q207.153 423.885 207.153 415.159 Q207.153 406.409 210.209 401.825 Q213.287 397.219 219.098 397.219 Z\" fill=\"#000000\" fill-rule=\"evenodd\" fill-opacity=\"1\" /><path clip-path=\"url(#clip380)\" d=\"M 0 0 M234.931 397.844 L257.153 397.844 L257.153 399.835 L244.607 432.404 L239.722 432.404 L251.528 401.779 L234.931 401.779 L234.931 397.844 Z\" fill=\"#000000\" fill-rule=\"evenodd\" fill-opacity=\"1\" /><path clip-path=\"url(#clip380)\" d=\"M 0 0 M262.269 397.844 L280.625 397.844 L280.625 401.779 L266.551 401.779 L266.551 410.251 Q267.57 409.904 268.588 409.742 Q269.607 409.557 270.625 409.557 Q276.412 409.557 279.792 412.728 Q283.171 415.899 283.171 421.316 Q283.171 426.895 279.699 429.997 Q276.227 433.075 269.907 433.075 Q267.732 433.075 265.463 432.705 Q263.218 432.334 260.81 431.594 L260.81 426.895 Q262.894 428.029 265.116 428.584 Q267.338 429.14 269.815 429.14 Q273.819 429.14 276.157 427.034 Q278.495 424.927 278.495 421.316 Q278.495 417.705 276.157 415.598 Q273.819 413.492 269.815 413.492 Q267.94 413.492 266.065 413.909 Q264.213 414.325 262.269 415.205 L262.269 397.844 Z\" fill=\"#000000\" fill-rule=\"evenodd\" fill-opacity=\"1\" /><path clip-path=\"url(#clip380)\" d=\"M 0 0 M127.431 77.8845 Q123.82 77.8845 121.992 81.4493 Q120.186 84.9909 120.186 92.1205 Q120.186 99.227 121.992 102.792 Q123.82 106.333 127.431 106.333 Q131.066 106.333 132.871 102.792 Q134.7 99.227 134.7 92.1205 Q134.7 84.9909 132.871 81.4493 Q131.066 77.8845 127.431 77.8845 M127.431 74.1808 Q133.242 74.1808 136.297 78.7873 Q139.376 83.3706 139.376 92.1205 Q139.376 100.847 136.297 105.454 Q133.242 110.037 127.431 110.037 Q121.621 110.037 118.543 105.454 Q115.487 100.847 115.487 92.1205 Q115.487 83.3706 118.543 78.7873 Q121.621 74.1808 127.431 74.1808 Z\" fill=\"#000000\" fill-rule=\"evenodd\" fill-opacity=\"1\" /><path clip-path=\"url(#clip380)\" d=\"M 0 0 M144.445 103.486 L149.329 103.486 L149.329 109.366 L144.445 109.366 L144.445 103.486 Z\" fill=\"#000000\" fill-rule=\"evenodd\" fill-opacity=\"1\" /><path clip-path=\"url(#clip380)\" d=\"M 0 0 M164.399 77.8845 Q160.788 77.8845 158.959 81.4493 Q157.153 84.9909 157.153 92.1205 Q157.153 99.227 158.959 102.792 Q160.788 106.333 164.399 106.333 Q168.033 106.333 169.839 102.792 Q171.667 99.227 171.667 92.1205 Q171.667 84.9909 169.839 81.4493 Q168.033 77.8845 164.399 77.8845 M164.399 74.1808 Q170.209 74.1808 173.264 78.7873 Q176.343 83.3706 176.343 92.1205 Q176.343 100.847 173.264 105.454 Q170.209 110.037 164.399 110.037 Q158.589 110.037 155.51 105.454 Q152.454 100.847 152.454 92.1205 Q152.454 83.3706 155.51 78.7873 Q158.589 74.1808 164.399 74.1808 Z\" fill=\"#000000\" fill-rule=\"evenodd\" fill-opacity=\"1\" /><path clip-path=\"url(#clip380)\" d=\"M 0 0 M191.413 77.8845 Q187.801 77.8845 185.973 81.4493 Q184.167 84.9909 184.167 92.1205 Q184.167 99.227 185.973 102.792 Q187.801 106.333 191.413 106.333 Q195.047 106.333 196.852 102.792 Q198.681 99.227 198.681 92.1205 Q198.681 84.9909 196.852 81.4493 Q195.047 77.8845 191.413 77.8845 M191.413 74.1808 Q197.223 74.1808 200.278 78.7873 Q203.357 83.3706 203.357 92.1205 Q203.357 100.847 200.278 105.454 Q197.223 110.037 191.413 110.037 Q185.602 110.037 182.524 105.454 Q179.468 100.847 179.468 92.1205 Q179.468 83.3706 182.524 78.7873 Q185.602 74.1808 191.413 74.1808 Z\" fill=\"#000000\" fill-rule=\"evenodd\" fill-opacity=\"1\" /><path clip-path=\"url(#clip380)\" d=\"M 0 0 M209.237 105.431 L216.875 105.431 L216.875 79.065 L208.565 80.7317 L208.565 76.4724 L216.829 74.8058 L221.505 74.8058 L221.505 105.431 L229.144 105.431 L229.144 109.366 L209.237 109.366 L209.237 105.431 Z\" fill=\"#000000\" fill-rule=\"evenodd\" fill-opacity=\"1\" /><path clip-path=\"url(#clip380)\" d=\"M 0 0 M244.213 77.8845 Q240.602 77.8845 238.773 81.4493 Q236.968 84.9909 236.968 92.1205 Q236.968 99.227 238.773 102.792 Q240.602 106.333 244.213 106.333 Q247.847 106.333 249.653 102.792 Q251.482 99.227 251.482 92.1205 Q251.482 84.9909 249.653 81.4493 Q247.847 77.8845 244.213 77.8845 M244.213 74.1808 Q250.023 74.1808 253.079 78.7873 Q256.158 83.3706 256.158 92.1205 Q256.158 100.847 253.079 105.454 Q250.023 110.037 244.213 110.037 Q238.403 110.037 235.324 105.454 Q232.269 100.847 232.269 92.1205 Q232.269 83.3706 235.324 78.7873 Q238.403 74.1808 244.213 74.1808 Z\" fill=\"#000000\" fill-rule=\"evenodd\" fill-opacity=\"1\" /><path clip-path=\"url(#clip380)\" d=\"M 0 0 M271.227 77.8845 Q267.616 77.8845 265.787 81.4493 Q263.982 84.9909 263.982 92.1205 Q263.982 99.227 265.787 102.792 Q267.616 106.333 271.227 106.333 Q274.861 106.333 276.667 102.792 Q278.495 99.227 278.495 92.1205 Q278.495 84.9909 276.667 81.4493 Q274.861 77.8845 271.227 77.8845 M271.227 74.1808 Q277.037 74.1808 280.093 78.7873 Q283.171 83.3706 283.171 92.1205 Q283.171 100.847 280.093 105.454 Q277.037 110.037 271.227 110.037 Q265.417 110.037 262.338 105.454 Q259.283 100.847 259.283 92.1205 Q259.283 83.3706 262.338 78.7873 Q265.417 74.1808 271.227 74.1808 Z\" fill=\"#000000\" fill-rule=\"evenodd\" fill-opacity=\"1\" /><path clip-path=\"url(#clip380)\" d=\"M 0 0 M67.0928 718.788 Q67.0928 721.558 69.4481 723.149 Q71.8034 724.709 76.0048 724.709 Q80.1425 724.709 82.5296 723.149 Q84.885 721.558 84.885 718.788 Q84.885 716.083 82.5296 714.523 Q80.1425 712.932 76.0048 712.932 Q71.8353 712.932 69.48 714.523 Q67.0928 716.083 67.0928 718.788 M63.0506 718.788 Q63.0506 713.76 66.5517 710.799 Q70.0529 707.839 76.0048 707.839 Q81.9567 707.839 85.4579 710.831 Q88.9272 713.791 88.9272 718.788 Q88.9272 723.881 85.4579 726.841 Q81.9567 729.801 76.0048 729.801 Q70.021 729.801 66.5517 726.841 Q63.0506 723.849 63.0506 718.788 M43.667 751.635 Q43.667 754.373 46.0542 755.964 Q48.4095 757.524 52.5472 757.524 Q56.7485 757.524 59.1038 755.964 Q61.4592 754.405 61.4592 751.635 Q61.4592 748.866 59.1038 747.307 Q56.7485 745.715 52.5472 745.715 Q48.4413 745.715 46.0542 747.307 Q43.667 748.898 43.667 751.635 M39.6248 722.894 L39.6248 717.802 L88.9272 747.53 L88.9272 752.622 L39.6248 722.894 M39.6248 751.635 Q39.6248 746.607 43.1259 743.615 Q46.5952 740.623 52.5472 740.623 Q58.5628 740.623 62.0321 743.615 Q65.5014 746.575 65.5014 751.635 Q65.5014 756.696 62.0321 759.656 Q58.5309 762.585 52.5472 762.585 Q46.6271 762.585 43.1259 759.624 Q39.6248 756.664 39.6248 751.635 Z\" fill=\"#000000\" fill-rule=\"evenodd\" fill-opacity=\"1\" /><polyline clip-path=\"url(#clip382)\" style=\"stroke:#009af9; stroke-width:4; stroke-opacity:1; fill:none\" points=\"\n  376.726,1348.68 415.878,1083.72 455.031,445.888 494.183,617.075 533.336,729.501 572.488,824.172 611.641,930.188 650.794,1018.64 689.946,1077.75 729.099,1142.52 \n  768.251,1189.58 807.404,1219.17 846.556,1266.23 885.709,1278.09 924.862,1284.15 964.014,1295.98 1003.17,1301.9 1042.32,1331.3 1081.47,1331.3 1120.62,1343.04 \n  1159.78,1348.94 1198.93,1366.59 1238.08,1366.59 1277.23,1372.46 1316.39,1372.46 1355.54,1372.49 1394.69,1372.49 1433.85,1372.49 1473,1372.49 1512.15,1378.36 \n  1551.3,1384.24 1590.46,1384.24 1629.61,1384.24 1668.76,1384.24 1707.91,1384.24 1747.07,1384.24 1786.22,1384.24 1825.37,1384.24 1864.52,1384.24 1903.68,1384.24 \n  1942.83,1384.24 1981.98,1384.24 2021.13,1384.24 2060.29,1384.24 2099.44,1384.24 2138.59,1384.24 2177.74,1384.24 2216.9,1384.24 2256.05,1384.24 2295.2,1384.24 \n  \n  \"/>\n<polyline clip-path=\"url(#clip382)\" style=\"stroke:#e26f46; stroke-width:4; stroke-opacity:1; fill:none\" points=\"\n  376.726,1372.41 415.878,1278.06 455.031,1059.86 494.183,853.349 533.336,740.923 572.488,646.252 611.641,540.236 650.794,451.786 689.946,392.677 729.099,327.908 \n  768.251,280.84 807.404,251.258 846.556,204.19 885.709,192.336 924.862,186.276 964.014,174.449 1003.17,168.521 1042.32,139.127 1081.47,139.127 1120.62,127.38 \n  1159.78,121.48 1198.93,103.833 1238.08,103.833 1277.23,97.9595 1316.39,97.9595 1355.54,97.9326 1394.69,97.9326 1433.85,97.9326 1473,97.9326 1512.15,92.0592 \n  1551.3,86.1857 1590.46,86.1857 1629.61,86.1857 1668.76,86.1857 1707.91,86.1857 1747.07,86.1857 1786.22,86.1857 1825.37,86.1857 1864.52,86.1857 1903.68,86.1857 \n  1942.83,86.1857 1981.98,86.1857 2021.13,86.1857 2060.29,86.1857 2099.44,86.1857 2138.59,86.1857 2177.74,86.1857 2216.9,86.1857 2256.05,86.1857 2295.2,86.1857 \n  \n  \"/>\n<polyline clip-path=\"url(#clip382)\" style=\"stroke:#3da44d; stroke-width:4; stroke-opacity:1; fill:none\" points=\"\n  376.726,1384.24 415.878,1384.24 455.031,1384.24 494.183,1384.24 533.336,1384.24 572.488,1384.24 611.641,1384.24 650.794,1384.24 689.946,1384.24 729.099,1384.24 \n  768.251,1384.24 807.404,1384.24 846.556,1384.24 885.709,1384.24 924.862,1384.24 964.014,1384.24 1003.17,1384.24 1042.32,1384.24 1081.47,1384.24 1120.62,1384.24 \n  1159.78,1384.24 1198.93,1384.24 1238.08,1384.24 1277.23,1384.24 1316.39,1384.24 1355.54,1384.24 1394.69,1384.24 1433.85,1384.24 1473,1384.24 1512.15,1384.24 \n  1551.3,1384.24 1590.46,1384.24 1629.61,1384.24 1668.76,1384.24 1707.91,1384.24 1747.07,1384.24 1786.22,1384.24 1825.37,1384.24 1864.52,1384.24 1903.68,1384.24 \n  1942.83,1384.24 1981.98,1384.24 2021.13,1384.24 2060.29,1384.24 2099.44,1384.24 2138.59,1384.24 2177.74,1384.24 2216.9,1384.24 2256.05,1384.24 2295.2,1384.24 \n  \n  \"/>\n<path clip-path=\"url(#clip380)\" d=\"\nM1820.24 335.029 L2284.97 335.029 L2284.97 93.1086 L1820.24 93.1086  Z\n  \" fill=\"#ffffff\" fill-rule=\"evenodd\" fill-opacity=\"1\"/>\n<polyline clip-path=\"url(#clip380)\" style=\"stroke:#000000; stroke-width:4; stroke-opacity:1; fill:none\" points=\"\n  1820.24,335.029 2284.97,335.029 2284.97,93.1086 1820.24,93.1086 1820.24,335.029 \n  \"/>\n<polyline clip-path=\"url(#clip380)\" style=\"stroke:#009af9; stroke-width:4; stroke-opacity:1; fill:none\" points=\"\n  1842.84,153.589 1978.41,153.589 \n  \"/>\n<path clip-path=\"url(#clip380)\" d=\"M 0 0 M2001.01 136.309 L2005.68 136.309 L2005.68 170.869 L2001.01 170.869 L2001.01 136.309 Z\" fill=\"#000000\" fill-rule=\"evenodd\" fill-opacity=\"1\" /><path clip-path=\"url(#clip380)\" d=\"M 0 0 M2031.7 155.221 L2031.7 170.869 L2027.44 170.869 L2027.44 155.359 Q2027.44 151.679 2026.01 149.85 Q2024.57 148.022 2021.7 148.022 Q2018.25 148.022 2016.26 150.221 Q2014.27 152.42 2014.27 156.216 L2014.27 170.869 L2009.99 170.869 L2009.99 144.943 L2014.27 144.943 L2014.27 148.971 Q2015.8 146.633 2017.86 145.475 Q2019.94 144.318 2022.65 144.318 Q2027.12 144.318 2029.41 147.096 Q2031.7 149.85 2031.7 155.221 Z\" fill=\"#000000\" fill-rule=\"evenodd\" fill-opacity=\"1\" /><path clip-path=\"url(#clip380)\" d=\"M 0 0 M2049.29 134.85 L2049.29 138.392 L2045.22 138.392 Q2042.93 138.392 2042.03 139.318 Q2041.15 140.244 2041.15 142.651 L2041.15 144.943 L2048.16 144.943 L2048.16 148.253 L2041.15 148.253 L2041.15 170.869 L2036.86 170.869 L2036.86 148.253 L2032.79 148.253 L2032.79 144.943 L2036.86 144.943 L2036.86 143.137 Q2036.86 138.809 2038.88 136.841 Q2040.89 134.85 2045.27 134.85 L2049.29 134.85 Z\" fill=\"#000000\" fill-rule=\"evenodd\" fill-opacity=\"1\" /><path clip-path=\"url(#clip380)\" d=\"M 0 0 M2075.94 156.841 L2075.94 158.924 L2056.35 158.924 Q2056.63 163.322 2058.99 165.637 Q2061.38 167.929 2065.61 167.929 Q2068.07 167.929 2070.36 167.327 Q2072.67 166.725 2074.94 165.521 L2074.94 169.549 Q2072.65 170.521 2070.24 171.031 Q2067.84 171.54 2065.36 171.54 Q2059.15 171.54 2055.52 167.929 Q2051.91 164.318 2051.91 158.16 Q2051.91 151.795 2055.34 148.068 Q2058.78 144.318 2064.62 144.318 Q2069.85 144.318 2072.88 147.697 Q2075.94 151.054 2075.94 156.841 M2071.68 155.591 Q2071.63 152.096 2069.71 150.012 Q2067.81 147.929 2064.66 147.929 Q2061.1 147.929 2058.95 149.943 Q2056.82 151.957 2056.49 155.614 L2071.68 155.591 Z\" fill=\"#000000\" fill-rule=\"evenodd\" fill-opacity=\"1\" /><path clip-path=\"url(#clip380)\" d=\"M 0 0 M2099.06 145.938 L2099.06 149.92 Q2097.26 148.924 2095.43 148.438 Q2093.62 147.929 2091.77 147.929 Q2087.63 147.929 2085.34 150.568 Q2083.04 153.184 2083.04 157.929 Q2083.04 162.674 2085.34 165.313 Q2087.63 167.929 2091.77 167.929 Q2093.62 167.929 2095.43 167.443 Q2097.26 166.933 2099.06 165.938 L2099.06 169.873 Q2097.28 170.707 2095.36 171.123 Q2093.46 171.54 2091.31 171.54 Q2085.45 171.54 2082 167.859 Q2078.55 164.179 2078.55 157.929 Q2078.55 151.586 2082.03 147.952 Q2085.52 144.318 2091.59 144.318 Q2093.55 144.318 2095.43 144.735 Q2097.3 145.128 2099.06 145.938 Z\" fill=\"#000000\" fill-rule=\"evenodd\" fill-opacity=\"1\" /><path clip-path=\"url(#clip380)\" d=\"M 0 0 M2107.74 137.582 L2107.74 144.943 L2116.52 144.943 L2116.52 148.253 L2107.74 148.253 L2107.74 162.327 Q2107.74 165.498 2108.6 166.401 Q2109.48 167.304 2112.14 167.304 L2116.52 167.304 L2116.52 170.869 L2112.14 170.869 Q2107.21 170.869 2105.34 169.04 Q2103.46 167.188 2103.46 162.327 L2103.46 148.253 L2100.34 148.253 L2100.34 144.943 L2103.46 144.943 L2103.46 137.582 L2107.74 137.582 Z\" fill=\"#000000\" fill-rule=\"evenodd\" fill-opacity=\"1\" /><path clip-path=\"url(#clip380)\" d=\"M 0 0 M2143.16 156.841 L2143.16 158.924 L2123.58 158.924 Q2123.85 163.322 2126.21 165.637 Q2128.6 167.929 2132.84 167.929 Q2135.29 167.929 2137.58 167.327 Q2139.9 166.725 2142.16 165.521 L2142.16 169.549 Q2139.87 170.521 2137.46 171.031 Q2135.06 171.54 2132.58 171.54 Q2126.38 171.54 2122.74 167.929 Q2119.13 164.318 2119.13 158.16 Q2119.13 151.795 2122.56 148.068 Q2126.01 144.318 2131.84 144.318 Q2137.07 144.318 2140.1 147.697 Q2143.16 151.054 2143.16 156.841 M2138.9 155.591 Q2138.85 152.096 2136.93 150.012 Q2135.03 147.929 2131.89 147.929 Q2128.32 147.929 2126.17 149.943 Q2124.04 151.957 2123.71 155.614 L2138.9 155.591 Z\" fill=\"#000000\" fill-rule=\"evenodd\" fill-opacity=\"1\" /><path clip-path=\"url(#clip380)\" d=\"M 0 0 M2164.69 148.878 L2164.69 134.85 L2168.95 134.85 L2168.95 170.869 L2164.69 170.869 L2164.69 166.98 Q2163.34 169.295 2161.28 170.429 Q2159.25 171.54 2156.38 171.54 Q2151.68 171.54 2148.71 167.79 Q2145.77 164.04 2145.77 157.929 Q2145.77 151.818 2148.71 148.068 Q2151.68 144.318 2156.38 144.318 Q2159.25 144.318 2161.28 145.452 Q2163.34 146.563 2164.69 148.878 M2150.17 157.929 Q2150.17 162.628 2152.09 165.313 Q2154.04 167.975 2157.42 167.975 Q2160.8 167.975 2162.74 165.313 Q2164.69 162.628 2164.69 157.929 Q2164.69 153.23 2162.74 150.568 Q2160.8 147.883 2157.42 147.883 Q2154.04 147.883 2152.09 150.568 Q2150.17 153.23 2150.17 157.929 Z\" fill=\"#000000\" fill-rule=\"evenodd\" fill-opacity=\"1\" /><polyline clip-path=\"url(#clip380)\" style=\"stroke:#e26f46; stroke-width:4; stroke-opacity:1; fill:none\" points=\"\n  1842.84,214.069 1978.41,214.069 \n  \"/>\n<path clip-path=\"url(#clip380)\" d=\"M 0 0 M2017.4 215.145 Q2018.9 215.654 2020.31 217.321 Q2021.75 218.988 2023.18 221.904 L2027.93 231.349 L2022.91 231.349 L2018.48 222.483 Q2016.77 219.011 2015.15 217.876 Q2013.55 216.742 2010.78 216.742 L2005.68 216.742 L2005.68 231.349 L2001.01 231.349 L2001.01 196.789 L2011.56 196.789 Q2017.49 196.789 2020.41 199.265 Q2023.32 201.742 2023.32 206.742 Q2023.32 210.006 2021.79 212.159 Q2020.29 214.312 2017.4 215.145 M2005.68 200.631 L2005.68 212.9 L2011.56 212.9 Q2014.94 212.9 2016.66 211.349 Q2018.39 209.775 2018.39 206.742 Q2018.39 203.71 2016.66 202.182 Q2014.94 200.631 2011.56 200.631 L2005.68 200.631 Z\" fill=\"#000000\" fill-rule=\"evenodd\" fill-opacity=\"1\" /><path clip-path=\"url(#clip380)\" d=\"M 0 0 M2052.44 217.321 L2052.44 219.404 L2032.86 219.404 Q2033.14 223.802 2035.5 226.117 Q2037.88 228.409 2042.12 228.409 Q2044.57 228.409 2046.86 227.807 Q2049.18 227.205 2051.45 226.001 L2051.45 230.029 Q2049.16 231.001 2046.75 231.511 Q2044.34 232.02 2041.86 232.02 Q2035.66 232.02 2032.03 228.409 Q2028.41 224.798 2028.41 218.64 Q2028.41 212.275 2031.84 208.548 Q2035.29 204.798 2041.12 204.798 Q2046.35 204.798 2049.39 208.177 Q2052.44 211.534 2052.44 217.321 M2048.18 216.071 Q2048.14 212.576 2046.22 210.492 Q2044.32 208.409 2041.17 208.409 Q2037.6 208.409 2035.45 210.423 Q2033.32 212.437 2033 216.094 L2048.18 216.071 Z\" fill=\"#000000\" fill-rule=\"evenodd\" fill-opacity=\"1\" /><path clip-path=\"url(#clip380)\" d=\"M 0 0 M2075.57 206.418 L2075.57 210.4 Q2073.76 209.404 2071.93 208.918 Q2070.13 208.409 2068.28 208.409 Q2064.13 208.409 2061.84 211.048 Q2059.55 213.664 2059.55 218.409 Q2059.55 223.154 2061.84 225.793 Q2064.13 228.409 2068.28 228.409 Q2070.13 228.409 2071.93 227.923 Q2073.76 227.413 2075.57 226.418 L2075.57 230.353 Q2073.78 231.187 2071.86 231.603 Q2069.97 232.02 2067.81 232.02 Q2061.96 232.02 2058.51 228.339 Q2055.06 224.659 2055.06 218.409 Q2055.06 212.066 2058.53 208.432 Q2062.03 204.798 2068.09 204.798 Q2070.06 204.798 2071.93 205.215 Q2073.81 205.608 2075.57 206.418 Z\" fill=\"#000000\" fill-rule=\"evenodd\" fill-opacity=\"1\" /><path clip-path=\"url(#clip380)\" d=\"M 0 0 M2090.08 208.409 Q2086.65 208.409 2084.66 211.094 Q2082.67 213.756 2082.67 218.409 Q2082.67 223.062 2084.64 225.747 Q2086.63 228.409 2090.08 228.409 Q2093.48 228.409 2095.47 225.724 Q2097.46 223.038 2097.46 218.409 Q2097.46 213.802 2095.47 211.117 Q2093.48 208.409 2090.08 208.409 M2090.08 204.798 Q2095.64 204.798 2098.81 208.409 Q2101.98 212.02 2101.98 218.409 Q2101.98 224.775 2098.81 228.409 Q2095.64 232.02 2090.08 232.02 Q2084.5 232.02 2081.33 228.409 Q2078.18 224.775 2078.18 218.409 Q2078.18 212.02 2081.33 208.409 Q2084.5 204.798 2090.08 204.798 Z\" fill=\"#000000\" fill-rule=\"evenodd\" fill-opacity=\"1\" /><path clip-path=\"url(#clip380)\" d=\"M 0 0 M2103.39 205.423 L2107.9 205.423 L2116.01 227.182 L2124.11 205.423 L2128.62 205.423 L2118.9 231.349 L2113.11 231.349 L2103.39 205.423 Z\" fill=\"#000000\" fill-rule=\"evenodd\" fill-opacity=\"1\" /><path clip-path=\"url(#clip380)\" d=\"M 0 0 M2155.27 217.321 L2155.27 219.404 L2135.68 219.404 Q2135.96 223.802 2138.32 226.117 Q2140.71 228.409 2144.94 228.409 Q2147.4 228.409 2149.69 227.807 Q2152 227.205 2154.27 226.001 L2154.27 230.029 Q2151.98 231.001 2149.57 231.511 Q2147.16 232.02 2144.69 232.02 Q2138.48 232.02 2134.85 228.409 Q2131.24 224.798 2131.24 218.64 Q2131.24 212.275 2134.66 208.548 Q2138.11 204.798 2143.95 204.798 Q2149.18 204.798 2152.21 208.177 Q2155.27 211.534 2155.27 217.321 M2151.01 216.071 Q2150.96 212.576 2149.04 210.492 Q2147.14 208.409 2143.99 208.409 Q2140.43 208.409 2138.27 210.423 Q2136.15 212.437 2135.82 216.094 L2151.01 216.071 Z\" fill=\"#000000\" fill-rule=\"evenodd\" fill-opacity=\"1\" /><path clip-path=\"url(#clip380)\" d=\"M 0 0 M2174.76 209.404 Q2174.04 208.988 2173.18 208.802 Q2172.35 208.594 2171.33 208.594 Q2167.72 208.594 2165.77 210.955 Q2163.85 213.293 2163.85 217.691 L2163.85 231.349 L2159.57 231.349 L2159.57 205.423 L2163.85 205.423 L2163.85 209.451 Q2165.2 207.089 2167.35 205.955 Q2169.5 204.798 2172.58 204.798 Q2173.02 204.798 2173.55 204.867 Q2174.08 204.914 2174.73 205.029 L2174.76 209.404 Z\" fill=\"#000000\" fill-rule=\"evenodd\" fill-opacity=\"1\" /><path clip-path=\"url(#clip380)\" d=\"M 0 0 M2200.36 217.321 L2200.36 219.404 L2180.77 219.404 Q2181.05 223.802 2183.41 226.117 Q2185.8 228.409 2190.03 228.409 Q2192.49 228.409 2194.78 227.807 Q2197.09 227.205 2199.36 226.001 L2199.36 230.029 Q2197.07 231.001 2194.66 231.511 Q2192.26 232.02 2189.78 232.02 Q2183.58 232.02 2179.94 228.409 Q2176.33 224.798 2176.33 218.64 Q2176.33 212.275 2179.76 208.548 Q2183.21 204.798 2189.04 204.798 Q2194.27 204.798 2197.3 208.177 Q2200.36 211.534 2200.36 217.321 M2196.1 216.071 Q2196.05 212.576 2194.13 210.492 Q2192.23 208.409 2189.08 208.409 Q2185.52 208.409 2183.37 210.423 Q2181.24 212.437 2180.91 216.094 L2196.1 216.071 Z\" fill=\"#000000\" fill-rule=\"evenodd\" fill-opacity=\"1\" /><path clip-path=\"url(#clip380)\" d=\"M 0 0 M2221.89 209.358 L2221.89 195.33 L2226.14 195.33 L2226.14 231.349 L2221.89 231.349 L2221.89 227.46 Q2220.54 229.775 2218.48 230.909 Q2216.45 232.02 2213.58 232.02 Q2208.88 232.02 2205.91 228.27 Q2202.97 224.52 2202.97 218.409 Q2202.97 212.298 2205.91 208.548 Q2208.88 204.798 2213.58 204.798 Q2216.45 204.798 2218.48 205.932 Q2220.54 207.043 2221.89 209.358 M2207.37 218.409 Q2207.37 223.108 2209.29 225.793 Q2211.24 228.455 2214.62 228.455 Q2218 228.455 2219.94 225.793 Q2221.89 223.108 2221.89 218.409 Q2221.89 213.71 2219.94 211.048 Q2218 208.363 2214.62 208.363 Q2211.24 208.363 2209.29 211.048 Q2207.37 213.71 2207.37 218.409 Z\" fill=\"#000000\" fill-rule=\"evenodd\" fill-opacity=\"1\" /><polyline clip-path=\"url(#clip380)\" style=\"stroke:#3da44d; stroke-width:4; stroke-opacity:1; fill:none\" points=\"\n  1842.84,274.549 1978.41,274.549 \n  \"/>\n<path clip-path=\"url(#clip380)\" d=\"M 0 0 M2023.25 258.403 L2023.25 262.963 Q2020.59 261.69 2018.23 261.065 Q2015.87 260.44 2013.67 260.44 Q2009.85 260.44 2007.77 261.921 Q2005.71 263.403 2005.71 266.134 Q2005.71 268.426 2007.07 269.607 Q2008.46 270.764 2012.3 271.482 L2015.13 272.06 Q2020.36 273.056 2022.84 275.579 Q2025.34 278.079 2025.34 282.292 Q2025.34 287.315 2021.96 289.907 Q2018.6 292.5 2012.1 292.5 Q2009.64 292.5 2006.86 291.944 Q2004.11 291.389 2001.15 290.301 L2001.15 285.486 Q2003.99 287.083 2006.72 287.893 Q2009.46 288.704 2012.1 288.704 Q2016.1 288.704 2018.28 287.13 Q2020.45 285.556 2020.45 282.639 Q2020.45 280.093 2018.88 278.657 Q2017.33 277.222 2013.76 276.505 L2010.91 275.949 Q2005.68 274.907 2003.35 272.685 Q2001.01 270.463 2001.01 266.505 Q2001.01 261.921 2004.22 259.282 Q2007.47 256.644 2013.14 256.644 Q2015.57 256.644 2018.09 257.083 Q2020.61 257.523 2023.25 258.403 Z\" fill=\"#000000\" fill-rule=\"evenodd\" fill-opacity=\"1\" /><path clip-path=\"url(#clip380)\" d=\"M 0 0 M2029.36 281.597 L2029.36 265.903 L2033.62 265.903 L2033.62 281.435 Q2033.62 285.116 2035.06 286.968 Q2036.49 288.796 2039.36 288.796 Q2042.81 288.796 2044.8 286.597 Q2046.82 284.398 2046.82 280.602 L2046.82 265.903 L2051.08 265.903 L2051.08 291.829 L2046.82 291.829 L2046.82 287.847 Q2045.27 290.208 2043.21 291.366 Q2041.17 292.5 2038.46 292.5 Q2033.99 292.5 2031.68 289.722 Q2029.36 286.944 2029.36 281.597 M2040.08 265.278 L2040.08 265.278 Z\" fill=\"#000000\" fill-rule=\"evenodd\" fill-opacity=\"1\" /><path clip-path=\"url(#clip380)\" d=\"M 0 0 M2072.07 266.667 L2072.07 270.694 Q2070.27 269.769 2068.32 269.306 Q2066.38 268.843 2064.29 268.843 Q2061.12 268.843 2059.53 269.815 Q2057.95 270.787 2057.95 272.731 Q2057.95 274.213 2059.09 275.069 Q2060.22 275.903 2063.65 276.667 L2065.1 276.991 Q2069.64 277.963 2071.54 279.745 Q2073.46 281.505 2073.46 284.676 Q2073.46 288.287 2070.59 290.393 Q2067.74 292.5 2062.74 292.5 Q2060.66 292.5 2058.39 292.083 Q2056.15 291.69 2053.65 290.88 L2053.65 286.481 Q2056.01 287.708 2058.3 288.333 Q2060.59 288.935 2062.84 288.935 Q2065.84 288.935 2067.47 287.917 Q2069.09 286.875 2069.09 285 Q2069.09 283.264 2067.9 282.338 Q2066.75 281.412 2062.79 280.556 L2061.31 280.208 Q2057.35 279.375 2055.59 277.662 Q2053.83 275.926 2053.83 272.917 Q2053.83 269.259 2056.42 267.269 Q2059.02 265.278 2063.78 265.278 Q2066.15 265.278 2068.23 265.625 Q2070.31 265.972 2072.07 266.667 Z\" fill=\"#000000\" fill-rule=\"evenodd\" fill-opacity=\"1\" /><path clip-path=\"url(#clip380)\" d=\"M 0 0 M2096.59 266.898 L2096.59 270.88 Q2094.78 269.884 2092.95 269.398 Q2091.15 268.889 2089.29 268.889 Q2085.15 268.889 2082.86 271.528 Q2080.57 274.144 2080.57 278.889 Q2080.57 283.634 2082.86 286.273 Q2085.15 288.889 2089.29 288.889 Q2091.15 288.889 2092.95 288.403 Q2094.78 287.893 2096.59 286.898 L2096.59 290.833 Q2094.8 291.667 2092.88 292.083 Q2090.98 292.5 2088.83 292.5 Q2082.97 292.5 2079.53 288.819 Q2076.08 285.139 2076.08 278.889 Q2076.08 272.546 2079.55 268.912 Q2083.04 265.278 2089.11 265.278 Q2091.08 265.278 2092.95 265.695 Q2094.83 266.088 2096.59 266.898 Z\" fill=\"#000000\" fill-rule=\"evenodd\" fill-opacity=\"1\" /><path clip-path=\"url(#clip380)\" d=\"M 0 0 M2123.23 277.801 L2123.23 279.884 L2103.65 279.884 Q2103.92 284.282 2106.28 286.597 Q2108.67 288.889 2112.9 288.889 Q2115.36 288.889 2117.65 288.287 Q2119.96 287.685 2122.23 286.481 L2122.23 290.509 Q2119.94 291.481 2117.53 291.991 Q2115.13 292.5 2112.65 292.5 Q2106.45 292.5 2102.81 288.889 Q2099.2 285.278 2099.2 279.12 Q2099.2 272.755 2102.63 269.028 Q2106.08 265.278 2111.91 265.278 Q2117.14 265.278 2120.17 268.657 Q2123.23 272.014 2123.23 277.801 M2118.97 276.551 Q2118.92 273.056 2117 270.972 Q2115.1 268.889 2111.96 268.889 Q2108.39 268.889 2106.24 270.903 Q2104.11 272.917 2103.78 276.574 L2118.97 276.551 Z\" fill=\"#000000\" fill-rule=\"evenodd\" fill-opacity=\"1\" /><path clip-path=\"url(#clip380)\" d=\"M 0 0 M2131.82 287.94 L2131.82 301.69 L2127.53 301.69 L2127.53 265.903 L2131.82 265.903 L2131.82 269.838 Q2133.16 267.523 2135.2 266.412 Q2137.26 265.278 2140.1 265.278 Q2144.83 265.278 2147.77 269.028 Q2150.73 272.778 2150.73 278.889 Q2150.73 285 2147.77 288.75 Q2144.83 292.5 2140.1 292.5 Q2137.26 292.5 2135.2 291.389 Q2133.16 290.255 2131.82 287.94 M2146.31 278.889 Q2146.31 274.19 2144.36 271.528 Q2142.44 268.843 2139.06 268.843 Q2135.68 268.843 2133.74 271.528 Q2131.82 274.19 2131.82 278.889 Q2131.82 283.588 2133.74 286.273 Q2135.68 288.935 2139.06 288.935 Q2142.44 288.935 2144.36 286.273 Q2146.31 283.588 2146.31 278.889 Z\" fill=\"#000000\" fill-rule=\"evenodd\" fill-opacity=\"1\" /><path clip-path=\"url(#clip380)\" d=\"M 0 0 M2159.41 258.542 L2159.41 265.903 L2168.18 265.903 L2168.18 269.213 L2159.41 269.213 L2159.41 283.287 Q2159.41 286.458 2160.27 287.361 Q2161.15 288.264 2163.81 288.264 L2168.18 288.264 L2168.18 291.829 L2163.81 291.829 Q2158.88 291.829 2157 290 Q2155.13 288.148 2155.13 283.287 L2155.13 269.213 L2152 269.213 L2152 265.903 L2155.13 265.903 L2155.13 258.542 L2159.41 258.542 Z\" fill=\"#000000\" fill-rule=\"evenodd\" fill-opacity=\"1\" /><path clip-path=\"url(#clip380)\" d=\"M 0 0 M2172.65 265.903 L2176.91 265.903 L2176.91 291.829 L2172.65 291.829 L2172.65 265.903 M2172.65 255.81 L2176.91 255.81 L2176.91 261.204 L2172.65 261.204 L2172.65 255.81 Z\" fill=\"#000000\" fill-rule=\"evenodd\" fill-opacity=\"1\" /><path clip-path=\"url(#clip380)\" d=\"M 0 0 M2199.99 278.889 Q2199.99 274.19 2198.04 271.528 Q2196.12 268.843 2192.74 268.843 Q2189.36 268.843 2187.42 271.528 Q2185.5 274.19 2185.5 278.889 Q2185.5 283.588 2187.42 286.273 Q2189.36 288.935 2192.74 288.935 Q2196.12 288.935 2198.04 286.273 Q2199.99 283.588 2199.99 278.889 M2185.5 269.838 Q2186.84 267.523 2188.88 266.412 Q2190.94 265.278 2193.78 265.278 Q2198.51 265.278 2201.45 269.028 Q2204.41 272.778 2204.41 278.889 Q2204.41 285 2201.45 288.75 Q2198.51 292.5 2193.78 292.5 Q2190.94 292.5 2188.88 291.389 Q2186.84 290.255 2185.5 287.94 L2185.5 291.829 L2181.21 291.829 L2181.21 255.81 L2185.5 255.81 L2185.5 269.838 Z\" fill=\"#000000\" fill-rule=\"evenodd\" fill-opacity=\"1\" /><path clip-path=\"url(#clip380)\" d=\"M 0 0 M2208.88 255.81 L2213.14 255.81 L2213.14 291.829 L2208.88 291.829 L2208.88 255.81 Z\" fill=\"#000000\" fill-rule=\"evenodd\" fill-opacity=\"1\" /><path clip-path=\"url(#clip380)\" d=\"M 0 0 M2239.78 277.801 L2239.78 279.884 L2220.2 279.884 Q2220.47 284.282 2222.83 286.597 Q2225.22 288.889 2229.45 288.889 Q2231.91 288.889 2234.2 288.287 Q2236.52 287.685 2238.78 286.481 L2238.78 290.509 Q2236.49 291.481 2234.08 291.991 Q2231.68 292.5 2229.2 292.5 Q2223 292.5 2219.36 288.889 Q2215.75 285.278 2215.75 279.12 Q2215.75 272.755 2219.18 269.028 Q2222.63 265.278 2228.46 265.278 Q2233.69 265.278 2236.72 268.657 Q2239.78 272.014 2239.78 277.801 M2235.52 276.551 Q2235.47 273.056 2233.55 270.972 Q2231.65 268.889 2228.51 268.889 Q2224.94 268.889 2222.79 270.903 Q2220.66 272.917 2220.33 276.574 L2235.52 276.551 Z\" fill=\"#000000\" fill-rule=\"evenodd\" fill-opacity=\"1\" /></svg>\n",
      "text/html": [
       "<?xml version=\"1.0\" encoding=\"utf-8\"?>\n",
       "<svg xmlns=\"http://www.w3.org/2000/svg\" xmlns:xlink=\"http://www.w3.org/1999/xlink\" width=\"600\" height=\"400\" viewBox=\"0 0 2400 1600\">\n",
       "<defs>\n",
       "  <clipPath id=\"clip430\">\n",
       "    <rect x=\"0\" y=\"0\" width=\"2400\" height=\"1600\"/>\n",
       "  </clipPath>\n",
       "</defs>\n",
       "<path clip-path=\"url(#clip430)\" d=\"\n",
       "M0 1600 L2400 1600 L2400 0 L0 0  Z\n",
       "  \" fill=\"#ffffff\" fill-rule=\"evenodd\" fill-opacity=\"1\"/>\n",
       "<defs>\n",
       "  <clipPath id=\"clip431\">\n",
       "    <rect x=\"480\" y=\"0\" width=\"1681\" height=\"1600\"/>\n",
       "  </clipPath>\n",
       "</defs>\n",
       "<path clip-path=\"url(#clip430)\" d=\"\n",
       "M319.171 1423.18 L2352.76 1423.18 L2352.76 47.2441 L319.171 47.2441  Z\n",
       "  \" fill=\"#ffffff\" fill-rule=\"evenodd\" fill-opacity=\"1\"/>\n",
       "<defs>\n",
       "  <clipPath id=\"clip432\">\n",
       "    <rect x=\"319\" y=\"47\" width=\"2035\" height=\"1377\"/>\n",
       "  </clipPath>\n",
       "</defs>\n",
       "<polyline clip-path=\"url(#clip432)\" style=\"stroke:#000000; stroke-width:2; stroke-opacity:0.1; fill:none\" points=\"\n",
       "  337.573,1423.18 337.573,47.2441 \n",
       "  \"/>\n",
       "<polyline clip-path=\"url(#clip432)\" style=\"stroke:#000000; stroke-width:2; stroke-opacity:0.1; fill:none\" points=\"\n",
       "  729.099,1423.18 729.099,47.2441 \n",
       "  \"/>\n",
       "<polyline clip-path=\"url(#clip432)\" style=\"stroke:#000000; stroke-width:2; stroke-opacity:0.1; fill:none\" points=\"\n",
       "  1120.62,1423.18 1120.62,47.2441 \n",
       "  \"/>\n",
       "<polyline clip-path=\"url(#clip432)\" style=\"stroke:#000000; stroke-width:2; stroke-opacity:0.1; fill:none\" points=\"\n",
       "  1512.15,1423.18 1512.15,47.2441 \n",
       "  \"/>\n",
       "<polyline clip-path=\"url(#clip432)\" style=\"stroke:#000000; stroke-width:2; stroke-opacity:0.1; fill:none\" points=\"\n",
       "  1903.68,1423.18 1903.68,47.2441 \n",
       "  \"/>\n",
       "<polyline clip-path=\"url(#clip432)\" style=\"stroke:#000000; stroke-width:2; stroke-opacity:0.1; fill:none\" points=\"\n",
       "  2295.2,1423.18 2295.2,47.2441 \n",
       "  \"/>\n",
       "<polyline clip-path=\"url(#clip430)\" style=\"stroke:#000000; stroke-width:4; stroke-opacity:1; fill:none\" points=\"\n",
       "  319.171,1423.18 2352.76,1423.18 \n",
       "  \"/>\n",
       "<polyline clip-path=\"url(#clip430)\" style=\"stroke:#000000; stroke-width:4; stroke-opacity:1; fill:none\" points=\"\n",
       "  337.573,1423.18 337.573,1406.67 \n",
       "  \"/>\n",
       "<polyline clip-path=\"url(#clip430)\" style=\"stroke:#000000; stroke-width:4; stroke-opacity:1; fill:none\" points=\"\n",
       "  729.099,1423.18 729.099,1406.67 \n",
       "  \"/>\n",
       "<polyline clip-path=\"url(#clip430)\" style=\"stroke:#000000; stroke-width:4; stroke-opacity:1; fill:none\" points=\"\n",
       "  1120.62,1423.18 1120.62,1406.67 \n",
       "  \"/>\n",
       "<polyline clip-path=\"url(#clip430)\" style=\"stroke:#000000; stroke-width:4; stroke-opacity:1; fill:none\" points=\"\n",
       "  1512.15,1423.18 1512.15,1406.67 \n",
       "  \"/>\n",
       "<polyline clip-path=\"url(#clip430)\" style=\"stroke:#000000; stroke-width:4; stroke-opacity:1; fill:none\" points=\"\n",
       "  1903.68,1423.18 1903.68,1406.67 \n",
       "  \"/>\n",
       "<polyline clip-path=\"url(#clip430)\" style=\"stroke:#000000; stroke-width:4; stroke-opacity:1; fill:none\" points=\"\n",
       "  2295.2,1423.18 2295.2,1406.67 \n",
       "  \"/>\n",
       "<path clip-path=\"url(#clip430)\" d=\"M 0 0 M337.573 1452.37 Q333.962 1452.37 332.133 1455.94 Q330.328 1459.48 330.328 1466.61 Q330.328 1473.71 332.133 1477.28 Q333.962 1480.82 337.573 1480.82 Q341.207 1480.82 343.013 1477.28 Q344.841 1473.71 344.841 1466.61 Q344.841 1459.48 343.013 1455.94 Q341.207 1452.37 337.573 1452.37 M337.573 1448.67 Q343.383 1448.67 346.439 1453.27 Q349.517 1457.86 349.517 1466.61 Q349.517 1475.33 346.439 1479.94 Q343.383 1484.52 337.573 1484.52 Q331.763 1484.52 328.684 1479.94 Q325.629 1475.33 325.629 1466.61 Q325.629 1457.86 328.684 1453.27 Q331.763 1448.67 337.573 1448.67 Z\" fill=\"#000000\" fill-rule=\"evenodd\" fill-opacity=\"1\" /><path clip-path=\"url(#clip430)\" d=\"M 0 0 M705.974 1479.92 L713.613 1479.92 L713.613 1453.55 L705.303 1455.22 L705.303 1450.96 L713.566 1449.29 L718.242 1449.29 L718.242 1479.92 L725.881 1479.92 L725.881 1483.85 L705.974 1483.85 L705.974 1479.92 Z\" fill=\"#000000\" fill-rule=\"evenodd\" fill-opacity=\"1\" /><path clip-path=\"url(#clip430)\" d=\"M 0 0 M740.951 1452.37 Q737.339 1452.37 735.511 1455.94 Q733.705 1459.48 733.705 1466.61 Q733.705 1473.71 735.511 1477.28 Q737.339 1480.82 740.951 1480.82 Q744.585 1480.82 746.39 1477.28 Q748.219 1473.71 748.219 1466.61 Q748.219 1459.48 746.39 1455.94 Q744.585 1452.37 740.951 1452.37 M740.951 1448.67 Q746.761 1448.67 749.816 1453.27 Q752.895 1457.86 752.895 1466.61 Q752.895 1475.33 749.816 1479.94 Q746.761 1484.52 740.951 1484.52 Q735.14 1484.52 732.062 1479.94 Q729.006 1475.33 729.006 1466.61 Q729.006 1457.86 732.062 1453.27 Q735.14 1448.67 740.951 1448.67 Z\" fill=\"#000000\" fill-rule=\"evenodd\" fill-opacity=\"1\" /><path clip-path=\"url(#clip430)\" d=\"M 0 0 M1101.77 1479.92 L1118.09 1479.92 L1118.09 1483.85 L1096.15 1483.85 L1096.15 1479.92 Q1098.81 1477.16 1103.39 1472.53 Q1108 1467.88 1109.18 1466.54 Q1111.42 1464.01 1112.3 1462.28 Q1113.21 1460.52 1113.21 1458.83 Q1113.21 1456.07 1111.26 1454.34 Q1109.34 1452.6 1106.24 1452.6 Q1104.04 1452.6 1101.59 1453.37 Q1099.15 1454.13 1096.38 1455.68 L1096.38 1450.96 Q1099.2 1449.82 1101.65 1449.25 Q1104.11 1448.67 1106.15 1448.67 Q1111.52 1448.67 1114.71 1451.35 Q1117.9 1454.04 1117.9 1458.53 Q1117.9 1460.66 1117.09 1462.58 Q1116.31 1464.48 1114.2 1467.07 Q1113.62 1467.74 1110.52 1470.96 Q1107.42 1474.15 1101.77 1479.92 Z\" fill=\"#000000\" fill-rule=\"evenodd\" fill-opacity=\"1\" /><path clip-path=\"url(#clip430)\" d=\"M 0 0 M1133.16 1452.37 Q1129.55 1452.37 1127.72 1455.94 Q1125.91 1459.48 1125.91 1466.61 Q1125.91 1473.71 1127.72 1477.28 Q1129.55 1480.82 1133.16 1480.82 Q1136.79 1480.82 1138.6 1477.28 Q1140.43 1473.71 1140.43 1466.61 Q1140.43 1459.48 1138.6 1455.94 Q1136.79 1452.37 1133.16 1452.37 M1133.16 1448.67 Q1138.97 1448.67 1142.02 1453.27 Q1145.1 1457.86 1145.1 1466.61 Q1145.1 1475.33 1142.02 1479.94 Q1138.97 1484.52 1133.16 1484.52 Q1127.35 1484.52 1124.27 1479.94 Q1121.21 1475.33 1121.21 1466.61 Q1121.21 1457.86 1124.27 1453.27 Q1127.35 1448.67 1133.16 1448.67 Z\" fill=\"#000000\" fill-rule=\"evenodd\" fill-opacity=\"1\" /><path clip-path=\"url(#clip430)\" d=\"M 0 0 M1502.89 1465.22 Q1506.25 1465.94 1508.12 1468.2 Q1510.02 1470.47 1510.02 1473.81 Q1510.02 1478.92 1506.5 1481.72 Q1502.98 1484.52 1496.5 1484.52 Q1494.33 1484.52 1492.01 1484.08 Q1489.72 1483.67 1487.27 1482.81 L1487.27 1478.3 Q1489.21 1479.43 1491.53 1480.01 Q1493.84 1480.59 1496.36 1480.59 Q1500.76 1480.59 1503.05 1478.85 Q1505.37 1477.12 1505.37 1473.81 Q1505.37 1470.75 1503.22 1469.04 Q1501.09 1467.3 1497.27 1467.3 L1493.24 1467.3 L1493.24 1463.46 L1497.45 1463.46 Q1500.9 1463.46 1502.73 1462.09 Q1504.56 1460.7 1504.56 1458.11 Q1504.56 1455.45 1502.66 1454.04 Q1500.78 1452.6 1497.27 1452.6 Q1495.34 1452.6 1493.15 1453.02 Q1490.95 1453.44 1488.31 1454.31 L1488.31 1450.15 Q1490.97 1449.41 1493.28 1449.04 Q1495.62 1448.67 1497.68 1448.67 Q1503.01 1448.67 1506.11 1451.1 Q1509.21 1453.5 1509.21 1457.63 Q1509.21 1460.5 1507.57 1462.49 Q1505.92 1464.45 1502.89 1465.22 Z\" fill=\"#000000\" fill-rule=\"evenodd\" fill-opacity=\"1\" /><path clip-path=\"url(#clip430)\" d=\"M 0 0 M1525.09 1452.37 Q1521.48 1452.37 1519.65 1455.94 Q1517.84 1459.48 1517.84 1466.61 Q1517.84 1473.71 1519.65 1477.28 Q1521.48 1480.82 1525.09 1480.82 Q1528.72 1480.82 1530.53 1477.28 Q1532.36 1473.71 1532.36 1466.61 Q1532.36 1459.48 1530.53 1455.94 Q1528.72 1452.37 1525.09 1452.37 M1525.09 1448.67 Q1530.9 1448.67 1533.96 1453.27 Q1537.03 1457.86 1537.03 1466.61 Q1537.03 1475.33 1533.96 1479.94 Q1530.9 1484.52 1525.09 1484.52 Q1519.28 1484.52 1516.2 1479.94 Q1513.15 1475.33 1513.15 1466.61 Q1513.15 1457.86 1516.2 1453.27 Q1519.28 1448.67 1525.09 1448.67 Z\" fill=\"#000000\" fill-rule=\"evenodd\" fill-opacity=\"1\" /><path clip-path=\"url(#clip430)\" d=\"M 0 0 M1893.18 1453.37 L1881.37 1471.81 L1893.18 1471.81 L1893.18 1453.37 M1891.95 1449.29 L1897.83 1449.29 L1897.83 1471.81 L1902.76 1471.81 L1902.76 1475.7 L1897.83 1475.7 L1897.83 1483.85 L1893.18 1483.85 L1893.18 1475.7 L1877.58 1475.7 L1877.58 1471.19 L1891.95 1449.29 Z\" fill=\"#000000\" fill-rule=\"evenodd\" fill-opacity=\"1\" /><path clip-path=\"url(#clip430)\" d=\"M 0 0 M1917.83 1452.37 Q1914.22 1452.37 1912.39 1455.94 Q1910.59 1459.48 1910.59 1466.61 Q1910.59 1473.71 1912.39 1477.28 Q1914.22 1480.82 1917.83 1480.82 Q1921.47 1480.82 1923.27 1477.28 Q1925.1 1473.71 1925.1 1466.61 Q1925.1 1459.48 1923.27 1455.94 Q1921.47 1452.37 1917.83 1452.37 M1917.83 1448.67 Q1923.64 1448.67 1926.7 1453.27 Q1929.78 1457.86 1929.78 1466.61 Q1929.78 1475.33 1926.7 1479.94 Q1923.64 1484.52 1917.83 1484.52 Q1912.02 1484.52 1908.94 1479.94 Q1905.89 1475.33 1905.89 1466.61 Q1905.89 1457.86 1908.94 1453.27 Q1912.02 1448.67 1917.83 1448.67 Z\" fill=\"#000000\" fill-rule=\"evenodd\" fill-opacity=\"1\" /><path clip-path=\"url(#clip430)\" d=\"M 0 0 M2271.97 1449.29 L2290.33 1449.29 L2290.33 1453.23 L2276.25 1453.23 L2276.25 1461.7 Q2277.27 1461.35 2278.29 1461.19 Q2279.31 1461 2280.33 1461 Q2286.12 1461 2289.5 1464.18 Q2292.88 1467.35 2292.88 1472.76 Q2292.88 1478.34 2289.4 1481.44 Q2285.93 1484.52 2279.61 1484.52 Q2277.44 1484.52 2275.17 1484.15 Q2272.92 1483.78 2270.51 1483.04 L2270.51 1478.34 Q2272.6 1479.48 2274.82 1480.03 Q2277.04 1480.59 2279.52 1480.59 Q2283.52 1480.59 2285.86 1478.48 Q2288.2 1476.38 2288.2 1472.76 Q2288.2 1469.15 2285.86 1467.05 Q2283.52 1464.94 2279.52 1464.94 Q2277.64 1464.94 2275.77 1465.36 Q2273.92 1465.77 2271.97 1466.65 L2271.97 1449.29 Z\" fill=\"#000000\" fill-rule=\"evenodd\" fill-opacity=\"1\" /><path clip-path=\"url(#clip430)\" d=\"M 0 0 M2307.94 1452.37 Q2304.33 1452.37 2302.5 1455.94 Q2300.7 1459.48 2300.7 1466.61 Q2300.7 1473.71 2302.5 1477.28 Q2304.33 1480.82 2307.94 1480.82 Q2311.58 1480.82 2313.38 1477.28 Q2315.21 1473.71 2315.21 1466.61 Q2315.21 1459.48 2313.38 1455.94 Q2311.58 1452.37 2307.94 1452.37 M2307.94 1448.67 Q2313.75 1448.67 2316.81 1453.27 Q2319.89 1457.86 2319.89 1466.61 Q2319.89 1475.33 2316.81 1479.94 Q2313.75 1484.52 2307.94 1484.52 Q2302.13 1484.52 2299.06 1479.94 Q2296 1475.33 2296 1466.61 Q2296 1457.86 2299.06 1453.27 Q2302.13 1448.67 2307.94 1448.67 Z\" fill=\"#000000\" fill-rule=\"evenodd\" fill-opacity=\"1\" /><path clip-path=\"url(#clip430)\" d=\"M 0 0 M1335.02 1510.27 L1335.02 1520.4 L1347.09 1520.4 L1347.09 1524.95 L1335.02 1524.95 L1335.02 1544.3 Q1335.02 1548.66 1336.2 1549.9 Q1337.41 1551.14 1341.07 1551.14 L1347.09 1551.14 L1347.09 1556.04 L1341.07 1556.04 Q1334.29 1556.04 1331.71 1553.53 Q1329.14 1550.98 1329.14 1544.3 L1329.14 1524.95 L1324.84 1524.95 L1324.84 1520.4 L1329.14 1520.4 L1329.14 1510.27 L1335.02 1510.27 Z\" fill=\"#000000\" fill-rule=\"evenodd\" fill-opacity=\"1\" /><polyline clip-path=\"url(#clip432)\" style=\"stroke:#000000; stroke-width:2; stroke-opacity:0.1; fill:none\" points=\"\n",
       "  319.171,1384.24 2352.76,1384.24 \n",
       "  \"/>\n",
       "<polyline clip-path=\"url(#clip432)\" style=\"stroke:#000000; stroke-width:2; stroke-opacity:0.1; fill:none\" points=\"\n",
       "  319.171,1061.2 2352.76,1061.2 \n",
       "  \"/>\n",
       "<polyline clip-path=\"url(#clip432)\" style=\"stroke:#000000; stroke-width:2; stroke-opacity:0.1; fill:none\" points=\"\n",
       "  319.171,738.162 2352.76,738.162 \n",
       "  \"/>\n",
       "<polyline clip-path=\"url(#clip432)\" style=\"stroke:#000000; stroke-width:2; stroke-opacity:0.1; fill:none\" points=\"\n",
       "  319.171,415.124 2352.76,415.124 \n",
       "  \"/>\n",
       "<polyline clip-path=\"url(#clip432)\" style=\"stroke:#000000; stroke-width:2; stroke-opacity:0.1; fill:none\" points=\"\n",
       "  319.171,92.0858 2352.76,92.0858 \n",
       "  \"/>\n",
       "<polyline clip-path=\"url(#clip430)\" style=\"stroke:#000000; stroke-width:4; stroke-opacity:1; fill:none\" points=\"\n",
       "  319.171,1423.18 319.171,47.2441 \n",
       "  \"/>\n",
       "<polyline clip-path=\"url(#clip430)\" style=\"stroke:#000000; stroke-width:4; stroke-opacity:1; fill:none\" points=\"\n",
       "  319.171,1384.24 343.574,1384.24 \n",
       "  \"/>\n",
       "<polyline clip-path=\"url(#clip430)\" style=\"stroke:#000000; stroke-width:4; stroke-opacity:1; fill:none\" points=\"\n",
       "  319.171,1061.2 343.574,1061.2 \n",
       "  \"/>\n",
       "<polyline clip-path=\"url(#clip430)\" style=\"stroke:#000000; stroke-width:4; stroke-opacity:1; fill:none\" points=\"\n",
       "  319.171,738.162 343.574,738.162 \n",
       "  \"/>\n",
       "<polyline clip-path=\"url(#clip430)\" style=\"stroke:#000000; stroke-width:4; stroke-opacity:1; fill:none\" points=\"\n",
       "  319.171,415.124 343.574,415.124 \n",
       "  \"/>\n",
       "<polyline clip-path=\"url(#clip430)\" style=\"stroke:#000000; stroke-width:4; stroke-opacity:1; fill:none\" points=\"\n",
       "  319.171,92.0858 343.574,92.0858 \n",
       "  \"/>\n",
       "<path clip-path=\"url(#clip430)\" d=\"M 0 0 M126.205 1370.04 Q122.593 1370.04 120.765 1373.6 Q118.959 1377.14 118.959 1384.27 Q118.959 1391.38 120.765 1394.94 Q122.593 1398.49 126.205 1398.49 Q129.839 1398.49 131.644 1394.94 Q133.473 1391.38 133.473 1384.27 Q133.473 1377.14 131.644 1373.6 Q129.839 1370.04 126.205 1370.04 M126.205 1366.33 Q132.015 1366.33 135.07 1370.94 Q138.149 1375.52 138.149 1384.27 Q138.149 1393 135.07 1397.61 Q132.015 1402.19 126.205 1402.19 Q120.394 1402.19 117.316 1397.61 Q114.26 1393 114.26 1384.27 Q114.26 1375.52 117.316 1370.94 Q120.394 1366.33 126.205 1366.33 Z\" fill=\"#000000\" fill-rule=\"evenodd\" fill-opacity=\"1\" /><path clip-path=\"url(#clip430)\" d=\"M 0 0 M143.218 1395.64 L148.103 1395.64 L148.103 1401.52 L143.218 1401.52 L143.218 1395.64 Z\" fill=\"#000000\" fill-rule=\"evenodd\" fill-opacity=\"1\" /><path clip-path=\"url(#clip430)\" d=\"M 0 0 M163.172 1370.04 Q159.561 1370.04 157.732 1373.6 Q155.927 1377.14 155.927 1384.27 Q155.927 1391.38 157.732 1394.94 Q159.561 1398.49 163.172 1398.49 Q166.806 1398.49 168.612 1394.94 Q170.44 1391.38 170.44 1384.27 Q170.44 1377.14 168.612 1373.6 Q166.806 1370.04 163.172 1370.04 M163.172 1366.33 Q168.982 1366.33 172.038 1370.94 Q175.116 1375.52 175.116 1384.27 Q175.116 1393 172.038 1397.61 Q168.982 1402.19 163.172 1402.19 Q157.362 1402.19 154.283 1397.61 Q151.228 1393 151.228 1384.27 Q151.228 1375.52 154.283 1370.94 Q157.362 1366.33 163.172 1366.33 Z\" fill=\"#000000\" fill-rule=\"evenodd\" fill-opacity=\"1\" /><path clip-path=\"url(#clip430)\" d=\"M 0 0 M190.186 1370.04 Q186.575 1370.04 184.746 1373.6 Q182.94 1377.14 182.94 1384.27 Q182.94 1391.38 184.746 1394.94 Q186.575 1398.49 190.186 1398.49 Q193.82 1398.49 195.625 1394.94 Q197.454 1391.38 197.454 1384.27 Q197.454 1377.14 195.625 1373.6 Q193.82 1370.04 190.186 1370.04 M190.186 1366.33 Q195.996 1366.33 199.051 1370.94 Q202.13 1375.52 202.13 1384.27 Q202.13 1393 199.051 1397.61 Q195.996 1402.19 190.186 1402.19 Q184.376 1402.19 181.297 1397.61 Q178.241 1393 178.241 1384.27 Q178.241 1375.52 181.297 1370.94 Q184.376 1366.33 190.186 1366.33 Z\" fill=\"#000000\" fill-rule=\"evenodd\" fill-opacity=\"1\" /><path clip-path=\"url(#clip430)\" d=\"M 0 0 M217.199 1370.04 Q213.588 1370.04 211.76 1373.6 Q209.954 1377.14 209.954 1384.27 Q209.954 1391.38 211.76 1394.94 Q213.588 1398.49 217.199 1398.49 Q220.834 1398.49 222.639 1394.94 Q224.468 1391.38 224.468 1384.27 Q224.468 1377.14 222.639 1373.6 Q220.834 1370.04 217.199 1370.04 M217.199 1366.33 Q223.01 1366.33 226.065 1370.94 Q229.144 1375.52 229.144 1384.27 Q229.144 1393 226.065 1397.61 Q223.01 1402.19 217.199 1402.19 Q211.389 1402.19 208.311 1397.61 Q205.255 1393 205.255 1384.27 Q205.255 1375.52 208.311 1370.94 Q211.389 1366.33 217.199 1366.33 Z\" fill=\"#000000\" fill-rule=\"evenodd\" fill-opacity=\"1\" /><path clip-path=\"url(#clip430)\" d=\"M 0 0 M244.213 1370.04 Q240.602 1370.04 238.773 1373.6 Q236.968 1377.14 236.968 1384.27 Q236.968 1391.38 238.773 1394.94 Q240.602 1398.49 244.213 1398.49 Q247.847 1398.49 249.653 1394.94 Q251.482 1391.38 251.482 1384.27 Q251.482 1377.14 249.653 1373.6 Q247.847 1370.04 244.213 1370.04 M244.213 1366.33 Q250.023 1366.33 253.079 1370.94 Q256.158 1375.52 256.158 1384.27 Q256.158 1393 253.079 1397.61 Q250.023 1402.19 244.213 1402.19 Q238.403 1402.19 235.324 1397.61 Q232.269 1393 232.269 1384.27 Q232.269 1375.52 235.324 1370.94 Q238.403 1366.33 244.213 1366.33 Z\" fill=\"#000000\" fill-rule=\"evenodd\" fill-opacity=\"1\" /><path clip-path=\"url(#clip430)\" d=\"M 0 0 M271.227 1370.04 Q267.616 1370.04 265.787 1373.6 Q263.982 1377.14 263.982 1384.27 Q263.982 1391.38 265.787 1394.94 Q267.616 1398.49 271.227 1398.49 Q274.861 1398.49 276.667 1394.94 Q278.495 1391.38 278.495 1384.27 Q278.495 1377.14 276.667 1373.6 Q274.861 1370.04 271.227 1370.04 M271.227 1366.33 Q277.037 1366.33 280.093 1370.94 Q283.171 1375.52 283.171 1384.27 Q283.171 1393 280.093 1397.61 Q277.037 1402.19 271.227 1402.19 Q265.417 1402.19 262.338 1397.61 Q259.283 1393 259.283 1384.27 Q259.283 1375.52 262.338 1370.94 Q265.417 1366.33 271.227 1366.33 Z\" fill=\"#000000\" fill-rule=\"evenodd\" fill-opacity=\"1\" /><path clip-path=\"url(#clip430)\" d=\"M 0 0 M128.797 1047 Q125.186 1047 123.357 1050.56 Q121.552 1054.11 121.552 1061.23 Q121.552 1068.34 123.357 1071.91 Q125.186 1075.45 128.797 1075.45 Q132.431 1075.45 134.237 1071.91 Q136.066 1068.34 136.066 1061.23 Q136.066 1054.11 134.237 1050.56 Q132.431 1047 128.797 1047 M128.797 1043.3 Q134.607 1043.3 137.663 1047.9 Q140.741 1052.48 140.741 1061.23 Q140.741 1069.96 137.663 1074.57 Q134.607 1079.15 128.797 1079.15 Q122.987 1079.15 119.908 1074.57 Q116.853 1069.96 116.853 1061.23 Q116.853 1052.48 119.908 1047.9 Q122.987 1043.3 128.797 1043.3 Z\" fill=\"#000000\" fill-rule=\"evenodd\" fill-opacity=\"1\" /><path clip-path=\"url(#clip430)\" d=\"M 0 0 M145.811 1072.6 L150.695 1072.6 L150.695 1078.48 L145.811 1078.48 L145.811 1072.6 Z\" fill=\"#000000\" fill-rule=\"evenodd\" fill-opacity=\"1\" /><path clip-path=\"url(#clip430)\" d=\"M 0 0 M165.765 1047 Q162.153 1047 160.325 1050.56 Q158.519 1054.11 158.519 1061.23 Q158.519 1068.34 160.325 1071.91 Q162.153 1075.45 165.765 1075.45 Q169.399 1075.45 171.204 1071.91 Q173.033 1068.34 173.033 1061.23 Q173.033 1054.11 171.204 1050.56 Q169.399 1047 165.765 1047 M165.765 1043.3 Q171.575 1043.3 174.63 1047.9 Q177.709 1052.48 177.709 1061.23 Q177.709 1069.96 174.63 1074.57 Q171.575 1079.15 165.765 1079.15 Q159.954 1079.15 156.876 1074.57 Q153.82 1069.96 153.82 1061.23 Q153.82 1052.48 156.876 1047.9 Q159.954 1043.3 165.765 1043.3 Z\" fill=\"#000000\" fill-rule=\"evenodd\" fill-opacity=\"1\" /><path clip-path=\"url(#clip430)\" d=\"M 0 0 M192.778 1047 Q189.167 1047 187.338 1050.56 Q185.533 1054.11 185.533 1061.23 Q185.533 1068.34 187.338 1071.91 Q189.167 1075.45 192.778 1075.45 Q196.412 1075.45 198.218 1071.91 Q200.047 1068.34 200.047 1061.23 Q200.047 1054.11 198.218 1050.56 Q196.412 1047 192.778 1047 M192.778 1043.3 Q198.588 1043.3 201.644 1047.9 Q204.723 1052.48 204.723 1061.23 Q204.723 1069.96 201.644 1074.57 Q198.588 1079.15 192.778 1079.15 Q186.968 1079.15 183.889 1074.57 Q180.834 1069.96 180.834 1061.23 Q180.834 1052.48 183.889 1047.9 Q186.968 1043.3 192.778 1043.3 Z\" fill=\"#000000\" fill-rule=\"evenodd\" fill-opacity=\"1\" /><path clip-path=\"url(#clip430)\" d=\"M 0 0 M219.792 1047 Q216.181 1047 214.352 1050.56 Q212.547 1054.11 212.547 1061.23 Q212.547 1068.34 214.352 1071.91 Q216.181 1075.45 219.792 1075.45 Q223.426 1075.45 225.232 1071.91 Q227.06 1068.34 227.06 1061.23 Q227.06 1054.11 225.232 1050.56 Q223.426 1047 219.792 1047 M219.792 1043.3 Q225.602 1043.3 228.658 1047.9 Q231.736 1052.48 231.736 1061.23 Q231.736 1069.96 228.658 1074.57 Q225.602 1079.15 219.792 1079.15 Q213.982 1079.15 210.903 1074.57 Q207.848 1069.96 207.848 1061.23 Q207.848 1052.48 210.903 1047.9 Q213.982 1043.3 219.792 1043.3 Z\" fill=\"#000000\" fill-rule=\"evenodd\" fill-opacity=\"1\" /><path clip-path=\"url(#clip430)\" d=\"M 0 0 M240.834 1074.54 L257.153 1074.54 L257.153 1078.48 L235.209 1078.48 L235.209 1074.54 Q237.871 1071.79 242.454 1067.16 Q247.06 1062.51 248.241 1061.17 Q250.486 1058.64 251.366 1056.91 Q252.269 1055.15 252.269 1053.46 Q252.269 1050.7 250.324 1048.97 Q248.403 1047.23 245.301 1047.23 Q243.102 1047.23 240.648 1047.99 Q238.218 1048.76 235.44 1050.31 L235.44 1045.59 Q238.264 1044.45 240.718 1043.87 Q243.172 1043.3 245.209 1043.3 Q250.579 1043.3 253.773 1045.98 Q256.968 1048.67 256.968 1053.16 Q256.968 1055.29 256.158 1057.21 Q255.371 1059.11 253.264 1061.7 Q252.685 1062.37 249.584 1065.59 Q246.482 1068.78 240.834 1074.54 Z\" fill=\"#000000\" fill-rule=\"evenodd\" fill-opacity=\"1\" /><path clip-path=\"url(#clip430)\" d=\"M 0 0 M262.269 1043.92 L280.625 1043.92 L280.625 1047.86 L266.551 1047.86 L266.551 1056.33 Q267.57 1055.98 268.588 1055.82 Q269.607 1055.63 270.625 1055.63 Q276.412 1055.63 279.792 1058.8 Q283.171 1061.98 283.171 1067.39 Q283.171 1072.97 279.699 1076.07 Q276.227 1079.15 269.907 1079.15 Q267.732 1079.15 265.463 1078.78 Q263.218 1078.41 260.81 1077.67 L260.81 1072.97 Q262.894 1074.11 265.116 1074.66 Q267.338 1075.22 269.815 1075.22 Q273.819 1075.22 276.157 1073.11 Q278.495 1071 278.495 1067.39 Q278.495 1063.78 276.157 1061.67 Q273.819 1059.57 269.815 1059.57 Q267.94 1059.57 266.065 1059.98 Q264.213 1060.4 262.269 1061.28 L262.269 1043.92 Z\" fill=\"#000000\" fill-rule=\"evenodd\" fill-opacity=\"1\" /><path clip-path=\"url(#clip430)\" d=\"M 0 0 M127.2 723.961 Q123.589 723.961 121.76 727.526 Q119.955 731.067 119.955 738.197 Q119.955 745.303 121.76 748.868 Q123.589 752.41 127.2 752.41 Q130.834 752.41 132.64 748.868 Q134.468 745.303 134.468 738.197 Q134.468 731.067 132.64 727.526 Q130.834 723.961 127.2 723.961 M127.2 720.257 Q133.01 720.257 136.066 724.863 Q139.144 729.447 139.144 738.197 Q139.144 746.924 136.066 751.53 Q133.01 756.113 127.2 756.113 Q121.39 756.113 118.311 751.53 Q115.256 746.924 115.256 738.197 Q115.256 729.447 118.311 724.863 Q121.39 720.257 127.2 720.257 Z\" fill=\"#000000\" fill-rule=\"evenodd\" fill-opacity=\"1\" /><path clip-path=\"url(#clip430)\" d=\"M 0 0 M144.214 749.562 L149.098 749.562 L149.098 755.442 L144.214 755.442 L144.214 749.562 Z\" fill=\"#000000\" fill-rule=\"evenodd\" fill-opacity=\"1\" /><path clip-path=\"url(#clip430)\" d=\"M 0 0 M164.167 723.961 Q160.556 723.961 158.728 727.526 Q156.922 731.067 156.922 738.197 Q156.922 745.303 158.728 748.868 Q160.556 752.41 164.167 752.41 Q167.802 752.41 169.607 748.868 Q171.436 745.303 171.436 738.197 Q171.436 731.067 169.607 727.526 Q167.802 723.961 164.167 723.961 M164.167 720.257 Q169.977 720.257 173.033 724.863 Q176.112 729.447 176.112 738.197 Q176.112 746.924 173.033 751.53 Q169.977 756.113 164.167 756.113 Q158.357 756.113 155.278 751.53 Q152.223 746.924 152.223 738.197 Q152.223 729.447 155.278 724.863 Q158.357 720.257 164.167 720.257 Z\" fill=\"#000000\" fill-rule=\"evenodd\" fill-opacity=\"1\" /><path clip-path=\"url(#clip430)\" d=\"M 0 0 M191.181 723.961 Q187.57 723.961 185.741 727.526 Q183.936 731.067 183.936 738.197 Q183.936 745.303 185.741 748.868 Q187.57 752.41 191.181 752.41 Q194.815 752.41 196.621 748.868 Q198.45 745.303 198.45 738.197 Q198.45 731.067 196.621 727.526 Q194.815 723.961 191.181 723.961 M191.181 720.257 Q196.991 720.257 200.047 724.863 Q203.125 729.447 203.125 738.197 Q203.125 746.924 200.047 751.53 Q196.991 756.113 191.181 756.113 Q185.371 756.113 182.292 751.53 Q179.237 746.924 179.237 738.197 Q179.237 729.447 182.292 724.863 Q185.371 720.257 191.181 720.257 Z\" fill=\"#000000\" fill-rule=\"evenodd\" fill-opacity=\"1\" /><path clip-path=\"url(#clip430)\" d=\"M 0 0 M218.195 723.961 Q214.584 723.961 212.755 727.526 Q210.949 731.067 210.949 738.197 Q210.949 745.303 212.755 748.868 Q214.584 752.41 218.195 752.41 Q221.829 752.41 223.635 748.868 Q225.463 745.303 225.463 738.197 Q225.463 731.067 223.635 727.526 Q221.829 723.961 218.195 723.961 M218.195 720.257 Q224.005 720.257 227.06 724.863 Q230.139 729.447 230.139 738.197 Q230.139 746.924 227.06 751.53 Q224.005 756.113 218.195 756.113 Q212.385 756.113 209.306 751.53 Q206.25 746.924 206.25 738.197 Q206.25 729.447 209.306 724.863 Q212.385 720.257 218.195 720.257 Z\" fill=\"#000000\" fill-rule=\"evenodd\" fill-opacity=\"1\" /><path clip-path=\"url(#clip430)\" d=\"M 0 0 M235.255 720.882 L253.611 720.882 L253.611 724.817 L239.537 724.817 L239.537 733.289 Q240.556 732.942 241.574 732.78 Q242.593 732.595 243.611 732.595 Q249.398 732.595 252.778 735.766 Q256.158 738.937 256.158 744.354 Q256.158 749.933 252.685 753.035 Q249.213 756.113 242.894 756.113 Q240.718 756.113 238.449 755.743 Q236.204 755.373 233.797 754.632 L233.797 749.933 Q235.88 751.067 238.102 751.623 Q240.324 752.178 242.801 752.178 Q246.806 752.178 249.144 750.072 Q251.482 747.965 251.482 744.354 Q251.482 740.743 249.144 738.637 Q246.806 736.53 242.801 736.53 Q240.926 736.53 239.051 736.947 Q237.199 737.363 235.255 738.243 L235.255 720.882 Z\" fill=\"#000000\" fill-rule=\"evenodd\" fill-opacity=\"1\" /><path clip-path=\"url(#clip430)\" d=\"M 0 0 M271.227 723.961 Q267.616 723.961 265.787 727.526 Q263.982 731.067 263.982 738.197 Q263.982 745.303 265.787 748.868 Q267.616 752.41 271.227 752.41 Q274.861 752.41 276.667 748.868 Q278.495 745.303 278.495 738.197 Q278.495 731.067 276.667 727.526 Q274.861 723.961 271.227 723.961 M271.227 720.257 Q277.037 720.257 280.093 724.863 Q283.171 729.447 283.171 738.197 Q283.171 746.924 280.093 751.53 Q277.037 756.113 271.227 756.113 Q265.417 756.113 262.338 751.53 Q259.283 746.924 259.283 738.197 Q259.283 729.447 262.338 724.863 Q265.417 720.257 271.227 720.257 Z\" fill=\"#000000\" fill-rule=\"evenodd\" fill-opacity=\"1\" /><path clip-path=\"url(#clip430)\" d=\"M 0 0 M128.103 400.923 Q124.492 400.923 122.663 404.487 Q120.857 408.029 120.857 415.159 Q120.857 422.265 122.663 425.83 Q124.492 429.372 128.103 429.372 Q131.737 429.372 133.542 425.83 Q135.371 422.265 135.371 415.159 Q135.371 408.029 133.542 404.487 Q131.737 400.923 128.103 400.923 M128.103 397.219 Q133.913 397.219 136.968 401.825 Q140.047 406.409 140.047 415.159 Q140.047 423.885 136.968 428.492 Q133.913 433.075 128.103 433.075 Q122.293 433.075 119.214 428.492 Q116.158 423.885 116.158 415.159 Q116.158 406.409 119.214 401.825 Q122.293 397.219 128.103 397.219 Z\" fill=\"#000000\" fill-rule=\"evenodd\" fill-opacity=\"1\" /><path clip-path=\"url(#clip430)\" d=\"M 0 0 M145.116 426.524 L150.001 426.524 L150.001 432.404 L145.116 432.404 L145.116 426.524 Z\" fill=\"#000000\" fill-rule=\"evenodd\" fill-opacity=\"1\" /><path clip-path=\"url(#clip430)\" d=\"M 0 0 M165.07 400.923 Q161.459 400.923 159.63 404.487 Q157.825 408.029 157.825 415.159 Q157.825 422.265 159.63 425.83 Q161.459 429.372 165.07 429.372 Q168.704 429.372 170.51 425.83 Q172.339 422.265 172.339 415.159 Q172.339 408.029 170.51 404.487 Q168.704 400.923 165.07 400.923 M165.07 397.219 Q170.88 397.219 173.936 401.825 Q177.014 406.409 177.014 415.159 Q177.014 423.885 173.936 428.492 Q170.88 433.075 165.07 433.075 Q159.26 433.075 156.181 428.492 Q153.126 423.885 153.126 415.159 Q153.126 406.409 156.181 401.825 Q159.26 397.219 165.07 397.219 Z\" fill=\"#000000\" fill-rule=\"evenodd\" fill-opacity=\"1\" /><path clip-path=\"url(#clip430)\" d=\"M 0 0 M192.084 400.923 Q188.473 400.923 186.644 404.487 Q184.838 408.029 184.838 415.159 Q184.838 422.265 186.644 425.83 Q188.473 429.372 192.084 429.372 Q195.718 429.372 197.524 425.83 Q199.352 422.265 199.352 415.159 Q199.352 408.029 197.524 404.487 Q195.718 400.923 192.084 400.923 M192.084 397.219 Q197.894 397.219 200.95 401.825 Q204.028 406.409 204.028 415.159 Q204.028 423.885 200.95 428.492 Q197.894 433.075 192.084 433.075 Q186.274 433.075 183.195 428.492 Q180.139 423.885 180.139 415.159 Q180.139 406.409 183.195 401.825 Q186.274 397.219 192.084 397.219 Z\" fill=\"#000000\" fill-rule=\"evenodd\" fill-opacity=\"1\" /><path clip-path=\"url(#clip430)\" d=\"M 0 0 M219.098 400.923 Q215.486 400.923 213.658 404.487 Q211.852 408.029 211.852 415.159 Q211.852 422.265 213.658 425.83 Q215.486 429.372 219.098 429.372 Q222.732 429.372 224.537 425.83 Q226.366 422.265 226.366 415.159 Q226.366 408.029 224.537 404.487 Q222.732 400.923 219.098 400.923 M219.098 397.219 Q224.908 397.219 227.963 401.825 Q231.042 406.409 231.042 415.159 Q231.042 423.885 227.963 428.492 Q224.908 433.075 219.098 433.075 Q213.287 433.075 210.209 428.492 Q207.153 423.885 207.153 415.159 Q207.153 406.409 210.209 401.825 Q213.287 397.219 219.098 397.219 Z\" fill=\"#000000\" fill-rule=\"evenodd\" fill-opacity=\"1\" /><path clip-path=\"url(#clip430)\" d=\"M 0 0 M234.931 397.844 L257.153 397.844 L257.153 399.835 L244.607 432.404 L239.722 432.404 L251.528 401.779 L234.931 401.779 L234.931 397.844 Z\" fill=\"#000000\" fill-rule=\"evenodd\" fill-opacity=\"1\" /><path clip-path=\"url(#clip430)\" d=\"M 0 0 M262.269 397.844 L280.625 397.844 L280.625 401.779 L266.551 401.779 L266.551 410.251 Q267.57 409.904 268.588 409.742 Q269.607 409.557 270.625 409.557 Q276.412 409.557 279.792 412.728 Q283.171 415.899 283.171 421.316 Q283.171 426.895 279.699 429.997 Q276.227 433.075 269.907 433.075 Q267.732 433.075 265.463 432.705 Q263.218 432.334 260.81 431.594 L260.81 426.895 Q262.894 428.029 265.116 428.584 Q267.338 429.14 269.815 429.14 Q273.819 429.14 276.157 427.034 Q278.495 424.927 278.495 421.316 Q278.495 417.705 276.157 415.598 Q273.819 413.492 269.815 413.492 Q267.94 413.492 266.065 413.909 Q264.213 414.325 262.269 415.205 L262.269 397.844 Z\" fill=\"#000000\" fill-rule=\"evenodd\" fill-opacity=\"1\" /><path clip-path=\"url(#clip430)\" d=\"M 0 0 M127.431 77.8845 Q123.82 77.8845 121.992 81.4493 Q120.186 84.9909 120.186 92.1205 Q120.186 99.227 121.992 102.792 Q123.82 106.333 127.431 106.333 Q131.066 106.333 132.871 102.792 Q134.7 99.227 134.7 92.1205 Q134.7 84.9909 132.871 81.4493 Q131.066 77.8845 127.431 77.8845 M127.431 74.1808 Q133.242 74.1808 136.297 78.7873 Q139.376 83.3706 139.376 92.1205 Q139.376 100.847 136.297 105.454 Q133.242 110.037 127.431 110.037 Q121.621 110.037 118.543 105.454 Q115.487 100.847 115.487 92.1205 Q115.487 83.3706 118.543 78.7873 Q121.621 74.1808 127.431 74.1808 Z\" fill=\"#000000\" fill-rule=\"evenodd\" fill-opacity=\"1\" /><path clip-path=\"url(#clip430)\" d=\"M 0 0 M144.445 103.486 L149.329 103.486 L149.329 109.366 L144.445 109.366 L144.445 103.486 Z\" fill=\"#000000\" fill-rule=\"evenodd\" fill-opacity=\"1\" /><path clip-path=\"url(#clip430)\" d=\"M 0 0 M164.399 77.8845 Q160.788 77.8845 158.959 81.4493 Q157.153 84.9909 157.153 92.1205 Q157.153 99.227 158.959 102.792 Q160.788 106.333 164.399 106.333 Q168.033 106.333 169.839 102.792 Q171.667 99.227 171.667 92.1205 Q171.667 84.9909 169.839 81.4493 Q168.033 77.8845 164.399 77.8845 M164.399 74.1808 Q170.209 74.1808 173.264 78.7873 Q176.343 83.3706 176.343 92.1205 Q176.343 100.847 173.264 105.454 Q170.209 110.037 164.399 110.037 Q158.589 110.037 155.51 105.454 Q152.454 100.847 152.454 92.1205 Q152.454 83.3706 155.51 78.7873 Q158.589 74.1808 164.399 74.1808 Z\" fill=\"#000000\" fill-rule=\"evenodd\" fill-opacity=\"1\" /><path clip-path=\"url(#clip430)\" d=\"M 0 0 M191.413 77.8845 Q187.801 77.8845 185.973 81.4493 Q184.167 84.9909 184.167 92.1205 Q184.167 99.227 185.973 102.792 Q187.801 106.333 191.413 106.333 Q195.047 106.333 196.852 102.792 Q198.681 99.227 198.681 92.1205 Q198.681 84.9909 196.852 81.4493 Q195.047 77.8845 191.413 77.8845 M191.413 74.1808 Q197.223 74.1808 200.278 78.7873 Q203.357 83.3706 203.357 92.1205 Q203.357 100.847 200.278 105.454 Q197.223 110.037 191.413 110.037 Q185.602 110.037 182.524 105.454 Q179.468 100.847 179.468 92.1205 Q179.468 83.3706 182.524 78.7873 Q185.602 74.1808 191.413 74.1808 Z\" fill=\"#000000\" fill-rule=\"evenodd\" fill-opacity=\"1\" /><path clip-path=\"url(#clip430)\" d=\"M 0 0 M209.237 105.431 L216.875 105.431 L216.875 79.065 L208.565 80.7317 L208.565 76.4724 L216.829 74.8058 L221.505 74.8058 L221.505 105.431 L229.144 105.431 L229.144 109.366 L209.237 109.366 L209.237 105.431 Z\" fill=\"#000000\" fill-rule=\"evenodd\" fill-opacity=\"1\" /><path clip-path=\"url(#clip430)\" d=\"M 0 0 M244.213 77.8845 Q240.602 77.8845 238.773 81.4493 Q236.968 84.9909 236.968 92.1205 Q236.968 99.227 238.773 102.792 Q240.602 106.333 244.213 106.333 Q247.847 106.333 249.653 102.792 Q251.482 99.227 251.482 92.1205 Q251.482 84.9909 249.653 81.4493 Q247.847 77.8845 244.213 77.8845 M244.213 74.1808 Q250.023 74.1808 253.079 78.7873 Q256.158 83.3706 256.158 92.1205 Q256.158 100.847 253.079 105.454 Q250.023 110.037 244.213 110.037 Q238.403 110.037 235.324 105.454 Q232.269 100.847 232.269 92.1205 Q232.269 83.3706 235.324 78.7873 Q238.403 74.1808 244.213 74.1808 Z\" fill=\"#000000\" fill-rule=\"evenodd\" fill-opacity=\"1\" /><path clip-path=\"url(#clip430)\" d=\"M 0 0 M271.227 77.8845 Q267.616 77.8845 265.787 81.4493 Q263.982 84.9909 263.982 92.1205 Q263.982 99.227 265.787 102.792 Q267.616 106.333 271.227 106.333 Q274.861 106.333 276.667 102.792 Q278.495 99.227 278.495 92.1205 Q278.495 84.9909 276.667 81.4493 Q274.861 77.8845 271.227 77.8845 M271.227 74.1808 Q277.037 74.1808 280.093 78.7873 Q283.171 83.3706 283.171 92.1205 Q283.171 100.847 280.093 105.454 Q277.037 110.037 271.227 110.037 Q265.417 110.037 262.338 105.454 Q259.283 100.847 259.283 92.1205 Q259.283 83.3706 262.338 78.7873 Q265.417 74.1808 271.227 74.1808 Z\" fill=\"#000000\" fill-rule=\"evenodd\" fill-opacity=\"1\" /><path clip-path=\"url(#clip430)\" d=\"M 0 0 M67.0928 718.788 Q67.0928 721.558 69.4481 723.149 Q71.8034 724.709 76.0048 724.709 Q80.1425 724.709 82.5296 723.149 Q84.885 721.558 84.885 718.788 Q84.885 716.083 82.5296 714.523 Q80.1425 712.932 76.0048 712.932 Q71.8353 712.932 69.48 714.523 Q67.0928 716.083 67.0928 718.788 M63.0506 718.788 Q63.0506 713.76 66.5517 710.799 Q70.0529 707.839 76.0048 707.839 Q81.9567 707.839 85.4579 710.831 Q88.9272 713.791 88.9272 718.788 Q88.9272 723.881 85.4579 726.841 Q81.9567 729.801 76.0048 729.801 Q70.021 729.801 66.5517 726.841 Q63.0506 723.849 63.0506 718.788 M43.667 751.635 Q43.667 754.373 46.0542 755.964 Q48.4095 757.524 52.5472 757.524 Q56.7485 757.524 59.1038 755.964 Q61.4592 754.405 61.4592 751.635 Q61.4592 748.866 59.1038 747.307 Q56.7485 745.715 52.5472 745.715 Q48.4413 745.715 46.0542 747.307 Q43.667 748.898 43.667 751.635 M39.6248 722.894 L39.6248 717.802 L88.9272 747.53 L88.9272 752.622 L39.6248 722.894 M39.6248 751.635 Q39.6248 746.607 43.1259 743.615 Q46.5952 740.623 52.5472 740.623 Q58.5628 740.623 62.0321 743.615 Q65.5014 746.575 65.5014 751.635 Q65.5014 756.696 62.0321 759.656 Q58.5309 762.585 52.5472 762.585 Q46.6271 762.585 43.1259 759.624 Q39.6248 756.664 39.6248 751.635 Z\" fill=\"#000000\" fill-rule=\"evenodd\" fill-opacity=\"1\" /><polyline clip-path=\"url(#clip432)\" style=\"stroke:#009af9; stroke-width:4; stroke-opacity:1; fill:none\" points=\"\n",
       "  376.726,1348.68 415.878,1083.72 455.031,445.888 494.183,617.075 533.336,729.501 572.488,824.172 611.641,930.188 650.794,1018.64 689.946,1077.75 729.099,1142.52 \n",
       "  768.251,1189.58 807.404,1219.17 846.556,1266.23 885.709,1278.09 924.862,1284.15 964.014,1295.98 1003.17,1301.9 1042.32,1331.3 1081.47,1331.3 1120.62,1343.04 \n",
       "  1159.78,1348.94 1198.93,1366.59 1238.08,1366.59 1277.23,1372.46 1316.39,1372.46 1355.54,1372.49 1394.69,1372.49 1433.85,1372.49 1473,1372.49 1512.15,1378.36 \n",
       "  1551.3,1384.24 1590.46,1384.24 1629.61,1384.24 1668.76,1384.24 1707.91,1384.24 1747.07,1384.24 1786.22,1384.24 1825.37,1384.24 1864.52,1384.24 1903.68,1384.24 \n",
       "  1942.83,1384.24 1981.98,1384.24 2021.13,1384.24 2060.29,1384.24 2099.44,1384.24 2138.59,1384.24 2177.74,1384.24 2216.9,1384.24 2256.05,1384.24 2295.2,1384.24 \n",
       "  \n",
       "  \"/>\n",
       "<polyline clip-path=\"url(#clip432)\" style=\"stroke:#e26f46; stroke-width:4; stroke-opacity:1; fill:none\" points=\"\n",
       "  376.726,1372.41 415.878,1278.06 455.031,1059.86 494.183,853.349 533.336,740.923 572.488,646.252 611.641,540.236 650.794,451.786 689.946,392.677 729.099,327.908 \n",
       "  768.251,280.84 807.404,251.258 846.556,204.19 885.709,192.336 924.862,186.276 964.014,174.449 1003.17,168.521 1042.32,139.127 1081.47,139.127 1120.62,127.38 \n",
       "  1159.78,121.48 1198.93,103.833 1238.08,103.833 1277.23,97.9595 1316.39,97.9595 1355.54,97.9326 1394.69,97.9326 1433.85,97.9326 1473,97.9326 1512.15,92.0592 \n",
       "  1551.3,86.1857 1590.46,86.1857 1629.61,86.1857 1668.76,86.1857 1707.91,86.1857 1747.07,86.1857 1786.22,86.1857 1825.37,86.1857 1864.52,86.1857 1903.68,86.1857 \n",
       "  1942.83,86.1857 1981.98,86.1857 2021.13,86.1857 2060.29,86.1857 2099.44,86.1857 2138.59,86.1857 2177.74,86.1857 2216.9,86.1857 2256.05,86.1857 2295.2,86.1857 \n",
       "  \n",
       "  \"/>\n",
       "<polyline clip-path=\"url(#clip432)\" style=\"stroke:#3da44d; stroke-width:4; stroke-opacity:1; fill:none\" points=\"\n",
       "  376.726,1384.24 415.878,1384.24 455.031,1384.24 494.183,1384.24 533.336,1384.24 572.488,1384.24 611.641,1384.24 650.794,1384.24 689.946,1384.24 729.099,1384.24 \n",
       "  768.251,1384.24 807.404,1384.24 846.556,1384.24 885.709,1384.24 924.862,1384.24 964.014,1384.24 1003.17,1384.24 1042.32,1384.24 1081.47,1384.24 1120.62,1384.24 \n",
       "  1159.78,1384.24 1198.93,1384.24 1238.08,1384.24 1277.23,1384.24 1316.39,1384.24 1355.54,1384.24 1394.69,1384.24 1433.85,1384.24 1473,1384.24 1512.15,1384.24 \n",
       "  1551.3,1384.24 1590.46,1384.24 1629.61,1384.24 1668.76,1384.24 1707.91,1384.24 1747.07,1384.24 1786.22,1384.24 1825.37,1384.24 1864.52,1384.24 1903.68,1384.24 \n",
       "  1942.83,1384.24 1981.98,1384.24 2021.13,1384.24 2060.29,1384.24 2099.44,1384.24 2138.59,1384.24 2177.74,1384.24 2216.9,1384.24 2256.05,1384.24 2295.2,1384.24 \n",
       "  \n",
       "  \"/>\n",
       "<path clip-path=\"url(#clip430)\" d=\"\n",
       "M1820.24 335.029 L2284.97 335.029 L2284.97 93.1086 L1820.24 93.1086  Z\n",
       "  \" fill=\"#ffffff\" fill-rule=\"evenodd\" fill-opacity=\"1\"/>\n",
       "<polyline clip-path=\"url(#clip430)\" style=\"stroke:#000000; stroke-width:4; stroke-opacity:1; fill:none\" points=\"\n",
       "  1820.24,335.029 2284.97,335.029 2284.97,93.1086 1820.24,93.1086 1820.24,335.029 \n",
       "  \"/>\n",
       "<polyline clip-path=\"url(#clip430)\" style=\"stroke:#009af9; stroke-width:4; stroke-opacity:1; fill:none\" points=\"\n",
       "  1842.84,153.589 1978.41,153.589 \n",
       "  \"/>\n",
       "<path clip-path=\"url(#clip430)\" d=\"M 0 0 M2001.01 136.309 L2005.68 136.309 L2005.68 170.869 L2001.01 170.869 L2001.01 136.309 Z\" fill=\"#000000\" fill-rule=\"evenodd\" fill-opacity=\"1\" /><path clip-path=\"url(#clip430)\" d=\"M 0 0 M2031.7 155.221 L2031.7 170.869 L2027.44 170.869 L2027.44 155.359 Q2027.44 151.679 2026.01 149.85 Q2024.57 148.022 2021.7 148.022 Q2018.25 148.022 2016.26 150.221 Q2014.27 152.42 2014.27 156.216 L2014.27 170.869 L2009.99 170.869 L2009.99 144.943 L2014.27 144.943 L2014.27 148.971 Q2015.8 146.633 2017.86 145.475 Q2019.94 144.318 2022.65 144.318 Q2027.12 144.318 2029.41 147.096 Q2031.7 149.85 2031.7 155.221 Z\" fill=\"#000000\" fill-rule=\"evenodd\" fill-opacity=\"1\" /><path clip-path=\"url(#clip430)\" d=\"M 0 0 M2049.29 134.85 L2049.29 138.392 L2045.22 138.392 Q2042.93 138.392 2042.03 139.318 Q2041.15 140.244 2041.15 142.651 L2041.15 144.943 L2048.16 144.943 L2048.16 148.253 L2041.15 148.253 L2041.15 170.869 L2036.86 170.869 L2036.86 148.253 L2032.79 148.253 L2032.79 144.943 L2036.86 144.943 L2036.86 143.137 Q2036.86 138.809 2038.88 136.841 Q2040.89 134.85 2045.27 134.85 L2049.29 134.85 Z\" fill=\"#000000\" fill-rule=\"evenodd\" fill-opacity=\"1\" /><path clip-path=\"url(#clip430)\" d=\"M 0 0 M2075.94 156.841 L2075.94 158.924 L2056.35 158.924 Q2056.63 163.322 2058.99 165.637 Q2061.38 167.929 2065.61 167.929 Q2068.07 167.929 2070.36 167.327 Q2072.67 166.725 2074.94 165.521 L2074.94 169.549 Q2072.65 170.521 2070.24 171.031 Q2067.84 171.54 2065.36 171.54 Q2059.15 171.54 2055.52 167.929 Q2051.91 164.318 2051.91 158.16 Q2051.91 151.795 2055.34 148.068 Q2058.78 144.318 2064.62 144.318 Q2069.85 144.318 2072.88 147.697 Q2075.94 151.054 2075.94 156.841 M2071.68 155.591 Q2071.63 152.096 2069.71 150.012 Q2067.81 147.929 2064.66 147.929 Q2061.1 147.929 2058.95 149.943 Q2056.82 151.957 2056.49 155.614 L2071.68 155.591 Z\" fill=\"#000000\" fill-rule=\"evenodd\" fill-opacity=\"1\" /><path clip-path=\"url(#clip430)\" d=\"M 0 0 M2099.06 145.938 L2099.06 149.92 Q2097.26 148.924 2095.43 148.438 Q2093.62 147.929 2091.77 147.929 Q2087.63 147.929 2085.34 150.568 Q2083.04 153.184 2083.04 157.929 Q2083.04 162.674 2085.34 165.313 Q2087.63 167.929 2091.77 167.929 Q2093.62 167.929 2095.43 167.443 Q2097.26 166.933 2099.06 165.938 L2099.06 169.873 Q2097.28 170.707 2095.36 171.123 Q2093.46 171.54 2091.31 171.54 Q2085.45 171.54 2082 167.859 Q2078.55 164.179 2078.55 157.929 Q2078.55 151.586 2082.03 147.952 Q2085.52 144.318 2091.59 144.318 Q2093.55 144.318 2095.43 144.735 Q2097.3 145.128 2099.06 145.938 Z\" fill=\"#000000\" fill-rule=\"evenodd\" fill-opacity=\"1\" /><path clip-path=\"url(#clip430)\" d=\"M 0 0 M2107.74 137.582 L2107.74 144.943 L2116.52 144.943 L2116.52 148.253 L2107.74 148.253 L2107.74 162.327 Q2107.74 165.498 2108.6 166.401 Q2109.48 167.304 2112.14 167.304 L2116.52 167.304 L2116.52 170.869 L2112.14 170.869 Q2107.21 170.869 2105.34 169.04 Q2103.46 167.188 2103.46 162.327 L2103.46 148.253 L2100.34 148.253 L2100.34 144.943 L2103.46 144.943 L2103.46 137.582 L2107.74 137.582 Z\" fill=\"#000000\" fill-rule=\"evenodd\" fill-opacity=\"1\" /><path clip-path=\"url(#clip430)\" d=\"M 0 0 M2143.16 156.841 L2143.16 158.924 L2123.58 158.924 Q2123.85 163.322 2126.21 165.637 Q2128.6 167.929 2132.84 167.929 Q2135.29 167.929 2137.58 167.327 Q2139.9 166.725 2142.16 165.521 L2142.16 169.549 Q2139.87 170.521 2137.46 171.031 Q2135.06 171.54 2132.58 171.54 Q2126.38 171.54 2122.74 167.929 Q2119.13 164.318 2119.13 158.16 Q2119.13 151.795 2122.56 148.068 Q2126.01 144.318 2131.84 144.318 Q2137.07 144.318 2140.1 147.697 Q2143.16 151.054 2143.16 156.841 M2138.9 155.591 Q2138.85 152.096 2136.93 150.012 Q2135.03 147.929 2131.89 147.929 Q2128.32 147.929 2126.17 149.943 Q2124.04 151.957 2123.71 155.614 L2138.9 155.591 Z\" fill=\"#000000\" fill-rule=\"evenodd\" fill-opacity=\"1\" /><path clip-path=\"url(#clip430)\" d=\"M 0 0 M2164.69 148.878 L2164.69 134.85 L2168.95 134.85 L2168.95 170.869 L2164.69 170.869 L2164.69 166.98 Q2163.34 169.295 2161.28 170.429 Q2159.25 171.54 2156.38 171.54 Q2151.68 171.54 2148.71 167.79 Q2145.77 164.04 2145.77 157.929 Q2145.77 151.818 2148.71 148.068 Q2151.68 144.318 2156.38 144.318 Q2159.25 144.318 2161.28 145.452 Q2163.34 146.563 2164.69 148.878 M2150.17 157.929 Q2150.17 162.628 2152.09 165.313 Q2154.04 167.975 2157.42 167.975 Q2160.8 167.975 2162.74 165.313 Q2164.69 162.628 2164.69 157.929 Q2164.69 153.23 2162.74 150.568 Q2160.8 147.883 2157.42 147.883 Q2154.04 147.883 2152.09 150.568 Q2150.17 153.23 2150.17 157.929 Z\" fill=\"#000000\" fill-rule=\"evenodd\" fill-opacity=\"1\" /><polyline clip-path=\"url(#clip430)\" style=\"stroke:#e26f46; stroke-width:4; stroke-opacity:1; fill:none\" points=\"\n",
       "  1842.84,214.069 1978.41,214.069 \n",
       "  \"/>\n",
       "<path clip-path=\"url(#clip430)\" d=\"M 0 0 M2017.4 215.145 Q2018.9 215.654 2020.31 217.321 Q2021.75 218.988 2023.18 221.904 L2027.93 231.349 L2022.91 231.349 L2018.48 222.483 Q2016.77 219.011 2015.15 217.876 Q2013.55 216.742 2010.78 216.742 L2005.68 216.742 L2005.68 231.349 L2001.01 231.349 L2001.01 196.789 L2011.56 196.789 Q2017.49 196.789 2020.41 199.265 Q2023.32 201.742 2023.32 206.742 Q2023.32 210.006 2021.79 212.159 Q2020.29 214.312 2017.4 215.145 M2005.68 200.631 L2005.68 212.9 L2011.56 212.9 Q2014.94 212.9 2016.66 211.349 Q2018.39 209.775 2018.39 206.742 Q2018.39 203.71 2016.66 202.182 Q2014.94 200.631 2011.56 200.631 L2005.68 200.631 Z\" fill=\"#000000\" fill-rule=\"evenodd\" fill-opacity=\"1\" /><path clip-path=\"url(#clip430)\" d=\"M 0 0 M2052.44 217.321 L2052.44 219.404 L2032.86 219.404 Q2033.14 223.802 2035.5 226.117 Q2037.88 228.409 2042.12 228.409 Q2044.57 228.409 2046.86 227.807 Q2049.18 227.205 2051.45 226.001 L2051.45 230.029 Q2049.16 231.001 2046.75 231.511 Q2044.34 232.02 2041.86 232.02 Q2035.66 232.02 2032.03 228.409 Q2028.41 224.798 2028.41 218.64 Q2028.41 212.275 2031.84 208.548 Q2035.29 204.798 2041.12 204.798 Q2046.35 204.798 2049.39 208.177 Q2052.44 211.534 2052.44 217.321 M2048.18 216.071 Q2048.14 212.576 2046.22 210.492 Q2044.32 208.409 2041.17 208.409 Q2037.6 208.409 2035.45 210.423 Q2033.32 212.437 2033 216.094 L2048.18 216.071 Z\" fill=\"#000000\" fill-rule=\"evenodd\" fill-opacity=\"1\" /><path clip-path=\"url(#clip430)\" d=\"M 0 0 M2075.57 206.418 L2075.57 210.4 Q2073.76 209.404 2071.93 208.918 Q2070.13 208.409 2068.28 208.409 Q2064.13 208.409 2061.84 211.048 Q2059.55 213.664 2059.55 218.409 Q2059.55 223.154 2061.84 225.793 Q2064.13 228.409 2068.28 228.409 Q2070.13 228.409 2071.93 227.923 Q2073.76 227.413 2075.57 226.418 L2075.57 230.353 Q2073.78 231.187 2071.86 231.603 Q2069.97 232.02 2067.81 232.02 Q2061.96 232.02 2058.51 228.339 Q2055.06 224.659 2055.06 218.409 Q2055.06 212.066 2058.53 208.432 Q2062.03 204.798 2068.09 204.798 Q2070.06 204.798 2071.93 205.215 Q2073.81 205.608 2075.57 206.418 Z\" fill=\"#000000\" fill-rule=\"evenodd\" fill-opacity=\"1\" /><path clip-path=\"url(#clip430)\" d=\"M 0 0 M2090.08 208.409 Q2086.65 208.409 2084.66 211.094 Q2082.67 213.756 2082.67 218.409 Q2082.67 223.062 2084.64 225.747 Q2086.63 228.409 2090.08 228.409 Q2093.48 228.409 2095.47 225.724 Q2097.46 223.038 2097.46 218.409 Q2097.46 213.802 2095.47 211.117 Q2093.48 208.409 2090.08 208.409 M2090.08 204.798 Q2095.64 204.798 2098.81 208.409 Q2101.98 212.02 2101.98 218.409 Q2101.98 224.775 2098.81 228.409 Q2095.64 232.02 2090.08 232.02 Q2084.5 232.02 2081.33 228.409 Q2078.18 224.775 2078.18 218.409 Q2078.18 212.02 2081.33 208.409 Q2084.5 204.798 2090.08 204.798 Z\" fill=\"#000000\" fill-rule=\"evenodd\" fill-opacity=\"1\" /><path clip-path=\"url(#clip430)\" d=\"M 0 0 M2103.39 205.423 L2107.9 205.423 L2116.01 227.182 L2124.11 205.423 L2128.62 205.423 L2118.9 231.349 L2113.11 231.349 L2103.39 205.423 Z\" fill=\"#000000\" fill-rule=\"evenodd\" fill-opacity=\"1\" /><path clip-path=\"url(#clip430)\" d=\"M 0 0 M2155.27 217.321 L2155.27 219.404 L2135.68 219.404 Q2135.96 223.802 2138.32 226.117 Q2140.71 228.409 2144.94 228.409 Q2147.4 228.409 2149.69 227.807 Q2152 227.205 2154.27 226.001 L2154.27 230.029 Q2151.98 231.001 2149.57 231.511 Q2147.16 232.02 2144.69 232.02 Q2138.48 232.02 2134.85 228.409 Q2131.24 224.798 2131.24 218.64 Q2131.24 212.275 2134.66 208.548 Q2138.11 204.798 2143.95 204.798 Q2149.18 204.798 2152.21 208.177 Q2155.27 211.534 2155.27 217.321 M2151.01 216.071 Q2150.96 212.576 2149.04 210.492 Q2147.14 208.409 2143.99 208.409 Q2140.43 208.409 2138.27 210.423 Q2136.15 212.437 2135.82 216.094 L2151.01 216.071 Z\" fill=\"#000000\" fill-rule=\"evenodd\" fill-opacity=\"1\" /><path clip-path=\"url(#clip430)\" d=\"M 0 0 M2174.76 209.404 Q2174.04 208.988 2173.18 208.802 Q2172.35 208.594 2171.33 208.594 Q2167.72 208.594 2165.77 210.955 Q2163.85 213.293 2163.85 217.691 L2163.85 231.349 L2159.57 231.349 L2159.57 205.423 L2163.85 205.423 L2163.85 209.451 Q2165.2 207.089 2167.35 205.955 Q2169.5 204.798 2172.58 204.798 Q2173.02 204.798 2173.55 204.867 Q2174.08 204.914 2174.73 205.029 L2174.76 209.404 Z\" fill=\"#000000\" fill-rule=\"evenodd\" fill-opacity=\"1\" /><path clip-path=\"url(#clip430)\" d=\"M 0 0 M2200.36 217.321 L2200.36 219.404 L2180.77 219.404 Q2181.05 223.802 2183.41 226.117 Q2185.8 228.409 2190.03 228.409 Q2192.49 228.409 2194.78 227.807 Q2197.09 227.205 2199.36 226.001 L2199.36 230.029 Q2197.07 231.001 2194.66 231.511 Q2192.26 232.02 2189.78 232.02 Q2183.58 232.02 2179.94 228.409 Q2176.33 224.798 2176.33 218.64 Q2176.33 212.275 2179.76 208.548 Q2183.21 204.798 2189.04 204.798 Q2194.27 204.798 2197.3 208.177 Q2200.36 211.534 2200.36 217.321 M2196.1 216.071 Q2196.05 212.576 2194.13 210.492 Q2192.23 208.409 2189.08 208.409 Q2185.52 208.409 2183.37 210.423 Q2181.24 212.437 2180.91 216.094 L2196.1 216.071 Z\" fill=\"#000000\" fill-rule=\"evenodd\" fill-opacity=\"1\" /><path clip-path=\"url(#clip430)\" d=\"M 0 0 M2221.89 209.358 L2221.89 195.33 L2226.14 195.33 L2226.14 231.349 L2221.89 231.349 L2221.89 227.46 Q2220.54 229.775 2218.48 230.909 Q2216.45 232.02 2213.58 232.02 Q2208.88 232.02 2205.91 228.27 Q2202.97 224.52 2202.97 218.409 Q2202.97 212.298 2205.91 208.548 Q2208.88 204.798 2213.58 204.798 Q2216.45 204.798 2218.48 205.932 Q2220.54 207.043 2221.89 209.358 M2207.37 218.409 Q2207.37 223.108 2209.29 225.793 Q2211.24 228.455 2214.62 228.455 Q2218 228.455 2219.94 225.793 Q2221.89 223.108 2221.89 218.409 Q2221.89 213.71 2219.94 211.048 Q2218 208.363 2214.62 208.363 Q2211.24 208.363 2209.29 211.048 Q2207.37 213.71 2207.37 218.409 Z\" fill=\"#000000\" fill-rule=\"evenodd\" fill-opacity=\"1\" /><polyline clip-path=\"url(#clip430)\" style=\"stroke:#3da44d; stroke-width:4; stroke-opacity:1; fill:none\" points=\"\n",
       "  1842.84,274.549 1978.41,274.549 \n",
       "  \"/>\n",
       "<path clip-path=\"url(#clip430)\" d=\"M 0 0 M2023.25 258.403 L2023.25 262.963 Q2020.59 261.69 2018.23 261.065 Q2015.87 260.44 2013.67 260.44 Q2009.85 260.44 2007.77 261.921 Q2005.71 263.403 2005.71 266.134 Q2005.71 268.426 2007.07 269.607 Q2008.46 270.764 2012.3 271.482 L2015.13 272.06 Q2020.36 273.056 2022.84 275.579 Q2025.34 278.079 2025.34 282.292 Q2025.34 287.315 2021.96 289.907 Q2018.6 292.5 2012.1 292.5 Q2009.64 292.5 2006.86 291.944 Q2004.11 291.389 2001.15 290.301 L2001.15 285.486 Q2003.99 287.083 2006.72 287.893 Q2009.46 288.704 2012.1 288.704 Q2016.1 288.704 2018.28 287.13 Q2020.45 285.556 2020.45 282.639 Q2020.45 280.093 2018.88 278.657 Q2017.33 277.222 2013.76 276.505 L2010.91 275.949 Q2005.68 274.907 2003.35 272.685 Q2001.01 270.463 2001.01 266.505 Q2001.01 261.921 2004.22 259.282 Q2007.47 256.644 2013.14 256.644 Q2015.57 256.644 2018.09 257.083 Q2020.61 257.523 2023.25 258.403 Z\" fill=\"#000000\" fill-rule=\"evenodd\" fill-opacity=\"1\" /><path clip-path=\"url(#clip430)\" d=\"M 0 0 M2029.36 281.597 L2029.36 265.903 L2033.62 265.903 L2033.62 281.435 Q2033.62 285.116 2035.06 286.968 Q2036.49 288.796 2039.36 288.796 Q2042.81 288.796 2044.8 286.597 Q2046.82 284.398 2046.82 280.602 L2046.82 265.903 L2051.08 265.903 L2051.08 291.829 L2046.82 291.829 L2046.82 287.847 Q2045.27 290.208 2043.21 291.366 Q2041.17 292.5 2038.46 292.5 Q2033.99 292.5 2031.68 289.722 Q2029.36 286.944 2029.36 281.597 M2040.08 265.278 L2040.08 265.278 Z\" fill=\"#000000\" fill-rule=\"evenodd\" fill-opacity=\"1\" /><path clip-path=\"url(#clip430)\" d=\"M 0 0 M2072.07 266.667 L2072.07 270.694 Q2070.27 269.769 2068.32 269.306 Q2066.38 268.843 2064.29 268.843 Q2061.12 268.843 2059.53 269.815 Q2057.95 270.787 2057.95 272.731 Q2057.95 274.213 2059.09 275.069 Q2060.22 275.903 2063.65 276.667 L2065.1 276.991 Q2069.64 277.963 2071.54 279.745 Q2073.46 281.505 2073.46 284.676 Q2073.46 288.287 2070.59 290.393 Q2067.74 292.5 2062.74 292.5 Q2060.66 292.5 2058.39 292.083 Q2056.15 291.69 2053.65 290.88 L2053.65 286.481 Q2056.01 287.708 2058.3 288.333 Q2060.59 288.935 2062.84 288.935 Q2065.84 288.935 2067.47 287.917 Q2069.09 286.875 2069.09 285 Q2069.09 283.264 2067.9 282.338 Q2066.75 281.412 2062.79 280.556 L2061.31 280.208 Q2057.35 279.375 2055.59 277.662 Q2053.83 275.926 2053.83 272.917 Q2053.83 269.259 2056.42 267.269 Q2059.02 265.278 2063.78 265.278 Q2066.15 265.278 2068.23 265.625 Q2070.31 265.972 2072.07 266.667 Z\" fill=\"#000000\" fill-rule=\"evenodd\" fill-opacity=\"1\" /><path clip-path=\"url(#clip430)\" d=\"M 0 0 M2096.59 266.898 L2096.59 270.88 Q2094.78 269.884 2092.95 269.398 Q2091.15 268.889 2089.29 268.889 Q2085.15 268.889 2082.86 271.528 Q2080.57 274.144 2080.57 278.889 Q2080.57 283.634 2082.86 286.273 Q2085.15 288.889 2089.29 288.889 Q2091.15 288.889 2092.95 288.403 Q2094.78 287.893 2096.59 286.898 L2096.59 290.833 Q2094.8 291.667 2092.88 292.083 Q2090.98 292.5 2088.83 292.5 Q2082.97 292.5 2079.53 288.819 Q2076.08 285.139 2076.08 278.889 Q2076.08 272.546 2079.55 268.912 Q2083.04 265.278 2089.11 265.278 Q2091.08 265.278 2092.95 265.695 Q2094.83 266.088 2096.59 266.898 Z\" fill=\"#000000\" fill-rule=\"evenodd\" fill-opacity=\"1\" /><path clip-path=\"url(#clip430)\" d=\"M 0 0 M2123.23 277.801 L2123.23 279.884 L2103.65 279.884 Q2103.92 284.282 2106.28 286.597 Q2108.67 288.889 2112.9 288.889 Q2115.36 288.889 2117.65 288.287 Q2119.96 287.685 2122.23 286.481 L2122.23 290.509 Q2119.94 291.481 2117.53 291.991 Q2115.13 292.5 2112.65 292.5 Q2106.45 292.5 2102.81 288.889 Q2099.2 285.278 2099.2 279.12 Q2099.2 272.755 2102.63 269.028 Q2106.08 265.278 2111.91 265.278 Q2117.14 265.278 2120.17 268.657 Q2123.23 272.014 2123.23 277.801 M2118.97 276.551 Q2118.92 273.056 2117 270.972 Q2115.1 268.889 2111.96 268.889 Q2108.39 268.889 2106.24 270.903 Q2104.11 272.917 2103.78 276.574 L2118.97 276.551 Z\" fill=\"#000000\" fill-rule=\"evenodd\" fill-opacity=\"1\" /><path clip-path=\"url(#clip430)\" d=\"M 0 0 M2131.82 287.94 L2131.82 301.69 L2127.53 301.69 L2127.53 265.903 L2131.82 265.903 L2131.82 269.838 Q2133.16 267.523 2135.2 266.412 Q2137.26 265.278 2140.1 265.278 Q2144.83 265.278 2147.77 269.028 Q2150.73 272.778 2150.73 278.889 Q2150.73 285 2147.77 288.75 Q2144.83 292.5 2140.1 292.5 Q2137.26 292.5 2135.2 291.389 Q2133.16 290.255 2131.82 287.94 M2146.31 278.889 Q2146.31 274.19 2144.36 271.528 Q2142.44 268.843 2139.06 268.843 Q2135.68 268.843 2133.74 271.528 Q2131.82 274.19 2131.82 278.889 Q2131.82 283.588 2133.74 286.273 Q2135.68 288.935 2139.06 288.935 Q2142.44 288.935 2144.36 286.273 Q2146.31 283.588 2146.31 278.889 Z\" fill=\"#000000\" fill-rule=\"evenodd\" fill-opacity=\"1\" /><path clip-path=\"url(#clip430)\" d=\"M 0 0 M2159.41 258.542 L2159.41 265.903 L2168.18 265.903 L2168.18 269.213 L2159.41 269.213 L2159.41 283.287 Q2159.41 286.458 2160.27 287.361 Q2161.15 288.264 2163.81 288.264 L2168.18 288.264 L2168.18 291.829 L2163.81 291.829 Q2158.88 291.829 2157 290 Q2155.13 288.148 2155.13 283.287 L2155.13 269.213 L2152 269.213 L2152 265.903 L2155.13 265.903 L2155.13 258.542 L2159.41 258.542 Z\" fill=\"#000000\" fill-rule=\"evenodd\" fill-opacity=\"1\" /><path clip-path=\"url(#clip430)\" d=\"M 0 0 M2172.65 265.903 L2176.91 265.903 L2176.91 291.829 L2172.65 291.829 L2172.65 265.903 M2172.65 255.81 L2176.91 255.81 L2176.91 261.204 L2172.65 261.204 L2172.65 255.81 Z\" fill=\"#000000\" fill-rule=\"evenodd\" fill-opacity=\"1\" /><path clip-path=\"url(#clip430)\" d=\"M 0 0 M2199.99 278.889 Q2199.99 274.19 2198.04 271.528 Q2196.12 268.843 2192.74 268.843 Q2189.36 268.843 2187.42 271.528 Q2185.5 274.19 2185.5 278.889 Q2185.5 283.588 2187.42 286.273 Q2189.36 288.935 2192.74 288.935 Q2196.12 288.935 2198.04 286.273 Q2199.99 283.588 2199.99 278.889 M2185.5 269.838 Q2186.84 267.523 2188.88 266.412 Q2190.94 265.278 2193.78 265.278 Q2198.51 265.278 2201.45 269.028 Q2204.41 272.778 2204.41 278.889 Q2204.41 285 2201.45 288.75 Q2198.51 292.5 2193.78 292.5 Q2190.94 292.5 2188.88 291.389 Q2186.84 290.255 2185.5 287.94 L2185.5 291.829 L2181.21 291.829 L2181.21 255.81 L2185.5 255.81 L2185.5 269.838 Z\" fill=\"#000000\" fill-rule=\"evenodd\" fill-opacity=\"1\" /><path clip-path=\"url(#clip430)\" d=\"M 0 0 M2208.88 255.81 L2213.14 255.81 L2213.14 291.829 L2208.88 291.829 L2208.88 255.81 Z\" fill=\"#000000\" fill-rule=\"evenodd\" fill-opacity=\"1\" /><path clip-path=\"url(#clip430)\" d=\"M 0 0 M2239.78 277.801 L2239.78 279.884 L2220.2 279.884 Q2220.47 284.282 2222.83 286.597 Q2225.22 288.889 2229.45 288.889 Q2231.91 288.889 2234.2 288.287 Q2236.52 287.685 2238.78 286.481 L2238.78 290.509 Q2236.49 291.481 2234.08 291.991 Q2231.68 292.5 2229.2 292.5 Q2223 292.5 2219.36 288.889 Q2215.75 285.278 2215.75 279.12 Q2215.75 272.755 2219.18 269.028 Q2222.63 265.278 2228.46 265.278 Q2233.69 265.278 2236.72 268.657 Q2239.78 272.014 2239.78 277.801 M2235.52 276.551 Q2235.47 273.056 2233.55 270.972 Q2231.65 268.889 2228.51 268.889 Q2224.94 268.889 2222.79 270.903 Q2220.66 272.917 2220.33 276.574 L2235.52 276.551 Z\" fill=\"#000000\" fill-rule=\"evenodd\" fill-opacity=\"1\" /></svg>\n"
      ]
     },
     "metadata": {},
     "output_type": "display_data"
    }
   ],
   "source": [
    "# Script launching prediction on one disease on n7_2A and plotting the percentage\n",
    "# of infected, susceptible and recovered at each time step.\n",
    "predictions, taus = Simulation_SIR(n7_2A,2,[0.3],[0.2],50,1000)\n",
    "\n",
    "Plots.plot([predictions[:,:,1] predictions[:,:,2] predictions[:,:,3]],\n",
    "           label=[\"Infected\" \"Recovered\" \"Susceptible\"],xlabel=\"t\",ylabel=\"%\")\n",
    "savefig(\"out/n7_2A_predictions_SIR.png\") # comment this line if you want to see the plot"
   ]
  },
  {
   "cell_type": "markdown",
   "metadata": {},
   "source": [
    "<div style=\"width:75%;margin:0 auto;\">\n",
    "\n",
    "<strong style=\"color:cadetblue\">Question 13 (written):</strong> As for Question 6 script 2 plot the evolution of the percentage of infected for many $\\tau$. Describe what you see.\n",
    "    \n",
    "<br>\n",
    "    \n",
    "<div style=\"background-color:#E7F1D1\"> <strong>Answer:</strong></div>"
   ]
  },
  {
   "cell_type": "code",
   "execution_count": null,
   "metadata": {},
   "outputs": [],
   "source": [
    "# Equivalent experiment as for Question 6 script 2\n",
    "\n",
    "# Script launching predictions on different diseases on karat7 and printing \n",
    "# the precentage of infected at each time step.\n",
    "karat7 = smallgraph(:karate)\n",
    "\n",
    "betas=[0.05,0.1,0.01,0.4,0.04,0.05,0.005]\n",
    "alphas=[0.05,0.1,0.01,0.1,0.01,0.1,0.01]\n",
    "\n",
    "# The original code is commented out because only 60 time steps are needed \n",
    "# for the sim to stabilize itself.\n",
    "\n",
    "# predictions, taus = Simulation_SIS(karat7,2,betas,alphas,1000,1000)\n",
    "predictions, taus = Simulation_SIR(karat7,2,betas,alphas,60,1000)\n",
    "\n",
    "Plots.plot(predictions, label=taus',xlabel=\"Time\",ylabel=\"Avg % of infected\")\n",
    "savefig(\"out/karat7_predictions_SIR.png\") # comment this line if you want to see the plot"
   ]
  },
  {
   "cell_type": "code",
   "execution_count": null,
   "metadata": {},
   "outputs": [],
   "source": [
    "# Same as before but applied on toulouse_neigh. May be a bit long to run.\n",
    "toulouse_neigh = barabasi_albert(1000, 1)\n",
    "\n",
    "betas = [0.05,0.1,0.15,0.25,0.35,0.45,0.55,0.65,0.75,0.85,0.95]\n",
    "alphas = [0.2,0.2,0.2,0.2,0.2,0.2,0.2,0.2,0.2,0.2,0.2]\n",
    "\n",
    "# Same thing here, the original timestep values were waaay too high. I really can't leave my computer\n",
    "# running overnight every time I want to run this script.\n",
    "\n",
    "# predictions, taus = Simulation_SIS(toulouse_neigh,100,betas,alphas,1000,100)\n",
    "predictions, taus = Simulation_SIR(toulouse_neigh,100,betas,alphas,100,100)\n",
    "\n",
    "Plots.plot(predictions, label=taus',xlabel=\"Time\",ylabel=\"Avg % of infected\")\n",
    "savefig(\"out/toulouse_neigh_predictions_SIR.png\") # comment this line if you want to see the plot"
   ]
  },
  {
   "cell_type": "markdown",
   "metadata": {},
   "source": [
    "<div style=\"width:75%;margin:0 auto;\">\n",
    "\n",
    "<strong style=\"color:cornflowerblue\">Question 14 (code):</strong> Implement a script plotting the number of infected over 75 time steps for $\\beta=0.3$ and $\\alpha=0.2$ fixed and on 3 contact networks:\n",
    "    \n",
    "* A regular graph of 200 vertices with degree 2.\n",
    "* A regular graph of 200 vertices with degree 5.\n",
    "* A regular graph of 200 vertices with degree 10.\n",
    "    "
   ]
  },
  {
   "cell_type": "code",
   "execution_count": null,
   "metadata": {},
   "outputs": [],
   "source": [
    "# Plots of the number of infected people according to tau over 75 time \n",
    "# steps for 3 contact networks.\n",
    "#########\n",
    "# Plots of the maximum percentage of infected people according to tau over 300 time \n",
    "# steps for 3 contact networks.\n",
    "\n",
    "samples = 40\n",
    "initial_infected = 5\n",
    "\n",
    "graph1 = random_regular_graph(200, 2)\n",
    "graph2 = random_regular_graph(200, 5)\n",
    "graph3 = random_regular_graph(200, 10)\n",
    "\n",
    "alphas=[0.3 for i in 1:samples]\n",
    "betas=[0.2 for i in 1:samples]\n",
    "taus = betas ./ alphas\n",
    "\n",
    "prediction1, ~ = Simulation_SIR(graph1, initial_infected, betas, alphas, 100, 1)\n",
    "prediction2, ~ = Simulation_SIR(graph2, initial_infected, betas, alphas, 100, 1)\n",
    "prediction3, ~ = Simulation_SIR(graph3, initial_infected, betas, alphas, 100, 1)\n",
    "\n",
    "# plot the results\n",
    "\n",
    "Plots.plot(prediction1, label=taus',xlabel=\"Time\",ylabel=\"% of infected\")\n",
    "savefig(\"out/SIR_2_infected.png\") # comment this line if you want to see the plot\n",
    "Plots.plot(prediction2, label=taus',xlabel=\"Time\",ylabel=\"% of infected\")\n",
    "savefig(\"out/SIR_5_infected.png\") # comment this line if you want to see the plot\n",
    "Plots.plot(prediction3, label=taus',xlabel=\"Time\",ylabel=\"% of infected\")\n",
    "savefig(\"out/SIR_10_infected.png\") # comment this line if you want to see the plot"
   ]
  },
  {
   "cell_type": "markdown",
   "metadata": {},
   "source": [
    "<div style=\"width:75%;margin:0 auto;\">\n",
    "\n",
    "<strong style=\"color:cadetblue\">Question 15 (written):</strong> From the previous figure, explain why lockdown can be interesting when hospital places are lacking ?\n",
    "\n",
    "<br>\n",
    "    \n",
    "<div style=\"background-color:#E7F1D1\"> <strong>Answer: On observe que plus le degré des sommets du graphe est faible plus le pourcentage d'infecté sera faible aussi. Cela signifie que moins une personne a de contact, moins la maladie se transmettra facilement. Le couvre feu permet de réduire ce nombre de contacts et donc aide à maintenir un taux de transmission plus faible.</strong></div>"
   ]
  },
  {
   "cell_type": "markdown",
   "metadata": {},
   "source": [
    "<div style=\"width:75%;margin:0 auto;\">\n",
    "\n",
    "### 2.2 SAIR\n",
    "    \n",
    "<p style=\"text-align:justify;\">The vector containing the disease status <code>state</code> has to change a bit since we added a new state. Hence it will be an <code>Array{Int32,1}</code> where Susceptible=0, Infected=1, Recovered=2, and Alert=3.</p>"
   ]
  },
  {
   "cell_type": "markdown",
   "metadata": {},
   "source": [
    "<div style=\"width:75%;margin:0 auto;\">\n",
    "    \n",
    "<strong style=\"color:cornflowerblue\">Question 16 (code):</strong> Implement the <code>function SAIR</code> (respect the header and the specifications). You can use <code>rand</code> to translate the probabilities. Test your algorithm on <code>karat7</code>, <code>n7_2A</code>, and <code>toulouse_neigh</code> with arbitrary $\\beta$, $\\alpha$, and $t$. Alerted vertices should appear in a different color (<code>colorant\"lightgreen\"</code>).\n",
    "    \n",
    "<span style=\"font-size:0.9em\">The corrector should be able to write <code>new_state = SAIR(net,state,beta0,beta1,alpha,kappa,t)</code> with your code.</span>"
   ]
  },
  {
   "cell_type": "code",
   "execution_count": 105,
   "metadata": {},
   "outputs": [
    {
     "data": {
      "text/plain": [
       "SAIR"
      ]
     },
     "metadata": {},
     "output_type": "display_data"
    }
   ],
   "source": [
    "# Code can be found in sair.jl\n",
    "include(\"sair.jl\")"
   ]
  },
  {
   "cell_type": "code",
   "execution_count": null,
   "metadata": {},
   "outputs": [],
   "source": [
    "# Test on Karat7\n",
    "nombre_infecte = 1\n",
    "karat7 = smallgraph(:karate)\n",
    "state = init_State(nv(karat7), nombre_infecte)\n",
    "beta0 = 0.1\n",
    "beta1 = 0.02\n",
    "kappa = 0.6\n",
    "alpha = 0.3\n",
    "t = 10\n",
    "state = SAIR(karat7,state,beta0,beta1,alpha,kappa,t)\n",
    "draw_Net_Graph(karat7, state, \"SAIR_karat7.png\")"
   ]
  },
  {
   "cell_type": "code",
   "execution_count": null,
   "metadata": {},
   "outputs": [],
   "source": [
    "# Test on N7_2A\n",
    "nombre_infecte = 3\n",
    "c=[[10,0,0] [0.1,10,0] [0.1,0.1,10]]\n",
    "n=[100,70,50]\n",
    "n7_2A = stochastic_block_model(c,n)\n",
    "state = init_State(nv(n7_2A), nombre_infecte)\n",
    "beta0 = 0.1\n",
    "beta1 = 0.02\n",
    "kappa = 0.6\n",
    "alpha = 0.3\n",
    "t = 10\n",
    "state = SAIR(n7_2A,state,beta0,beta1,alpha,kappa,t)\n",
    "draw_Net_Graph(n7_2A, state, \"n7_2A.png\")"
   ]
  },
  {
   "cell_type": "code",
   "execution_count": null,
   "metadata": {},
   "outputs": [],
   "source": [
    "# Test on Toulouse_neigh\n",
    "nombre_infecte = 10\n",
    "toulouse_neigh = barabasi_albert(1000, 1)\n",
    "state = init_State(nv(toulouse_neigh), nombre_infecte)\n",
    "beta0 = 0.1\n",
    "beta1 = 0.02\n",
    "kappa = 0.6\n",
    "alpha = 0.3\n",
    "t = 10\n",
    "state = SAIR(toulouse_neigh,state,beta0,beta1,alpha,kappa,t)\n",
    "draw_Net_Graph(toulouse_neigh, state, \"toulouse_neigh.png\")"
   ]
  },
  {
   "cell_type": "markdown",
   "metadata": {},
   "source": [
    "<div style=\"width:75%;margin:0 auto;\">\n",
    "    \n",
    "<strong style=\"color:cornflowerblue\">Question 17 (code):</strong> Implement the <code>function Simulation_SAIR</code> (respect the header and the specifications).\n",
    "    \n",
    "<span style=\"font-size:0.9em\">The corrector should be able to write <code>predictions, taus = Simulation_SAIR(net,nbinf,betas0,betas1,alphas,kappas,t,nbsimu)</code> with your code.</span>"
   ]
  },
  {
   "cell_type": "markdown",
   "metadata": {},
   "source": [
    "<div style=\"width:75%;margin:0 auto;\">\n",
    "\n",
    "<strong style=\"color:cadetblue\">Question 18 (written):</strong> Run the script below comparing the number of infected of SAIR and SIR and comment what you see.\n",
    "    \n",
    "<br>\n",
    "    \n",
    "<div style=\"background-color:#E7F1D1\"> <strong>Answer:</strong></div>"
   ]
  },
  {
   "cell_type": "code",
   "execution_count": null,
   "metadata": {},
   "outputs": [],
   "source": [
    "# Script launching prediction on one disease on toulouse_neigh and plotting the percentage\n",
    "# of infected at each time step for SIR and SAIR.\n",
    "predictions1, taus1 = Simulation_SAIR(toulouse_neigh,2,[0.2],[0.1],[0.1],[0.4],100,1000)\n",
    "predictions2, taus2 = Simulation_SIR(toulouse_neigh,2,[0.2],[0.1],100,1000)\n",
    "\n",
    "Plots.plot([predictions1[:,:,1] predictions2[:,:,1]],\n",
    "           label=[\"SAIR\" \"SIR\"],xlabel=\"t\",ylabel=\"%\")"
   ]
  },
  {
   "cell_type": "markdown",
   "metadata": {},
   "source": [
    "<div style=\"width:75%;margin:0 auto;\">\n",
    "\n",
    "<strong style=\"color:cadetblue\">Question 19 (written):</strong> Of course the presented SIS, SIR, and SAIR models are limitated in their modelization of the reality. Formulate few of these limitations (at least 2). \n",
    "Propose few algorithm addons/ideas (at least 2) which would make the models more complex and more accurate in regards to the reality.\n",
    "    \n",
    "<br>\n",
    "    \n",
    "<div style=\"background-color:#E7F1D1\"> <strong>Answer: On a amélioré le modèle de base (SIS) en prenant en compte les ceux qui se retablissent, puisse ceux en état d'alerte. On pourrait aussi prendre en compte le taux de létalité, le taux de personnes suceptible d'être infecté une seconde fois. On peut aussi introduire des variants avec des taux d'infection, de létalité et de guérison différents pour affiner le modèle. </strong></div>"
   ]
  },
  {
   "cell_type": "markdown",
   "metadata": {},
   "source": [
    "<div style=\"width:75%;margin:0 auto;\">\n",
    "\n",
    "## Part 3 - Discover patient zero\n",
    "    \n",
    "<p style=\"text-align:justify;\"> In the two previous parts you may have realised that understanding and controlling the spread of epidemics on contact networks is an important task. However, information about\n",
    "the origin of the epidemic could be also extremely useful to reduce or prevent future outbreaks. Thus, in this part we will focus on algorithm solutions to answer this issue.</p>\n",
    "    \n",
    "<p style=\"text-align:justify;\"> The stochastic nature of infection propagation makes the estimation of the epidemic origin intrinsically hard: indeed, different initial conditions can lead to the same configuration at the observation time. Methods such as the distance centrality or the Jordan center try to approximate it. They both rely on spatial information by stating that the first infected is probably at the center of the cluster of infection. Mathematically:\n",
    "    \n",
    "* The jordan center is expressed as $\\min_{v\\in \\mathcal{I}}\\max_{n\\in \\mathcal{I}}d(v,n)$ where $\\mathcal{I}$ is a connected component of the original contact network containing all infected and recovered vertices, and where $d(\\cdot,\\cdot)$ is the distance (= the shortest path) between 2 vertices (if not weighted graph each edge accounts for 1 unit). \n",
    "* The distance centrality is expressed as $\\min_{v\\in \\mathcal{I}}\\sum_{n\\in \\mathcal{I}}d(v,n)(\\delta_{n,I} + \\delta_{n,R}/\\alpha)$, where $\\delta_{n,I}=1$ if the vertex n is infected ($=0$ otherwise), and where $\\delta_{n,R}=1$ if the vertex n is recovered ($=0$ otherwise). You may note that in distance centrality we increase the weight of the recovered vertices by a factor $1/\\alpha$, it translates the fact that recovered vertices tend to be closer to the origin of the epidemic since they probably got ill before.\n",
    "    \n",
    "    \n",
    "We formulate the problem as follow: given a contact network and a snapshot of epidemic spread at a certain time, determine the infection source. A snapshot is a given <code>state</code> array for a contact network.</p>\n",
    "\n",
    "<br>\n",
    "    \n",
    "<p style=\"font-size:0.9em\"> A. Y. Lokhov, M. Mézard, H. Ohta, and L. Zdeborová, <cite>\"Inferring the origin of an epidemic with a dynamic message-passing algorithm\"</cite>, Physical Review (2014)</p>"
   ]
  },
  {
   "cell_type": "markdown",
   "metadata": {},
   "source": [
    "<div style=\"width:75%;margin:0 auto;\">\n",
    "    \n",
    "<strong style=\"color:cornflowerblue\">Question 20 (code):</strong> Implement the <code>function jordan</code> (respect the header and the specifications). You will need to use the function <code>dijkstra_shortest_paths</code> of the LighGraphs library, refer to the doc for more information. If there are multiple minimal vertices, then return the first one.\n",
    "    \n",
    "<span style=\"font-size:0.9em\">The corrector should be able to write <code>zero = jordan(g,state,alpha)</code> with your code.</span>"
   ]
  },
  {
   "cell_type": "code",
   "execution_count": 75,
   "metadata": {},
   "outputs": [
    {
     "data": {
      "text/plain": [
       "jordan (generic function with 1 method)"
      ]
     },
     "metadata": {},
     "output_type": "display_data"
    }
   ],
   "source": [
    "function jordan(g,state)\n",
    "    \"\"\"Find patient zero by mean of the jordan center method.\n",
    "    \n",
    "    PARAMS\n",
    "        g (LightGraph): graph representing the contact network\n",
    "        state (Array{Int32,1}): disease status of each vertex\n",
    "    \n",
    "    RETURNS\n",
    "        (Int32): the patient zero vertex number \n",
    "    \"\"\"\n",
    "    distance_min = nv(g)\n",
    "    infected_vertices = []\n",
    "    for v in vertices(g)\n",
    "        if state[v] == 1 || state[v] == 2\n",
    "            push!(infected_vertices, v)\n",
    "        end\n",
    "    end\n",
    "\n",
    "    patient_zero = infected_vertices[1]\n",
    "\n",
    "    # Calculer la distance maximal pour chaque noeud\n",
    "    for v in infected_vertices\n",
    "        distance_v = 0\n",
    "        for v2 in infected_vertices\n",
    "            paths_v = dijkstra_shortest_paths(g, v)\n",
    "            d_v_v2 = sum(enumerate_paths(paths_v, v2))\n",
    "            distance_v = max(distance_v, d_v_v2)\n",
    "        end\n",
    "        \n",
    "        # Mettre à jour le minimum\n",
    "        if distance_v < distance_min\n",
    "            distance_min = distance_v\n",
    "            patient_zero = v\n",
    "        end\n",
    "\n",
    "    end\n",
    "    return patient_zero\n",
    "end"
   ]
  },
  {
   "cell_type": "markdown",
   "metadata": {},
   "source": [
    "<div style=\"width:75%;margin:0 auto;\">\n",
    "    \n",
    "<strong style=\"color:cornflowerblue\">Question 21 (code):</strong> Implement the <code>function distance</code> (respect the header and the specifications). You will need to use the function <code>dijkstra_shortest_paths</code> of the LighGraphs library, refer to the doc for more information. If there are multiple minimal vertices, then return the first one.\n",
    "    \n",
    "<span style=\"font-size:0.9em\">The corrector should be able to write <code>zero = distance(g,state,alpha)</code> with your code.</span>"
   ]
  },
  {
   "cell_type": "code",
   "execution_count": 76,
   "metadata": {},
   "outputs": [
    {
     "data": {
      "text/plain": [
       "distance (generic function with 2 methods)"
      ]
     },
     "metadata": {},
     "output_type": "display_data"
    }
   ],
   "source": [
    "function distance(g,state,alpha=1.)\n",
    "    \"\"\"Find patient zero by mean of the distance centrality method.\n",
    "    \n",
    "    PARAMS\n",
    "        g (LightGraph): graph representing the contact network\n",
    "        state (Array{Int32,1}): disease status of each vertex\n",
    "        alpha (Float64): curing rate\n",
    "    \n",
    "    RETURNS\n",
    "        (Int32): the patient zero vertex number \n",
    "    \"\"\"\n",
    "    sum_distance_min = nv(g)^2\n",
    "    infected_vertices = []\n",
    "    for v in vertices(g)\n",
    "        if state[v] == 1 || state[v] == 2\n",
    "            push!(infected_vertices, v)\n",
    "        end\n",
    "    end\n",
    "    patient_zero = infected_vertices[1]\n",
    "\n",
    "    for v in infected_vertices\n",
    "        sum_distance_v = 0\n",
    "\n",
    "        \n",
    "        for v2 in infected_vertices\n",
    "            paths_v = dijkstra_shortest_paths(g, v)\n",
    "            d_v_v2 = sum(enumerate_paths(paths_v, v2))\n",
    "            if state[v2] == 1\n",
    "                sum_distance_v = sum_distance_v + d_v_v2\n",
    "            elseif state[v2] == 2\n",
    "                sum_distance_v = sum_distance_v + d_v_v2 / alpha\n",
    "            end\n",
    "        end\n",
    "        \n",
    "        # Mettre à jour le minimum\n",
    "        if sum_distance_v < sum_distance_min\n",
    "            distance_min = sum_distance_v\n",
    "            patient_zero = v\n",
    "        end\n",
    "\n",
    "    end\n",
    "    return patient_zero\n",
    "end"
   ]
  },
  {
   "cell_type": "markdown",
   "metadata": {},
   "source": [
    "<div style=\"width:75%;margin:0 auto;\">\n",
    "\n",
    "<strong style=\"color:cadetblue\">Question 22 (written):</strong> Run the 3 following scripts using your functions <code>jordan</code> and <code>distance</code> and comment on the results.\n",
    "    \n",
    "The contact network is karat7 for 2 different patient zero and a $50\\times 50$ grid. The real patient zero (\"Z\"), your jordan (\"J\") and distance (\"D\") approximations are appearing in <code>colorant\"lightblue\"</code>.\n",
    "    \n",
    "<br>\n",
    "    \n",
    "<div style=\"background-color:#E7F1D1\"> <strong> Answer:</strong></div>"
   ]
  },
  {
   "cell_type": "code",
   "execution_count": 79,
   "metadata": {},
   "outputs": [],
   "source": [
    "# Loading a snapshot of karat7\n",
    "@load \"karat7_Q22_1.jld2\" g state pat_zero alpha beta loc_x loc_y\n",
    "\n",
    "# Run the patient zero finding function\n",
    "cent_pat_zero = distance(g,state,alpha)\n",
    "jor_pat_zero = jordan(g,state)\n",
    "\n",
    "# Some display options \n",
    "labels = Array{String, 1}(undef,nv(g))\n",
    "for k=1:nv(g)\n",
    "    if state[k]==1\n",
    "        labels[k]=\"I\"\n",
    "    elseif state[k]==2\n",
    "        labels[k]=\"R\"\n",
    "    else\n",
    "        labels[k]=\"S\"\n",
    "    end\n",
    "end\n",
    "\n",
    "if cent_pat_zero==jor_pat_zero==pat_zero\n",
    "    labels[cent_pat_zero]=\"C+J+Z\"\n",
    "elseif cent_pat_zero==jor_pat_zero\n",
    "    labels[cent_pat_zero]=\"C+J\"\n",
    "    labels[pat_zero]=\"Z\"\n",
    "elseif cent_pat_zero==pat_zero\n",
    "    labels[cent_pat_zero]=\"C+Z\"\n",
    "    labels[jor_pat_zero]=\"J\"\n",
    "elseif jor_pat_zero==pat_zero\n",
    "    labels[jor_pat_zero]=\"J+Z\"\n",
    "    labels[cent_pat_zero]=\"C\"\n",
    "else\n",
    "    labels[cent_pat_zero]=\"C\"\n",
    "    labels[jor_pat_zero]=\"J\"\n",
    "    labels[pat_zero]=\"Z\"\n",
    "end\n",
    "\n",
    "nodecolor = [colorant\"lightseagreen\", colorant\"orange\", colorant\"purple\"]\n",
    "colors = nodecolor[state + ones(Int32,nv(g))]\n",
    "colors[pat_zero] = colorant\"lightblue\"\n",
    "colors[cent_pat_zero] = colorant\"lightblue\"\n",
    "colors[jor_pat_zero] = colorant\"lightblue\"\n",
    "\n",
    "# Display\n",
    "draw(PNG(\"karat7_Q22_1.png\", 20cm, 20cm), gplot(g,loc_x,loc_y,nodefillc=colors,nodelabel=labels))"
   ]
  },
  {
   "cell_type": "code",
   "execution_count": 80,
   "metadata": {},
   "outputs": [],
   "source": [
    "# Loading a snapshot of karat7\n",
    "@load \"karat7_Q22_2.jld2\" g state pat_zero alpha beta loc_x loc_y\n",
    "\n",
    "# Run the patient zero finding function\n",
    "cent_pat_zero = distance(g,state,alpha)\n",
    "jor_pat_zero = jordan(g,state)\n",
    "\n",
    "# Some display options \n",
    "labels = Array{String, 1}(undef,nv(g))\n",
    "for k=1:nv(g)\n",
    "    if state[k]==1\n",
    "        labels[k]=\"I\"\n",
    "    elseif state[k]==2\n",
    "        labels[k]=\"R\"\n",
    "    else\n",
    "        labels[k]=\"S\"\n",
    "    end\n",
    "end\n",
    "\n",
    "if cent_pat_zero==jor_pat_zero==pat_zero\n",
    "    labels[cent_pat_zero]=\"C+J+Z\"\n",
    "elseif cent_pat_zero==jor_pat_zero\n",
    "    labels[cent_pat_zero]=\"C+J\"\n",
    "    labels[pat_zero]=\"Z\"\n",
    "elseif cent_pat_zero==pat_zero\n",
    "    labels[cent_pat_zero]=\"C+Z\"\n",
    "    labels[jor_pat_zero]=\"J\"\n",
    "elseif jor_pat_zero==pat_zero\n",
    "    labels[jor_pat_zero]=\"J+Z\"\n",
    "    labels[cent_pat_zero]=\"C\"\n",
    "else\n",
    "    labels[cent_pat_zero]=\"C\"\n",
    "    labels[jor_pat_zero]=\"J\"\n",
    "    labels[pat_zero]=\"Z\"\n",
    "end\n",
    "\n",
    "nodecolor = [colorant\"lightseagreen\", colorant\"orange\", colorant\"purple\"]\n",
    "colors = nodecolor[state + ones(Int32,nv(g))]\n",
    "colors[pat_zero] = colorant\"lightblue\"\n",
    "colors[cent_pat_zero] = colorant\"lightblue\"\n",
    "colors[jor_pat_zero] = colorant\"lightblue\"\n",
    "\n",
    "# Display\n",
    "draw(PNG(\"karat7_Q22_2.png\", 20cm, 20cm), gplot(g,loc_x,loc_y,nodefillc=colors,nodelabel=labels))"
   ]
  },
  {
   "cell_type": "code",
   "execution_count": 1,
   "metadata": {},
   "outputs": [
    {
     "ename": "LoadError",
     "evalue": "LoadError: UndefVarError: @load not defined\nin expression starting at In[1]:2",
     "output_type": "error",
     "traceback": [
      "LoadError: UndefVarError: @load not defined\nin expression starting at In[1]:2",
      "",
      "Stacktrace:",
      " [1] top-level scope",
      "   @ :0",
      " [2] eval",
      "   @ .\\boot.jl:373 [inlined]",
      " [3] include_string(mapexpr::typeof(REPL.softscope), mod::Module, code::String, filename::String)",
      "   @ Base .\\loading.jl:1196"
     ]
    }
   ],
   "source": [
    "# Loading a snapshot of grid50\n",
    "@load \"grid50_Q22.jld2\" g state pat_zero alpha beta loc_x loc_y\n",
    "\n",
    "# Run the patient zero finding function\n",
    "cent_pat_zero = distance(g,state,alpha)\n",
    "jor_pat_zero = jordan(g,state)\n",
    "\n",
    "# Some display options \n",
    "labels = Array{String, 1}(undef,nv(g))\n",
    "for k=1:nv(g)\n",
    "    if state[k]==1\n",
    "        labels[k]=\"I\"\n",
    "    elseif state[k]==2\n",
    "        labels[k]=\"R\"\n",
    "    else\n",
    "        labels[k]=\"S\"\n",
    "    end\n",
    "end\n",
    "\n",
    "if cent_pat_zero==jor_pat_zero==pat_zero\n",
    "    labels[cent_pat_zero]=\"C+J+Z\"\n",
    "elseif cent_pat_zero==jor_pat_zero\n",
    "    labels[cent_pat_zero]=\"C+J\"\n",
    "    labels[pat_zero]=\"Z\"\n",
    "elseif cent_pat_zero==pat_zero\n",
    "    labels[cent_pat_zero]=\"C+Z\"\n",
    "    labels[jor_pat_zero]=\"J\"\n",
    "elseif jor_pat_zero==pat_zero\n",
    "    labels[jor_pat_zero]=\"J+Z\"\n",
    "    labels[cent_pat_zero]=\"C\"\n",
    "else\n",
    "    labels[cent_pat_zero]=\"C\"\n",
    "    labels[jor_pat_zero]=\"J\"\n",
    "    labels[pat_zero]=\"Z\"\n",
    "end\n",
    "\n",
    "nodecolor = [colorant\"lightseagreen\", colorant\"orange\", colorant\"purple\"]\n",
    "colors = nodecolor[state + ones(Int32,nv(g))]\n",
    "colors[pat_zero] = colorant\"lightblue\"\n",
    "colors[cent_pat_zero] = colorant\"lightblue\"\n",
    "colors[jor_pat_zero] = colorant\"lightblue\"\n",
    "\n",
    "# Display\n",
    "draw(PNG(\"grid50_Q22.png\", 100cm, 100cm), gplot(g,loc_x,loc_y,nodefillc=colors,nodelabel=labels))"
   ]
  },
  {
   "cell_type": "code",
   "execution_count": null,
   "metadata": {},
   "outputs": [],
   "source": []
  }
 ],
 "metadata": {
  "kernelspec": {
   "display_name": "Julia 1.7.0",
   "language": "julia",
   "name": "julia-1.7"
  },
  "language_info": {
   "file_extension": ".jl",
   "mimetype": "application/julia",
   "name": "julia",
   "version": "1.7.0"
  }
 },
 "nbformat": 4,
 "nbformat_minor": 4
}
