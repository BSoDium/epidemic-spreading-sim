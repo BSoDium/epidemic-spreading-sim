{
 "cells": [
  {
   "cell_type": "markdown",
   "metadata": {},
   "source": [
    "<center><h1>Graph project: Epidemic spreading</h1></center>\n",
    "\n",
    "<center><h4>ENSEEIHT SN</h4></center>"
   ]
  },
  {
   "cell_type": "markdown",
   "metadata": {},
   "source": [
    "<div style=\"width:75%;margin:0 auto;\">\n",
    "    \n",
    "## Introduction\n",
    "<a id='intro'></a>\n",
    "    \n",
    "<p style=\"text-align:justify;\"> As you know, a new epidemic has overwhelmed the world, COVID-19 jeopardizes people and changes our habits. It is easy to realise that knowing how illnesses spread is vital to our own protection. How can we predict whether a disease will cause an epidemic, how many people it will infect, which people it will infect, and whether or not it is dangerous to society as a whole ? Also, how can we determine which techniques to use in fighting an epidemic once it begins ? One way to answer all of these questions is through <strong>mathematical modeling</strong>. </p>\n",
    "\n",
    "<p style=\"text-align:justify;\"> In this work you will have to review different epidemic modelings relying all on the representation by graphs of a human network called a <strong>contact network</strong>. A vertex in a contact network represents an individual and an edge between two vertices represents a contact between two individuals. The disease only spread from individual to individual if they are in contact, so through the edges. This representation is actually really common in research, and a lot of state-of-the-art modeling are built over it. From these different models you will be asked to draw conclusions from experiments on varying contact networks</p>\n",
    "\n",
    "<p style=\"text-align:justify;\"> For readability and ease of use, this project will be carried on a Jupyter Notebook, hence code and question answering have to be written in this unique file. This is a <strong>DUO</strong> project, no group of one person will be accepted, the duo has to be composed of same TD group students, if the number of students in the TD group is odd we will accept one group composed of three students. It will be coded in Julia using the LightGraphs package. <strong>BEWARE:</strong> \n",
    "    \n",
    "- If the code does not provide good results, its readability as well as its comments are essential for the corrector to potentially find some notation points.\n",
    "- The specifications of the functions have to be strictly respected.\n",
    "- Do not neglect written questions they stand for an important part of the notation, you are not only evaluated on the coding. Also, even so a written question may not ask you directly to code or provide results from code, support your arguments when possible with a runable example is very welcome and sometimes even expected.\n",
    "- Any initiatives and additional efforts bringing contents and thoughts out of the question scope may result in bonus points if pertinent.\n",
    "</p> \n",
    "    \n",
    "<p style=\"text-align:justify;\"> Deliverable: You will deliver your work on moodle before <strong style=\"font-size:1.3em\">23.01.2022</strong> in a <strong style=\"font-size:1.3em\">.tar</strong> containing the notebook with your codes and your written answers, and the different graph figures in .png you will generate. The corrector will use the student N7 computers for running your code, so take care of verifying that your work is running as expected on these computers !</p>\n",
    "\n",
    "LightGraphs documentation: https://juliagraphs.org/LightGraphs.jl/v1.2/index.html\n",
    "    \n",
    "<!---\n",
    "http://makie.juliaplots.org/stable/basic-tutorial.html#Adding-plots-to-a-Scene\n",
    "TODO: afficher l'historique gplot des graphes durant la simu pour voir visuellement ce que ça donne. Peut etre necessiter de locker l'affichage graphique.\n",
    "afficher pour tau fixer sur different graphe de degré le nombre max d'infecté durant la simu.\n",
    "    \n",
    "Faire coder le modèle SAIS et SIR\n",
    "\n",
    "    Pour SIR faire la courbe dans un des sites dans les favoris\n",
    "    \n",
    "    Expliquer en quoi la distance et Jordan ne sont pas tout le temps optimal. Expliquer pourquoi le DMP peut présenter de meilleur résultat.\n",
    "\n",
    "Demander d'imaginer d'autres modèle inspirer de maladie\n",
    "--->\n",
    "</div>\n"
   ]
  },
  {
   "cell_type": "markdown",
   "metadata": {},
   "source": [
    "<div style=\"width:75%;margin:0 auto;\">\n",
    "\n",
    "## Environment and packages installation\n",
    "<a id='env'></a>\n",
    "    \n",
    "\n",
    "<p style=\"text-align:justify;\"> <strong>IMPORTANT</strong>: For evaluation, coding questions have to run with no additional packages ! Only the ones present here ! However if you want to use another package to go further in your answer and add bonus contents, take care of separating the cells and precising which packages you are using.</p>\n",
    "\n",
    "</div>\n"
   ]
  },
  {
   "cell_type": "code",
   "execution_count": 2,
   "metadata": {},
   "outputs": [
    {
     "name": "stderr",
     "output_type": "stream",
     "text": [
      "\u001b[32m\u001b[1m  Activating\u001b[22m\u001b[39m project at `c:\\Users\\pjcoq\\Documents\\Cours\\S7\\graphe\\epidemic-spreading-julia\\src`\n",
      "\u001b[32m\u001b[1m  No Changes\u001b[22m\u001b[39m to `C:\\Users\\pjcoq\\Documents\\Cours\\S7\\graphe\\epidemic-spreading-julia\\src\\Project.toml`\n",
      "\u001b[32m\u001b[1m  No Changes\u001b[22m\u001b[39m to `C:\\Users\\pjcoq\\Documents\\Cours\\S7\\graphe\\epidemic-spreading-julia\\src\\Manifest.toml`\n"
     ]
    }
   ],
   "source": [
    "# TO RUN ONCE\n",
    "using Pkg\n",
    "Pkg.activate(\".\") # Path to Manifest.toml and Project.toml\n",
    "Pkg.resolve()"
   ]
  },
  {
   "cell_type": "code",
   "execution_count": 28,
   "metadata": {
    "scrolled": true
   },
   "outputs": [
    {
     "name": "stderr",
     "output_type": "stream",
     "text": [
      "\u001b[32m\u001b[1m Activating\u001b[22m\u001b[39m environment at `~/Documents/GitHub/epidemic-spreading-sim/src/Project.toml`\n"
     ]
    },
    {
     "data": {
      "text/plain": [
       "Simulation_SAIR"
      ]
     },
     "metadata": {},
     "output_type": "display_data"
    }
   ],
   "source": [
    "# Import packages\n",
    "using Pkg\n",
    "Pkg.activate(\".\") # Path to Manifest.toml and Project.toml\n",
    "using LightGraphs\n",
    "using GraphPlot\n",
    "using Colors\n",
    "using CairoMakie\n",
    "using StatsBase\n",
    "using Plots\n",
    "using JLD2\n",
    "using Compose\n",
    "\n",
    "# Include local packages\n",
    "include(\"lib.jl\")\n",
    "include(\"sis.jl\")\n",
    "include(\"sir.jl\")\n",
    "include(\"sair.jl\")"
   ]
  },
  {
   "cell_type": "markdown",
   "metadata": {},
   "source": [
    "<div style=\"width:75%;margin:0 auto;\">\n",
    "\n",
    "## Part 1 - SIS model\n",
    "<a id='part1'></a>\n",
    "\n",
    "SIS is a compartmental model, ie a model where the population is divided into subgroups that represent the disease status of its members. SIS stands for Susceptible $\\rightarrow$ Infected $\\rightarrow$ Susceptible where the susceptible group contains those who remain susceptible to the infection, and the infected group consists of those who not only have the disease but are also in the contagious period of the disease.\n",
    "    \n",
    "Combine with a contact network approach, this model can capture contact patterns (family, company, friends). Each vertex represents an individual in the host population, and contacts between two individuals are represented by an edge that connects the two. The probability of transmitting the disease from an infected to a susceptible individual along one of these edges or contacts is $\\beta$ (=<strong>infection rate</strong>). The probability to cure is $\\alpha$ (= <strong>curing rate</strong>).\n",
    "\n",
    "    \n",
    "In order for a disease to begin spreading through a network, the disease must be introduced into the population, either through infecting a proportion of the population or through infecting one individual. As time moves forward, the disease will spread away from those initially infected, and two things may occur simultaneously at each time step $t$. First, each infected individual will spread disease to each of its contacts with a probability $\\beta$. Secondly, each infectious individual will recover at a rate, $\\alpha$ , at which point the individual will then no longer infect any of its contacts. After the disease has run its course, we can determine how the disease affected the network by calculating various quantities that help us better understand the outbreak.\n",
    "\n",
    "<br>\n",
    "    \n",
    "<p style=\"font-size:0.9em\">P. Van Mieghem, J. Omic, R. E. Kooij, <em>“Virus Spread in Networks”</em>,\n",
    "IEEE/ACM Transaction on Networking (2009)<p>\n",
    "\n",
    "</div>\n",
    "<!---\n",
    "<div style=\"background-color:rgba(0, 0, 0, 0.0470588); padding:10px 0;font-family:monospace;\">\n",
    "<font size = 4.5px><b>Algorithm 1:</b> Girvan Newman</font><br>\n",
    "    <div style=\"margin-left:50px;border-left:2px solid black;padding-left:10px;\">\n",
    "    <b> WHILE </b> there are still edges<b> OR </b> desired nb of communities unreached <b>DO</b>\n",
    "        <div style=\"margin-left:50px;border-left:2px solid black;padding-left:10px;\">\n",
    "        Calculate betweeness of all edges <br>\n",
    "        Remove the edge with the highest betweeness <br>\n",
    "        Calculate the number of strongly connected components\n",
    "        </div>\n",
    "    <b> END WHILE </b>   \n",
    "    </div>\n",
    "</div>\n",
    "--->"
   ]
  },
  {
   "cell_type": "markdown",
   "metadata": {},
   "source": [
    "<div style=\"width:75%;margin:0 auto;\">\n",
    "\n",
    "### 1.1 Contact networks sample\n",
    "\n",
    "</div>"
   ]
  },
  {
   "cell_type": "code",
   "execution_count": 2,
   "metadata": {},
   "outputs": [],
   "source": [
    "\"\"\"karat7: A graph representing the karate club of N7 and the connections between the persons in this club.\n",
    "There are 34 people in this network. It is actually inspired by one of the most famous problem in graph\n",
    "theory: the Zachary's karate club.\n",
    "\"\"\"\n",
    "karat7 = smallgraph(:karate)\n",
    "nodecolor = [colorant\"lightseagreen\"]\n",
    "draw(PNG(\"out/karat7.png\", 100cm, 100cm), gplot(karat7,nodefillc=nodecolor))"
   ]
  },
  {
   "cell_type": "code",
   "execution_count": null,
   "metadata": {},
   "outputs": [],
   "source": [
    "\"\"\"n7_2A: A graph representing the second year students at N7. Each department (SN, MF2E, 3EA) form a \n",
    "community where connections are denser, connections between department are rarer.\n",
    "\"\"\"\n",
    "c=[[10,0,0] [0.1,10,0] [0.1,0.1,10]]\n",
    "n=[100,70,50]\n",
    "n7_2A = stochastic_block_model(c,n)\n",
    "nodecolor = [colorant\"lightseagreen\"]\n",
    "draw(PNG(\"out/n7_2A.png\", 100cm, 100cm), gplot(n7_2A,nodefillc=nodecolor))"
   ]
  },
  {
   "cell_type": "code",
   "execution_count": 3,
   "metadata": {},
   "outputs": [],
   "source": [
    "\"\"\"toulouse_neigh: A graph representing a neighborhood composed of 1000 people in Toulouse.\n",
    "\"\"\"\n",
    "toulouse_neigh = barabasi_albert(1000, 1)\n",
    "nodecolor = [colorant\"lightseagreen\"]\n",
    "draw(PNG(\"out/toulouse_neigh.png\", 100cm, 100cm), gplot(toulouse_neigh,nodefillc=nodecolor))"
   ]
  },
  {
   "cell_type": "markdown",
   "metadata": {},
   "source": [
    "<div style=\"width:75%;margin:0 auto;\">\n",
    "  \n",
    "### 1.2 Introduce the infection\n",
    "    \n",
    "<p style=\"text-align:justify;\">We denote by <code>state</code> a vector containing the disease status of each vertex where Susceptible=0 and Infected=1. Then <code>state</code> is an <code>Array{Int32,1}</code> of length the number of vertices. This array in addition of a graph (represented internally by an adjacency matrix or an adjacency list) will be the data structure of our model.</p>\n",
    "    \n",
    "<span style=\"font-size:0.9em\">In <code>Array{Int32,1}</code>, <code>Int32</code> refers to the kind of data in the array, here 32 bits integers, <code>1</code> refers to the dimension of the array, here we have a 1-dimensional structure so a vector.</span>\n",
    "</div>"
   ]
  },
  {
   "cell_type": "markdown",
   "metadata": {},
   "source": [
    "<div style=\"width:75%;margin:0 auto;\">\n",
    "\n",
    "<strong style=\"color:cornflowerblue\">Question 1 (code):</strong> For each graph in the graph sample (<code>karat7</code>, <code>n7_2A</code>, <code>toulouse_neigh</code>) initialize the state array by assigning each vertex to susceptible and add randomly one or numerous infected people. Save the graph as a .png image using <code>gplot</code> and <code>draw</code>, infected should appear in a different color (<code>colorant\"orange\"</code>).\n",
    "    \n",
    "Due to a bug on certain version of Jupyter Notebook, the graph <span style=\"font-size:1.3em\">figures should be saved in a file and not plot inside the notebook </span> !!!\n",
    "    \n",
    "Gplot GitHub: https://github.com/JuliaGraphs/GraphPlot.jl\n",
    "    \n",
    "Gplot examples: https://juliagraphs.org/GraphPlot.jl/\n",
    "</div>\n"
   ]
  },
  {
   "cell_type": "code",
   "execution_count": 4,
   "metadata": {},
   "outputs": [],
   "source": [
    "# Infect Karat7\n",
    "karat7 = smallgraph(:karate)\n",
    "cleannodecolor = colorant\"lightseagreen\"\n",
    "infectednodecolor = colorant\"orange\"\n",
    "# randomly choose ammount of infected people\n",
    "infected = rand(1:floor(Int, nv(karat7)/2))\n",
    "# randomly choose patient zero\n",
    "patient_zero_indices = [rand(1:nv(karat7)) for i in 1:infected]\n",
    "# create a list of uninfected nodes\n",
    "nodecolor = [cleannodecolor for i in 0:nv(karat7)]\n",
    "# infect previously chosen nodes\n",
    "for i in 1:infected\n",
    "  nodecolor[patient_zero_indices[i]] = infectednodecolor\n",
    "end\n",
    "# draw the graph\n",
    "draw(PNG(\"out/karat7.png\", 100cm, 100cm), gplot(karat7, nodefillc=nodecolor))"
   ]
  },
  {
   "cell_type": "code",
   "execution_count": 5,
   "metadata": {},
   "outputs": [],
   "source": [
    "# Infect N7_2A\n",
    "c=[[10,0,0] [0.1,10,0] [0.1,0.1,10]]\n",
    "n=[100,70,50]\n",
    "n7_2A = stochastic_block_model(c,n)\n",
    "cleannodecolor = colorant\"lightseagreen\"\n",
    "infectednodecolor = colorant\"orange\"\n",
    "# randomly choose the number of infected people\n",
    "infected = rand(1:floor(Int, nv(n7_2A) / 2))\n",
    "# randomly choose patient zero\n",
    "patient_zero_indices = [rand(1:nv(n7_2A)) for i in 1:infected] \n",
    "# create a list of uninfected nodes\n",
    "nodecolor = [cleannodecolor for i in 0:(nv(n7_2A))]\n",
    "# infect patient zero\n",
    "for i in 1:infected\n",
    "    nodecolor[patient_zero_indices[i]] = infectednodecolor\n",
    "end\n",
    "# draw the graph\n",
    "draw(PNG(\"out/n7_2A.png\", 100cm, 100cm), gplot(n7_2A,nodefillc=nodecolor))"
   ]
  },
  {
   "cell_type": "code",
   "execution_count": 6,
   "metadata": {},
   "outputs": [],
   "source": [
    "# Infect Toulouse_neigh\n",
    "toulouse_neigh = barabasi_albert(1000, 1)\n",
    "cleannodecolor = colorant\"lightseagreen\"\n",
    "infectednodecolor = colorant\"orange\"\n",
    "# randomly choose the number of infected people\n",
    "infected = rand(1:floor(Int, nv(toulouse_neigh)/2))\n",
    "# randomly choose patient zero\n",
    "patient_zero_indices = [rand(1:nv(toulouse_neigh)) for i in 1:infected] \n",
    "# create a list of uninfected nodes\n",
    "nodecolor = [cleannodecolor for i in 0:(nv(toulouse_neigh))]\n",
    "# infect patient zero\n",
    "for i in 1:infected\n",
    "    nodecolor[patient_zero_indices[i]] = infectednodecolor\n",
    "end\n",
    "# draw the graph\n",
    "draw(PNG(\"out/toulouse_neigh.png\", 100cm, 100cm), gplot(toulouse_neigh,nodefillc=nodecolor))"
   ]
  },
  {
   "cell_type": "markdown",
   "metadata": {},
   "source": [
    "<div style=\"width:75%;margin:0 auto;\">\n",
    "\n",
    "<strong style=\"color:cadetblue\">Question 2 (written):</strong> What do you think/predict about the influence of the initial number of infected people and their locations on the evolution of an SIS model epidemic ?\n",
    "\n",
    "<br>\n",
    "\n",
    "Plus il y a de personnes infectées au départ, plus l'infection se fera rapidement. De la même manière, plus les personnes infectées sont éloignées, plus la contagion se produira rapidement.\n",
    "\n",
    "</div>\n"
   ]
  },
  {
   "cell_type": "markdown",
   "metadata": {},
   "source": [
    "<div style=\"width:75%;margin:0 auto;\">\n",
    "  \n",
    "### 1.3 Spread the infection\n",
    "</div>\n"
   ]
  },
  {
   "cell_type": "markdown",
   "metadata": {},
   "source": [
    "<div style=\"width:75%;margin:0 auto;\">\n",
    "      \n",
    "<strong style=\"color:cornflowerblue\">Question 3 (code):</strong> Implement the <code>function SIS</code> (respect the header and the specifications). You can use <code>rand</code> to translate the probabilities. Test your algorithm on <code>karat7</code>, <code>n7_2A</code>, and <code>toulouse_neigh</code> with arbitrary $\\beta$, $\\alpha$, and $t$.\n",
    "    \n",
    "<span style=\"font-size:0.9em\">The corrector should be able to write <code>new_state = SIS(net,state,beta,alpha,t)</code> with your code.</span>\n",
    "\n",
    "</div>\n"
   ]
  },
  {
   "cell_type": "code",
   "execution_count": 8,
   "metadata": {},
   "outputs": [
    {
     "data": {
      "text/plain": [
       "Simulation_SIS"
      ]
     },
     "metadata": {},
     "output_type": "display_data"
    }
   ],
   "source": [
    "# Code can be found in sis.jl\n",
    "include(\"sis.jl\")"
   ]
  },
  {
   "cell_type": "code",
   "execution_count": 39,
   "metadata": {},
   "outputs": [],
   "source": [
    "# Test on Karat7\n",
    "nombre_infecte = 1\n",
    "karat7 = smallgraph(:karate)\n",
    "state = init_State(nv(karat7), nombre_infecte)\n",
    "beta = 0.1\n",
    "alpha = 0.3\n",
    "t = 10\n",
    "state = SIS(karat7,state,beta,alpha,t)\n",
    "draw_Net_Graph(karat7, state, \"karat7.png\")"
   ]
  },
  {
   "cell_type": "code",
   "execution_count": 10,
   "metadata": {},
   "outputs": [],
   "source": [
    "# Test on N7_2A\n",
    "nombre_infecte = 3\n",
    "c=[[10,0,0] [0.1,10,0] [0.1,0.1,10]]\n",
    "n=[100,70,50]\n",
    "n7_2A = stochastic_block_model(c,n)\n",
    "state = init_State(nv(n7_2A), nombre_infecte)\n",
    "beta = 0.1\n",
    "alpha = 0.5\n",
    "t = 10\n",
    "state = SIS(n7_2A,state,beta,alpha,t)\n",
    "draw_Net_Graph(n7_2A, state, \"n7_2A.png\")"
   ]
  },
  {
   "cell_type": "code",
   "execution_count": 11,
   "metadata": {},
   "outputs": [],
   "source": [
    "# Test on Toulouse_neigh\n",
    "nombre_infecte = 10\n",
    "toulouse_neigh = barabasi_albert(1000, 1)\n",
    "state = init_State(nv(toulouse_neigh), nombre_infecte)\n",
    "beta = 0.1\n",
    "alpha = 0.5\n",
    "t = 20\n",
    "state = SIS(toulouse_neigh,state,beta,alpha,t)\n",
    "draw_Net_Graph(toulouse_neigh, state, \"toulouse_neigh.png\")"
   ]
  },
  {
   "cell_type": "markdown",
   "metadata": {},
   "source": [
    "<div style=\"width:75%;margin:0 auto;\">\n",
    "\n",
    "### 1.4 Simulate and understand the epidemic\n",
    "    \n",
    "<p style=\"text-align:justify;\">In the SIS model of this project, every disease is characterized by:\n",
    "\n",
    "    \n",
    "* The infection rate $\\beta$ representing the chance of infection when being in contact with an infected individual.\n",
    "* The curing rate $\\alpha$ representing the chance of being cured of the disease.\n",
    "* The effective spreading rate $\\tau=\\frac{\\beta}{\\alpha}$ representing the capacity of the disease to spread. More the disease infect easily ($\\beta$ high) and less it is cured easily ($\\alpha$ low) more $\\tau$ can be high.\n",
    "\n",
    "We are now willing to understand what are the influences of these parameters as well as the contact network shape on an epidemic.</p>\n",
    "\n",
    "</div>\n"
   ]
  },
  {
   "cell_type": "markdown",
   "metadata": {},
   "source": [
    "<div style=\"width:75%;margin:0 auto;\">\n",
    "\n",
    "<strong style=\"color:cadetblue\">Question 4 (written):</strong> The <code>function SIS</code> you implemented launches one run of a SIS model on a given contact network. As it makes use of randomness, one run of spreading is stochastic. Then what simple method can you propose to provide a prediction of the disease spreading on a given contact network ?\n",
    "   \n",
    "<br>\n",
    "\n",
    "On peut estimer l'évolution de la propagation de la maladie en lançant la simulation un grand nombre de fois jusqu'à obtenir des statistiques suffisament fiables\n",
    "\n",
    "</div>\n"
   ]
  },
  {
   "cell_type": "markdown",
   "metadata": {},
   "source": [
    "<div style=\"width:75%;margin:0 auto;\">\n",
    "    \n",
    "<strong style=\"color:cornflowerblue\">Question 5 (code):</strong> Implement the <code>function Simulation_SIS</code> (respect the header and the specifications).\n",
    "    \n",
    "<span style=\"font-size:0.9em\">The corrector should be able to write <code>predictions, taus = Simulation_SIS(net,nbinf,betas,alphas,t,nbsimu)</code> with your code.</span>\n",
    "\n",
    "</div>\n"
   ]
  },
  {
   "cell_type": "code",
   "execution_count": 53,
   "metadata": {},
   "outputs": [],
   "source": [
    "# Code can be found in sis.jl\n",
    "include(\"sis.jl\")"
   ]
  },
  {
   "cell_type": "markdown",
   "metadata": {},
   "source": [
    "<div style=\"width:75%;margin:0 auto;\">\n",
    "\n",
    "<strong style=\"color:cadetblue\">Question 6 (written)</strong>: Run the 2 scripts below and describe what you see. Conclude on the influence of $\\tau$, $\\beta$, and $\\alpha$ on an epidemic we can model with SIS.\n",
    "    \n",
    "<br>\n",
    "\n",
    "We can see how, the lower the effective spreading rate $\\tau$ gets, the longer it takes for the population to get infected, and the less likely it is for the epidemic to explode. Therefore, we can assume that a higher $\\beta$ and a lower $\\alpha$ mean a faster infection with the SIS model.\n",
    "\n",
    "</div>\n"
   ]
  },
  {
   "cell_type": "code",
   "execution_count": 54,
   "metadata": {},
   "outputs": [],
   "source": [
    "# Script launching predictions on different diseases on karat7 and printing \n",
    "# the precentage of infected at each time step.\n",
    "karat7 = smallgraph(:karate)\n",
    "\n",
    "betas=[0.05,0.1,0.01,0.4,0.04,0.05,0.005]\n",
    "alphas=[0.05,0.1,0.01,0.1,0.01,0.1,0.01]\n",
    "\n",
    "# The original code is commented out because only 60 time steps are needed \n",
    "# for the sim to stabilize itself.\n",
    "\n",
    "# predictions, taus = Simulation_SIS(karat7,2,betas,alphas,1000,1000)\n",
    "predictions, taus = Simulation_SIS(karat7,2,betas,alphas,600,1000)\n",
    "\n",
    "Plots.plot(predictions, label=taus',xlabel=\"Time\",ylabel=\"Avg proportion of infected\")\n",
    "savefig(\"out/karat7_predictions_SIS.png\") # comment this line if you want to see the plot"
   ]
  },
  {
   "cell_type": "code",
   "execution_count": 22,
   "metadata": {},
   "outputs": [],
   "source": [
    "# Same as before but applied on toulouse_neigh. May be a bit long to run.\n",
    "toulouse_neigh = barabasi_albert(1000, 1)\n",
    "\n",
    "betas = [0.05,0.1,0.15,0.25,0.35,0.45,0.55,0.65,0.75,0.85,0.95]\n",
    "alphas = [0.2,0.2,0.2,0.2,0.2,0.2,0.2,0.2,0.2,0.2,0.2]\n",
    "\n",
    "# Same thing here, the original timestep values were waaay too high. I really can't leave my computer\n",
    "# running overnight every time I want to run this script.\n",
    "\n",
    "predictions, taus = Simulation_SIS(toulouse_neigh,100,betas,alphas,1000,100)\n",
    "# predictions, taus = Simulation_SIS(toulouse_neigh,100,betas,alphas,100,100)\n",
    "\n",
    "Plots.plot(predictions, label=taus',xlabel=\"Time\",ylabel=\"Avg proportion of infected\")\n",
    "savefig(\"out/toulouse_neigh_predictions_SIS.png\") # comment this line if you want to see the plot"
   ]
  },
  {
   "cell_type": "markdown",
   "metadata": {},
   "source": [
    "<div style=\"width:75%;margin:0 auto;\">\n",
    "\n",
    "<strong style=\"color:cadetblue\">Question 7 (written):</strong> Change the initial number of infected in the scripts above, is it in accordance with your answer in Question 2 ?\n",
    "    \n",
    "<br>\n",
    "\n",
    "Yes, the result does make sense. The speed at which the population gets infected is still proportional to the effective spreading rate $\\tau$. The result does not appear on this notebook though, as we did not run the simulation more than once (it takes a long time to complete, and we mistakenly cleared the cell outputs a couple days ago).\n",
    "</div>\n"
   ]
  },
  {
   "cell_type": "code",
   "execution_count": null,
   "metadata": {
    "scrolled": true
   },
   "outputs": [],
   "source": [
    "# Change the initial number of infected\n",
    "karat7 = smallgraph(:karate)\n",
    "\n",
    "betas=[0.05,0.1,0.01,0.4,0.04,0.05,0.005]\n",
    "alphas=[0.05,0.1,0.01,0.1,0.01,0.1,0.01]\n",
    "\n",
    "predictions, taus = Simulation_SIS(karat7,8,betas,alphas,1000,1000)\n",
    "\n",
    "Plots.plot(predictions, label=taus',xlabel=\"Time\",ylabel=\"Avg % of infected\")"
   ]
  },
  {
   "cell_type": "markdown",
   "metadata": {},
   "source": [
    "<div style=\"width:75%;margin:0 auto;\">\n",
    "\n",
    "<strong style=\"color:cornflowerblue\">Question 8 (code):</strong> Implement a script plotting the maximum percentage of infected people according to $\\tau$ over 300 time steps for 3 contact networks:\n",
    "\n",
    "* A regular graph of 200 vertices with degree 2.\n",
    "* A regular graph of 200 vertices with degree 5.\n",
    "* A regular graph of 200 vertices with degree 10.\n",
    "\n",
    "You can use the function <code>random_regular_graph(n,d)</code> of LighGraphs. As you probably need to use a certain number of different values of $\\tau$ to visualize something interesting (the more there are the more the figure will be smooth) you should fix $\\alpha$ and make $\\beta$ vary. \n",
    "\n",
    "<span style=\"font-size:0.9em\">A regular graph is a graph where each vertex has the same degree.</span>\n",
    "\n",
    "</div>"
   ]
  },
  {
   "cell_type": "code",
   "execution_count": 41,
   "metadata": {},
   "outputs": [],
   "source": [
    "# Plots of the maximum percentage of infected people according to tau over 300 time \n",
    "# steps for 3 contact networks.\n",
    "\n",
    "samples = 100\n",
    "initial_infected = 5\n",
    "\n",
    "graph1 = random_regular_graph(200, 2)\n",
    "graph2 = random_regular_graph(200, 5)\n",
    "graph3 = random_regular_graph(200, 10)\n",
    "\n",
    "alphas=[10 for i in 1:samples]\n",
    "betas=[i*0.1 for i in 1:samples]\n",
    "taus = betas ./ alphas\n",
    "\n",
    "prediction1, ~ = Simulation_SIS(graph1, initial_infected, betas, alphas, 300, 1)\n",
    "prediction2, ~ = Simulation_SIS(graph2, initial_infected, betas, alphas, 300, 1)\n",
    "prediction3, ~ = Simulation_SIS(graph3, initial_infected, betas, alphas, 300, 1)\n",
    "\n",
    "output = zeros(samples, 3)\n",
    "\n",
    "# calculate the maximum percentage of infected people for each tau\n",
    "output[:, 1] = [findmax(prediction1[:,i])[1] for i in 1:samples]\n",
    "output[:, 2] = [findmax(prediction2[:,i])[1] for i in 1:samples]\n",
    "output[:, 3] = [findmax(prediction3[:,i])[1] for i in 1:samples]\n",
    "\n",
    "# plot the results\n",
    "Plots.plot(taus, output, xlabel=\"Tau\",ylabel=\"Max % of infected\")\n",
    "savefig(\"out/max_infected.png\") # comment this line if you want to see the plot"
   ]
  },
  {
   "cell_type": "markdown",
   "metadata": {},
   "source": [
    "<div style=\"width:75%;margin:0 auto;\">\n",
    "\n",
    "<strong style=\"color:cadetblue\">Question 9 (written):</strong> Describe the figure and draw conclusions on the epidemic behavior for different degrees $d$ on regular graphs. Thus, in addition of the inner properties of the disease ($\\alpha$, $\\beta$, $\\tau$) what other parameter is essential in the spreading ? Finally, what analogy can be done with real life from this experiment ?\n",
    "    \n",
    "<br>\n",
    "    \n",
    "The figure shows us that the higher the degree of the graph, the easier it is for the disease to spread, as the vertices are more connected.\n",
    "\n",
    "However, this is not the only decisive factor, as we can clearly see that the effective spreading rate $\\tau$ has a strong influence on whether the disease manages to infect the population or not. \n",
    "\n",
    "This simulation makes it clear that social distancing, and the infection to recovery probability ratio, are the two most important factors in the spreading of a disease.\n",
    "\n",
    "</div>\n"
   ]
  },
  {
   "cell_type": "markdown",
   "metadata": {},
   "source": [
    "<div style=\"width:75%;margin:0 auto;\">\n",
    "\n",
    "## Part 2 - SIR and SAIR model\n",
    "<a id='part2'></a>\n",
    "\n",
    "Unfortunately SIS model is valuable for diseases we can catch back since a cured person can get ill again. This is true for the flu, the cold, etc. However COVID-19 might create immunity for whom already got it and SIS can not take into account immune or dead persons. That is why we propose in this part to consider another model more adapted to COVID-19 called SIR. It stands for Susceptible $\\rightarrow$ Infected $\\rightarrow$ Recovered where the susceptible group contains those who remain susceptible to the infection, the infected group consists of those who not only have the disease but are also in the contagious period of the disease, and the recovered group contains those who were ill, got cured, are not contagious and can not get ill anymore.\n",
    "\n",
    "<br/>\n",
    "\n",
    "<p style=\"font-size:0.9em\">M. Youssef and C. Scoglio, <cite>\"An individual-based approach to SIR epidemics in contact networks\"</cite>, Journal of Theoretical Biology 283 (2011)</p>\n",
    "\n",
    "<br/>\n",
    "    \n",
    "One limitation of SIR is that it does not model the reaction of humans when they feel the presence of the epidemic. Indeed, if feeling threatened or surrounded by infected, an individual may change its behaviors: wear mask, wash its hands, etc. This result in a smaller infection rate. That is why in this part we will also consider a variant of SIR called SAIR which stands for Susceptible $\\rightarrow$ Alert $\\rightarrow$ Infected $\\rightarrow$ Recovered. A susceptible individual becomes infected by the infection rate $\\beta_0$, an infected individual recovers and gets immune by the curing rate $\\alpha$, an individual can observe the states of its neighbors, then a susceptible individual might go to the alert state if surrounded by infected individuals with an alert rate $\\kappa$ on each contact with an infected, an alert inividual becomes infected by the infection rate $\\beta_1$ where $0<\\beta_1<\\beta_0$. In our simple SAIR model, an individual can not go back to a susceptible state when he got into the alert state.\n",
    "    \n",
    "<br/>\n",
    "    \n",
    "<p style=\"font-size:0.9em\"> F. Darabi Sahneh and C. Scoglio, <cite>\"Epidemic Spread in Human Networks\"</cite>, 50th IEEE Conf. Decision and Contol, Orlando, Florida (2011)</p>\n",
    "\n",
    "</div>\n"
   ]
  },
  {
   "cell_type": "markdown",
   "metadata": {},
   "source": [
    "<div style=\"width:75%;margin:0 auto;\">\n",
    "\n",
    "### 2.1 SIR\n",
    "    \n",
    "<p style=\"text-align:justify;\">The vector containing the disease status <code>state</code> has to change a bit since we added a new state. Hence it will be an <code>Array{Int32,1}</code> where Susceptible=0, Infected=1, and Recovered=2.</p>\n",
    "</div>\n"
   ]
  },
  {
   "cell_type": "markdown",
   "metadata": {},
   "source": [
    "<div style=\"width:75%;margin:0 auto;\">\n",
    "    \n",
    "<strong style=\"color:cornflowerblue\">Question 10 (code):</strong> Implement the <code>function SIR</code> (respect the header and the specifications). You can use <code>rand</code> to translate the probabilities. Test your algorithm on <code>karat7</code>, <code>n7_2A</code>, and <code>toulouse_neigh</code> with arbitrary $\\beta$, $\\alpha$, and $t$. Recovered vertices should appear in a different color (<code>colorant\"purple\"</code>).\n",
    "    \n",
    "<span style=\"font-size:0.9em\">The corrector should be able to write <code>new_state = SIR(net,state,beta,alpha,t)</code> with your code.</span>\n",
    "</div>\n"
   ]
  },
  {
   "cell_type": "code",
   "execution_count": 92,
   "metadata": {},
   "outputs": [
    {
     "data": {
      "text/plain": [
       "Simulation_SIR"
      ]
     },
     "metadata": {},
     "output_type": "display_data"
    }
   ],
   "source": [
    "# Code can be found in sir.jl\n",
    "include(\"sir.jl\")"
   ]
  },
  {
   "cell_type": "code",
   "execution_count": 73,
   "metadata": {},
   "outputs": [],
   "source": [
    "# Test on Karat7\n",
    "nombre_infecte = 1\n",
    "karat7 = smallgraph(:karate)\n",
    "state = init_State(nv(karat7), nombre_infecte)\n",
    "beta = 0.1\n",
    "alpha = 0.3\n",
    "t = 10\n",
    "state = SIR(karat7,state,beta,alpha,t)\n",
    "draw_Net_Graph(karat7, state, \"SIR_karat7.png\")"
   ]
  },
  {
   "cell_type": "code",
   "execution_count": 91,
   "metadata": {},
   "outputs": [],
   "source": [
    "# Test on N7_2A\n",
    "nombre_infecte = 3\n",
    "c=[[10,0,0] [0.1,10,0] [0.1,0.1,10]]\n",
    "n=[100,70,50]\n",
    "n7_2A = stochastic_block_model(c,n)\n",
    "state = init_State(nv(n7_2A), nombre_infecte)\n",
    "beta = 0.1\n",
    "alpha = 0.5\n",
    "t = 10\n",
    "state = SIR(n7_2A,state,beta,alpha,t)\n",
    "draw_Net_Graph(n7_2A, state, \"SIR_n7_2A.png\")"
   ]
  },
  {
   "cell_type": "code",
   "execution_count": 75,
   "metadata": {},
   "outputs": [],
   "source": [
    "# Test on Toulouse_neigh\n",
    "nombre_infecte = 10\n",
    "toulouse_neigh = barabasi_albert(1000, 1)\n",
    "state = init_State(nv(toulouse_neigh), nombre_infecte)\n",
    "beta = 0.1\n",
    "alpha = 0.5\n",
    "t = 20\n",
    "state = SIR(toulouse_neigh,state,beta,alpha,t)\n",
    "draw_Net_Graph(toulouse_neigh, state, \"SIR_toulouse_neigh.png\")"
   ]
  },
  {
   "cell_type": "markdown",
   "metadata": {},
   "source": [
    "<div style=\"width:75%;margin:0 auto;\">\n",
    "    \n",
    "<strong style=\"color:cornflowerblue\">Question 11 (code):</strong> Implement the <code>function Simulation_SIR</code> (respect the header and the specifications).\n",
    "    \n",
    "<span style=\"font-size:0.9em\">The corrector should be able to write <code>predictions, taus = Simulation_SIR(net,nbinf,betas,alphas,t,nbsimu)</code> with your code.</span>\n",
    "\n",
    "</div>\n"
   ]
  },
  {
   "cell_type": "markdown",
   "metadata": {},
   "source": [
    "<div style=\"width:75%;margin:0 auto;\">\n",
    "\n",
    "<strong style=\"color:cadetblue\">Question 12 (written):</strong> Run the script below and describe what you see. Why the infected curve does not behave the same as for SIS ? \n",
    "    \n",
    "<br>\n",
    "\n",
    "Dans le cas du modèle SIS, toute personne soigné peut être à nouveau infecté, donc le taux d'infection va tendre vers une valeure non nulle si alpha n'est pas trop grand comparé à beta. Tandis que pour le modèle SIR, une personne infecté finira par être soigné et ne pourra plus être infecté donc la courbe converge vers 0 personnes infectées.\n",
    "\n",
    "</div>\n"
   ]
  },
  {
   "cell_type": "code",
   "execution_count": 90,
   "metadata": {},
   "outputs": [],
   "source": [
    "# Script launching prediction on one disease on n7_2A and plotting the percentage\n",
    "# of infected, susceptible and recovered at each time step.\n",
    "predictions, taus = Simulation_SIR(n7_2A,2,[0.3],[0.2],50,1000)\n",
    "\n",
    "Plots.plot([predictions[:,:,1] predictions[:,:,2] predictions[:,:,3]],\n",
    "           label=[\"Infected\" \"Recovered\" \"Susceptible\"],xlabel=\"t\",ylabel=\"%\")\n",
    "savefig(\"out/n7_2A_predictions_SIR.png\") # comment this line if you want to see the plot"
   ]
  },
  {
   "cell_type": "markdown",
   "metadata": {},
   "source": [
    "<div style=\"width:75%;margin:0 auto;\">\n",
    "\n",
    "<strong style=\"color:cadetblue\">Question 13 (written):</strong> As for Question 6 script 2 plot the evolution of the percentage of infected for many $\\tau$. Describe what you see.\n",
    "\n",
    "</br>\n",
    "    \n",
    "On remarque un résultat similaire, plus tau est grand plus le pic de taux d'infection sera haut et se dissipera vite\n",
    "\n",
    "</div>\n"
   ]
  },
  {
   "cell_type": "code",
   "execution_count": 21,
   "metadata": {},
   "outputs": [
    {
     "data": {
      "image/svg+xml": "<?xml version=\"1.0\" encoding=\"utf-8\"?>\n<svg xmlns=\"http://www.w3.org/2000/svg\" xmlns:xlink=\"http://www.w3.org/1999/xlink\" width=\"600\" height=\"400\" viewBox=\"0 0 2400 1600\">\n<defs>\n  <clipPath id=\"clip000\">\n    <rect x=\"0\" y=\"0\" width=\"2400\" height=\"1600\"/>\n  </clipPath>\n</defs>\n<path clip-path=\"url(#clip000)\" d=\"\nM0 1600 L2400 1600 L2400 0 L0 0  Z\n  \" fill=\"#ffffff\" fill-rule=\"evenodd\" fill-opacity=\"1\"/>\n<defs>\n  <clipPath id=\"clip001\">\n    <rect x=\"480\" y=\"0\" width=\"1681\" height=\"1600\"/>\n  </clipPath>\n</defs>\n<path clip-path=\"url(#clip000)\" d=\"\nM340.028 1423.18 L2352.76 1423.18 L2352.76 47.2441 L340.028 47.2441  Z\n  \" fill=\"#ffffff\" fill-rule=\"evenodd\" fill-opacity=\"1\"/>\n<defs>\n  <clipPath id=\"clip002\">\n    <rect x=\"340\" y=\"47\" width=\"2014\" height=\"1377\"/>\n  </clipPath>\n</defs>\n<polyline clip-path=\"url(#clip002)\" style=\"stroke:#000000; stroke-linecap:butt; stroke-linejoin:round; stroke-width:2; stroke-opacity:0.1; fill:none\" points=\"\n  389.66,1423.18 389.66,47.2441 \n  \"/>\n<polyline clip-path=\"url(#clip002)\" style=\"stroke:#000000; stroke-linecap:butt; stroke-linejoin:round; stroke-width:2; stroke-opacity:0.1; fill:none\" points=\"\n  756.224,1423.18 756.224,47.2441 \n  \"/>\n<polyline clip-path=\"url(#clip002)\" style=\"stroke:#000000; stroke-linecap:butt; stroke-linejoin:round; stroke-width:2; stroke-opacity:0.1; fill:none\" points=\"\n  1122.79,1423.18 1122.79,47.2441 \n  \"/>\n<polyline clip-path=\"url(#clip002)\" style=\"stroke:#000000; stroke-linecap:butt; stroke-linejoin:round; stroke-width:2; stroke-opacity:0.1; fill:none\" points=\"\n  1489.35,1423.18 1489.35,47.2441 \n  \"/>\n<polyline clip-path=\"url(#clip002)\" style=\"stroke:#000000; stroke-linecap:butt; stroke-linejoin:round; stroke-width:2; stroke-opacity:0.1; fill:none\" points=\"\n  1855.92,1423.18 1855.92,47.2441 \n  \"/>\n<polyline clip-path=\"url(#clip002)\" style=\"stroke:#000000; stroke-linecap:butt; stroke-linejoin:round; stroke-width:2; stroke-opacity:0.1; fill:none\" points=\"\n  2222.48,1423.18 2222.48,47.2441 \n  \"/>\n<polyline clip-path=\"url(#clip000)\" style=\"stroke:#000000; stroke-linecap:butt; stroke-linejoin:round; stroke-width:4; stroke-opacity:1; fill:none\" points=\"\n  340.028,1423.18 2352.76,1423.18 \n  \"/>\n<polyline clip-path=\"url(#clip000)\" style=\"stroke:#000000; stroke-linecap:butt; stroke-linejoin:round; stroke-width:4; stroke-opacity:1; fill:none\" points=\"\n  389.66,1423.18 389.66,1404.28 \n  \"/>\n<polyline clip-path=\"url(#clip000)\" style=\"stroke:#000000; stroke-linecap:butt; stroke-linejoin:round; stroke-width:4; stroke-opacity:1; fill:none\" points=\"\n  756.224,1423.18 756.224,1404.28 \n  \"/>\n<polyline clip-path=\"url(#clip000)\" style=\"stroke:#000000; stroke-linecap:butt; stroke-linejoin:round; stroke-width:4; stroke-opacity:1; fill:none\" points=\"\n  1122.79,1423.18 1122.79,1404.28 \n  \"/>\n<polyline clip-path=\"url(#clip000)\" style=\"stroke:#000000; stroke-linecap:butt; stroke-linejoin:round; stroke-width:4; stroke-opacity:1; fill:none\" points=\"\n  1489.35,1423.18 1489.35,1404.28 \n  \"/>\n<polyline clip-path=\"url(#clip000)\" style=\"stroke:#000000; stroke-linecap:butt; stroke-linejoin:round; stroke-width:4; stroke-opacity:1; fill:none\" points=\"\n  1855.92,1423.18 1855.92,1404.28 \n  \"/>\n<polyline clip-path=\"url(#clip000)\" style=\"stroke:#000000; stroke-linecap:butt; stroke-linejoin:round; stroke-width:4; stroke-opacity:1; fill:none\" points=\"\n  2222.48,1423.18 2222.48,1404.28 \n  \"/>\n<path clip-path=\"url(#clip000)\" d=\"M389.66 1454.1 Q386.049 1454.1 384.221 1457.66 Q382.415 1461.2 382.415 1468.33 Q382.415 1475.44 384.221 1479.01 Q386.049 1482.55 389.66 1482.55 Q393.295 1482.55 395.1 1479.01 Q396.929 1475.44 396.929 1468.33 Q396.929 1461.2 395.1 1457.66 Q393.295 1454.1 389.66 1454.1 M389.66 1450.39 Q395.471 1450.39 398.526 1455 Q401.605 1459.58 401.605 1468.33 Q401.605 1477.06 398.526 1481.67 Q395.471 1486.25 389.66 1486.25 Q383.85 1486.25 380.772 1481.67 Q377.716 1477.06 377.716 1468.33 Q377.716 1459.58 380.772 1455 Q383.85 1450.39 389.66 1450.39 Z\" fill=\"#000000\" fill-rule=\"evenodd\" fill-opacity=\"1\" /><path clip-path=\"url(#clip000)\" d=\"M730.923 1451.02 L749.28 1451.02 L749.28 1454.96 L735.206 1454.96 L735.206 1463.43 Q736.224 1463.08 737.243 1462.92 Q738.261 1462.73 739.28 1462.73 Q745.067 1462.73 748.446 1465.9 Q751.826 1469.08 751.826 1474.49 Q751.826 1480.07 748.354 1483.17 Q744.882 1486.25 738.562 1486.25 Q736.386 1486.25 734.118 1485.88 Q731.872 1485.51 729.465 1484.77 L729.465 1480.07 Q731.548 1481.2 733.771 1481.76 Q735.993 1482.32 738.47 1482.32 Q742.474 1482.32 744.812 1480.21 Q747.15 1478.1 747.15 1474.49 Q747.15 1470.88 744.812 1468.77 Q742.474 1466.67 738.47 1466.67 Q736.595 1466.67 734.72 1467.08 Q732.868 1467.5 730.923 1468.38 L730.923 1451.02 Z\" fill=\"#000000\" fill-rule=\"evenodd\" fill-opacity=\"1\" /><path clip-path=\"url(#clip000)\" d=\"M771.039 1454.1 Q767.428 1454.1 765.599 1457.66 Q763.794 1461.2 763.794 1468.33 Q763.794 1475.44 765.599 1479.01 Q767.428 1482.55 771.039 1482.55 Q774.673 1482.55 776.479 1479.01 Q778.307 1475.44 778.307 1468.33 Q778.307 1461.2 776.479 1457.66 Q774.673 1454.1 771.039 1454.1 M771.039 1450.39 Q776.849 1450.39 779.905 1455 Q782.983 1459.58 782.983 1468.33 Q782.983 1477.06 779.905 1481.67 Q776.849 1486.25 771.039 1486.25 Q765.229 1486.25 762.15 1481.67 Q759.094 1477.06 759.094 1468.33 Q759.094 1459.58 762.15 1455 Q765.229 1450.39 771.039 1450.39 Z\" fill=\"#000000\" fill-rule=\"evenodd\" fill-opacity=\"1\" /><path clip-path=\"url(#clip000)\" d=\"M1082.39 1481.64 L1090.03 1481.64 L1090.03 1455.28 L1081.72 1456.95 L1081.72 1452.69 L1089.99 1451.02 L1094.66 1451.02 L1094.66 1481.64 L1102.3 1481.64 L1102.3 1485.58 L1082.39 1485.58 L1082.39 1481.64 Z\" fill=\"#000000\" fill-rule=\"evenodd\" fill-opacity=\"1\" /><path clip-path=\"url(#clip000)\" d=\"M1121.75 1454.1 Q1118.14 1454.1 1116.31 1457.66 Q1114.5 1461.2 1114.5 1468.33 Q1114.5 1475.44 1116.31 1479.01 Q1118.14 1482.55 1121.75 1482.55 Q1125.38 1482.55 1127.19 1479.01 Q1129.01 1475.44 1129.01 1468.33 Q1129.01 1461.2 1127.19 1457.66 Q1125.38 1454.1 1121.75 1454.1 M1121.75 1450.39 Q1127.56 1450.39 1130.61 1455 Q1133.69 1459.58 1133.69 1468.33 Q1133.69 1477.06 1130.61 1481.67 Q1127.56 1486.25 1121.75 1486.25 Q1115.94 1486.25 1112.86 1481.67 Q1109.8 1477.06 1109.8 1468.33 Q1109.8 1459.58 1112.86 1455 Q1115.94 1450.39 1121.75 1450.39 Z\" fill=\"#000000\" fill-rule=\"evenodd\" fill-opacity=\"1\" /><path clip-path=\"url(#clip000)\" d=\"M1151.91 1454.1 Q1148.3 1454.1 1146.47 1457.66 Q1144.66 1461.2 1144.66 1468.33 Q1144.66 1475.44 1146.47 1479.01 Q1148.3 1482.55 1151.91 1482.55 Q1155.54 1482.55 1157.35 1479.01 Q1159.18 1475.44 1159.18 1468.33 Q1159.18 1461.2 1157.35 1457.66 Q1155.54 1454.1 1151.91 1454.1 M1151.91 1450.39 Q1157.72 1450.39 1160.77 1455 Q1163.85 1459.58 1163.85 1468.33 Q1163.85 1477.06 1160.77 1481.67 Q1157.72 1486.25 1151.91 1486.25 Q1146.1 1486.25 1143.02 1481.67 Q1139.96 1477.06 1139.96 1468.33 Q1139.96 1459.58 1143.02 1455 Q1146.1 1450.39 1151.91 1450.39 Z\" fill=\"#000000\" fill-rule=\"evenodd\" fill-opacity=\"1\" /><path clip-path=\"url(#clip000)\" d=\"M1448.96 1481.64 L1456.6 1481.64 L1456.6 1455.28 L1448.29 1456.95 L1448.29 1452.69 L1456.55 1451.02 L1461.23 1451.02 L1461.23 1481.64 L1468.87 1481.64 L1468.87 1485.58 L1448.96 1485.58 L1448.96 1481.64 Z\" fill=\"#000000\" fill-rule=\"evenodd\" fill-opacity=\"1\" /><path clip-path=\"url(#clip000)\" d=\"M1478.36 1451.02 L1496.71 1451.02 L1496.71 1454.96 L1482.64 1454.96 L1482.64 1463.43 Q1483.66 1463.08 1484.68 1462.92 Q1485.69 1462.73 1486.71 1462.73 Q1492.5 1462.73 1495.88 1465.9 Q1499.26 1469.08 1499.26 1474.49 Q1499.26 1480.07 1495.79 1483.17 Q1492.31 1486.25 1486 1486.25 Q1483.82 1486.25 1481.55 1485.88 Q1479.31 1485.51 1476.9 1484.77 L1476.9 1480.07 Q1478.98 1481.2 1481.2 1481.76 Q1483.43 1482.32 1485.9 1482.32 Q1489.91 1482.32 1492.25 1480.21 Q1494.58 1478.1 1494.58 1474.49 Q1494.58 1470.88 1492.25 1468.77 Q1489.91 1466.67 1485.9 1466.67 Q1484.03 1466.67 1482.15 1467.08 Q1480.3 1467.5 1478.36 1468.38 L1478.36 1451.02 Z\" fill=\"#000000\" fill-rule=\"evenodd\" fill-opacity=\"1\" /><path clip-path=\"url(#clip000)\" d=\"M1518.47 1454.1 Q1514.86 1454.1 1513.03 1457.66 Q1511.23 1461.2 1511.23 1468.33 Q1511.23 1475.44 1513.03 1479.01 Q1514.86 1482.55 1518.47 1482.55 Q1522.11 1482.55 1523.91 1479.01 Q1525.74 1475.44 1525.74 1468.33 Q1525.74 1461.2 1523.91 1457.66 Q1522.11 1454.1 1518.47 1454.1 M1518.47 1450.39 Q1524.28 1450.39 1527.34 1455 Q1530.42 1459.58 1530.42 1468.33 Q1530.42 1477.06 1527.34 1481.67 Q1524.28 1486.25 1518.47 1486.25 Q1512.66 1486.25 1509.58 1481.67 Q1506.53 1477.06 1506.53 1468.33 Q1506.53 1459.58 1509.58 1455 Q1512.66 1450.39 1518.47 1450.39 Z\" fill=\"#000000\" fill-rule=\"evenodd\" fill-opacity=\"1\" /><path clip-path=\"url(#clip000)\" d=\"M1819.61 1481.64 L1835.93 1481.64 L1835.93 1485.58 L1813.98 1485.58 L1813.98 1481.64 Q1816.64 1478.89 1821.23 1474.26 Q1825.83 1469.61 1827.02 1468.27 Q1829.26 1465.74 1830.14 1464.01 Q1831.04 1462.25 1831.04 1460.56 Q1831.04 1457.8 1829.1 1456.07 Q1827.18 1454.33 1824.08 1454.33 Q1821.88 1454.33 1819.42 1455.09 Q1816.99 1455.86 1814.21 1457.41 L1814.21 1452.69 Q1817.04 1451.55 1819.49 1450.97 Q1821.95 1450.39 1823.98 1450.39 Q1829.35 1450.39 1832.55 1453.08 Q1835.74 1455.77 1835.74 1460.26 Q1835.74 1462.39 1834.93 1464.31 Q1834.14 1466.2 1832.04 1468.8 Q1831.46 1469.47 1828.36 1472.69 Q1825.26 1475.88 1819.61 1481.64 Z\" fill=\"#000000\" fill-rule=\"evenodd\" fill-opacity=\"1\" /><path clip-path=\"url(#clip000)\" d=\"M1855.74 1454.1 Q1852.13 1454.1 1850.3 1457.66 Q1848.5 1461.2 1848.5 1468.33 Q1848.5 1475.44 1850.3 1479.01 Q1852.13 1482.55 1855.74 1482.55 Q1859.38 1482.55 1861.18 1479.01 Q1863.01 1475.44 1863.01 1468.33 Q1863.01 1461.2 1861.18 1457.66 Q1859.38 1454.1 1855.74 1454.1 M1855.74 1450.39 Q1861.55 1450.39 1864.61 1455 Q1867.69 1459.58 1867.69 1468.33 Q1867.69 1477.06 1864.61 1481.67 Q1861.55 1486.25 1855.74 1486.25 Q1849.93 1486.25 1846.85 1481.67 Q1843.8 1477.06 1843.8 1468.33 Q1843.8 1459.58 1846.85 1455 Q1849.93 1450.39 1855.74 1450.39 Z\" fill=\"#000000\" fill-rule=\"evenodd\" fill-opacity=\"1\" /><path clip-path=\"url(#clip000)\" d=\"M1885.9 1454.1 Q1882.29 1454.1 1880.46 1457.66 Q1878.66 1461.2 1878.66 1468.33 Q1878.66 1475.44 1880.46 1479.01 Q1882.29 1482.55 1885.9 1482.55 Q1889.54 1482.55 1891.34 1479.01 Q1893.17 1475.44 1893.17 1468.33 Q1893.17 1461.2 1891.34 1457.66 Q1889.54 1454.1 1885.9 1454.1 M1885.9 1450.39 Q1891.71 1450.39 1894.77 1455 Q1897.85 1459.58 1897.85 1468.33 Q1897.85 1477.06 1894.77 1481.67 Q1891.71 1486.25 1885.9 1486.25 Q1880.09 1486.25 1877.01 1481.67 Q1873.96 1477.06 1873.96 1468.33 Q1873.96 1459.58 1877.01 1455 Q1880.09 1450.39 1885.9 1450.39 Z\" fill=\"#000000\" fill-rule=\"evenodd\" fill-opacity=\"1\" /><path clip-path=\"url(#clip000)\" d=\"M2186.17 1481.64 L2202.49 1481.64 L2202.49 1485.58 L2180.55 1485.58 L2180.55 1481.64 Q2183.21 1478.89 2187.79 1474.26 Q2192.4 1469.61 2193.58 1468.27 Q2195.82 1465.74 2196.7 1464.01 Q2197.61 1462.25 2197.61 1460.56 Q2197.61 1457.8 2195.66 1456.07 Q2193.74 1454.33 2190.64 1454.33 Q2188.44 1454.33 2185.99 1455.09 Q2183.56 1455.86 2180.78 1457.41 L2180.78 1452.69 Q2183.6 1451.55 2186.06 1450.97 Q2188.51 1450.39 2190.55 1450.39 Q2195.92 1450.39 2199.11 1453.08 Q2202.31 1455.77 2202.31 1460.26 Q2202.31 1462.39 2201.5 1464.31 Q2200.71 1466.2 2198.6 1468.8 Q2198.02 1469.47 2194.92 1472.69 Q2191.82 1475.88 2186.17 1481.64 Z\" fill=\"#000000\" fill-rule=\"evenodd\" fill-opacity=\"1\" /><path clip-path=\"url(#clip000)\" d=\"M2212.35 1451.02 L2230.71 1451.02 L2230.71 1454.96 L2216.63 1454.96 L2216.63 1463.43 Q2217.65 1463.08 2218.67 1462.92 Q2219.69 1462.73 2220.71 1462.73 Q2226.5 1462.73 2229.87 1465.9 Q2233.25 1469.08 2233.25 1474.49 Q2233.25 1480.07 2229.78 1483.17 Q2226.31 1486.25 2219.99 1486.25 Q2217.81 1486.25 2215.55 1485.88 Q2213.3 1485.51 2210.89 1484.77 L2210.89 1480.07 Q2212.98 1481.2 2215.2 1481.76 Q2217.42 1482.32 2219.9 1482.32 Q2223.9 1482.32 2226.24 1480.21 Q2228.58 1478.1 2228.58 1474.49 Q2228.58 1470.88 2226.24 1468.77 Q2223.9 1466.67 2219.9 1466.67 Q2218.02 1466.67 2216.15 1467.08 Q2214.3 1467.5 2212.35 1468.38 L2212.35 1451.02 Z\" fill=\"#000000\" fill-rule=\"evenodd\" fill-opacity=\"1\" /><path clip-path=\"url(#clip000)\" d=\"M2252.47 1454.1 Q2248.86 1454.1 2247.03 1457.66 Q2245.22 1461.2 2245.22 1468.33 Q2245.22 1475.44 2247.03 1479.01 Q2248.86 1482.55 2252.47 1482.55 Q2256.1 1482.55 2257.91 1479.01 Q2259.74 1475.44 2259.74 1468.33 Q2259.74 1461.2 2257.91 1457.66 Q2256.1 1454.1 2252.47 1454.1 M2252.47 1450.39 Q2258.28 1450.39 2261.33 1455 Q2264.41 1459.58 2264.41 1468.33 Q2264.41 1477.06 2261.33 1481.67 Q2258.28 1486.25 2252.47 1486.25 Q2246.66 1486.25 2243.58 1481.67 Q2240.52 1477.06 2240.52 1468.33 Q2240.52 1459.58 2243.58 1455 Q2246.66 1450.39 2252.47 1450.39 Z\" fill=\"#000000\" fill-rule=\"evenodd\" fill-opacity=\"1\" /><path clip-path=\"url(#clip000)\" d=\"M1268.27 1520.52 L1308.47 1520.52 L1308.47 1525.93 L1291.6 1525.93 L1291.6 1568.04 L1285.14 1568.04 L1285.14 1525.93 L1268.27 1525.93 L1268.27 1520.52 Z\" fill=\"#000000\" fill-rule=\"evenodd\" fill-opacity=\"1\" /><path clip-path=\"url(#clip000)\" d=\"M1312.41 1532.4 L1318.27 1532.4 L1318.27 1568.04 L1312.41 1568.04 L1312.41 1532.4 M1312.41 1518.52 L1318.27 1518.52 L1318.27 1525.93 L1312.41 1525.93 L1312.41 1518.52 Z\" fill=\"#000000\" fill-rule=\"evenodd\" fill-opacity=\"1\" /><path clip-path=\"url(#clip000)\" d=\"M1358.28 1539.24 Q1360.48 1535.29 1363.53 1533.41 Q1366.59 1531.54 1370.72 1531.54 Q1376.29 1531.54 1379.32 1535.45 Q1382.34 1539.33 1382.34 1546.53 L1382.34 1568.04 L1376.45 1568.04 L1376.45 1546.72 Q1376.45 1541.59 1374.64 1539.11 Q1372.83 1536.63 1369.1 1536.63 Q1364.55 1536.63 1361.91 1539.65 Q1359.27 1542.68 1359.27 1547.9 L1359.27 1568.04 L1353.38 1568.04 L1353.38 1546.72 Q1353.38 1541.56 1351.56 1539.11 Q1349.75 1536.63 1345.96 1536.63 Q1341.47 1536.63 1338.83 1539.68 Q1336.19 1542.71 1336.19 1547.9 L1336.19 1568.04 L1330.3 1568.04 L1330.3 1532.4 L1336.19 1532.4 L1336.19 1537.93 Q1338.2 1534.66 1341 1533.1 Q1343.8 1531.54 1347.65 1531.54 Q1351.53 1531.54 1354.24 1533.51 Q1356.97 1535.48 1358.28 1539.24 Z\" fill=\"#000000\" fill-rule=\"evenodd\" fill-opacity=\"1\" /><path clip-path=\"url(#clip000)\" d=\"M1424.51 1548.76 L1424.51 1551.62 L1397.59 1551.62 Q1397.97 1557.67 1401.22 1560.85 Q1404.49 1564 1410.32 1564 Q1413.69 1564 1416.84 1563.17 Q1420.03 1562.35 1423.15 1560.69 L1423.15 1566.23 Q1420 1567.57 1416.69 1568.27 Q1413.37 1568.97 1409.97 1568.97 Q1401.44 1568.97 1396.44 1564 Q1391.48 1559.04 1391.48 1550.57 Q1391.48 1541.82 1396.19 1536.69 Q1400.93 1531.54 1408.95 1531.54 Q1416.14 1531.54 1420.31 1536.18 Q1424.51 1540.8 1424.51 1548.76 M1418.66 1547.04 Q1418.59 1542.23 1415.95 1539.37 Q1413.34 1536.5 1409.01 1536.5 Q1404.11 1536.5 1401.15 1539.27 Q1398.22 1542.04 1397.78 1547.07 L1418.66 1547.04 Z\" fill=\"#000000\" fill-rule=\"evenodd\" fill-opacity=\"1\" /><polyline clip-path=\"url(#clip002)\" style=\"stroke:#000000; stroke-linecap:butt; stroke-linejoin:round; stroke-width:2; stroke-opacity:0.1; fill:none\" points=\"\n  340.028,1384.24 2352.76,1384.24 \n  \"/>\n<polyline clip-path=\"url(#clip002)\" style=\"stroke:#000000; stroke-linecap:butt; stroke-linejoin:round; stroke-width:2; stroke-opacity:0.1; fill:none\" points=\"\n  340.028,1057.2 2352.76,1057.2 \n  \"/>\n<polyline clip-path=\"url(#clip002)\" style=\"stroke:#000000; stroke-linecap:butt; stroke-linejoin:round; stroke-width:2; stroke-opacity:0.1; fill:none\" points=\"\n  340.028,730.169 2352.76,730.169 \n  \"/>\n<polyline clip-path=\"url(#clip002)\" style=\"stroke:#000000; stroke-linecap:butt; stroke-linejoin:round; stroke-width:2; stroke-opacity:0.1; fill:none\" points=\"\n  340.028,403.134 2352.76,403.134 \n  \"/>\n<polyline clip-path=\"url(#clip002)\" style=\"stroke:#000000; stroke-linecap:butt; stroke-linejoin:round; stroke-width:2; stroke-opacity:0.1; fill:none\" points=\"\n  340.028,76.099 2352.76,76.099 \n  \"/>\n<polyline clip-path=\"url(#clip000)\" style=\"stroke:#000000; stroke-linecap:butt; stroke-linejoin:round; stroke-width:4; stroke-opacity:1; fill:none\" points=\"\n  340.028,1423.18 340.028,47.2441 \n  \"/>\n<polyline clip-path=\"url(#clip000)\" style=\"stroke:#000000; stroke-linecap:butt; stroke-linejoin:round; stroke-width:4; stroke-opacity:1; fill:none\" points=\"\n  340.028,1384.24 358.925,1384.24 \n  \"/>\n<polyline clip-path=\"url(#clip000)\" style=\"stroke:#000000; stroke-linecap:butt; stroke-linejoin:round; stroke-width:4; stroke-opacity:1; fill:none\" points=\"\n  340.028,1057.2 358.925,1057.2 \n  \"/>\n<polyline clip-path=\"url(#clip000)\" style=\"stroke:#000000; stroke-linecap:butt; stroke-linejoin:round; stroke-width:4; stroke-opacity:1; fill:none\" points=\"\n  340.028,730.169 358.925,730.169 \n  \"/>\n<polyline clip-path=\"url(#clip000)\" style=\"stroke:#000000; stroke-linecap:butt; stroke-linejoin:round; stroke-width:4; stroke-opacity:1; fill:none\" points=\"\n  340.028,403.134 358.925,403.134 \n  \"/>\n<polyline clip-path=\"url(#clip000)\" style=\"stroke:#000000; stroke-linecap:butt; stroke-linejoin:round; stroke-width:4; stroke-opacity:1; fill:none\" points=\"\n  340.028,76.099 358.925,76.099 \n  \"/>\n<path clip-path=\"url(#clip000)\" d=\"M126.205 1370.04 Q122.593 1370.04 120.765 1373.6 Q118.959 1377.14 118.959 1384.27 Q118.959 1391.38 120.765 1394.94 Q122.593 1398.49 126.205 1398.49 Q129.839 1398.49 131.644 1394.94 Q133.473 1391.38 133.473 1384.27 Q133.473 1377.14 131.644 1373.6 Q129.839 1370.04 126.205 1370.04 M126.205 1366.33 Q132.015 1366.33 135.07 1370.94 Q138.149 1375.52 138.149 1384.27 Q138.149 1393 135.07 1397.61 Q132.015 1402.19 126.205 1402.19 Q120.394 1402.19 117.316 1397.61 Q114.26 1393 114.26 1384.27 Q114.26 1375.52 117.316 1370.94 Q120.394 1366.33 126.205 1366.33 Z\" fill=\"#000000\" fill-rule=\"evenodd\" fill-opacity=\"1\" /><path clip-path=\"url(#clip000)\" d=\"M146.366 1395.64 L151.251 1395.64 L151.251 1401.52 L146.366 1401.52 L146.366 1395.64 Z\" fill=\"#000000\" fill-rule=\"evenodd\" fill-opacity=\"1\" /><path clip-path=\"url(#clip000)\" d=\"M171.436 1370.04 Q167.825 1370.04 165.996 1373.6 Q164.19 1377.14 164.19 1384.27 Q164.19 1391.38 165.996 1394.94 Q167.825 1398.49 171.436 1398.49 Q175.07 1398.49 176.876 1394.94 Q178.704 1391.38 178.704 1384.27 Q178.704 1377.14 176.876 1373.6 Q175.07 1370.04 171.436 1370.04 M171.436 1366.33 Q177.246 1366.33 180.301 1370.94 Q183.38 1375.52 183.38 1384.27 Q183.38 1393 180.301 1397.61 Q177.246 1402.19 171.436 1402.19 Q165.626 1402.19 162.547 1397.61 Q159.491 1393 159.491 1384.27 Q159.491 1375.52 162.547 1370.94 Q165.626 1366.33 171.436 1366.33 Z\" fill=\"#000000\" fill-rule=\"evenodd\" fill-opacity=\"1\" /><path clip-path=\"url(#clip000)\" d=\"M201.598 1370.04 Q197.987 1370.04 196.158 1373.6 Q194.352 1377.14 194.352 1384.27 Q194.352 1391.38 196.158 1394.94 Q197.987 1398.49 201.598 1398.49 Q205.232 1398.49 207.037 1394.94 Q208.866 1391.38 208.866 1384.27 Q208.866 1377.14 207.037 1373.6 Q205.232 1370.04 201.598 1370.04 M201.598 1366.33 Q207.408 1366.33 210.463 1370.94 Q213.542 1375.52 213.542 1384.27 Q213.542 1393 210.463 1397.61 Q207.408 1402.19 201.598 1402.19 Q195.787 1402.19 192.709 1397.61 Q189.653 1393 189.653 1384.27 Q189.653 1375.52 192.709 1370.94 Q195.787 1366.33 201.598 1366.33 Z\" fill=\"#000000\" fill-rule=\"evenodd\" fill-opacity=\"1\" /><path clip-path=\"url(#clip000)\" d=\"M231.76 1370.04 Q228.148 1370.04 226.32 1373.6 Q224.514 1377.14 224.514 1384.27 Q224.514 1391.38 226.32 1394.94 Q228.148 1398.49 231.76 1398.49 Q235.394 1398.49 237.199 1394.94 Q239.028 1391.38 239.028 1384.27 Q239.028 1377.14 237.199 1373.6 Q235.394 1370.04 231.76 1370.04 M231.76 1366.33 Q237.57 1366.33 240.625 1370.94 Q243.704 1375.52 243.704 1384.27 Q243.704 1393 240.625 1397.61 Q237.57 1402.19 231.76 1402.19 Q225.949 1402.19 222.871 1397.61 Q219.815 1393 219.815 1384.27 Q219.815 1375.52 222.871 1370.94 Q225.949 1366.33 231.76 1366.33 Z\" fill=\"#000000\" fill-rule=\"evenodd\" fill-opacity=\"1\" /><path clip-path=\"url(#clip000)\" d=\"M261.921 1370.04 Q258.31 1370.04 256.482 1373.6 Q254.676 1377.14 254.676 1384.27 Q254.676 1391.38 256.482 1394.94 Q258.31 1398.49 261.921 1398.49 Q265.556 1398.49 267.361 1394.94 Q269.19 1391.38 269.19 1384.27 Q269.19 1377.14 267.361 1373.6 Q265.556 1370.04 261.921 1370.04 M261.921 1366.33 Q267.732 1366.33 270.787 1370.94 Q273.866 1375.52 273.866 1384.27 Q273.866 1393 270.787 1397.61 Q267.732 1402.19 261.921 1402.19 Q256.111 1402.19 253.033 1397.61 Q249.977 1393 249.977 1384.27 Q249.977 1375.52 253.033 1370.94 Q256.111 1366.33 261.921 1366.33 Z\" fill=\"#000000\" fill-rule=\"evenodd\" fill-opacity=\"1\" /><path clip-path=\"url(#clip000)\" d=\"M292.083 1370.04 Q288.472 1370.04 286.643 1373.6 Q284.838 1377.14 284.838 1384.27 Q284.838 1391.38 286.643 1394.94 Q288.472 1398.49 292.083 1398.49 Q295.718 1398.49 297.523 1394.94 Q299.352 1391.38 299.352 1384.27 Q299.352 1377.14 297.523 1373.6 Q295.718 1370.04 292.083 1370.04 M292.083 1366.33 Q297.893 1366.33 300.949 1370.94 Q304.028 1375.52 304.028 1384.27 Q304.028 1393 300.949 1397.61 Q297.893 1402.19 292.083 1402.19 Q286.273 1402.19 283.194 1397.61 Q280.139 1393 280.139 1384.27 Q280.139 1375.52 283.194 1370.94 Q286.273 1366.33 292.083 1366.33 Z\" fill=\"#000000\" fill-rule=\"evenodd\" fill-opacity=\"1\" /><path clip-path=\"url(#clip000)\" d=\"M127.2 1043 Q123.589 1043 121.76 1046.57 Q119.955 1050.11 119.955 1057.24 Q119.955 1064.34 121.76 1067.91 Q123.589 1071.45 127.2 1071.45 Q130.834 1071.45 132.64 1067.91 Q134.468 1064.34 134.468 1057.24 Q134.468 1050.11 132.64 1046.57 Q130.834 1043 127.2 1043 M127.2 1039.3 Q133.01 1039.3 136.066 1043.9 Q139.144 1048.49 139.144 1057.24 Q139.144 1065.96 136.066 1070.57 Q133.01 1075.15 127.2 1075.15 Q121.39 1075.15 118.311 1070.57 Q115.256 1065.96 115.256 1057.24 Q115.256 1048.49 118.311 1043.9 Q121.39 1039.3 127.2 1039.3 Z\" fill=\"#000000\" fill-rule=\"evenodd\" fill-opacity=\"1\" /><path clip-path=\"url(#clip000)\" d=\"M147.362 1068.6 L152.246 1068.6 L152.246 1074.48 L147.362 1074.48 L147.362 1068.6 Z\" fill=\"#000000\" fill-rule=\"evenodd\" fill-opacity=\"1\" /><path clip-path=\"url(#clip000)\" d=\"M172.431 1043 Q168.82 1043 166.991 1046.57 Q165.186 1050.11 165.186 1057.24 Q165.186 1064.34 166.991 1067.91 Q168.82 1071.45 172.431 1071.45 Q176.065 1071.45 177.871 1067.91 Q179.7 1064.34 179.7 1057.24 Q179.7 1050.11 177.871 1046.57 Q176.065 1043 172.431 1043 M172.431 1039.3 Q178.241 1039.3 181.297 1043.9 Q184.376 1048.49 184.376 1057.24 Q184.376 1065.96 181.297 1070.57 Q178.241 1075.15 172.431 1075.15 Q166.621 1075.15 163.542 1070.57 Q160.487 1065.96 160.487 1057.24 Q160.487 1048.49 163.542 1043.9 Q166.621 1039.3 172.431 1039.3 Z\" fill=\"#000000\" fill-rule=\"evenodd\" fill-opacity=\"1\" /><path clip-path=\"url(#clip000)\" d=\"M202.593 1043 Q198.982 1043 197.153 1046.57 Q195.348 1050.11 195.348 1057.24 Q195.348 1064.34 197.153 1067.91 Q198.982 1071.45 202.593 1071.45 Q206.227 1071.45 208.033 1067.91 Q209.861 1064.34 209.861 1057.24 Q209.861 1050.11 208.033 1046.57 Q206.227 1043 202.593 1043 M202.593 1039.3 Q208.403 1039.3 211.459 1043.9 Q214.537 1048.49 214.537 1057.24 Q214.537 1065.96 211.459 1070.57 Q208.403 1075.15 202.593 1075.15 Q196.783 1075.15 193.704 1070.57 Q190.649 1065.96 190.649 1057.24 Q190.649 1048.49 193.704 1043.9 Q196.783 1039.3 202.593 1039.3 Z\" fill=\"#000000\" fill-rule=\"evenodd\" fill-opacity=\"1\" /><path clip-path=\"url(#clip000)\" d=\"M232.755 1043 Q229.144 1043 227.315 1046.57 Q225.51 1050.11 225.51 1057.24 Q225.51 1064.34 227.315 1067.91 Q229.144 1071.45 232.755 1071.45 Q236.389 1071.45 238.195 1067.91 Q240.023 1064.34 240.023 1057.24 Q240.023 1050.11 238.195 1046.57 Q236.389 1043 232.755 1043 M232.755 1039.3 Q238.565 1039.3 241.621 1043.9 Q244.699 1048.49 244.699 1057.24 Q244.699 1065.96 241.621 1070.57 Q238.565 1075.15 232.755 1075.15 Q226.945 1075.15 223.866 1070.57 Q220.811 1065.96 220.811 1057.24 Q220.811 1048.49 223.866 1043.9 Q226.945 1039.3 232.755 1039.3 Z\" fill=\"#000000\" fill-rule=\"evenodd\" fill-opacity=\"1\" /><path clip-path=\"url(#clip000)\" d=\"M256.945 1070.55 L273.264 1070.55 L273.264 1074.48 L251.32 1074.48 L251.32 1070.55 Q253.982 1067.79 258.565 1063.16 Q263.171 1058.51 264.352 1057.17 Q266.597 1054.65 267.477 1052.91 Q268.38 1051.15 268.38 1049.46 Q268.38 1046.71 266.435 1044.97 Q264.514 1043.23 261.412 1043.23 Q259.213 1043.23 256.759 1044 Q254.329 1044.76 251.551 1046.31 L251.551 1041.59 Q254.375 1040.46 256.829 1039.88 Q259.283 1039.3 261.32 1039.3 Q266.69 1039.3 269.884 1041.98 Q273.079 1044.67 273.079 1049.16 Q273.079 1051.29 272.269 1053.21 Q271.482 1055.11 269.375 1057.7 Q268.796 1058.37 265.695 1061.59 Q262.593 1064.78 256.945 1070.55 Z\" fill=\"#000000\" fill-rule=\"evenodd\" fill-opacity=\"1\" /><path clip-path=\"url(#clip000)\" d=\"M283.125 1039.92 L301.481 1039.92 L301.481 1043.86 L287.407 1043.86 L287.407 1052.33 Q288.426 1051.98 289.444 1051.82 Q290.463 1051.64 291.481 1051.64 Q297.268 1051.64 300.648 1054.81 Q304.028 1057.98 304.028 1063.4 Q304.028 1068.97 300.555 1072.08 Q297.083 1075.15 290.764 1075.15 Q288.588 1075.15 286.319 1074.78 Q284.074 1074.41 281.667 1073.67 L281.667 1068.97 Q283.75 1070.11 285.972 1070.66 Q288.194 1071.22 290.671 1071.22 Q294.676 1071.22 297.014 1069.11 Q299.352 1067.01 299.352 1063.4 Q299.352 1059.78 297.014 1057.68 Q294.676 1055.57 290.671 1055.57 Q288.796 1055.57 286.921 1055.99 Q285.069 1056.4 283.125 1057.28 L283.125 1039.92 Z\" fill=\"#000000\" fill-rule=\"evenodd\" fill-opacity=\"1\" /><path clip-path=\"url(#clip000)\" d=\"M126.205 715.967 Q122.593 715.967 120.765 719.532 Q118.959 723.074 118.959 730.203 Q118.959 737.31 120.765 740.875 Q122.593 744.416 126.205 744.416 Q129.839 744.416 131.644 740.875 Q133.473 737.31 133.473 730.203 Q133.473 723.074 131.644 719.532 Q129.839 715.967 126.205 715.967 M126.205 712.264 Q132.015 712.264 135.07 716.87 Q138.149 721.453 138.149 730.203 Q138.149 738.93 135.07 743.537 Q132.015 748.12 126.205 748.12 Q120.394 748.12 117.316 743.537 Q114.26 738.93 114.26 730.203 Q114.26 721.453 117.316 716.87 Q120.394 712.264 126.205 712.264 Z\" fill=\"#000000\" fill-rule=\"evenodd\" fill-opacity=\"1\" /><path clip-path=\"url(#clip000)\" d=\"M146.366 741.569 L151.251 741.569 L151.251 747.449 L146.366 747.449 L146.366 741.569 Z\" fill=\"#000000\" fill-rule=\"evenodd\" fill-opacity=\"1\" /><path clip-path=\"url(#clip000)\" d=\"M171.436 715.967 Q167.825 715.967 165.996 719.532 Q164.19 723.074 164.19 730.203 Q164.19 737.31 165.996 740.875 Q167.825 744.416 171.436 744.416 Q175.07 744.416 176.876 740.875 Q178.704 737.31 178.704 730.203 Q178.704 723.074 176.876 719.532 Q175.07 715.967 171.436 715.967 M171.436 712.264 Q177.246 712.264 180.301 716.87 Q183.38 721.453 183.38 730.203 Q183.38 738.93 180.301 743.537 Q177.246 748.12 171.436 748.12 Q165.626 748.12 162.547 743.537 Q159.491 738.93 159.491 730.203 Q159.491 721.453 162.547 716.87 Q165.626 712.264 171.436 712.264 Z\" fill=\"#000000\" fill-rule=\"evenodd\" fill-opacity=\"1\" /><path clip-path=\"url(#clip000)\" d=\"M201.598 715.967 Q197.987 715.967 196.158 719.532 Q194.352 723.074 194.352 730.203 Q194.352 737.31 196.158 740.875 Q197.987 744.416 201.598 744.416 Q205.232 744.416 207.037 740.875 Q208.866 737.31 208.866 730.203 Q208.866 723.074 207.037 719.532 Q205.232 715.967 201.598 715.967 M201.598 712.264 Q207.408 712.264 210.463 716.87 Q213.542 721.453 213.542 730.203 Q213.542 738.93 210.463 743.537 Q207.408 748.12 201.598 748.12 Q195.787 748.12 192.709 743.537 Q189.653 738.93 189.653 730.203 Q189.653 721.453 192.709 716.87 Q195.787 712.264 201.598 712.264 Z\" fill=\"#000000\" fill-rule=\"evenodd\" fill-opacity=\"1\" /><path clip-path=\"url(#clip000)\" d=\"M231.76 715.967 Q228.148 715.967 226.32 719.532 Q224.514 723.074 224.514 730.203 Q224.514 737.31 226.32 740.875 Q228.148 744.416 231.76 744.416 Q235.394 744.416 237.199 740.875 Q239.028 737.31 239.028 730.203 Q239.028 723.074 237.199 719.532 Q235.394 715.967 231.76 715.967 M231.76 712.264 Q237.57 712.264 240.625 716.87 Q243.704 721.453 243.704 730.203 Q243.704 738.93 240.625 743.537 Q237.57 748.12 231.76 748.12 Q225.949 748.12 222.871 743.537 Q219.815 738.93 219.815 730.203 Q219.815 721.453 222.871 716.87 Q225.949 712.264 231.76 712.264 Z\" fill=\"#000000\" fill-rule=\"evenodd\" fill-opacity=\"1\" /><path clip-path=\"url(#clip000)\" d=\"M251.968 712.889 L270.324 712.889 L270.324 716.824 L256.25 716.824 L256.25 725.296 Q257.269 724.949 258.287 724.787 Q259.306 724.602 260.324 724.602 Q266.111 724.602 269.491 727.773 Q272.87 730.944 272.87 736.361 Q272.87 741.939 269.398 745.041 Q265.926 748.12 259.607 748.12 Q257.431 748.12 255.162 747.75 Q252.917 747.379 250.509 746.638 L250.509 741.939 Q252.593 743.074 254.815 743.629 Q257.037 744.185 259.514 744.185 Q263.519 744.185 265.857 742.078 Q268.195 739.972 268.195 736.361 Q268.195 732.75 265.857 730.643 Q263.519 728.537 259.514 728.537 Q257.639 728.537 255.764 728.953 Q253.912 729.37 251.968 730.25 L251.968 712.889 Z\" fill=\"#000000\" fill-rule=\"evenodd\" fill-opacity=\"1\" /><path clip-path=\"url(#clip000)\" d=\"M292.083 715.967 Q288.472 715.967 286.643 719.532 Q284.838 723.074 284.838 730.203 Q284.838 737.31 286.643 740.875 Q288.472 744.416 292.083 744.416 Q295.718 744.416 297.523 740.875 Q299.352 737.31 299.352 730.203 Q299.352 723.074 297.523 719.532 Q295.718 715.967 292.083 715.967 M292.083 712.264 Q297.893 712.264 300.949 716.87 Q304.028 721.453 304.028 730.203 Q304.028 738.93 300.949 743.537 Q297.893 748.12 292.083 748.12 Q286.273 748.12 283.194 743.537 Q280.139 738.93 280.139 730.203 Q280.139 721.453 283.194 716.87 Q286.273 712.264 292.083 712.264 Z\" fill=\"#000000\" fill-rule=\"evenodd\" fill-opacity=\"1\" /><path clip-path=\"url(#clip000)\" d=\"M127.2 388.933 Q123.589 388.933 121.76 392.497 Q119.955 396.039 119.955 403.169 Q119.955 410.275 121.76 413.84 Q123.589 417.381 127.2 417.381 Q130.834 417.381 132.64 413.84 Q134.468 410.275 134.468 403.169 Q134.468 396.039 132.64 392.497 Q130.834 388.933 127.2 388.933 M127.2 385.229 Q133.01 385.229 136.066 389.835 Q139.144 394.419 139.144 403.169 Q139.144 411.895 136.066 416.502 Q133.01 421.085 127.2 421.085 Q121.39 421.085 118.311 416.502 Q115.256 411.895 115.256 403.169 Q115.256 394.419 118.311 389.835 Q121.39 385.229 127.2 385.229 Z\" fill=\"#000000\" fill-rule=\"evenodd\" fill-opacity=\"1\" /><path clip-path=\"url(#clip000)\" d=\"M147.362 414.534 L152.246 414.534 L152.246 420.414 L147.362 420.414 L147.362 414.534 Z\" fill=\"#000000\" fill-rule=\"evenodd\" fill-opacity=\"1\" /><path clip-path=\"url(#clip000)\" d=\"M172.431 388.933 Q168.82 388.933 166.991 392.497 Q165.186 396.039 165.186 403.169 Q165.186 410.275 166.991 413.84 Q168.82 417.381 172.431 417.381 Q176.065 417.381 177.871 413.84 Q179.7 410.275 179.7 403.169 Q179.7 396.039 177.871 392.497 Q176.065 388.933 172.431 388.933 M172.431 385.229 Q178.241 385.229 181.297 389.835 Q184.376 394.419 184.376 403.169 Q184.376 411.895 181.297 416.502 Q178.241 421.085 172.431 421.085 Q166.621 421.085 163.542 416.502 Q160.487 411.895 160.487 403.169 Q160.487 394.419 163.542 389.835 Q166.621 385.229 172.431 385.229 Z\" fill=\"#000000\" fill-rule=\"evenodd\" fill-opacity=\"1\" /><path clip-path=\"url(#clip000)\" d=\"M202.593 388.933 Q198.982 388.933 197.153 392.497 Q195.348 396.039 195.348 403.169 Q195.348 410.275 197.153 413.84 Q198.982 417.381 202.593 417.381 Q206.227 417.381 208.033 413.84 Q209.861 410.275 209.861 403.169 Q209.861 396.039 208.033 392.497 Q206.227 388.933 202.593 388.933 M202.593 385.229 Q208.403 385.229 211.459 389.835 Q214.537 394.419 214.537 403.169 Q214.537 411.895 211.459 416.502 Q208.403 421.085 202.593 421.085 Q196.783 421.085 193.704 416.502 Q190.649 411.895 190.649 403.169 Q190.649 394.419 193.704 389.835 Q196.783 385.229 202.593 385.229 Z\" fill=\"#000000\" fill-rule=\"evenodd\" fill-opacity=\"1\" /><path clip-path=\"url(#clip000)\" d=\"M232.755 388.933 Q229.144 388.933 227.315 392.497 Q225.51 396.039 225.51 403.169 Q225.51 410.275 227.315 413.84 Q229.144 417.381 232.755 417.381 Q236.389 417.381 238.195 413.84 Q240.023 410.275 240.023 403.169 Q240.023 396.039 238.195 392.497 Q236.389 388.933 232.755 388.933 M232.755 385.229 Q238.565 385.229 241.621 389.835 Q244.699 394.419 244.699 403.169 Q244.699 411.895 241.621 416.502 Q238.565 421.085 232.755 421.085 Q226.945 421.085 223.866 416.502 Q220.811 411.895 220.811 403.169 Q220.811 394.419 223.866 389.835 Q226.945 385.229 232.755 385.229 Z\" fill=\"#000000\" fill-rule=\"evenodd\" fill-opacity=\"1\" /><path clip-path=\"url(#clip000)\" d=\"M251.736 385.854 L273.958 385.854 L273.958 387.845 L261.412 420.414 L256.528 420.414 L268.333 389.789 L251.736 389.789 L251.736 385.854 Z\" fill=\"#000000\" fill-rule=\"evenodd\" fill-opacity=\"1\" /><path clip-path=\"url(#clip000)\" d=\"M283.125 385.854 L301.481 385.854 L301.481 389.789 L287.407 389.789 L287.407 398.261 Q288.426 397.914 289.444 397.752 Q290.463 397.567 291.481 397.567 Q297.268 397.567 300.648 400.738 Q304.028 403.909 304.028 409.326 Q304.028 414.905 300.555 418.006 Q297.083 421.085 290.764 421.085 Q288.588 421.085 286.319 420.715 Q284.074 420.344 281.667 419.604 L281.667 414.905 Q283.75 416.039 285.972 416.594 Q288.194 417.15 290.671 417.15 Q294.676 417.15 297.014 415.043 Q299.352 412.937 299.352 409.326 Q299.352 405.715 297.014 403.608 Q294.676 401.502 290.671 401.502 Q288.796 401.502 286.921 401.919 Q285.069 402.335 283.125 403.215 L283.125 385.854 Z\" fill=\"#000000\" fill-rule=\"evenodd\" fill-opacity=\"1\" /><path clip-path=\"url(#clip000)\" d=\"M126.205 61.8977 Q122.593 61.8977 120.765 65.4625 Q118.959 69.0041 118.959 76.1337 Q118.959 83.2402 120.765 86.805 Q122.593 90.3466 126.205 90.3466 Q129.839 90.3466 131.644 86.805 Q133.473 83.2402 133.473 76.1337 Q133.473 69.0041 131.644 65.4625 Q129.839 61.8977 126.205 61.8977 M126.205 58.194 Q132.015 58.194 135.07 62.8005 Q138.149 67.3838 138.149 76.1337 Q138.149 84.8605 135.07 89.467 Q132.015 94.0503 126.205 94.0503 Q120.394 94.0503 117.316 89.467 Q114.26 84.8605 114.26 76.1337 Q114.26 67.3838 117.316 62.8005 Q120.394 58.194 126.205 58.194 Z\" fill=\"#000000\" fill-rule=\"evenodd\" fill-opacity=\"1\" /><path clip-path=\"url(#clip000)\" d=\"M146.366 87.4994 L151.251 87.4994 L151.251 93.379 L146.366 93.379 L146.366 87.4994 Z\" fill=\"#000000\" fill-rule=\"evenodd\" fill-opacity=\"1\" /><path clip-path=\"url(#clip000)\" d=\"M171.436 61.8977 Q167.825 61.8977 165.996 65.4625 Q164.19 69.0041 164.19 76.1337 Q164.19 83.2402 165.996 86.805 Q167.825 90.3466 171.436 90.3466 Q175.07 90.3466 176.876 86.805 Q178.704 83.2402 178.704 76.1337 Q178.704 69.0041 176.876 65.4625 Q175.07 61.8977 171.436 61.8977 M171.436 58.194 Q177.246 58.194 180.301 62.8005 Q183.38 67.3838 183.38 76.1337 Q183.38 84.8605 180.301 89.467 Q177.246 94.0503 171.436 94.0503 Q165.626 94.0503 162.547 89.467 Q159.491 84.8605 159.491 76.1337 Q159.491 67.3838 162.547 62.8005 Q165.626 58.194 171.436 58.194 Z\" fill=\"#000000\" fill-rule=\"evenodd\" fill-opacity=\"1\" /><path clip-path=\"url(#clip000)\" d=\"M201.598 61.8977 Q197.987 61.8977 196.158 65.4625 Q194.352 69.0041 194.352 76.1337 Q194.352 83.2402 196.158 86.805 Q197.987 90.3466 201.598 90.3466 Q205.232 90.3466 207.037 86.805 Q208.866 83.2402 208.866 76.1337 Q208.866 69.0041 207.037 65.4625 Q205.232 61.8977 201.598 61.8977 M201.598 58.194 Q207.408 58.194 210.463 62.8005 Q213.542 67.3838 213.542 76.1337 Q213.542 84.8605 210.463 89.467 Q207.408 94.0503 201.598 94.0503 Q195.787 94.0503 192.709 89.467 Q189.653 84.8605 189.653 76.1337 Q189.653 67.3838 192.709 62.8005 Q195.787 58.194 201.598 58.194 Z\" fill=\"#000000\" fill-rule=\"evenodd\" fill-opacity=\"1\" /><path clip-path=\"url(#clip000)\" d=\"M222.57 89.4438 L230.209 89.4438 L230.209 63.0782 L221.898 64.7449 L221.898 60.4857 L230.162 58.819 L234.838 58.819 L234.838 89.4438 L242.477 89.4438 L242.477 93.379 L222.57 93.379 L222.57 89.4438 Z\" fill=\"#000000\" fill-rule=\"evenodd\" fill-opacity=\"1\" /><path clip-path=\"url(#clip000)\" d=\"M261.921 61.8977 Q258.31 61.8977 256.482 65.4625 Q254.676 69.0041 254.676 76.1337 Q254.676 83.2402 256.482 86.805 Q258.31 90.3466 261.921 90.3466 Q265.556 90.3466 267.361 86.805 Q269.19 83.2402 269.19 76.1337 Q269.19 69.0041 267.361 65.4625 Q265.556 61.8977 261.921 61.8977 M261.921 58.194 Q267.732 58.194 270.787 62.8005 Q273.866 67.3838 273.866 76.1337 Q273.866 84.8605 270.787 89.467 Q267.732 94.0503 261.921 94.0503 Q256.111 94.0503 253.033 89.467 Q249.977 84.8605 249.977 76.1337 Q249.977 67.3838 253.033 62.8005 Q256.111 58.194 261.921 58.194 Z\" fill=\"#000000\" fill-rule=\"evenodd\" fill-opacity=\"1\" /><path clip-path=\"url(#clip000)\" d=\"M292.083 61.8977 Q288.472 61.8977 286.643 65.4625 Q284.838 69.0041 284.838 76.1337 Q284.838 83.2402 286.643 86.805 Q288.472 90.3466 292.083 90.3466 Q295.718 90.3466 297.523 86.805 Q299.352 83.2402 299.352 76.1337 Q299.352 69.0041 297.523 65.4625 Q295.718 61.8977 292.083 61.8977 M292.083 58.194 Q297.893 58.194 300.949 62.8005 Q304.028 67.3838 304.028 76.1337 Q304.028 84.8605 300.949 89.467 Q297.893 94.0503 292.083 94.0503 Q286.273 94.0503 283.194 89.467 Q280.139 84.8605 280.139 76.1337 Q280.139 67.3838 283.194 62.8005 Q286.273 58.194 292.083 58.194 Z\" fill=\"#000000\" fill-rule=\"evenodd\" fill-opacity=\"1\" /><path clip-path=\"url(#clip000)\" d=\"M22.818 996.731 L46.4666 1005.45 L46.4666 987.978 L22.818 996.731 M16.4842 1000.36 L16.4842 993.071 L64.0042 974.96 L64.0042 981.644 L51.8138 985.973 L51.8138 1007.39 L64.0042 1011.72 L64.0042 1018.5 L16.4842 1000.36 Z\" fill=\"#000000\" fill-rule=\"evenodd\" fill-opacity=\"1\" /><path clip-path=\"url(#clip000)\" d=\"M28.3562 976.297 L28.3562 970.091 L58.275 958.951 L28.3562 947.811 L28.3562 941.604 L64.0042 954.972 L64.0042 962.929 L28.3562 976.297 Z\" fill=\"#000000\" fill-rule=\"evenodd\" fill-opacity=\"1\" /><path clip-path=\"url(#clip000)\" d=\"M45.7664 910.062 Q39.4007 910.062 35.8996 912.704 Q32.3984 915.314 32.3984 920.056 Q32.3984 924.767 35.8996 927.409 Q39.4007 930.019 45.7664 930.019 Q52.1003 930.019 55.6014 927.409 Q59.1026 924.767 59.1026 920.056 Q59.1026 915.314 55.6014 912.704 Q52.1003 910.062 45.7664 910.062 M59.58 904.206 Q68.683 904.206 73.1071 908.248 Q77.5631 912.29 77.5631 920.629 Q77.5631 923.716 77.0857 926.454 Q76.6401 929.191 75.6852 931.769 L69.9879 931.769 Q71.3884 929.191 72.0568 926.677 Q72.7252 924.162 72.7252 921.552 Q72.7252 915.791 69.7015 912.927 Q66.7096 910.062 60.6303 910.062 L57.7339 910.062 Q60.885 911.876 62.4446 914.709 Q64.0042 917.542 64.0042 921.488 Q64.0042 928.045 59.0071 932.056 Q54.01 936.066 45.7664 936.066 Q37.491 936.066 32.4939 932.056 Q27.4968 928.045 27.4968 921.488 Q27.4968 917.542 29.0564 914.709 Q30.616 911.876 33.7671 910.062 L28.3562 910.062 L28.3562 904.206 L59.58 904.206 Z\" fill=\"#000000\" fill-rule=\"evenodd\" fill-opacity=\"1\" /><path clip-path=\"url(#clip000)\" d=\"M43.0928 830.172 Q43.0928 832.941 45.4481 834.533 Q47.8034 836.093 52.0048 836.093 Q56.1425 836.093 58.5296 834.533 Q60.885 832.941 60.885 830.172 Q60.885 827.467 58.5296 825.907 Q56.1425 824.316 52.0048 824.316 Q47.8353 824.316 45.48 825.907 Q43.0928 827.467 43.0928 830.172 M39.0506 830.172 Q39.0506 825.143 42.5517 822.183 Q46.0529 819.223 52.0048 819.223 Q57.9567 819.223 61.4579 822.215 Q64.9272 825.175 64.9272 830.172 Q64.9272 835.265 61.4579 838.225 Q57.9567 841.185 52.0048 841.185 Q46.021 841.185 42.5517 838.225 Q39.0506 835.233 39.0506 830.172 M19.667 863.019 Q19.667 865.757 22.0542 867.348 Q24.4095 868.908 28.5472 868.908 Q32.7485 868.908 35.1038 867.348 Q37.4592 865.789 37.4592 863.019 Q37.4592 860.25 35.1038 858.691 Q32.7485 857.099 28.5472 857.099 Q24.4413 857.099 22.0542 858.691 Q19.667 860.282 19.667 863.019 M15.6248 834.278 L15.6248 829.186 L64.9272 858.914 L64.9272 864.006 L15.6248 834.278 M15.6248 863.019 Q15.6248 857.991 19.1259 854.999 Q22.5952 852.007 28.5472 852.007 Q34.5628 852.007 38.0321 854.999 Q41.5014 857.959 41.5014 863.019 Q41.5014 868.08 38.0321 871.04 Q34.5309 873.968 28.5472 873.968 Q22.6271 873.968 19.1259 871.008 Q15.6248 868.048 15.6248 863.019 Z\" fill=\"#000000\" fill-rule=\"evenodd\" fill-opacity=\"1\" /><path clip-path=\"url(#clip000)\" d=\"M32.4621 774.95 Q32.4621 779.661 36.1542 782.398 Q39.8145 785.135 46.212 785.135 Q52.6095 785.135 56.3017 782.43 Q59.9619 779.692 59.9619 774.95 Q59.9619 770.271 56.2698 767.534 Q52.5777 764.797 46.212 764.797 Q39.8781 764.797 36.186 767.534 Q32.4621 770.271 32.4621 774.95 M27.4968 774.95 Q27.4968 767.311 32.4621 762.951 Q37.4273 758.59 46.212 758.59 Q54.9649 758.59 59.9619 762.951 Q64.9272 767.311 64.9272 774.95 Q64.9272 782.621 59.9619 786.981 Q54.9649 791.31 46.212 791.31 Q37.4273 791.31 32.4621 786.981 Q27.4968 782.621 27.4968 774.95 Z\" fill=\"#000000\" fill-rule=\"evenodd\" fill-opacity=\"1\" /><path clip-path=\"url(#clip000)\" d=\"M14.479 730.836 L19.3487 730.836 L19.3487 736.437 Q19.3487 739.588 20.6219 740.83 Q21.895 742.039 25.2052 742.039 L28.3562 742.039 L28.3562 732.395 L32.9077 732.395 L32.9077 742.039 L64.0042 742.039 L64.0042 747.927 L32.9077 747.927 L32.9077 753.529 L28.3562 753.529 L28.3562 747.927 L25.8736 747.927 Q19.9216 747.927 17.2162 745.158 Q14.479 742.389 14.479 736.374 L14.479 730.836 Z\" fill=\"#000000\" fill-rule=\"evenodd\" fill-opacity=\"1\" /><path clip-path=\"url(#clip000)\" d=\"M28.3562 705.214 L28.3562 699.357 L64.0042 699.357 L64.0042 705.214 L28.3562 705.214 M14.479 705.214 L14.479 699.357 L21.895 699.357 L21.895 705.214 L14.479 705.214 Z\" fill=\"#000000\" fill-rule=\"evenodd\" fill-opacity=\"1\" /><path clip-path=\"url(#clip000)\" d=\"M42.4881 657.471 L64.0042 657.471 L64.0042 663.327 L42.679 663.327 Q37.6183 663.327 35.1038 665.301 Q32.5894 667.274 32.5894 671.221 Q32.5894 675.963 35.6131 678.7 Q38.6368 681.438 43.8567 681.438 L64.0042 681.438 L64.0042 687.326 L28.3562 687.326 L28.3562 681.438 L33.8944 681.438 Q30.6797 679.337 29.0883 676.504 Q27.4968 673.64 27.4968 669.916 Q27.4968 663.773 31.3163 660.622 Q35.1038 657.471 42.4881 657.471 Z\" fill=\"#000000\" fill-rule=\"evenodd\" fill-opacity=\"1\" /><path clip-path=\"url(#clip000)\" d=\"M14.479 627.743 L19.3487 627.743 L19.3487 633.345 Q19.3487 636.496 20.6219 637.737 Q21.895 638.947 25.2052 638.947 L28.3562 638.947 L28.3562 629.303 L32.9077 629.303 L32.9077 638.947 L64.0042 638.947 L64.0042 644.835 L32.9077 644.835 L32.9077 650.437 L28.3562 650.437 L28.3562 644.835 L25.8736 644.835 Q19.9216 644.835 17.2162 642.066 Q14.479 639.297 14.479 633.281 L14.479 627.743 Z\" fill=\"#000000\" fill-rule=\"evenodd\" fill-opacity=\"1\" /><path clip-path=\"url(#clip000)\" d=\"M44.7161 592.35 L47.5806 592.35 L47.5806 619.277 Q53.6281 618.895 56.8109 615.648 Q59.9619 612.37 59.9619 606.545 Q59.9619 603.171 59.1344 600.02 Q58.3069 596.837 56.6518 593.718 L62.1899 593.718 Q63.5267 596.869 64.227 600.179 Q64.9272 603.49 64.9272 606.895 Q64.9272 615.425 59.9619 620.422 Q54.9967 625.388 46.5303 625.388 Q37.7774 625.388 32.6531 620.677 Q27.4968 615.935 27.4968 607.914 Q27.4968 600.721 32.1438 596.551 Q36.7589 592.35 44.7161 592.35 M42.9973 598.206 Q38.1912 598.27 35.3266 600.911 Q32.4621 603.521 32.4621 607.85 Q32.4621 612.752 35.2312 615.712 Q38.0002 618.64 43.0292 619.086 L42.9973 598.206 Z\" fill=\"#000000\" fill-rule=\"evenodd\" fill-opacity=\"1\" /><path clip-path=\"url(#clip000)\" d=\"M29.7248 557.084 L35.1993 557.084 Q33.8307 559.566 33.1623 562.081 Q32.4621 564.563 32.4621 567.11 Q32.4621 572.807 36.0905 575.958 Q39.6872 579.109 46.212 579.109 Q52.7369 579.109 56.3653 575.958 Q59.9619 572.807 59.9619 567.11 Q59.9619 564.563 59.2935 562.081 Q58.5933 559.566 57.2247 557.084 L62.6355 557.084 Q63.7814 559.534 64.3543 562.176 Q64.9272 564.786 64.9272 567.746 Q64.9272 575.799 59.8664 580.541 Q54.8057 585.284 46.212 585.284 Q37.491 585.284 32.4939 580.509 Q27.4968 575.703 27.4968 567.364 Q27.4968 564.659 28.0697 562.081 Q28.6108 559.503 29.7248 557.084 Z\" fill=\"#000000\" fill-rule=\"evenodd\" fill-opacity=\"1\" /><path clip-path=\"url(#clip000)\" d=\"M18.2347 541.106 L28.3562 541.106 L28.3562 529.043 L32.9077 529.043 L32.9077 541.106 L52.2594 541.106 Q56.6199 541.106 57.8613 539.928 Q59.1026 538.719 59.1026 535.058 L59.1026 529.043 L64.0042 529.043 L64.0042 535.058 Q64.0042 541.838 61.4897 544.416 Q58.9434 546.994 52.2594 546.994 L32.9077 546.994 L32.9077 551.291 L28.3562 551.291 L28.3562 546.994 L18.2347 546.994 L18.2347 541.106 Z\" fill=\"#000000\" fill-rule=\"evenodd\" fill-opacity=\"1\" /><path clip-path=\"url(#clip000)\" d=\"M44.7161 490.848 L47.5806 490.848 L47.5806 517.775 Q53.6281 517.393 56.8109 514.147 Q59.9619 510.869 59.9619 505.044 Q59.9619 501.67 59.1344 498.519 Q58.3069 495.336 56.6518 492.217 L62.1899 492.217 Q63.5267 495.368 64.227 498.678 Q64.9272 501.988 64.9272 505.394 Q64.9272 513.924 59.9619 518.921 Q54.9967 523.886 46.5303 523.886 Q37.7774 523.886 32.6531 519.176 Q27.4968 514.433 27.4968 506.413 Q27.4968 499.219 32.1438 495.05 Q36.7589 490.848 44.7161 490.848 M42.9973 496.705 Q38.1912 496.769 35.3266 499.41 Q32.4621 502.02 32.4621 506.349 Q32.4621 511.25 35.2312 514.211 Q38.0002 517.139 43.0292 517.584 L42.9973 496.705 Z\" fill=\"#000000\" fill-rule=\"evenodd\" fill-opacity=\"1\" /><path clip-path=\"url(#clip000)\" d=\"M33.7671 457.779 L14.479 457.779 L14.479 451.922 L64.0042 451.922 L64.0042 457.779 L58.657 457.779 Q61.8398 459.625 63.3994 462.457 Q64.9272 465.258 64.9272 469.205 Q64.9272 475.666 59.771 479.74 Q54.6147 483.782 46.212 483.782 Q37.8093 483.782 32.6531 479.74 Q27.4968 475.666 27.4968 469.205 Q27.4968 465.258 29.0564 462.457 Q30.5842 459.625 33.7671 457.779 M46.212 477.735 Q52.6732 477.735 56.3653 475.093 Q60.0256 472.42 60.0256 467.773 Q60.0256 463.126 56.3653 460.452 Q52.6732 457.779 46.212 457.779 Q39.7508 457.779 36.0905 460.452 Q32.3984 463.126 32.3984 467.773 Q32.3984 472.42 36.0905 475.093 Q39.7508 477.735 46.212 477.735 Z\" fill=\"#000000\" fill-rule=\"evenodd\" fill-opacity=\"1\" /><polyline clip-path=\"url(#clip002)\" style=\"stroke:#009af9; stroke-linecap:butt; stroke-linejoin:round; stroke-width:4; stroke-opacity:1; fill:none\" points=\"\n  396.992,1304.96 404.323,1266.45 411.654,1266.41 418.985,1072.77 426.317,1033.96 433.648,722.522 440.979,365.998 448.311,236.962 455.642,352.353 462.973,352.42 \n  470.304,468.98 477.636,586.668 484.967,663.621 492.298,664.919 499.63,706.921 506.961,709.185 514.292,709.187 521.623,748.794 528.955,751.09 536.286,828.073 \n  543.617,906.187 550.948,908.484 558.28,908.518 565.611,910.782 572.942,949.257 580.274,949.293 587.605,987.801 594.936,987.802 602.267,987.802 609.599,988.934 \n  616.93,990.065 624.261,991.23 631.592,991.231 638.924,992.363 646.255,1069.35 653.586,1108.95 660.918,1108.99 668.249,1109.02 675.58,1147.5 682.911,1148.66 \n  690.243,1187.13 697.574,1188.27 704.905,1188.27 712.236,1188.27 719.568,1226.74 726.899,1226.78 734.23,1226.78 741.562,1226.78 748.893,1265.25 756.224,1265.25 \n  763.555,1265.28 770.887,1265.28 778.218,1265.28 785.549,1265.28 792.881,1265.28 800.212,1303.76 807.543,1303.76 814.874,1303.82 822.206,1303.82 829.537,1303.83 \n  836.868,1303.86 844.199,1304.99 851.531,1304.99 858.862,1304.99 866.193,1306.12 873.525,1306.12 880.856,1306.12 888.187,1306.12 895.518,1306.12 902.85,1306.12 \n  910.181,1306.12 917.512,1306.12 924.843,1306.12 932.175,1344.6 939.506,1344.6 946.837,1344.6 954.169,1344.6 961.5,1344.6 968.831,1344.6 976.162,1383.07 \n  983.494,1383.07 990.825,1383.07 998.156,1383.07 1005.49,1383.07 1012.82,1383.07 1020.15,1383.07 1027.48,1383.11 1034.81,1383.11 1042.14,1383.11 1049.48,1383.11 \n  1056.81,1383.11 1064.14,1383.11 1071.47,1383.11 1078.8,1383.11 1086.13,1383.11 1093.46,1383.11 1100.79,1383.11 1108.13,1383.11 1115.46,1383.11 1122.79,1383.11 \n  1130.12,1383.11 1137.45,1383.11 1144.78,1383.11 1152.11,1383.11 1159.44,1383.11 1166.78,1383.11 1174.11,1383.11 1181.44,1383.11 1188.77,1383.11 1196.1,1383.11 \n  1203.43,1383.11 1210.76,1383.11 1218.09,1383.11 1225.43,1383.11 1232.76,1383.11 1240.09,1383.11 1247.42,1383.11 1254.75,1384.24 1262.08,1384.24 1269.41,1384.24 \n  1276.74,1384.24 1284.08,1384.24 1291.41,1384.24 1298.74,1384.24 1306.07,1384.24 1313.4,1384.24 1320.73,1384.24 1328.06,1384.24 1335.39,1384.24 1342.73,1384.24 \n  1350.06,1384.24 1357.39,1384.24 1364.72,1384.24 1372.05,1384.24 1379.38,1384.24 1386.71,1384.24 1394.05,1384.24 1401.38,1384.24 1408.71,1384.24 1416.04,1384.24 \n  1423.37,1384.24 1430.7,1384.24 1438.03,1384.24 1445.36,1384.24 1452.7,1384.24 1460.03,1384.24 1467.36,1384.24 1474.69,1384.24 1482.02,1384.24 1489.35,1384.24 \n  1496.68,1384.24 1504.01,1384.24 1511.35,1384.24 1518.68,1384.24 1526.01,1384.24 1533.34,1384.24 1540.67,1384.24 1548,1384.24 1555.33,1384.24 1562.66,1384.24 \n  1570,1384.24 1577.33,1384.24 1584.66,1384.24 1591.99,1384.24 1599.32,1384.24 1606.65,1384.24 1613.98,1384.24 1621.31,1384.24 1628.65,1384.24 1635.98,1384.24 \n  1643.31,1384.24 1650.64,1384.24 1657.97,1384.24 1665.3,1384.24 1672.63,1384.24 1679.96,1384.24 1687.3,1384.24 1694.63,1384.24 1701.96,1384.24 1709.29,1384.24 \n  1716.62,1384.24 1723.95,1384.24 1731.28,1384.24 1738.61,1384.24 1745.95,1384.24 1753.28,1384.24 1760.61,1384.24 1767.94,1384.24 1775.27,1384.24 1782.6,1384.24 \n  1789.93,1384.24 1797.27,1384.24 1804.6,1384.24 1811.93,1384.24 1819.26,1384.24 1826.59,1384.24 1833.92,1384.24 1841.25,1384.24 1848.58,1384.24 1855.92,1384.24 \n  1863.25,1384.24 1870.58,1384.24 1877.91,1384.24 1885.24,1384.24 1892.57,1384.24 1899.9,1384.24 1907.23,1384.24 1914.57,1384.24 1921.9,1384.24 1929.23,1384.24 \n  1936.56,1384.24 1943.89,1384.24 1951.22,1384.24 1958.55,1384.24 1965.88,1384.24 1973.22,1384.24 1980.55,1384.24 1987.88,1384.24 1995.21,1384.24 2002.54,1384.24 \n  2009.87,1384.24 2017.2,1384.24 2024.53,1384.24 2031.87,1384.24 2039.2,1384.24 2046.53,1384.24 2053.86,1384.24 2061.19,1384.24 2068.52,1384.24 2075.85,1384.24 \n  2083.18,1384.24 2090.52,1384.24 2097.85,1384.24 2105.18,1384.24 2112.51,1384.24 2119.84,1384.24 2127.17,1384.24 2134.5,1384.24 2141.84,1384.24 2149.17,1384.24 \n  2156.5,1384.24 2163.83,1384.24 2171.16,1384.24 2178.49,1384.24 2185.82,1384.24 2193.15,1384.24 2200.49,1384.24 2207.82,1384.24 2215.15,1384.24 2222.48,1384.24 \n  2229.81,1384.24 2237.14,1384.24 2244.47,1384.24 2251.8,1384.24 2259.14,1384.24 2266.47,1384.24 2273.8,1384.24 2281.13,1384.24 2288.46,1384.24 2295.79,1384.24 \n  \n  \"/>\n<polyline clip-path=\"url(#clip002)\" style=\"stroke:#e26f46; stroke-linecap:butt; stroke-linejoin:round; stroke-width:4; stroke-opacity:1; fill:none\" points=\"\n  396.992,1228.01 404.323,1033.21 411.654,677.415 418.985,515.662 426.317,361.763 433.648,403.566 440.979,480.615 448.311,521.386 455.642,714.891 462.973,717.155 \n  470.304,755.696 477.636,834.975 484.967,876.911 492.298,876.978 499.63,953.927 506.961,993.533 514.292,1032.04 521.623,1110.19 528.955,1225.61 536.286,1225.61 \n  543.617,1226.74 550.948,1226.78 558.28,1227.91 565.611,1227.91 572.942,1227.91 580.274,1227.94 587.605,1304.89 594.936,1304.93 602.267,1304.93 609.599,1344.57 \n  616.93,1344.57 624.261,1344.57 631.592,1344.57 638.924,1383.04 646.255,1383.04 653.586,1383.04 660.918,1383.04 668.249,1383.07 675.58,1383.07 682.911,1383.11 \n  690.243,1383.11 697.574,1383.11 704.905,1383.11 712.236,1383.11 719.568,1383.11 726.899,1383.11 734.23,1383.11 741.562,1384.24 748.893,1384.24 756.224,1384.24 \n  763.555,1384.24 770.887,1384.24 778.218,1384.24 785.549,1384.24 792.881,1384.24 800.212,1384.24 807.543,1384.24 814.874,1384.24 822.206,1384.24 829.537,1384.24 \n  836.868,1384.24 844.199,1384.24 851.531,1384.24 858.862,1384.24 866.193,1384.24 873.525,1384.24 880.856,1384.24 888.187,1384.24 895.518,1384.24 902.85,1384.24 \n  910.181,1384.24 917.512,1384.24 924.843,1384.24 932.175,1384.24 939.506,1384.24 946.837,1384.24 954.169,1384.24 961.5,1384.24 968.831,1384.24 976.162,1384.24 \n  983.494,1384.24 990.825,1384.24 998.156,1384.24 1005.49,1384.24 1012.82,1384.24 1020.15,1384.24 1027.48,1384.24 1034.81,1384.24 1042.14,1384.24 1049.48,1384.24 \n  1056.81,1384.24 1064.14,1384.24 1071.47,1384.24 1078.8,1384.24 1086.13,1384.24 1093.46,1384.24 1100.79,1384.24 1108.13,1384.24 1115.46,1384.24 1122.79,1384.24 \n  1130.12,1384.24 1137.45,1384.24 1144.78,1384.24 1152.11,1384.24 1159.44,1384.24 1166.78,1384.24 1174.11,1384.24 1181.44,1384.24 1188.77,1384.24 1196.1,1384.24 \n  1203.43,1384.24 1210.76,1384.24 1218.09,1384.24 1225.43,1384.24 1232.76,1384.24 1240.09,1384.24 1247.42,1384.24 1254.75,1384.24 1262.08,1384.24 1269.41,1384.24 \n  1276.74,1384.24 1284.08,1384.24 1291.41,1384.24 1298.74,1384.24 1306.07,1384.24 1313.4,1384.24 1320.73,1384.24 1328.06,1384.24 1335.39,1384.24 1342.73,1384.24 \n  1350.06,1384.24 1357.39,1384.24 1364.72,1384.24 1372.05,1384.24 1379.38,1384.24 1386.71,1384.24 1394.05,1384.24 1401.38,1384.24 1408.71,1384.24 1416.04,1384.24 \n  1423.37,1384.24 1430.7,1384.24 1438.03,1384.24 1445.36,1384.24 1452.7,1384.24 1460.03,1384.24 1467.36,1384.24 1474.69,1384.24 1482.02,1384.24 1489.35,1384.24 \n  1496.68,1384.24 1504.01,1384.24 1511.35,1384.24 1518.68,1384.24 1526.01,1384.24 1533.34,1384.24 1540.67,1384.24 1548,1384.24 1555.33,1384.24 1562.66,1384.24 \n  1570,1384.24 1577.33,1384.24 1584.66,1384.24 1591.99,1384.24 1599.32,1384.24 1606.65,1384.24 1613.98,1384.24 1621.31,1384.24 1628.65,1384.24 1635.98,1384.24 \n  1643.31,1384.24 1650.64,1384.24 1657.97,1384.24 1665.3,1384.24 1672.63,1384.24 1679.96,1384.24 1687.3,1384.24 1694.63,1384.24 1701.96,1384.24 1709.29,1384.24 \n  1716.62,1384.24 1723.95,1384.24 1731.28,1384.24 1738.61,1384.24 1745.95,1384.24 1753.28,1384.24 1760.61,1384.24 1767.94,1384.24 1775.27,1384.24 1782.6,1384.24 \n  1789.93,1384.24 1797.27,1384.24 1804.6,1384.24 1811.93,1384.24 1819.26,1384.24 1826.59,1384.24 1833.92,1384.24 1841.25,1384.24 1848.58,1384.24 1855.92,1384.24 \n  1863.25,1384.24 1870.58,1384.24 1877.91,1384.24 1885.24,1384.24 1892.57,1384.24 1899.9,1384.24 1907.23,1384.24 1914.57,1384.24 1921.9,1384.24 1929.23,1384.24 \n  1936.56,1384.24 1943.89,1384.24 1951.22,1384.24 1958.55,1384.24 1965.88,1384.24 1973.22,1384.24 1980.55,1384.24 1987.88,1384.24 1995.21,1384.24 2002.54,1384.24 \n  2009.87,1384.24 2017.2,1384.24 2024.53,1384.24 2031.87,1384.24 2039.2,1384.24 2046.53,1384.24 2053.86,1384.24 2061.19,1384.24 2068.52,1384.24 2075.85,1384.24 \n  2083.18,1384.24 2090.52,1384.24 2097.85,1384.24 2105.18,1384.24 2112.51,1384.24 2119.84,1384.24 2127.17,1384.24 2134.5,1384.24 2141.84,1384.24 2149.17,1384.24 \n  2156.5,1384.24 2163.83,1384.24 2171.16,1384.24 2178.49,1384.24 2185.82,1384.24 2193.15,1384.24 2200.49,1384.24 2207.82,1384.24 2215.15,1384.24 2222.48,1384.24 \n  2229.81,1384.24 2237.14,1384.24 2244.47,1384.24 2251.8,1384.24 2259.14,1384.24 2266.47,1384.24 2273.8,1384.24 2281.13,1384.24 2288.46,1384.24 2295.79,1384.24 \n  \n  \"/>\n<polyline clip-path=\"url(#clip002)\" style=\"stroke:#3da44d; stroke-linecap:butt; stroke-linejoin:round; stroke-width:4; stroke-opacity:1; fill:none\" points=\"\n  396.992,1304.96 404.323,1266.48 411.654,1266.48 418.985,1149.89 426.317,1111.41 433.648,1032.23 440.979,951.888 448.311,873.805 455.642,718.773 462.973,603.348 \n  470.304,446.018 477.636,404.109 484.967,327.158 492.298,284.154 499.63,206.073 506.961,206.072 514.292,165.334 521.623,164.199 528.955,125.791 536.286,88.4489 \n  543.617,86.1857 550.948,124.627 558.28,125.559 565.611,126.625 572.942,126.626 580.274,126.594 587.605,126.327 594.936,126.194 602.267,165.668 609.599,204.176 \n  616.93,242.684 624.261,243.816 631.592,243.816 638.924,282.291 646.255,320.766 653.586,321.898 660.918,321.898 668.249,321.931 675.58,321.931 682.911,323.064 \n  690.243,324.229 697.574,401.178 704.905,401.179 712.236,401.179 719.568,401.18 726.899,439.655 734.23,439.69 741.562,439.69 748.893,439.69 756.224,439.724 \n  763.555,439.759 770.887,439.759 778.218,439.759 785.549,439.759 792.881,478.233 800.212,478.233 807.543,478.233 814.874,516.741 822.206,516.741 829.537,516.741 \n  836.868,516.775 844.199,556.381 851.531,557.513 858.862,557.513 866.193,557.513 873.525,558.644 880.856,597.119 888.187,597.121 895.518,597.121 902.85,597.121 \n  910.181,597.121 917.512,597.121 924.843,597.121 932.175,635.596 939.506,636.727 946.837,636.727 954.169,636.727 961.5,636.727 968.831,636.727 976.162,636.727 \n  983.494,636.728 990.825,636.728 998.156,636.728 1005.49,636.728 1012.82,636.729 1020.15,636.729 1027.48,713.679 1034.81,713.712 1042.14,713.712 1049.48,713.713 \n  1056.81,713.747 1064.14,713.748 1071.47,713.749 1078.8,753.355 1086.13,791.863 1093.46,791.863 1100.79,791.863 1108.13,830.338 1115.46,830.338 1122.79,830.338 \n  1130.12,831.47 1137.45,833.733 1144.78,833.733 1152.11,833.766 1159.44,833.767 1166.78,833.767 1174.11,834.899 1181.44,873.374 1188.77,873.374 1196.1,911.849 \n  1203.43,911.849 1210.76,911.849 1218.09,911.849 1225.43,911.849 1232.76,911.849 1240.09,911.849 1247.42,911.883 1254.75,911.883 1262.08,911.883 1269.41,911.883 \n  1276.74,913.014 1284.08,914.146 1291.41,914.146 1298.74,914.146 1306.07,915.277 1313.4,915.277 1320.73,916.409 1328.06,916.409 1335.39,916.409 1342.73,916.409 \n  1350.06,916.409 1357.39,916.409 1364.72,916.409 1372.05,916.409 1379.38,916.41 1386.71,954.885 1394.05,954.885 1401.38,954.886 1408.71,954.886 1416.04,993.36 \n  1423.37,993.36 1430.7,993.36 1438.03,993.36 1445.36,993.36 1452.7,994.492 1460.03,994.492 1467.36,1032.97 1474.69,1034.1 1482.02,1034.13 1489.35,1034.13 \n  1496.68,1034.13 1504.01,1034.13 1511.35,1034.13 1518.68,1034.13 1526.01,1034.17 1533.34,1034.17 1540.67,1034.17 1548,1034.17 1555.33,1034.17 1562.66,1034.17 \n  1570,1034.17 1577.33,1034.17 1584.66,1072.64 1591.99,1072.64 1599.32,1072.64 1606.65,1072.64 1613.98,1072.64 1621.31,1072.64 1628.65,1072.64 1635.98,1072.64 \n  1643.31,1072.64 1650.64,1072.64 1657.97,1073.77 1665.3,1073.77 1672.63,1112.25 1679.96,1112.25 1687.3,1112.25 1694.63,1112.25 1701.96,1112.25 1709.29,1112.25 \n  1716.62,1112.25 1723.95,1112.25 1731.28,1112.25 1738.61,1112.25 1745.95,1112.25 1753.28,1112.25 1760.61,1112.25 1767.94,1112.25 1775.27,1112.25 1782.6,1112.28 \n  1789.93,1112.28 1797.27,1112.28 1804.6,1112.28 1811.93,1112.29 1819.26,1150.76 1826.59,1150.79 1833.92,1150.79 1841.25,1189.3 1848.58,1189.3 1855.92,1189.3 \n  1863.25,1227.78 1870.58,1227.78 1877.91,1227.78 1885.24,1227.78 1892.57,1227.78 1899.9,1227.78 1907.23,1227.78 1914.57,1227.78 1921.9,1227.78 1929.23,1227.78 \n  1936.56,1227.78 1943.89,1227.81 1951.22,1227.81 1958.55,1266.28 1965.88,1266.28 1973.22,1304.76 1980.55,1305.89 1987.88,1305.89 1995.21,1305.89 2002.54,1305.89 \n  2009.87,1305.89 2017.2,1305.89 2024.53,1305.89 2031.87,1305.89 2039.2,1305.89 2046.53,1305.89 2053.86,1305.89 2061.19,1305.89 2068.52,1305.89 2075.85,1305.89 \n  2083.18,1344.37 2090.52,1344.37 2097.85,1344.4 2105.18,1344.4 2112.51,1344.4 2119.84,1382.87 2127.17,1382.87 2134.5,1382.87 2141.84,1382.87 2149.17,1382.87 \n  2156.5,1382.87 2163.83,1382.87 2171.16,1382.87 2178.49,1382.87 2185.82,1382.91 2193.15,1382.94 2200.49,1382.94 2207.82,1382.94 2215.15,1382.94 2222.48,1382.94 \n  2229.81,1382.94 2237.14,1382.94 2244.47,1382.94 2251.8,1382.94 2259.14,1382.94 2266.47,1382.94 2273.8,1382.94 2281.13,1382.94 2288.46,1382.94 2295.79,1382.94 \n  \n  \"/>\n<polyline clip-path=\"url(#clip002)\" style=\"stroke:#c271d2; stroke-linecap:butt; stroke-linejoin:round; stroke-width:4; stroke-opacity:1; fill:none\" points=\"\n  396.992,828.339 404.323,274.345 411.654,317.313 418.985,358.218 426.317,514.416 433.648,559.783 440.979,639.063 448.311,678.77 455.642,796.492 462.973,875.738 \n  470.304,914.28 477.636,992.364 484.967,1033.14 492.298,1110.12 499.63,1187.07 506.961,1187.2 514.292,1188.33 521.623,1188.37 528.955,1188.4 536.286,1189.53 \n  543.617,1228.01 550.948,1266.48 558.28,1268.75 565.611,1268.75 572.942,1268.75 580.274,1268.75 587.605,1268.75 594.936,1268.75 602.267,1268.75 609.599,1268.78 \n  616.93,1307.26 624.261,1307.26 631.592,1307.26 638.924,1307.26 646.255,1307.26 653.586,1307.29 660.918,1307.29 668.249,1307.29 675.58,1307.29 682.911,1307.29 \n  690.243,1307.29 697.574,1307.29 704.905,1307.29 712.236,1307.29 719.568,1307.29 726.899,1307.29 734.23,1345.76 741.562,1384.24 748.893,1384.24 756.224,1384.24 \n  763.555,1384.24 770.887,1384.24 778.218,1384.24 785.549,1384.24 792.881,1384.24 800.212,1384.24 807.543,1384.24 814.874,1384.24 822.206,1384.24 829.537,1384.24 \n  836.868,1384.24 844.199,1384.24 851.531,1384.24 858.862,1384.24 866.193,1384.24 873.525,1384.24 880.856,1384.24 888.187,1384.24 895.518,1384.24 902.85,1384.24 \n  910.181,1384.24 917.512,1384.24 924.843,1384.24 932.175,1384.24 939.506,1384.24 946.837,1384.24 954.169,1384.24 961.5,1384.24 968.831,1384.24 976.162,1384.24 \n  983.494,1384.24 990.825,1384.24 998.156,1384.24 1005.49,1384.24 1012.82,1384.24 1020.15,1384.24 1027.48,1384.24 1034.81,1384.24 1042.14,1384.24 1049.48,1384.24 \n  1056.81,1384.24 1064.14,1384.24 1071.47,1384.24 1078.8,1384.24 1086.13,1384.24 1093.46,1384.24 1100.79,1384.24 1108.13,1384.24 1115.46,1384.24 1122.79,1384.24 \n  1130.12,1384.24 1137.45,1384.24 1144.78,1384.24 1152.11,1384.24 1159.44,1384.24 1166.78,1384.24 1174.11,1384.24 1181.44,1384.24 1188.77,1384.24 1196.1,1384.24 \n  1203.43,1384.24 1210.76,1384.24 1218.09,1384.24 1225.43,1384.24 1232.76,1384.24 1240.09,1384.24 1247.42,1384.24 1254.75,1384.24 1262.08,1384.24 1269.41,1384.24 \n  1276.74,1384.24 1284.08,1384.24 1291.41,1384.24 1298.74,1384.24 1306.07,1384.24 1313.4,1384.24 1320.73,1384.24 1328.06,1384.24 1335.39,1384.24 1342.73,1384.24 \n  1350.06,1384.24 1357.39,1384.24 1364.72,1384.24 1372.05,1384.24 1379.38,1384.24 1386.71,1384.24 1394.05,1384.24 1401.38,1384.24 1408.71,1384.24 1416.04,1384.24 \n  1423.37,1384.24 1430.7,1384.24 1438.03,1384.24 1445.36,1384.24 1452.7,1384.24 1460.03,1384.24 1467.36,1384.24 1474.69,1384.24 1482.02,1384.24 1489.35,1384.24 \n  1496.68,1384.24 1504.01,1384.24 1511.35,1384.24 1518.68,1384.24 1526.01,1384.24 1533.34,1384.24 1540.67,1384.24 1548,1384.24 1555.33,1384.24 1562.66,1384.24 \n  1570,1384.24 1577.33,1384.24 1584.66,1384.24 1591.99,1384.24 1599.32,1384.24 1606.65,1384.24 1613.98,1384.24 1621.31,1384.24 1628.65,1384.24 1635.98,1384.24 \n  1643.31,1384.24 1650.64,1384.24 1657.97,1384.24 1665.3,1384.24 1672.63,1384.24 1679.96,1384.24 1687.3,1384.24 1694.63,1384.24 1701.96,1384.24 1709.29,1384.24 \n  1716.62,1384.24 1723.95,1384.24 1731.28,1384.24 1738.61,1384.24 1745.95,1384.24 1753.28,1384.24 1760.61,1384.24 1767.94,1384.24 1775.27,1384.24 1782.6,1384.24 \n  1789.93,1384.24 1797.27,1384.24 1804.6,1384.24 1811.93,1384.24 1819.26,1384.24 1826.59,1384.24 1833.92,1384.24 1841.25,1384.24 1848.58,1384.24 1855.92,1384.24 \n  1863.25,1384.24 1870.58,1384.24 1877.91,1384.24 1885.24,1384.24 1892.57,1384.24 1899.9,1384.24 1907.23,1384.24 1914.57,1384.24 1921.9,1384.24 1929.23,1384.24 \n  1936.56,1384.24 1943.89,1384.24 1951.22,1384.24 1958.55,1384.24 1965.88,1384.24 1973.22,1384.24 1980.55,1384.24 1987.88,1384.24 1995.21,1384.24 2002.54,1384.24 \n  2009.87,1384.24 2017.2,1384.24 2024.53,1384.24 2031.87,1384.24 2039.2,1384.24 2046.53,1384.24 2053.86,1384.24 2061.19,1384.24 2068.52,1384.24 2075.85,1384.24 \n  2083.18,1384.24 2090.52,1384.24 2097.85,1384.24 2105.18,1384.24 2112.51,1384.24 2119.84,1384.24 2127.17,1384.24 2134.5,1384.24 2141.84,1384.24 2149.17,1384.24 \n  2156.5,1384.24 2163.83,1384.24 2171.16,1384.24 2178.49,1384.24 2185.82,1384.24 2193.15,1384.24 2200.49,1384.24 2207.82,1384.24 2215.15,1384.24 2222.48,1384.24 \n  2229.81,1384.24 2237.14,1384.24 2244.47,1384.24 2251.8,1384.24 2259.14,1384.24 2266.47,1384.24 2273.8,1384.24 2281.13,1384.24 2288.46,1384.24 2295.79,1384.24 \n  \n  \"/>\n<polyline clip-path=\"url(#clip002)\" style=\"stroke:#ac8d18; stroke-linecap:butt; stroke-linejoin:round; stroke-width:4; stroke-opacity:1; fill:none\" points=\"\n  396.992,1303.83 404.323,1303.83 411.654,1147.63 418.985,1029.88 426.317,600.894 433.648,520.312 440.979,319.811 448.311,273.141 455.642,156.546 462.973,232.429 \n  470.304,270.903 477.636,270.903 484.967,270.903 492.298,232.427 499.63,232.427 506.961,233.559 514.292,233.592 521.623,270.935 528.955,270.969 536.286,270.969 \n  543.617,270.969 550.948,270.97 558.28,270.97 565.611,272.135 572.942,272.135 580.274,272.135 587.605,310.609 594.936,349.117 602.267,350.249 609.599,350.25 \n  616.93,389.859 624.261,389.86 631.592,389.893 638.924,389.893 646.255,392.158 653.586,430.633 660.918,430.633 668.249,430.634 675.58,431.766 682.911,431.766 \n  690.243,470.274 697.574,470.274 704.905,470.274 712.236,508.749 719.568,508.749 726.899,508.75 734.23,508.783 741.562,509.915 748.893,509.916 756.224,509.916 \n  763.555,511.047 770.887,511.047 778.218,511.047 785.549,511.048 792.881,549.523 800.212,549.524 807.543,550.656 814.874,552.92 822.206,552.92 829.537,554.051 \n  836.868,554.051 844.199,554.052 851.531,554.052 858.862,554.052 866.193,592.56 873.525,592.56 880.856,592.56 888.187,592.594 895.518,592.627 902.85,593.793 \n  910.181,593.793 917.512,593.793 924.843,632.267 932.175,632.267 939.506,632.336 946.837,670.811 954.169,671.943 961.5,671.944 968.831,673.076 976.162,673.077 \n  983.494,674.242 990.825,674.242 998.156,751.191 1005.49,751.191 1012.82,751.224 1020.15,751.224 1027.48,751.224 1034.81,789.699 1042.14,789.699 1049.48,789.699 \n  1056.81,789.699 1064.14,789.699 1071.47,789.732 1078.8,828.207 1086.13,828.24 1093.46,829.372 1100.79,830.504 1108.13,831.635 1115.46,831.635 1122.79,831.635 \n  1130.12,831.635 1137.45,831.635 1144.78,831.636 1152.11,831.636 1159.44,831.636 1166.78,831.636 1174.11,831.703 1181.44,831.703 1188.77,831.703 1196.1,831.703 \n  1203.43,832.834 1210.76,832.834 1218.09,832.834 1225.43,833.999 1232.76,833.999 1240.09,833.999 1247.42,872.474 1254.75,872.474 1262.08,912.081 1269.41,912.081 \n  1276.74,912.081 1284.08,912.081 1291.41,950.556 1298.74,990.162 1306.07,990.162 1313.4,990.162 1320.73,990.162 1328.06,991.294 1335.39,991.295 1342.73,991.295 \n  1350.06,991.295 1357.39,991.295 1364.72,991.295 1372.05,991.295 1379.38,991.295 1386.71,991.295 1394.05,991.295 1401.38,991.295 1408.71,991.295 1416.04,991.295 \n  1423.37,991.296 1430.7,991.296 1438.03,991.296 1445.36,991.296 1452.7,991.296 1460.03,991.296 1467.36,991.296 1474.69,991.296 1482.02,991.296 1489.35,991.296 \n  1496.68,991.296 1504.01,991.296 1511.35,991.296 1518.68,992.428 1526.01,992.428 1533.34,992.428 1540.67,992.428 1548,992.428 1555.33,992.428 1562.66,992.428 \n  1570,992.428 1577.33,992.428 1584.66,1030.9 1591.99,1030.9 1599.32,1030.9 1606.65,1030.9 1613.98,1030.9 1621.31,1069.38 1628.65,1069.38 1635.98,1069.38 \n  1643.31,1107.85 1650.64,1107.85 1657.97,1107.85 1665.3,1107.85 1672.63,1107.85 1679.96,1108.98 1687.3,1108.98 1694.63,1108.98 1701.96,1108.98 1709.29,1108.98 \n  1716.62,1109.02 1723.95,1109.02 1731.28,1109.02 1738.61,1109.02 1745.95,1109.02 1753.28,1109.02 1760.61,1109.02 1767.94,1109.02 1775.27,1109.02 1782.6,1110.15 \n  1789.93,1110.15 1797.27,1110.15 1804.6,1110.15 1811.93,1148.62 1819.26,1187.1 1826.59,1187.1 1833.92,1187.1 1841.25,1225.57 1848.58,1225.57 1855.92,1225.57 \n  1863.25,1225.58 1870.58,1225.61 1877.91,1225.61 1885.24,1225.61 1892.57,1225.61 1899.9,1225.61 1907.23,1225.61 1914.57,1225.64 1921.9,1225.64 1929.23,1225.64 \n  1936.56,1225.64 1943.89,1225.64 1951.22,1225.64 1958.55,1226.77 1965.88,1226.77 1973.22,1226.77 1980.55,1227.91 1987.88,1227.91 1995.21,1227.91 2002.54,1227.91 \n  2009.87,1227.91 2017.2,1227.91 2024.53,1227.91 2031.87,1227.91 2039.2,1227.91 2046.53,1227.91 2053.86,1227.91 2061.19,1227.91 2068.52,1227.91 2075.85,1227.91 \n  2083.18,1227.91 2090.52,1227.91 2097.85,1227.91 2105.18,1227.91 2112.51,1227.91 2119.84,1227.91 2127.17,1227.91 2134.5,1227.91 2141.84,1227.91 2149.17,1227.91 \n  2156.5,1227.91 2163.83,1227.91 2171.16,1227.91 2178.49,1227.91 2185.82,1227.91 2193.15,1227.91 2200.49,1227.91 2207.82,1227.91 2215.15,1227.91 2222.48,1227.91 \n  2229.81,1227.91 2237.14,1227.91 2244.47,1227.91 2251.8,1227.91 2259.14,1227.91 2266.47,1227.91 2273.8,1229.04 2281.13,1229.04 2288.46,1229.04 2295.79,1229.04 \n  \n  \"/>\n<polyline clip-path=\"url(#clip002)\" style=\"stroke:#00a9ad; stroke-linecap:butt; stroke-linejoin:round; stroke-width:4; stroke-opacity:1; fill:none\" points=\"\n  396.992,1343.43 404.323,1341.17 411.654,1298.13 418.985,1062.75 426.317,857.956 433.648,632.762 440.979,709.65 448.311,672.209 455.642,598.422 462.973,636.731 \n  470.304,716.077 477.636,832.534 484.967,873.341 492.298,914.114 499.63,953.754 506.961,994.559 514.292,994.56 521.623,994.626 528.955,1072.71 536.286,1149.66 \n  543.617,1149.66 550.948,1149.73 558.28,1149.76 565.611,1149.79 572.942,1149.79 580.274,1149.79 587.605,1149.83 594.936,1150.99 602.267,1150.99 609.599,1150.99 \n  616.93,1151.03 624.261,1151.03 631.592,1189.5 638.924,1228.01 646.255,1266.52 653.586,1343.47 660.918,1343.47 668.249,1381.94 675.58,1381.94 682.911,1381.94 \n  690.243,1381.94 697.574,1381.94 704.905,1381.98 712.236,1383.11 719.568,1384.24 726.899,1384.24 734.23,1384.24 741.562,1384.24 748.893,1384.24 756.224,1384.24 \n  763.555,1384.24 770.887,1384.24 778.218,1384.24 785.549,1384.24 792.881,1384.24 800.212,1384.24 807.543,1384.24 814.874,1384.24 822.206,1384.24 829.537,1384.24 \n  836.868,1384.24 844.199,1384.24 851.531,1384.24 858.862,1384.24 866.193,1384.24 873.525,1384.24 880.856,1384.24 888.187,1384.24 895.518,1384.24 902.85,1384.24 \n  910.181,1384.24 917.512,1384.24 924.843,1384.24 932.175,1384.24 939.506,1384.24 946.837,1384.24 954.169,1384.24 961.5,1384.24 968.831,1384.24 976.162,1384.24 \n  983.494,1384.24 990.825,1384.24 998.156,1384.24 1005.49,1384.24 1012.82,1384.24 1020.15,1384.24 1027.48,1384.24 1034.81,1384.24 1042.14,1384.24 1049.48,1384.24 \n  1056.81,1384.24 1064.14,1384.24 1071.47,1384.24 1078.8,1384.24 1086.13,1384.24 1093.46,1384.24 1100.79,1384.24 1108.13,1384.24 1115.46,1384.24 1122.79,1384.24 \n  1130.12,1384.24 1137.45,1384.24 1144.78,1384.24 1152.11,1384.24 1159.44,1384.24 1166.78,1384.24 1174.11,1384.24 1181.44,1384.24 1188.77,1384.24 1196.1,1384.24 \n  1203.43,1384.24 1210.76,1384.24 1218.09,1384.24 1225.43,1384.24 1232.76,1384.24 1240.09,1384.24 1247.42,1384.24 1254.75,1384.24 1262.08,1384.24 1269.41,1384.24 \n  1276.74,1384.24 1284.08,1384.24 1291.41,1384.24 1298.74,1384.24 1306.07,1384.24 1313.4,1384.24 1320.73,1384.24 1328.06,1384.24 1335.39,1384.24 1342.73,1384.24 \n  1350.06,1384.24 1357.39,1384.24 1364.72,1384.24 1372.05,1384.24 1379.38,1384.24 1386.71,1384.24 1394.05,1384.24 1401.38,1384.24 1408.71,1384.24 1416.04,1384.24 \n  1423.37,1384.24 1430.7,1384.24 1438.03,1384.24 1445.36,1384.24 1452.7,1384.24 1460.03,1384.24 1467.36,1384.24 1474.69,1384.24 1482.02,1384.24 1489.35,1384.24 \n  1496.68,1384.24 1504.01,1384.24 1511.35,1384.24 1518.68,1384.24 1526.01,1384.24 1533.34,1384.24 1540.67,1384.24 1548,1384.24 1555.33,1384.24 1562.66,1384.24 \n  1570,1384.24 1577.33,1384.24 1584.66,1384.24 1591.99,1384.24 1599.32,1384.24 1606.65,1384.24 1613.98,1384.24 1621.31,1384.24 1628.65,1384.24 1635.98,1384.24 \n  1643.31,1384.24 1650.64,1384.24 1657.97,1384.24 1665.3,1384.24 1672.63,1384.24 1679.96,1384.24 1687.3,1384.24 1694.63,1384.24 1701.96,1384.24 1709.29,1384.24 \n  1716.62,1384.24 1723.95,1384.24 1731.28,1384.24 1738.61,1384.24 1745.95,1384.24 1753.28,1384.24 1760.61,1384.24 1767.94,1384.24 1775.27,1384.24 1782.6,1384.24 \n  1789.93,1384.24 1797.27,1384.24 1804.6,1384.24 1811.93,1384.24 1819.26,1384.24 1826.59,1384.24 1833.92,1384.24 1841.25,1384.24 1848.58,1384.24 1855.92,1384.24 \n  1863.25,1384.24 1870.58,1384.24 1877.91,1384.24 1885.24,1384.24 1892.57,1384.24 1899.9,1384.24 1907.23,1384.24 1914.57,1384.24 1921.9,1384.24 1929.23,1384.24 \n  1936.56,1384.24 1943.89,1384.24 1951.22,1384.24 1958.55,1384.24 1965.88,1384.24 1973.22,1384.24 1980.55,1384.24 1987.88,1384.24 1995.21,1384.24 2002.54,1384.24 \n  2009.87,1384.24 2017.2,1384.24 2024.53,1384.24 2031.87,1384.24 2039.2,1384.24 2046.53,1384.24 2053.86,1384.24 2061.19,1384.24 2068.52,1384.24 2075.85,1384.24 \n  2083.18,1384.24 2090.52,1384.24 2097.85,1384.24 2105.18,1384.24 2112.51,1384.24 2119.84,1384.24 2127.17,1384.24 2134.5,1384.24 2141.84,1384.24 2149.17,1384.24 \n  2156.5,1384.24 2163.83,1384.24 2171.16,1384.24 2178.49,1384.24 2185.82,1384.24 2193.15,1384.24 2200.49,1384.24 2207.82,1384.24 2215.15,1384.24 2222.48,1384.24 \n  2229.81,1384.24 2237.14,1384.24 2244.47,1384.24 2251.8,1384.24 2259.14,1384.24 2266.47,1384.24 2273.8,1384.24 2281.13,1384.24 2288.46,1384.24 2295.79,1384.24 \n  \n  \"/>\n<polyline clip-path=\"url(#clip002)\" style=\"stroke:#ed5d92; stroke-linecap:butt; stroke-linejoin:round; stroke-width:4; stroke-opacity:1; fill:none\" points=\"\n  396.992,1304.96 404.323,1303.83 411.654,1303.83 418.985,1302.69 426.317,1300.43 433.648,1260.82 440.979,1260.82 448.311,1222.32 455.642,1218.92 462.973,1177.02 \n  470.304,1132.85 477.636,1090.95 484.967,975.422 492.298,970.894 499.63,890.449 506.961,735.251 514.292,696.774 521.623,735.112 528.955,658.096 536.286,542.604 \n  543.617,582.243 550.948,542.567 558.28,504.091 565.611,465.613 572.942,504.089 580.274,504.056 587.605,542.528 594.936,542.528 602.267,542.526 609.599,542.426 \n  616.93,506.182 624.261,506.182 631.592,506.182 638.924,544.657 646.255,584.264 653.586,584.264 660.918,584.264 668.249,584.264 675.58,584.264 682.911,623.87 \n  690.243,623.87 697.574,623.872 704.905,623.872 712.236,623.94 719.568,623.941 726.899,623.976 734.23,625.141 741.562,626.272 748.893,626.272 756.224,626.307 \n  763.555,626.307 770.887,626.307 778.218,626.308 785.549,665.915 792.881,665.915 800.212,665.915 807.543,665.916 814.874,665.916 822.206,665.916 829.537,665.916 \n  836.868,665.949 844.199,668.212 851.531,668.213 858.862,668.213 866.193,668.213 873.525,668.213 880.856,668.214 888.187,668.214 895.518,706.689 902.85,706.689 \n  910.181,706.689 917.512,706.722 924.843,706.722 932.175,745.197 939.506,745.197 946.837,745.198 954.169,745.198 961.5,745.198 968.831,745.198 976.162,746.33 \n  983.494,747.461 990.825,785.936 998.156,785.936 1005.49,824.444 1012.82,824.444 1020.15,824.444 1027.48,825.576 1034.81,825.576 1042.14,825.576 1049.48,864.05 \n  1056.81,864.051 1064.14,941.001 1071.47,941.001 1078.8,941.001 1086.13,941.068 1093.46,941.102 1100.79,941.136 1108.13,941.136 1115.46,979.61 1122.79,1018.09 \n  1130.12,1056.56 1137.45,1056.56 1144.78,1095.03 1152.11,1095.03 1159.44,1095.03 1166.78,1095.03 1174.11,1095.03 1181.44,1096.17 1188.77,1096.17 1196.1,1096.2 \n  1203.43,1134.67 1210.76,1135.81 1218.09,1136.94 1225.43,1136.94 1232.76,1138.07 1240.09,1138.07 1247.42,1138.07 1254.75,1138.07 1262.08,1138.07 1269.41,1138.07 \n  1276.74,1139.2 1284.08,1139.23 1291.41,1139.23 1298.74,1140.37 1306.07,1140.37 1313.4,1140.37 1320.73,1178.88 1328.06,1178.88 1335.39,1180.01 1342.73,1180.07 \n  1350.06,1180.07 1357.39,1180.11 1364.72,1180.11 1372.05,1180.11 1379.38,1180.11 1386.71,1180.11 1394.05,1180.11 1401.38,1180.11 1408.71,1180.11 1416.04,1180.14 \n  1423.37,1180.14 1430.7,1180.14 1438.03,1180.14 1445.36,1181.27 1452.7,1181.27 1460.03,1181.31 1467.36,1181.31 1474.69,1182.47 1482.02,1182.47 1489.35,1182.47 \n  1496.68,1182.47 1504.01,1182.47 1511.35,1182.47 1518.68,1220.95 1526.01,1220.95 1533.34,1220.95 1540.67,1220.95 1548,1220.95 1555.33,1220.95 1562.66,1220.95 \n  1570,1220.95 1577.33,1220.95 1584.66,1220.95 1591.99,1220.95 1599.32,1220.95 1606.65,1220.95 1613.98,1220.95 1621.31,1220.95 1628.65,1220.95 1635.98,1220.95 \n  1643.31,1220.95 1650.64,1220.95 1657.97,1220.95 1665.3,1220.95 1672.63,1222.08 1679.96,1222.08 1687.3,1222.08 1694.63,1222.08 1701.96,1222.08 1709.29,1222.08 \n  1716.62,1222.08 1723.95,1222.08 1731.28,1222.11 1738.61,1222.11 1745.95,1223.25 1753.28,1223.25 1760.61,1223.25 1767.94,1223.25 1775.27,1223.25 1782.6,1223.25 \n  1789.93,1223.25 1797.27,1223.25 1804.6,1223.25 1811.93,1223.28 1819.26,1261.75 1826.59,1261.75 1833.92,1261.75 1841.25,1261.75 1848.58,1262.92 1855.92,1262.92 \n  1863.25,1262.92 1870.58,1262.92 1877.91,1262.92 1885.24,1262.92 1892.57,1262.92 1899.9,1262.92 1907.23,1262.92 1914.57,1262.92 1921.9,1262.92 1929.23,1262.92 \n  1936.56,1262.92 1943.89,1262.92 1951.22,1262.92 1958.55,1262.92 1965.88,1262.92 1973.22,1262.92 1980.55,1262.92 1987.88,1262.92 1995.21,1262.92 2002.54,1262.92 \n  2009.87,1262.92 2017.2,1262.92 2024.53,1262.92 2031.87,1262.92 2039.2,1262.95 2046.53,1262.95 2053.86,1262.95 2061.19,1264.08 2068.52,1264.08 2075.85,1264.08 \n  2083.18,1302.56 2090.52,1302.56 2097.85,1302.56 2105.18,1341.03 2112.51,1341.03 2119.84,1341.03 2127.17,1341.03 2134.5,1341.03 2141.84,1341.03 2149.17,1341.07 \n  2156.5,1341.07 2163.83,1341.07 2171.16,1341.07 2178.49,1341.07 2185.82,1341.07 2193.15,1341.07 2200.49,1341.07 2207.82,1341.07 2215.15,1341.07 2222.48,1341.07 \n  2229.81,1341.07 2237.14,1341.07 2244.47,1341.07 2251.8,1341.07 2259.14,1341.07 2266.47,1341.07 2273.8,1341.07 2281.13,1341.07 2288.46,1341.07 2295.79,1341.07 \n  \n  \"/>\n<path clip-path=\"url(#clip000)\" d=\"\nM1992.1 507.829 L2285.66 507.829 L2285.66 93.1086 L1992.1 93.1086  Z\n  \" fill=\"#ffffff\" fill-rule=\"evenodd\" fill-opacity=\"1\"/>\n<polyline clip-path=\"url(#clip000)\" style=\"stroke:#000000; stroke-linecap:butt; stroke-linejoin:round; stroke-width:4; stroke-opacity:1; fill:none\" points=\"\n  1992.1,507.829 2285.66,507.829 2285.66,93.1086 1992.1,93.1086 1992.1,507.829 \n  \"/>\n<polyline clip-path=\"url(#clip000)\" style=\"stroke:#009af9; stroke-linecap:butt; stroke-linejoin:round; stroke-width:4; stroke-opacity:1; fill:none\" points=\"\n  2014.46,144.949 2148.64,144.949 \n  \"/>\n<path clip-path=\"url(#clip000)\" d=\"M2171.68 158.293 L2179.32 158.293 L2179.32 131.928 L2171.01 133.595 L2171.01 129.335 L2179.27 127.669 L2183.95 127.669 L2183.95 158.293 L2191.59 158.293 L2191.59 162.229 L2171.68 162.229 L2171.68 158.293 Z\" fill=\"#000000\" fill-rule=\"evenodd\" fill-opacity=\"1\" /><path clip-path=\"url(#clip000)\" d=\"M2201.03 156.349 L2205.91 156.349 L2205.91 162.229 L2201.03 162.229 L2201.03 156.349 Z\" fill=\"#000000\" fill-rule=\"evenodd\" fill-opacity=\"1\" /><path clip-path=\"url(#clip000)\" d=\"M2226.1 130.747 Q2222.49 130.747 2220.66 134.312 Q2218.85 137.854 2218.85 144.983 Q2218.85 152.09 2220.66 155.655 Q2222.49 159.196 2226.1 159.196 Q2229.73 159.196 2231.54 155.655 Q2233.37 152.09 2233.37 144.983 Q2233.37 137.854 2231.54 134.312 Q2229.73 130.747 2226.1 130.747 M2226.1 127.044 Q2231.91 127.044 2234.97 131.65 Q2238.04 136.233 2238.04 144.983 Q2238.04 153.71 2234.97 158.317 Q2231.91 162.9 2226.1 162.9 Q2220.29 162.9 2217.21 158.317 Q2214.16 153.71 2214.16 144.983 Q2214.16 136.233 2217.21 131.65 Q2220.29 127.044 2226.1 127.044 Z\" fill=\"#000000\" fill-rule=\"evenodd\" fill-opacity=\"1\" /><polyline clip-path=\"url(#clip000)\" style=\"stroke:#e26f46; stroke-linecap:butt; stroke-linejoin:round; stroke-width:4; stroke-opacity:1; fill:none\" points=\"\n  2014.46,196.789 2148.64,196.789 \n  \"/>\n<path clip-path=\"url(#clip000)\" d=\"M2171.68 210.133 L2179.32 210.133 L2179.32 183.768 L2171.01 185.435 L2171.01 181.175 L2179.27 179.509 L2183.95 179.509 L2183.95 210.133 L2191.59 210.133 L2191.59 214.069 L2171.68 214.069 L2171.68 210.133 Z\" fill=\"#000000\" fill-rule=\"evenodd\" fill-opacity=\"1\" /><path clip-path=\"url(#clip000)\" d=\"M2201.03 208.189 L2205.91 208.189 L2205.91 214.069 L2201.03 214.069 L2201.03 208.189 Z\" fill=\"#000000\" fill-rule=\"evenodd\" fill-opacity=\"1\" /><path clip-path=\"url(#clip000)\" d=\"M2226.1 182.587 Q2222.49 182.587 2220.66 186.152 Q2218.85 189.694 2218.85 196.823 Q2218.85 203.93 2220.66 207.495 Q2222.49 211.036 2226.1 211.036 Q2229.73 211.036 2231.54 207.495 Q2233.37 203.93 2233.37 196.823 Q2233.37 189.694 2231.54 186.152 Q2229.73 182.587 2226.1 182.587 M2226.1 178.884 Q2231.91 178.884 2234.97 183.49 Q2238.04 188.073 2238.04 196.823 Q2238.04 205.55 2234.97 210.157 Q2231.91 214.74 2226.1 214.74 Q2220.29 214.74 2217.21 210.157 Q2214.16 205.55 2214.16 196.823 Q2214.16 188.073 2217.21 183.49 Q2220.29 178.884 2226.1 178.884 Z\" fill=\"#000000\" fill-rule=\"evenodd\" fill-opacity=\"1\" /><polyline clip-path=\"url(#clip000)\" style=\"stroke:#3da44d; stroke-linecap:butt; stroke-linejoin:round; stroke-width:4; stroke-opacity:1; fill:none\" points=\"\n  2014.46,248.629 2148.64,248.629 \n  \"/>\n<path clip-path=\"url(#clip000)\" d=\"M2171.68 261.973 L2179.32 261.973 L2179.32 235.608 L2171.01 237.275 L2171.01 233.015 L2179.27 231.349 L2183.95 231.349 L2183.95 261.973 L2191.59 261.973 L2191.59 265.909 L2171.68 265.909 L2171.68 261.973 Z\" fill=\"#000000\" fill-rule=\"evenodd\" fill-opacity=\"1\" /><path clip-path=\"url(#clip000)\" d=\"M2201.03 260.029 L2205.91 260.029 L2205.91 265.909 L2201.03 265.909 L2201.03 260.029 Z\" fill=\"#000000\" fill-rule=\"evenodd\" fill-opacity=\"1\" /><path clip-path=\"url(#clip000)\" d=\"M2226.1 234.427 Q2222.49 234.427 2220.66 237.992 Q2218.85 241.534 2218.85 248.663 Q2218.85 255.77 2220.66 259.335 Q2222.49 262.876 2226.1 262.876 Q2229.73 262.876 2231.54 259.335 Q2233.37 255.77 2233.37 248.663 Q2233.37 241.534 2231.54 237.992 Q2229.73 234.427 2226.1 234.427 M2226.1 230.724 Q2231.91 230.724 2234.97 235.33 Q2238.04 239.913 2238.04 248.663 Q2238.04 257.39 2234.97 261.997 Q2231.91 266.58 2226.1 266.58 Q2220.29 266.58 2217.21 261.997 Q2214.16 257.39 2214.16 248.663 Q2214.16 239.913 2217.21 235.33 Q2220.29 230.724 2226.1 230.724 Z\" fill=\"#000000\" fill-rule=\"evenodd\" fill-opacity=\"1\" /><polyline clip-path=\"url(#clip000)\" style=\"stroke:#c271d2; stroke-linecap:butt; stroke-linejoin:round; stroke-width:4; stroke-opacity:1; fill:none\" points=\"\n  2014.46,300.469 2148.64,300.469 \n  \"/>\n<path clip-path=\"url(#clip000)\" d=\"M2186.61 287.263 L2174.8 305.712 L2186.61 305.712 L2186.61 287.263 M2185.38 283.189 L2191.26 283.189 L2191.26 305.712 L2196.19 305.712 L2196.19 309.601 L2191.26 309.601 L2191.26 317.749 L2186.61 317.749 L2186.61 309.601 L2171.01 309.601 L2171.01 305.087 L2185.38 283.189 Z\" fill=\"#000000\" fill-rule=\"evenodd\" fill-opacity=\"1\" /><path clip-path=\"url(#clip000)\" d=\"M2203.92 311.869 L2208.81 311.869 L2208.81 317.749 L2203.92 317.749 L2203.92 311.869 Z\" fill=\"#000000\" fill-rule=\"evenodd\" fill-opacity=\"1\" /><path clip-path=\"url(#clip000)\" d=\"M2228.99 286.267 Q2225.38 286.267 2223.55 289.832 Q2221.75 293.374 2221.75 300.503 Q2221.75 307.61 2223.55 311.175 Q2225.38 314.716 2228.99 314.716 Q2232.63 314.716 2234.43 311.175 Q2236.26 307.61 2236.26 300.503 Q2236.26 293.374 2234.43 289.832 Q2232.63 286.267 2228.99 286.267 M2228.99 282.564 Q2234.8 282.564 2237.86 287.17 Q2240.94 291.753 2240.94 300.503 Q2240.94 309.23 2237.86 313.837 Q2234.8 318.42 2228.99 318.42 Q2223.18 318.42 2220.1 313.837 Q2217.05 309.23 2217.05 300.503 Q2217.05 291.753 2220.1 287.17 Q2223.18 282.564 2228.99 282.564 Z\" fill=\"#000000\" fill-rule=\"evenodd\" fill-opacity=\"1\" /><polyline clip-path=\"url(#clip000)\" style=\"stroke:#ac8d18; stroke-linecap:butt; stroke-linejoin:round; stroke-width:4; stroke-opacity:1; fill:none\" points=\"\n  2014.46,352.309 2148.64,352.309 \n  \"/>\n<path clip-path=\"url(#clip000)\" d=\"M2186.61 339.103 L2174.8 357.552 L2186.61 357.552 L2186.61 339.103 M2185.38 335.029 L2191.26 335.029 L2191.26 357.552 L2196.19 357.552 L2196.19 361.441 L2191.26 361.441 L2191.26 369.589 L2186.61 369.589 L2186.61 361.441 L2171.01 361.441 L2171.01 356.927 L2185.38 335.029 Z\" fill=\"#000000\" fill-rule=\"evenodd\" fill-opacity=\"1\" /><path clip-path=\"url(#clip000)\" d=\"M2203.92 363.709 L2208.81 363.709 L2208.81 369.589 L2203.92 369.589 L2203.92 363.709 Z\" fill=\"#000000\" fill-rule=\"evenodd\" fill-opacity=\"1\" /><path clip-path=\"url(#clip000)\" d=\"M2228.99 338.107 Q2225.38 338.107 2223.55 341.672 Q2221.75 345.214 2221.75 352.343 Q2221.75 359.45 2223.55 363.015 Q2225.38 366.556 2228.99 366.556 Q2232.63 366.556 2234.43 363.015 Q2236.26 359.45 2236.26 352.343 Q2236.26 345.214 2234.43 341.672 Q2232.63 338.107 2228.99 338.107 M2228.99 334.404 Q2234.8 334.404 2237.86 339.01 Q2240.94 343.593 2240.94 352.343 Q2240.94 361.07 2237.86 365.677 Q2234.8 370.26 2228.99 370.26 Q2223.18 370.26 2220.1 365.677 Q2217.05 361.07 2217.05 352.343 Q2217.05 343.593 2220.1 339.01 Q2223.18 334.404 2228.99 334.404 Z\" fill=\"#000000\" fill-rule=\"evenodd\" fill-opacity=\"1\" /><polyline clip-path=\"url(#clip000)\" style=\"stroke:#00a9ad; stroke-linecap:butt; stroke-linejoin:round; stroke-width:4; stroke-opacity:1; fill:none\" points=\"\n  2014.46,404.149 2148.64,404.149 \n  \"/>\n<path clip-path=\"url(#clip000)\" d=\"M2182.95 389.947 Q2179.34 389.947 2177.51 393.512 Q2175.71 397.054 2175.71 404.183 Q2175.71 411.29 2177.51 414.855 Q2179.34 418.396 2182.95 418.396 Q2186.59 418.396 2188.39 414.855 Q2190.22 411.29 2190.22 404.183 Q2190.22 397.054 2188.39 393.512 Q2186.59 389.947 2182.95 389.947 M2182.95 386.244 Q2188.76 386.244 2191.82 390.85 Q2194.9 395.433 2194.9 404.183 Q2194.9 412.91 2191.82 417.517 Q2188.76 422.1 2182.95 422.1 Q2177.14 422.1 2174.06 417.517 Q2171.01 412.91 2171.01 404.183 Q2171.01 395.433 2174.06 390.85 Q2177.14 386.244 2182.95 386.244 Z\" fill=\"#000000\" fill-rule=\"evenodd\" fill-opacity=\"1\" /><path clip-path=\"url(#clip000)\" d=\"M2203.11 415.549 L2208 415.549 L2208 421.429 L2203.11 421.429 L2203.11 415.549 Z\" fill=\"#000000\" fill-rule=\"evenodd\" fill-opacity=\"1\" /><path clip-path=\"url(#clip000)\" d=\"M2218.23 386.869 L2236.59 386.869 L2236.59 390.804 L2222.51 390.804 L2222.51 399.276 Q2223.53 398.929 2224.55 398.767 Q2225.57 398.582 2226.59 398.582 Q2232.37 398.582 2235.75 401.753 Q2239.13 404.924 2239.13 410.341 Q2239.13 415.919 2235.66 419.021 Q2232.19 422.1 2225.87 422.1 Q2223.69 422.1 2221.42 421.73 Q2219.18 421.359 2216.77 420.618 L2216.77 415.919 Q2218.85 417.054 2221.08 417.609 Q2223.3 418.165 2225.78 418.165 Q2229.78 418.165 2232.12 416.058 Q2234.46 413.952 2234.46 410.341 Q2234.46 406.73 2232.12 404.623 Q2229.78 402.517 2225.78 402.517 Q2223.9 402.517 2222.03 402.933 Q2220.17 403.35 2218.23 404.23 L2218.23 386.869 Z\" fill=\"#000000\" fill-rule=\"evenodd\" fill-opacity=\"1\" /><polyline clip-path=\"url(#clip000)\" style=\"stroke:#ed5d92; stroke-linecap:butt; stroke-linejoin:round; stroke-width:4; stroke-opacity:1; fill:none\" points=\"\n  2014.46,455.989 2148.64,455.989 \n  \"/>\n<path clip-path=\"url(#clip000)\" d=\"M2182.95 441.787 Q2179.34 441.787 2177.51 445.352 Q2175.71 448.894 2175.71 456.023 Q2175.71 463.13 2177.51 466.695 Q2179.34 470.236 2182.95 470.236 Q2186.59 470.236 2188.39 466.695 Q2190.22 463.13 2190.22 456.023 Q2190.22 448.894 2188.39 445.352 Q2186.59 441.787 2182.95 441.787 M2182.95 438.084 Q2188.76 438.084 2191.82 442.69 Q2194.9 447.273 2194.9 456.023 Q2194.9 464.75 2191.82 469.357 Q2188.76 473.94 2182.95 473.94 Q2177.14 473.94 2174.06 469.357 Q2171.01 464.75 2171.01 456.023 Q2171.01 447.273 2174.06 442.69 Q2177.14 438.084 2182.95 438.084 Z\" fill=\"#000000\" fill-rule=\"evenodd\" fill-opacity=\"1\" /><path clip-path=\"url(#clip000)\" d=\"M2203.11 467.389 L2208 467.389 L2208 473.269 L2203.11 473.269 L2203.11 467.389 Z\" fill=\"#000000\" fill-rule=\"evenodd\" fill-opacity=\"1\" /><path clip-path=\"url(#clip000)\" d=\"M2218.23 438.709 L2236.59 438.709 L2236.59 442.644 L2222.51 442.644 L2222.51 451.116 Q2223.53 450.769 2224.55 450.607 Q2225.57 450.422 2226.59 450.422 Q2232.37 450.422 2235.75 453.593 Q2239.13 456.764 2239.13 462.181 Q2239.13 467.759 2235.66 470.861 Q2232.19 473.94 2225.87 473.94 Q2223.69 473.94 2221.42 473.57 Q2219.18 473.199 2216.77 472.458 L2216.77 467.759 Q2218.85 468.894 2221.08 469.449 Q2223.3 470.005 2225.78 470.005 Q2229.78 470.005 2232.12 467.898 Q2234.46 465.792 2234.46 462.181 Q2234.46 458.57 2232.12 456.463 Q2229.78 454.357 2225.78 454.357 Q2223.9 454.357 2222.03 454.773 Q2220.17 455.19 2218.23 456.07 L2218.23 438.709 Z\" fill=\"#000000\" fill-rule=\"evenodd\" fill-opacity=\"1\" /></svg>\n"
     },
     "execution_count": 21,
     "metadata": {},
     "output_type": "execute_result"
    }
   ],
   "source": [
    "# Equivalent experiment as for Question 6 script 2\n",
    "\n",
    "# Script launching predictions on different diseases on karat7 and printing \n",
    "# the precentage of infected at each time step.\n",
    "karat7 = smallgraph(:karate)\n",
    "\n",
    "betas=[0.05,0.1,0.01,0.4,0.04,0.05,0.005]\n",
    "alphas=[0.05,0.1,0.01,0.1,0.01,0.1,0.01]\n",
    "\n",
    "# The original code is commented out because only 60 time steps are needed \n",
    "# for the sim to stabilize itself.\n",
    "\n",
    "# predictions, taus = Simulation_SIS(karat7,2,betas,alphas,1000,1000)\n",
    "predictions, taus = Simulation_SIR(karat7,2,betas,alphas,60,1000)\n",
    "\n",
    "Plots.plot(predictions[:,:,1], label=taus',xlabel=\"Time\",ylabel=\"Avg % of infected\")\n",
    "savefig(\"out/karat7_predictions_SIR.png\") # comment this line if you want to see the plot"
   ]
  },
  {
   "cell_type": "code",
   "execution_count": 19,
   "metadata": {},
   "outputs": [
    {
     "data": {
      "image/svg+xml": "<?xml version=\"1.0\" encoding=\"utf-8\"?>\n<svg xmlns=\"http://www.w3.org/2000/svg\" xmlns:xlink=\"http://www.w3.org/1999/xlink\" width=\"600\" height=\"400\" viewBox=\"0 0 2400 1600\">\n<defs>\n  <clipPath id=\"clip920\">\n    <rect x=\"0\" y=\"0\" width=\"2400\" height=\"1600\"/>\n  </clipPath>\n</defs>\n<path clip-path=\"url(#clip920)\" d=\"\nM0 1600 L2400 1600 L2400 0 L0 0  Z\n  \" fill=\"#ffffff\" fill-rule=\"evenodd\" fill-opacity=\"1\"/>\n<defs>\n  <clipPath id=\"clip921\">\n    <rect x=\"480\" y=\"0\" width=\"1681\" height=\"1600\"/>\n  </clipPath>\n</defs>\n<path clip-path=\"url(#clip920)\" d=\"\nM280.19 1423.18 L2352.76 1423.18 L2352.76 47.2441 L280.19 47.2441  Z\n  \" fill=\"#ffffff\" fill-rule=\"evenodd\" fill-opacity=\"1\"/>\n<defs>\n  <clipPath id=\"clip922\">\n    <rect x=\"280\" y=\"47\" width=\"2074\" height=\"1377\"/>\n  </clipPath>\n</defs>\n<polyline clip-path=\"url(#clip922)\" style=\"stroke:#000000; stroke-linecap:butt; stroke-linejoin:round; stroke-width:2; stroke-opacity:0.1; fill:none\" points=\"\n  319.098,1423.18 319.098,47.2441 \n  \"/>\n<polyline clip-path=\"url(#clip922)\" style=\"stroke:#000000; stroke-linecap:butt; stroke-linejoin:round; stroke-width:2; stroke-opacity:0.1; fill:none\" points=\"\n  812.848,1423.18 812.848,47.2441 \n  \"/>\n<polyline clip-path=\"url(#clip922)\" style=\"stroke:#000000; stroke-linecap:butt; stroke-linejoin:round; stroke-width:2; stroke-opacity:0.1; fill:none\" points=\"\n  1306.6,1423.18 1306.6,47.2441 \n  \"/>\n<polyline clip-path=\"url(#clip922)\" style=\"stroke:#000000; stroke-linecap:butt; stroke-linejoin:round; stroke-width:2; stroke-opacity:0.1; fill:none\" points=\"\n  1800.35,1423.18 1800.35,47.2441 \n  \"/>\n<polyline clip-path=\"url(#clip922)\" style=\"stroke:#000000; stroke-linecap:butt; stroke-linejoin:round; stroke-width:2; stroke-opacity:0.1; fill:none\" points=\"\n  2294.1,1423.18 2294.1,47.2441 \n  \"/>\n<polyline clip-path=\"url(#clip920)\" style=\"stroke:#000000; stroke-linecap:butt; stroke-linejoin:round; stroke-width:4; stroke-opacity:1; fill:none\" points=\"\n  280.19,1423.18 2352.76,1423.18 \n  \"/>\n<polyline clip-path=\"url(#clip920)\" style=\"stroke:#000000; stroke-linecap:butt; stroke-linejoin:round; stroke-width:4; stroke-opacity:1; fill:none\" points=\"\n  319.098,1423.18 319.098,1404.28 \n  \"/>\n<polyline clip-path=\"url(#clip920)\" style=\"stroke:#000000; stroke-linecap:butt; stroke-linejoin:round; stroke-width:4; stroke-opacity:1; fill:none\" points=\"\n  812.848,1423.18 812.848,1404.28 \n  \"/>\n<polyline clip-path=\"url(#clip920)\" style=\"stroke:#000000; stroke-linecap:butt; stroke-linejoin:round; stroke-width:4; stroke-opacity:1; fill:none\" points=\"\n  1306.6,1423.18 1306.6,1404.28 \n  \"/>\n<polyline clip-path=\"url(#clip920)\" style=\"stroke:#000000; stroke-linecap:butt; stroke-linejoin:round; stroke-width:4; stroke-opacity:1; fill:none\" points=\"\n  1800.35,1423.18 1800.35,1404.28 \n  \"/>\n<polyline clip-path=\"url(#clip920)\" style=\"stroke:#000000; stroke-linecap:butt; stroke-linejoin:round; stroke-width:4; stroke-opacity:1; fill:none\" points=\"\n  2294.1,1423.18 2294.1,1404.28 \n  \"/>\n<path clip-path=\"url(#clip920)\" d=\"M319.098 1454.1 Q315.486 1454.1 313.658 1457.66 Q311.852 1461.2 311.852 1468.33 Q311.852 1475.44 313.658 1479.01 Q315.486 1482.55 319.098 1482.55 Q322.732 1482.55 324.537 1479.01 Q326.366 1475.44 326.366 1468.33 Q326.366 1461.2 324.537 1457.66 Q322.732 1454.1 319.098 1454.1 M319.098 1450.39 Q324.908 1450.39 327.963 1455 Q331.042 1459.58 331.042 1468.33 Q331.042 1477.06 327.963 1481.67 Q324.908 1486.25 319.098 1486.25 Q313.287 1486.25 310.209 1481.67 Q307.153 1477.06 307.153 1468.33 Q307.153 1459.58 310.209 1455 Q313.287 1450.39 319.098 1450.39 Z\" fill=\"#000000\" fill-rule=\"evenodd\" fill-opacity=\"1\" /><path clip-path=\"url(#clip920)\" d=\"M792.119 1481.64 L808.438 1481.64 L808.438 1485.58 L786.494 1485.58 L786.494 1481.64 Q789.156 1478.89 793.739 1474.26 Q798.346 1469.61 799.526 1468.27 Q801.771 1465.74 802.651 1464.01 Q803.554 1462.25 803.554 1460.56 Q803.554 1457.8 801.609 1456.07 Q799.688 1454.33 796.586 1454.33 Q794.387 1454.33 791.934 1455.09 Q789.503 1455.86 786.725 1457.41 L786.725 1452.69 Q789.549 1451.55 792.003 1450.97 Q794.457 1450.39 796.494 1450.39 Q801.864 1450.39 805.058 1453.08 Q808.253 1455.77 808.253 1460.26 Q808.253 1462.39 807.443 1464.31 Q806.656 1466.2 804.549 1468.8 Q803.97 1469.47 800.869 1472.69 Q797.767 1475.88 792.119 1481.64 Z\" fill=\"#000000\" fill-rule=\"evenodd\" fill-opacity=\"1\" /><path clip-path=\"url(#clip920)\" d=\"M818.299 1451.02 L836.655 1451.02 L836.655 1454.96 L822.581 1454.96 L822.581 1463.43 Q823.6 1463.08 824.619 1462.92 Q825.637 1462.73 826.656 1462.73 Q832.443 1462.73 835.822 1465.9 Q839.202 1469.08 839.202 1474.49 Q839.202 1480.07 835.73 1483.17 Q832.257 1486.25 825.938 1486.25 Q823.762 1486.25 821.494 1485.88 Q819.248 1485.51 816.841 1484.77 L816.841 1480.07 Q818.924 1481.2 821.146 1481.76 Q823.369 1482.32 825.845 1482.32 Q829.85 1482.32 832.188 1480.21 Q834.526 1478.1 834.526 1474.49 Q834.526 1470.88 832.188 1468.77 Q829.85 1466.67 825.845 1466.67 Q823.97 1466.67 822.095 1467.08 Q820.244 1467.5 818.299 1468.38 L818.299 1451.02 Z\" fill=\"#000000\" fill-rule=\"evenodd\" fill-opacity=\"1\" /><path clip-path=\"url(#clip920)\" d=\"M1281.3 1451.02 L1299.65 1451.02 L1299.65 1454.96 L1285.58 1454.96 L1285.58 1463.43 Q1286.6 1463.08 1287.62 1462.92 Q1288.64 1462.73 1289.65 1462.73 Q1295.44 1462.73 1298.82 1465.9 Q1302.2 1469.08 1302.2 1474.49 Q1302.2 1480.07 1298.73 1483.17 Q1295.26 1486.25 1288.94 1486.25 Q1286.76 1486.25 1284.49 1485.88 Q1282.25 1485.51 1279.84 1484.77 L1279.84 1480.07 Q1281.92 1481.2 1284.14 1481.76 Q1286.37 1482.32 1288.84 1482.32 Q1292.85 1482.32 1295.19 1480.21 Q1297.52 1478.1 1297.52 1474.49 Q1297.52 1470.88 1295.19 1468.77 Q1292.85 1466.67 1288.84 1466.67 Q1286.97 1466.67 1285.09 1467.08 Q1283.24 1467.5 1281.3 1468.38 L1281.3 1451.02 Z\" fill=\"#000000\" fill-rule=\"evenodd\" fill-opacity=\"1\" /><path clip-path=\"url(#clip920)\" d=\"M1321.41 1454.1 Q1317.8 1454.1 1315.97 1457.66 Q1314.17 1461.2 1314.17 1468.33 Q1314.17 1475.44 1315.97 1479.01 Q1317.8 1482.55 1321.41 1482.55 Q1325.05 1482.55 1326.85 1479.01 Q1328.68 1475.44 1328.68 1468.33 Q1328.68 1461.2 1326.85 1457.66 Q1325.05 1454.1 1321.41 1454.1 M1321.41 1450.39 Q1327.22 1450.39 1330.28 1455 Q1333.36 1459.58 1333.36 1468.33 Q1333.36 1477.06 1330.28 1481.67 Q1327.22 1486.25 1321.41 1486.25 Q1315.6 1486.25 1312.52 1481.67 Q1309.47 1477.06 1309.47 1468.33 Q1309.47 1459.58 1312.52 1455 Q1315.6 1450.39 1321.41 1450.39 Z\" fill=\"#000000\" fill-rule=\"evenodd\" fill-opacity=\"1\" /><path clip-path=\"url(#clip920)\" d=\"M1774.2 1451.02 L1796.42 1451.02 L1796.42 1453.01 L1783.88 1485.58 L1778.99 1485.58 L1790.8 1454.96 L1774.2 1454.96 L1774.2 1451.02 Z\" fill=\"#000000\" fill-rule=\"evenodd\" fill-opacity=\"1\" /><path clip-path=\"url(#clip920)\" d=\"M1805.59 1451.02 L1823.95 1451.02 L1823.95 1454.96 L1809.87 1454.96 L1809.87 1463.43 Q1810.89 1463.08 1811.91 1462.92 Q1812.93 1462.73 1813.95 1462.73 Q1819.73 1462.73 1823.11 1465.9 Q1826.49 1469.08 1826.49 1474.49 Q1826.49 1480.07 1823.02 1483.17 Q1819.55 1486.25 1813.23 1486.25 Q1811.05 1486.25 1808.79 1485.88 Q1806.54 1485.51 1804.13 1484.77 L1804.13 1480.07 Q1806.22 1481.2 1808.44 1481.76 Q1810.66 1482.32 1813.14 1482.32 Q1817.14 1482.32 1819.48 1480.21 Q1821.82 1478.1 1821.82 1474.49 Q1821.82 1470.88 1819.48 1468.77 Q1817.14 1466.67 1813.14 1466.67 Q1811.26 1466.67 1809.39 1467.08 Q1807.54 1467.5 1805.59 1468.38 L1805.59 1451.02 Z\" fill=\"#000000\" fill-rule=\"evenodd\" fill-opacity=\"1\" /><path clip-path=\"url(#clip920)\" d=\"M2253.71 1481.64 L2261.34 1481.64 L2261.34 1455.28 L2253.03 1456.95 L2253.03 1452.69 L2261.3 1451.02 L2265.97 1451.02 L2265.97 1481.64 L2273.61 1481.64 L2273.61 1485.58 L2253.71 1485.58 L2253.71 1481.64 Z\" fill=\"#000000\" fill-rule=\"evenodd\" fill-opacity=\"1\" /><path clip-path=\"url(#clip920)\" d=\"M2293.06 1454.1 Q2289.45 1454.1 2287.62 1457.66 Q2285.81 1461.2 2285.81 1468.33 Q2285.81 1475.44 2287.62 1479.01 Q2289.45 1482.55 2293.06 1482.55 Q2296.69 1482.55 2298.5 1479.01 Q2300.33 1475.44 2300.33 1468.33 Q2300.33 1461.2 2298.5 1457.66 Q2296.69 1454.1 2293.06 1454.1 M2293.06 1450.39 Q2298.87 1450.39 2301.92 1455 Q2305 1459.58 2305 1468.33 Q2305 1477.06 2301.92 1481.67 Q2298.87 1486.25 2293.06 1486.25 Q2287.25 1486.25 2284.17 1481.67 Q2281.11 1477.06 2281.11 1468.33 Q2281.11 1459.58 2284.17 1455 Q2287.25 1450.39 2293.06 1450.39 Z\" fill=\"#000000\" fill-rule=\"evenodd\" fill-opacity=\"1\" /><path clip-path=\"url(#clip920)\" d=\"M2323.22 1454.1 Q2319.61 1454.1 2317.78 1457.66 Q2315.97 1461.2 2315.97 1468.33 Q2315.97 1475.44 2317.78 1479.01 Q2319.61 1482.55 2323.22 1482.55 Q2326.85 1482.55 2328.66 1479.01 Q2330.49 1475.44 2330.49 1468.33 Q2330.49 1461.2 2328.66 1457.66 Q2326.85 1454.1 2323.22 1454.1 M2323.22 1450.39 Q2329.03 1450.39 2332.08 1455 Q2335.16 1459.58 2335.16 1468.33 Q2335.16 1477.06 2332.08 1481.67 Q2329.03 1486.25 2323.22 1486.25 Q2317.41 1486.25 2314.33 1481.67 Q2311.27 1477.06 2311.27 1468.33 Q2311.27 1459.58 2314.33 1455 Q2317.41 1450.39 2323.22 1450.39 Z\" fill=\"#000000\" fill-rule=\"evenodd\" fill-opacity=\"1\" /><path clip-path=\"url(#clip920)\" d=\"M1238.35 1520.52 L1278.55 1520.52 L1278.55 1525.93 L1261.68 1525.93 L1261.68 1568.04 L1255.22 1568.04 L1255.22 1525.93 L1238.35 1525.93 L1238.35 1520.52 Z\" fill=\"#000000\" fill-rule=\"evenodd\" fill-opacity=\"1\" /><path clip-path=\"url(#clip920)\" d=\"M1282.5 1532.4 L1288.35 1532.4 L1288.35 1568.04 L1282.5 1568.04 L1282.5 1532.4 M1282.5 1518.52 L1288.35 1518.52 L1288.35 1525.93 L1282.5 1525.93 L1282.5 1518.52 Z\" fill=\"#000000\" fill-rule=\"evenodd\" fill-opacity=\"1\" /><path clip-path=\"url(#clip920)\" d=\"M1328.36 1539.24 Q1330.56 1535.29 1333.61 1533.41 Q1336.67 1531.54 1340.81 1531.54 Q1346.38 1531.54 1349.4 1535.45 Q1352.42 1539.33 1352.42 1546.53 L1352.42 1568.04 L1346.54 1568.04 L1346.54 1546.72 Q1346.54 1541.59 1344.72 1539.11 Q1342.91 1536.63 1339.18 1536.63 Q1334.63 1536.63 1331.99 1539.65 Q1329.35 1542.68 1329.35 1547.9 L1329.35 1568.04 L1323.46 1568.04 L1323.46 1546.72 Q1323.46 1541.56 1321.65 1539.11 Q1319.83 1536.63 1316.04 1536.63 Q1311.56 1536.63 1308.91 1539.68 Q1306.27 1542.71 1306.27 1547.9 L1306.27 1568.04 L1300.38 1568.04 L1300.38 1532.4 L1306.27 1532.4 L1306.27 1537.93 Q1308.28 1534.66 1311.08 1533.1 Q1313.88 1531.54 1317.73 1531.54 Q1321.61 1531.54 1324.32 1533.51 Q1327.06 1535.48 1328.36 1539.24 Z\" fill=\"#000000\" fill-rule=\"evenodd\" fill-opacity=\"1\" /><path clip-path=\"url(#clip920)\" d=\"M1394.6 1548.76 L1394.6 1551.62 L1367.67 1551.62 Q1368.05 1557.67 1371.3 1560.85 Q1374.58 1564 1380.4 1564 Q1383.77 1564 1386.93 1563.17 Q1390.11 1562.35 1393.23 1560.69 L1393.23 1566.23 Q1390.08 1567.57 1386.77 1568.27 Q1383.46 1568.97 1380.05 1568.97 Q1371.52 1568.97 1366.52 1564 Q1361.56 1559.04 1361.56 1550.57 Q1361.56 1541.82 1366.27 1536.69 Q1371.01 1531.54 1379.03 1531.54 Q1386.23 1531.54 1390.39 1536.18 Q1394.6 1540.8 1394.6 1548.76 M1388.74 1547.04 Q1388.68 1542.23 1386.03 1539.37 Q1383.42 1536.5 1379.1 1536.5 Q1374.19 1536.5 1371.23 1539.27 Q1368.31 1542.04 1367.86 1547.07 L1388.74 1547.04 Z\" fill=\"#000000\" fill-rule=\"evenodd\" fill-opacity=\"1\" /><polyline clip-path=\"url(#clip922)\" style=\"stroke:#000000; stroke-linecap:butt; stroke-linejoin:round; stroke-width:2; stroke-opacity:0.1; fill:none\" points=\"\n  280.19,1384.24 2352.76,1384.24 \n  \"/>\n<polyline clip-path=\"url(#clip922)\" style=\"stroke:#000000; stroke-linecap:butt; stroke-linejoin:round; stroke-width:2; stroke-opacity:0.1; fill:none\" points=\"\n  280.19,1123.34 2352.76,1123.34 \n  \"/>\n<polyline clip-path=\"url(#clip922)\" style=\"stroke:#000000; stroke-linecap:butt; stroke-linejoin:round; stroke-width:2; stroke-opacity:0.1; fill:none\" points=\"\n  280.19,862.433 2352.76,862.433 \n  \"/>\n<polyline clip-path=\"url(#clip922)\" style=\"stroke:#000000; stroke-linecap:butt; stroke-linejoin:round; stroke-width:2; stroke-opacity:0.1; fill:none\" points=\"\n  280.19,601.53 2352.76,601.53 \n  \"/>\n<polyline clip-path=\"url(#clip922)\" style=\"stroke:#000000; stroke-linecap:butt; stroke-linejoin:round; stroke-width:2; stroke-opacity:0.1; fill:none\" points=\"\n  280.19,340.627 2352.76,340.627 \n  \"/>\n<polyline clip-path=\"url(#clip922)\" style=\"stroke:#000000; stroke-linecap:butt; stroke-linejoin:round; stroke-width:2; stroke-opacity:0.1; fill:none\" points=\"\n  280.19,79.7244 2352.76,79.7244 \n  \"/>\n<polyline clip-path=\"url(#clip920)\" style=\"stroke:#000000; stroke-linecap:butt; stroke-linejoin:round; stroke-width:4; stroke-opacity:1; fill:none\" points=\"\n  280.19,1423.18 280.19,47.2441 \n  \"/>\n<polyline clip-path=\"url(#clip920)\" style=\"stroke:#000000; stroke-linecap:butt; stroke-linejoin:round; stroke-width:4; stroke-opacity:1; fill:none\" points=\"\n  280.19,1384.24 299.088,1384.24 \n  \"/>\n<polyline clip-path=\"url(#clip920)\" style=\"stroke:#000000; stroke-linecap:butt; stroke-linejoin:round; stroke-width:4; stroke-opacity:1; fill:none\" points=\"\n  280.19,1123.34 299.088,1123.34 \n  \"/>\n<polyline clip-path=\"url(#clip920)\" style=\"stroke:#000000; stroke-linecap:butt; stroke-linejoin:round; stroke-width:4; stroke-opacity:1; fill:none\" points=\"\n  280.19,862.433 299.088,862.433 \n  \"/>\n<polyline clip-path=\"url(#clip920)\" style=\"stroke:#000000; stroke-linecap:butt; stroke-linejoin:round; stroke-width:4; stroke-opacity:1; fill:none\" points=\"\n  280.19,601.53 299.088,601.53 \n  \"/>\n<polyline clip-path=\"url(#clip920)\" style=\"stroke:#000000; stroke-linecap:butt; stroke-linejoin:round; stroke-width:4; stroke-opacity:1; fill:none\" points=\"\n  280.19,340.627 299.088,340.627 \n  \"/>\n<polyline clip-path=\"url(#clip920)\" style=\"stroke:#000000; stroke-linecap:butt; stroke-linejoin:round; stroke-width:4; stroke-opacity:1; fill:none\" points=\"\n  280.19,79.7244 299.088,79.7244 \n  \"/>\n<path clip-path=\"url(#clip920)\" d=\"M126.691 1370.04 Q123.08 1370.04 121.251 1373.6 Q119.445 1377.14 119.445 1384.27 Q119.445 1391.38 121.251 1394.94 Q123.08 1398.49 126.691 1398.49 Q130.325 1398.49 132.13 1394.94 Q133.959 1391.38 133.959 1384.27 Q133.959 1377.14 132.13 1373.6 Q130.325 1370.04 126.691 1370.04 M126.691 1366.33 Q132.501 1366.33 135.556 1370.94 Q138.635 1375.52 138.635 1384.27 Q138.635 1393 135.556 1397.61 Q132.501 1402.19 126.691 1402.19 Q120.88 1402.19 117.802 1397.61 Q114.746 1393 114.746 1384.27 Q114.746 1375.52 117.802 1370.94 Q120.88 1366.33 126.691 1366.33 Z\" fill=\"#000000\" fill-rule=\"evenodd\" fill-opacity=\"1\" /><path clip-path=\"url(#clip920)\" d=\"M146.853 1395.64 L151.737 1395.64 L151.737 1401.52 L146.853 1401.52 L146.853 1395.64 Z\" fill=\"#000000\" fill-rule=\"evenodd\" fill-opacity=\"1\" /><path clip-path=\"url(#clip920)\" d=\"M171.922 1370.04 Q168.311 1370.04 166.482 1373.6 Q164.677 1377.14 164.677 1384.27 Q164.677 1391.38 166.482 1394.94 Q168.311 1398.49 171.922 1398.49 Q175.556 1398.49 177.362 1394.94 Q179.19 1391.38 179.19 1384.27 Q179.19 1377.14 177.362 1373.6 Q175.556 1370.04 171.922 1370.04 M171.922 1366.33 Q177.732 1366.33 180.788 1370.94 Q183.866 1375.52 183.866 1384.27 Q183.866 1393 180.788 1397.61 Q177.732 1402.19 171.922 1402.19 Q166.112 1402.19 163.033 1397.61 Q159.978 1393 159.978 1384.27 Q159.978 1375.52 163.033 1370.94 Q166.112 1366.33 171.922 1366.33 Z\" fill=\"#000000\" fill-rule=\"evenodd\" fill-opacity=\"1\" /><path clip-path=\"url(#clip920)\" d=\"M202.084 1370.04 Q198.473 1370.04 196.644 1373.6 Q194.838 1377.14 194.838 1384.27 Q194.838 1391.38 196.644 1394.94 Q198.473 1398.49 202.084 1398.49 Q205.718 1398.49 207.524 1394.94 Q209.352 1391.38 209.352 1384.27 Q209.352 1377.14 207.524 1373.6 Q205.718 1370.04 202.084 1370.04 M202.084 1366.33 Q207.894 1366.33 210.949 1370.94 Q214.028 1375.52 214.028 1384.27 Q214.028 1393 210.949 1397.61 Q207.894 1402.19 202.084 1402.19 Q196.274 1402.19 193.195 1397.61 Q190.139 1393 190.139 1384.27 Q190.139 1375.52 193.195 1370.94 Q196.274 1366.33 202.084 1366.33 Z\" fill=\"#000000\" fill-rule=\"evenodd\" fill-opacity=\"1\" /><path clip-path=\"url(#clip920)\" d=\"M232.246 1370.04 Q228.635 1370.04 226.806 1373.6 Q225 1377.14 225 1384.27 Q225 1391.38 226.806 1394.94 Q228.635 1398.49 232.246 1398.49 Q235.88 1398.49 237.685 1394.94 Q239.514 1391.38 239.514 1384.27 Q239.514 1377.14 237.685 1373.6 Q235.88 1370.04 232.246 1370.04 M232.246 1366.33 Q238.056 1366.33 241.111 1370.94 Q244.19 1375.52 244.19 1384.27 Q244.19 1393 241.111 1397.61 Q238.056 1402.19 232.246 1402.19 Q226.435 1402.19 223.357 1397.61 Q220.301 1393 220.301 1384.27 Q220.301 1375.52 223.357 1370.94 Q226.435 1366.33 232.246 1366.33 Z\" fill=\"#000000\" fill-rule=\"evenodd\" fill-opacity=\"1\" /><path clip-path=\"url(#clip920)\" d=\"M127.917 1109.13 Q124.306 1109.13 122.478 1112.7 Q120.672 1116.24 120.672 1123.37 Q120.672 1130.48 122.478 1134.04 Q124.306 1137.58 127.917 1137.58 Q131.552 1137.58 133.357 1134.04 Q135.186 1130.48 135.186 1123.37 Q135.186 1116.24 133.357 1112.7 Q131.552 1109.13 127.917 1109.13 M127.917 1105.43 Q133.728 1105.43 136.783 1110.04 Q139.862 1114.62 139.862 1123.37 Q139.862 1132.1 136.783 1136.7 Q133.728 1141.29 127.917 1141.29 Q122.107 1141.29 119.029 1136.7 Q115.973 1132.1 115.973 1123.37 Q115.973 1114.62 119.029 1110.04 Q122.107 1105.43 127.917 1105.43 Z\" fill=\"#000000\" fill-rule=\"evenodd\" fill-opacity=\"1\" /><path clip-path=\"url(#clip920)\" d=\"M148.079 1134.74 L152.964 1134.74 L152.964 1140.62 L148.079 1140.62 L148.079 1134.74 Z\" fill=\"#000000\" fill-rule=\"evenodd\" fill-opacity=\"1\" /><path clip-path=\"url(#clip920)\" d=\"M173.149 1109.13 Q169.538 1109.13 167.709 1112.7 Q165.903 1116.24 165.903 1123.37 Q165.903 1130.48 167.709 1134.04 Q169.538 1137.58 173.149 1137.58 Q176.783 1137.58 178.589 1134.04 Q180.417 1130.48 180.417 1123.37 Q180.417 1116.24 178.589 1112.7 Q176.783 1109.13 173.149 1109.13 M173.149 1105.43 Q178.959 1105.43 182.014 1110.04 Q185.093 1114.62 185.093 1123.37 Q185.093 1132.1 182.014 1136.7 Q178.959 1141.29 173.149 1141.29 Q167.339 1141.29 164.26 1136.7 Q161.204 1132.1 161.204 1123.37 Q161.204 1114.62 164.26 1110.04 Q167.339 1105.43 173.149 1105.43 Z\" fill=\"#000000\" fill-rule=\"evenodd\" fill-opacity=\"1\" /><path clip-path=\"url(#clip920)\" d=\"M203.311 1109.13 Q199.7 1109.13 197.871 1112.7 Q196.065 1116.24 196.065 1123.37 Q196.065 1130.48 197.871 1134.04 Q199.7 1137.58 203.311 1137.58 Q206.945 1137.58 208.75 1134.04 Q210.579 1130.48 210.579 1123.37 Q210.579 1116.24 208.75 1112.7 Q206.945 1109.13 203.311 1109.13 M203.311 1105.43 Q209.121 1105.43 212.176 1110.04 Q215.255 1114.62 215.255 1123.37 Q215.255 1132.1 212.176 1136.7 Q209.121 1141.29 203.311 1141.29 Q197.5 1141.29 194.422 1136.7 Q191.366 1132.1 191.366 1123.37 Q191.366 1114.62 194.422 1110.04 Q197.5 1105.43 203.311 1105.43 Z\" fill=\"#000000\" fill-rule=\"evenodd\" fill-opacity=\"1\" /><path clip-path=\"url(#clip920)\" d=\"M224.283 1136.68 L231.922 1136.68 L231.922 1110.31 L223.611 1111.98 L223.611 1107.72 L231.875 1106.06 L236.551 1106.06 L236.551 1136.68 L244.19 1136.68 L244.19 1140.62 L224.283 1140.62 L224.283 1136.68 Z\" fill=\"#000000\" fill-rule=\"evenodd\" fill-opacity=\"1\" /><path clip-path=\"url(#clip920)\" d=\"M128.288 848.231 Q124.677 848.231 122.848 851.796 Q121.043 855.338 121.043 862.467 Q121.043 869.574 122.848 873.139 Q124.677 876.68 128.288 876.68 Q131.922 876.68 133.728 873.139 Q135.556 869.574 135.556 862.467 Q135.556 855.338 133.728 851.796 Q131.922 848.231 128.288 848.231 M128.288 844.528 Q134.098 844.528 137.154 849.134 Q140.232 853.718 140.232 862.467 Q140.232 871.194 137.154 875.801 Q134.098 880.384 128.288 880.384 Q122.478 880.384 119.399 875.801 Q116.343 871.194 116.343 862.467 Q116.343 853.718 119.399 849.134 Q122.478 844.528 128.288 844.528 Z\" fill=\"#000000\" fill-rule=\"evenodd\" fill-opacity=\"1\" /><path clip-path=\"url(#clip920)\" d=\"M148.45 873.833 L153.334 873.833 L153.334 879.713 L148.45 879.713 L148.45 873.833 Z\" fill=\"#000000\" fill-rule=\"evenodd\" fill-opacity=\"1\" /><path clip-path=\"url(#clip920)\" d=\"M173.519 848.231 Q169.908 848.231 168.079 851.796 Q166.274 855.338 166.274 862.467 Q166.274 869.574 168.079 873.139 Q169.908 876.68 173.519 876.68 Q177.153 876.68 178.959 873.139 Q180.788 869.574 180.788 862.467 Q180.788 855.338 178.959 851.796 Q177.153 848.231 173.519 848.231 M173.519 844.528 Q179.329 844.528 182.385 849.134 Q185.463 853.718 185.463 862.467 Q185.463 871.194 182.385 875.801 Q179.329 880.384 173.519 880.384 Q167.709 880.384 164.63 875.801 Q161.575 871.194 161.575 862.467 Q161.575 853.718 164.63 849.134 Q167.709 844.528 173.519 844.528 Z\" fill=\"#000000\" fill-rule=\"evenodd\" fill-opacity=\"1\" /><path clip-path=\"url(#clip920)\" d=\"M203.681 848.231 Q200.07 848.231 198.241 851.796 Q196.436 855.338 196.436 862.467 Q196.436 869.574 198.241 873.139 Q200.07 876.68 203.681 876.68 Q207.315 876.68 209.121 873.139 Q210.949 869.574 210.949 862.467 Q210.949 855.338 209.121 851.796 Q207.315 848.231 203.681 848.231 M203.681 844.528 Q209.491 844.528 212.547 849.134 Q215.625 853.718 215.625 862.467 Q215.625 871.194 212.547 875.801 Q209.491 880.384 203.681 880.384 Q197.871 880.384 194.792 875.801 Q191.737 871.194 191.737 862.467 Q191.737 853.718 194.792 849.134 Q197.871 844.528 203.681 844.528 Z\" fill=\"#000000\" fill-rule=\"evenodd\" fill-opacity=\"1\" /><path clip-path=\"url(#clip920)\" d=\"M227.871 875.778 L244.19 875.778 L244.19 879.713 L222.246 879.713 L222.246 875.778 Q224.908 873.023 229.491 868.393 Q234.097 863.741 235.278 862.398 Q237.523 859.875 238.403 858.139 Q239.306 856.38 239.306 854.69 Q239.306 851.935 237.361 850.199 Q235.44 848.463 232.338 848.463 Q230.139 848.463 227.685 849.227 Q225.255 849.991 222.477 851.542 L222.477 846.819 Q225.301 845.685 227.755 845.106 Q230.209 844.528 232.246 844.528 Q237.616 844.528 240.81 847.213 Q244.005 849.898 244.005 854.389 Q244.005 856.518 243.195 858.44 Q242.408 860.338 240.301 862.93 Q239.722 863.602 236.621 866.819 Q233.519 870.014 227.871 875.778 Z\" fill=\"#000000\" fill-rule=\"evenodd\" fill-opacity=\"1\" /><path clip-path=\"url(#clip920)\" d=\"M127.339 587.329 Q123.728 587.329 121.899 590.893 Q120.093 594.435 120.093 601.565 Q120.093 608.671 121.899 612.236 Q123.728 615.778 127.339 615.778 Q130.973 615.778 132.779 612.236 Q134.607 608.671 134.607 601.565 Q134.607 594.435 132.779 590.893 Q130.973 587.329 127.339 587.329 M127.339 583.625 Q133.149 583.625 136.204 588.231 Q139.283 592.815 139.283 601.565 Q139.283 610.291 136.204 614.898 Q133.149 619.481 127.339 619.481 Q121.529 619.481 118.45 614.898 Q115.394 610.291 115.394 601.565 Q115.394 592.815 118.45 588.231 Q121.529 583.625 127.339 583.625 Z\" fill=\"#000000\" fill-rule=\"evenodd\" fill-opacity=\"1\" /><path clip-path=\"url(#clip920)\" d=\"M147.501 612.93 L152.385 612.93 L152.385 618.81 L147.501 618.81 L147.501 612.93 Z\" fill=\"#000000\" fill-rule=\"evenodd\" fill-opacity=\"1\" /><path clip-path=\"url(#clip920)\" d=\"M172.57 587.329 Q168.959 587.329 167.13 590.893 Q165.325 594.435 165.325 601.565 Q165.325 608.671 167.13 612.236 Q168.959 615.778 172.57 615.778 Q176.204 615.778 178.01 612.236 Q179.839 608.671 179.839 601.565 Q179.839 594.435 178.01 590.893 Q176.204 587.329 172.57 587.329 M172.57 583.625 Q178.38 583.625 181.436 588.231 Q184.514 592.815 184.514 601.565 Q184.514 610.291 181.436 614.898 Q178.38 619.481 172.57 619.481 Q166.76 619.481 163.681 614.898 Q160.626 610.291 160.626 601.565 Q160.626 592.815 163.681 588.231 Q166.76 583.625 172.57 583.625 Z\" fill=\"#000000\" fill-rule=\"evenodd\" fill-opacity=\"1\" /><path clip-path=\"url(#clip920)\" d=\"M202.732 587.329 Q199.121 587.329 197.292 590.893 Q195.487 594.435 195.487 601.565 Q195.487 608.671 197.292 612.236 Q199.121 615.778 202.732 615.778 Q206.366 615.778 208.172 612.236 Q210 608.671 210 601.565 Q210 594.435 208.172 590.893 Q206.366 587.329 202.732 587.329 M202.732 583.625 Q208.542 583.625 211.598 588.231 Q214.676 592.815 214.676 601.565 Q214.676 610.291 211.598 614.898 Q208.542 619.481 202.732 619.481 Q196.922 619.481 193.843 614.898 Q190.788 610.291 190.788 601.565 Q190.788 592.815 193.843 588.231 Q196.922 583.625 202.732 583.625 Z\" fill=\"#000000\" fill-rule=\"evenodd\" fill-opacity=\"1\" /><path clip-path=\"url(#clip920)\" d=\"M237.06 600.176 Q240.417 600.893 242.292 603.162 Q244.19 605.43 244.19 608.764 Q244.19 613.879 240.672 616.68 Q237.153 619.481 230.672 619.481 Q228.496 619.481 226.181 619.041 Q223.889 618.625 221.436 617.768 L221.436 613.254 Q223.38 614.389 225.695 614.967 Q228.01 615.546 230.533 615.546 Q234.931 615.546 237.222 613.81 Q239.537 612.074 239.537 608.764 Q239.537 605.708 237.384 603.995 Q235.255 602.259 231.435 602.259 L227.408 602.259 L227.408 598.417 L231.621 598.417 Q235.07 598.417 236.898 597.051 Q238.727 595.662 238.727 593.069 Q238.727 590.407 236.829 588.995 Q234.954 587.56 231.435 587.56 Q229.514 587.56 227.315 587.977 Q225.116 588.393 222.477 589.273 L222.477 585.106 Q225.139 584.366 227.454 583.995 Q229.792 583.625 231.852 583.625 Q237.176 583.625 240.278 586.056 Q243.38 588.463 243.38 592.583 Q243.38 595.454 241.736 597.444 Q240.093 599.412 237.06 600.176 Z\" fill=\"#000000\" fill-rule=\"evenodd\" fill-opacity=\"1\" /><path clip-path=\"url(#clip920)\" d=\"M126.205 326.426 Q122.593 326.426 120.765 329.991 Q118.959 333.532 118.959 340.662 Q118.959 347.768 120.765 351.333 Q122.593 354.875 126.205 354.875 Q129.839 354.875 131.644 351.333 Q133.473 347.768 133.473 340.662 Q133.473 333.532 131.644 329.991 Q129.839 326.426 126.205 326.426 M126.205 322.722 Q132.015 322.722 135.07 327.329 Q138.149 331.912 138.149 340.662 Q138.149 349.389 135.07 353.995 Q132.015 358.578 126.205 358.578 Q120.394 358.578 117.316 353.995 Q114.26 349.389 114.26 340.662 Q114.26 331.912 117.316 327.329 Q120.394 322.722 126.205 322.722 Z\" fill=\"#000000\" fill-rule=\"evenodd\" fill-opacity=\"1\" /><path clip-path=\"url(#clip920)\" d=\"M146.366 352.028 L151.251 352.028 L151.251 357.907 L146.366 357.907 L146.366 352.028 Z\" fill=\"#000000\" fill-rule=\"evenodd\" fill-opacity=\"1\" /><path clip-path=\"url(#clip920)\" d=\"M171.436 326.426 Q167.825 326.426 165.996 329.991 Q164.19 333.532 164.19 340.662 Q164.19 347.768 165.996 351.333 Q167.825 354.875 171.436 354.875 Q175.07 354.875 176.876 351.333 Q178.704 347.768 178.704 340.662 Q178.704 333.532 176.876 329.991 Q175.07 326.426 171.436 326.426 M171.436 322.722 Q177.246 322.722 180.301 327.329 Q183.38 331.912 183.38 340.662 Q183.38 349.389 180.301 353.995 Q177.246 358.578 171.436 358.578 Q165.626 358.578 162.547 353.995 Q159.491 349.389 159.491 340.662 Q159.491 331.912 162.547 327.329 Q165.626 322.722 171.436 322.722 Z\" fill=\"#000000\" fill-rule=\"evenodd\" fill-opacity=\"1\" /><path clip-path=\"url(#clip920)\" d=\"M201.598 326.426 Q197.987 326.426 196.158 329.991 Q194.352 333.532 194.352 340.662 Q194.352 347.768 196.158 351.333 Q197.987 354.875 201.598 354.875 Q205.232 354.875 207.037 351.333 Q208.866 347.768 208.866 340.662 Q208.866 333.532 207.037 329.991 Q205.232 326.426 201.598 326.426 M201.598 322.722 Q207.408 322.722 210.463 327.329 Q213.542 331.912 213.542 340.662 Q213.542 349.389 210.463 353.995 Q207.408 358.578 201.598 358.578 Q195.787 358.578 192.709 353.995 Q189.653 349.389 189.653 340.662 Q189.653 331.912 192.709 327.329 Q195.787 322.722 201.598 322.722 Z\" fill=\"#000000\" fill-rule=\"evenodd\" fill-opacity=\"1\" /><path clip-path=\"url(#clip920)\" d=\"M234.607 327.421 L222.801 345.87 L234.607 345.87 L234.607 327.421 M233.38 323.347 L239.259 323.347 L239.259 345.87 L244.19 345.87 L244.19 349.759 L239.259 349.759 L239.259 357.907 L234.607 357.907 L234.607 349.759 L219.005 349.759 L219.005 345.245 L233.38 323.347 Z\" fill=\"#000000\" fill-rule=\"evenodd\" fill-opacity=\"1\" /><path clip-path=\"url(#clip920)\" d=\"M127.686 65.5231 Q124.075 65.5231 122.246 69.0879 Q120.441 72.6296 120.441 79.7592 Q120.441 86.8656 122.246 90.4304 Q124.075 93.972 127.686 93.972 Q131.32 93.972 133.126 90.4304 Q134.954 86.8656 134.954 79.7592 Q134.954 72.6296 133.126 69.0879 Q131.32 65.5231 127.686 65.5231 M127.686 61.8194 Q133.496 61.8194 136.552 66.4259 Q139.63 71.0092 139.63 79.7592 Q139.63 88.486 136.552 93.0924 Q133.496 97.6757 127.686 97.6757 Q121.876 97.6757 118.797 93.0924 Q115.742 88.486 115.742 79.7592 Q115.742 71.0092 118.797 66.4259 Q121.876 61.8194 127.686 61.8194 Z\" fill=\"#000000\" fill-rule=\"evenodd\" fill-opacity=\"1\" /><path clip-path=\"url(#clip920)\" d=\"M147.848 91.1248 L152.732 91.1248 L152.732 97.0044 L147.848 97.0044 L147.848 91.1248 Z\" fill=\"#000000\" fill-rule=\"evenodd\" fill-opacity=\"1\" /><path clip-path=\"url(#clip920)\" d=\"M172.917 65.5231 Q169.306 65.5231 167.477 69.0879 Q165.672 72.6296 165.672 79.7592 Q165.672 86.8656 167.477 90.4304 Q169.306 93.972 172.917 93.972 Q176.551 93.972 178.357 90.4304 Q180.186 86.8656 180.186 79.7592 Q180.186 72.6296 178.357 69.0879 Q176.551 65.5231 172.917 65.5231 M172.917 61.8194 Q178.727 61.8194 181.783 66.4259 Q184.862 71.0092 184.862 79.7592 Q184.862 88.486 181.783 93.0924 Q178.727 97.6757 172.917 97.6757 Q167.107 97.6757 164.028 93.0924 Q160.973 88.486 160.973 79.7592 Q160.973 71.0092 164.028 66.4259 Q167.107 61.8194 172.917 61.8194 Z\" fill=\"#000000\" fill-rule=\"evenodd\" fill-opacity=\"1\" /><path clip-path=\"url(#clip920)\" d=\"M203.079 65.5231 Q199.468 65.5231 197.639 69.0879 Q195.834 72.6296 195.834 79.7592 Q195.834 86.8656 197.639 90.4304 Q199.468 93.972 203.079 93.972 Q206.713 93.972 208.519 90.4304 Q210.348 86.8656 210.348 79.7592 Q210.348 72.6296 208.519 69.0879 Q206.713 65.5231 203.079 65.5231 M203.079 61.8194 Q208.889 61.8194 211.945 66.4259 Q215.024 71.0092 215.024 79.7592 Q215.024 88.486 211.945 93.0924 Q208.889 97.6757 203.079 97.6757 Q197.269 97.6757 194.19 93.0924 Q191.135 88.486 191.135 79.7592 Q191.135 71.0092 194.19 66.4259 Q197.269 61.8194 203.079 61.8194 Z\" fill=\"#000000\" fill-rule=\"evenodd\" fill-opacity=\"1\" /><path clip-path=\"url(#clip920)\" d=\"M223.287 62.4444 L241.644 62.4444 L241.644 66.3796 L227.57 66.3796 L227.57 74.8518 Q228.588 74.5046 229.607 74.3425 Q230.625 74.1573 231.644 74.1573 Q237.431 74.1573 240.81 77.3286 Q244.19 80.4999 244.19 85.9165 Q244.19 91.4952 240.718 94.597 Q237.246 97.6757 230.926 97.6757 Q228.75 97.6757 226.482 97.3054 Q224.236 96.935 221.829 96.1943 L221.829 91.4952 Q223.912 92.6295 226.135 93.185 Q228.357 93.7406 230.834 93.7406 Q234.838 93.7406 237.176 91.6341 Q239.514 89.5276 239.514 85.9165 Q239.514 82.3054 237.176 80.199 Q234.838 78.0925 230.834 78.0925 Q228.959 78.0925 227.084 78.5092 Q225.232 78.9258 223.287 79.8055 L223.287 62.4444 Z\" fill=\"#000000\" fill-rule=\"evenodd\" fill-opacity=\"1\" /><path clip-path=\"url(#clip920)\" d=\"M22.818 996.731 L46.4666 1005.45 L46.4666 987.978 L22.818 996.731 M16.4842 1000.36 L16.4842 993.071 L64.0042 974.96 L64.0042 981.644 L51.8138 985.973 L51.8138 1007.39 L64.0042 1011.72 L64.0042 1018.5 L16.4842 1000.36 Z\" fill=\"#000000\" fill-rule=\"evenodd\" fill-opacity=\"1\" /><path clip-path=\"url(#clip920)\" d=\"M28.3562 976.297 L28.3562 970.091 L58.275 958.951 L28.3562 947.811 L28.3562 941.604 L64.0042 954.972 L64.0042 962.929 L28.3562 976.297 Z\" fill=\"#000000\" fill-rule=\"evenodd\" fill-opacity=\"1\" /><path clip-path=\"url(#clip920)\" d=\"M45.7664 910.062 Q39.4007 910.062 35.8996 912.704 Q32.3984 915.314 32.3984 920.056 Q32.3984 924.767 35.8996 927.409 Q39.4007 930.019 45.7664 930.019 Q52.1003 930.019 55.6014 927.409 Q59.1026 924.767 59.1026 920.056 Q59.1026 915.314 55.6014 912.704 Q52.1003 910.062 45.7664 910.062 M59.58 904.206 Q68.683 904.206 73.1071 908.248 Q77.5631 912.29 77.5631 920.629 Q77.5631 923.716 77.0857 926.454 Q76.6401 929.191 75.6852 931.769 L69.9879 931.769 Q71.3884 929.191 72.0568 926.677 Q72.7252 924.162 72.7252 921.552 Q72.7252 915.791 69.7015 912.927 Q66.7096 910.062 60.6303 910.062 L57.7339 910.062 Q60.885 911.876 62.4446 914.709 Q64.0042 917.542 64.0042 921.488 Q64.0042 928.045 59.0071 932.056 Q54.01 936.066 45.7664 936.066 Q37.491 936.066 32.4939 932.056 Q27.4968 928.045 27.4968 921.488 Q27.4968 917.542 29.0564 914.709 Q30.616 911.876 33.7671 910.062 L28.3562 910.062 L28.3562 904.206 L59.58 904.206 Z\" fill=\"#000000\" fill-rule=\"evenodd\" fill-opacity=\"1\" /><path clip-path=\"url(#clip920)\" d=\"M43.0928 830.172 Q43.0928 832.941 45.4481 834.533 Q47.8034 836.093 52.0048 836.093 Q56.1425 836.093 58.5296 834.533 Q60.885 832.941 60.885 830.172 Q60.885 827.467 58.5296 825.907 Q56.1425 824.316 52.0048 824.316 Q47.8353 824.316 45.48 825.907 Q43.0928 827.467 43.0928 830.172 M39.0506 830.172 Q39.0506 825.143 42.5517 822.183 Q46.0529 819.223 52.0048 819.223 Q57.9567 819.223 61.4579 822.215 Q64.9272 825.175 64.9272 830.172 Q64.9272 835.265 61.4579 838.225 Q57.9567 841.185 52.0048 841.185 Q46.021 841.185 42.5517 838.225 Q39.0506 835.233 39.0506 830.172 M19.667 863.019 Q19.667 865.757 22.0542 867.348 Q24.4095 868.908 28.5472 868.908 Q32.7485 868.908 35.1038 867.348 Q37.4592 865.789 37.4592 863.019 Q37.4592 860.25 35.1038 858.691 Q32.7485 857.099 28.5472 857.099 Q24.4413 857.099 22.0542 858.691 Q19.667 860.282 19.667 863.019 M15.6248 834.278 L15.6248 829.186 L64.9272 858.914 L64.9272 864.006 L15.6248 834.278 M15.6248 863.019 Q15.6248 857.991 19.1259 854.999 Q22.5952 852.007 28.5472 852.007 Q34.5628 852.007 38.0321 854.999 Q41.5014 857.959 41.5014 863.019 Q41.5014 868.08 38.0321 871.04 Q34.5309 873.968 28.5472 873.968 Q22.6271 873.968 19.1259 871.008 Q15.6248 868.048 15.6248 863.019 Z\" fill=\"#000000\" fill-rule=\"evenodd\" fill-opacity=\"1\" /><path clip-path=\"url(#clip920)\" d=\"M32.4621 774.95 Q32.4621 779.661 36.1542 782.398 Q39.8145 785.135 46.212 785.135 Q52.6095 785.135 56.3017 782.43 Q59.9619 779.692 59.9619 774.95 Q59.9619 770.271 56.2698 767.534 Q52.5777 764.797 46.212 764.797 Q39.8781 764.797 36.186 767.534 Q32.4621 770.271 32.4621 774.95 M27.4968 774.95 Q27.4968 767.311 32.4621 762.951 Q37.4273 758.59 46.212 758.59 Q54.9649 758.59 59.9619 762.951 Q64.9272 767.311 64.9272 774.95 Q64.9272 782.621 59.9619 786.981 Q54.9649 791.31 46.212 791.31 Q37.4273 791.31 32.4621 786.981 Q27.4968 782.621 27.4968 774.95 Z\" fill=\"#000000\" fill-rule=\"evenodd\" fill-opacity=\"1\" /><path clip-path=\"url(#clip920)\" d=\"M14.479 730.836 L19.3487 730.836 L19.3487 736.437 Q19.3487 739.588 20.6219 740.83 Q21.895 742.039 25.2052 742.039 L28.3562 742.039 L28.3562 732.395 L32.9077 732.395 L32.9077 742.039 L64.0042 742.039 L64.0042 747.927 L32.9077 747.927 L32.9077 753.529 L28.3562 753.529 L28.3562 747.927 L25.8736 747.927 Q19.9216 747.927 17.2162 745.158 Q14.479 742.389 14.479 736.374 L14.479 730.836 Z\" fill=\"#000000\" fill-rule=\"evenodd\" fill-opacity=\"1\" /><path clip-path=\"url(#clip920)\" d=\"M28.3562 705.214 L28.3562 699.357 L64.0042 699.357 L64.0042 705.214 L28.3562 705.214 M14.479 705.214 L14.479 699.357 L21.895 699.357 L21.895 705.214 L14.479 705.214 Z\" fill=\"#000000\" fill-rule=\"evenodd\" fill-opacity=\"1\" /><path clip-path=\"url(#clip920)\" d=\"M42.4881 657.471 L64.0042 657.471 L64.0042 663.327 L42.679 663.327 Q37.6183 663.327 35.1038 665.301 Q32.5894 667.274 32.5894 671.221 Q32.5894 675.963 35.6131 678.7 Q38.6368 681.438 43.8567 681.438 L64.0042 681.438 L64.0042 687.326 L28.3562 687.326 L28.3562 681.438 L33.8944 681.438 Q30.6797 679.337 29.0883 676.504 Q27.4968 673.64 27.4968 669.916 Q27.4968 663.773 31.3163 660.622 Q35.1038 657.471 42.4881 657.471 Z\" fill=\"#000000\" fill-rule=\"evenodd\" fill-opacity=\"1\" /><path clip-path=\"url(#clip920)\" d=\"M14.479 627.743 L19.3487 627.743 L19.3487 633.345 Q19.3487 636.496 20.6219 637.737 Q21.895 638.947 25.2052 638.947 L28.3562 638.947 L28.3562 629.303 L32.9077 629.303 L32.9077 638.947 L64.0042 638.947 L64.0042 644.835 L32.9077 644.835 L32.9077 650.437 L28.3562 650.437 L28.3562 644.835 L25.8736 644.835 Q19.9216 644.835 17.2162 642.066 Q14.479 639.297 14.479 633.281 L14.479 627.743 Z\" fill=\"#000000\" fill-rule=\"evenodd\" fill-opacity=\"1\" /><path clip-path=\"url(#clip920)\" d=\"M44.7161 592.35 L47.5806 592.35 L47.5806 619.277 Q53.6281 618.895 56.8109 615.648 Q59.9619 612.37 59.9619 606.545 Q59.9619 603.171 59.1344 600.02 Q58.3069 596.837 56.6518 593.718 L62.1899 593.718 Q63.5267 596.869 64.227 600.179 Q64.9272 603.49 64.9272 606.895 Q64.9272 615.425 59.9619 620.422 Q54.9967 625.388 46.5303 625.388 Q37.7774 625.388 32.6531 620.677 Q27.4968 615.935 27.4968 607.914 Q27.4968 600.721 32.1438 596.551 Q36.7589 592.35 44.7161 592.35 M42.9973 598.206 Q38.1912 598.27 35.3266 600.911 Q32.4621 603.521 32.4621 607.85 Q32.4621 612.752 35.2312 615.712 Q38.0002 618.64 43.0292 619.086 L42.9973 598.206 Z\" fill=\"#000000\" fill-rule=\"evenodd\" fill-opacity=\"1\" /><path clip-path=\"url(#clip920)\" d=\"M29.7248 557.084 L35.1993 557.084 Q33.8307 559.566 33.1623 562.081 Q32.4621 564.563 32.4621 567.11 Q32.4621 572.807 36.0905 575.958 Q39.6872 579.109 46.212 579.109 Q52.7369 579.109 56.3653 575.958 Q59.9619 572.807 59.9619 567.11 Q59.9619 564.563 59.2935 562.081 Q58.5933 559.566 57.2247 557.084 L62.6355 557.084 Q63.7814 559.534 64.3543 562.176 Q64.9272 564.786 64.9272 567.746 Q64.9272 575.799 59.8664 580.541 Q54.8057 585.284 46.212 585.284 Q37.491 585.284 32.4939 580.509 Q27.4968 575.703 27.4968 567.364 Q27.4968 564.659 28.0697 562.081 Q28.6108 559.503 29.7248 557.084 Z\" fill=\"#000000\" fill-rule=\"evenodd\" fill-opacity=\"1\" /><path clip-path=\"url(#clip920)\" d=\"M18.2347 541.106 L28.3562 541.106 L28.3562 529.043 L32.9077 529.043 L32.9077 541.106 L52.2594 541.106 Q56.6199 541.106 57.8613 539.928 Q59.1026 538.719 59.1026 535.058 L59.1026 529.043 L64.0042 529.043 L64.0042 535.058 Q64.0042 541.838 61.4897 544.416 Q58.9434 546.994 52.2594 546.994 L32.9077 546.994 L32.9077 551.291 L28.3562 551.291 L28.3562 546.994 L18.2347 546.994 L18.2347 541.106 Z\" fill=\"#000000\" fill-rule=\"evenodd\" fill-opacity=\"1\" /><path clip-path=\"url(#clip920)\" d=\"M44.7161 490.848 L47.5806 490.848 L47.5806 517.775 Q53.6281 517.393 56.8109 514.147 Q59.9619 510.869 59.9619 505.044 Q59.9619 501.67 59.1344 498.519 Q58.3069 495.336 56.6518 492.217 L62.1899 492.217 Q63.5267 495.368 64.227 498.678 Q64.9272 501.988 64.9272 505.394 Q64.9272 513.924 59.9619 518.921 Q54.9967 523.886 46.5303 523.886 Q37.7774 523.886 32.6531 519.176 Q27.4968 514.433 27.4968 506.413 Q27.4968 499.219 32.1438 495.05 Q36.7589 490.848 44.7161 490.848 M42.9973 496.705 Q38.1912 496.769 35.3266 499.41 Q32.4621 502.02 32.4621 506.349 Q32.4621 511.25 35.2312 514.211 Q38.0002 517.139 43.0292 517.584 L42.9973 496.705 Z\" fill=\"#000000\" fill-rule=\"evenodd\" fill-opacity=\"1\" /><path clip-path=\"url(#clip920)\" d=\"M33.7671 457.779 L14.479 457.779 L14.479 451.922 L64.0042 451.922 L64.0042 457.779 L58.657 457.779 Q61.8398 459.625 63.3994 462.457 Q64.9272 465.258 64.9272 469.205 Q64.9272 475.666 59.771 479.74 Q54.6147 483.782 46.212 483.782 Q37.8093 483.782 32.6531 479.74 Q27.4968 475.666 27.4968 469.205 Q27.4968 465.258 29.0564 462.457 Q30.5842 459.625 33.7671 457.779 M46.212 477.735 Q52.6732 477.735 56.3653 475.093 Q60.0256 472.42 60.0256 467.773 Q60.0256 463.126 56.3653 460.452 Q52.6732 457.779 46.212 457.779 Q39.7508 457.779 36.0905 460.452 Q32.3984 463.126 32.3984 467.773 Q32.3984 472.42 36.0905 475.093 Q39.7508 477.735 46.212 477.735 Z\" fill=\"#000000\" fill-rule=\"evenodd\" fill-opacity=\"1\" /><polyline clip-path=\"url(#clip922)\" style=\"stroke:#009af9; stroke-linecap:butt; stroke-linejoin:round; stroke-width:4; stroke-opacity:1; fill:none\" points=\"\n  338.848,1115.27 358.598,1091.79 378.348,1047.41 398.098,982.145 417.848,935.19 437.598,916.914 457.348,906.504 477.098,937.838 496.848,911.785 516.598,950.938 \n  536.348,922.284 556.098,964.051 575.848,1037.14 595.598,1104.99 615.348,1157.18 635.098,1193.72 654.848,1230.27 674.598,1251.15 694.348,1277.25 714.098,1290.29 \n  733.848,1311.17 753.598,1319 773.348,1337.27 793.098,1350.32 812.848,1360.75 832.598,1365.97 852.348,1365.97 872.098,1373.8 891.848,1373.8 911.598,1373.8 \n  931.348,1376.41 951.098,1376.41 970.848,1379.02 990.598,1381.63 1010.35,1381.63 1030.1,1381.63 1049.85,1381.63 1069.6,1384.24 1089.35,1384.24 1109.1,1384.24 \n  1128.85,1384.24 1148.6,1384.24 1168.35,1384.24 1188.1,1384.24 1207.85,1384.24 1227.6,1384.24 1247.35,1384.24 1267.1,1384.24 1286.85,1384.24 1306.6,1384.24 \n  1326.35,1384.24 1346.1,1384.24 1365.85,1384.24 1385.6,1384.24 1405.35,1384.24 1425.1,1384.24 1444.85,1384.24 1464.6,1384.24 1484.35,1384.24 1504.1,1384.24 \n  1523.85,1384.24 1543.6,1384.24 1563.35,1384.24 1583.1,1384.24 1602.85,1384.24 1622.6,1384.24 1642.35,1384.24 1662.1,1384.24 1681.85,1384.24 1701.6,1384.24 \n  1721.35,1384.24 1741.1,1384.24 1760.85,1384.24 1780.6,1384.24 1800.35,1384.24 1820.1,1384.24 1839.85,1384.24 1859.6,1384.24 1879.35,1384.24 1899.1,1384.24 \n  1918.85,1384.24 1938.6,1384.24 1958.35,1384.24 1978.1,1384.24 1997.85,1384.24 2017.6,1384.24 2037.35,1384.24 2057.1,1384.24 2076.85,1384.24 2096.6,1384.24 \n  2116.35,1384.24 2136.1,1384.24 2155.85,1384.24 2175.6,1384.24 2195.35,1384.24 2215.1,1384.24 2234.85,1384.24 2254.6,1384.24 2274.35,1384.24 2294.1,1384.24 \n  \n  \"/>\n<polyline clip-path=\"url(#clip922)\" style=\"stroke:#e26f46; stroke-linecap:butt; stroke-linejoin:round; stroke-width:4; stroke-opacity:1; fill:none\" points=\"\n  338.848,1123.08 358.598,1076.06 378.348,987.269 398.098,937.638 417.848,867.142 437.598,835.818 457.348,843.668 477.098,914.175 496.848,989.925 516.598,1057.81 \n  536.348,1083.98 556.098,1120.54 575.848,1185.81 595.598,1227.58 615.348,1240.65 635.098,1277.19 654.848,1313.73 674.598,1334.62 694.348,1347.68 714.098,1358.12 \n  733.848,1365.95 753.598,1368.56 773.348,1371.18 793.098,1373.79 812.848,1373.79 832.598,1376.4 852.348,1379.01 872.098,1379.01 891.848,1379.02 911.598,1379.02 \n  931.348,1381.63 951.098,1381.63 970.848,1384.24 990.598,1384.24 1010.35,1384.24 1030.1,1384.24 1049.85,1384.24 1069.6,1384.24 1089.35,1384.24 1109.1,1384.24 \n  1128.85,1384.24 1148.6,1384.24 1168.35,1384.24 1188.1,1384.24 1207.85,1384.24 1227.6,1384.24 1247.35,1384.24 1267.1,1384.24 1286.85,1384.24 1306.6,1384.24 \n  1326.35,1384.24 1346.1,1384.24 1365.85,1384.24 1385.6,1384.24 1405.35,1384.24 1425.1,1384.24 1444.85,1384.24 1464.6,1384.24 1484.35,1384.24 1504.1,1384.24 \n  1523.85,1384.24 1543.6,1384.24 1563.35,1384.24 1583.1,1384.24 1602.85,1384.24 1622.6,1384.24 1642.35,1384.24 1662.1,1384.24 1681.85,1384.24 1701.6,1384.24 \n  1721.35,1384.24 1741.1,1384.24 1760.85,1384.24 1780.6,1384.24 1800.35,1384.24 1820.1,1384.24 1839.85,1384.24 1859.6,1384.24 1879.35,1384.24 1899.1,1384.24 \n  1918.85,1384.24 1938.6,1384.24 1958.35,1384.24 1978.1,1384.24 1997.85,1384.24 2017.6,1384.24 2037.35,1384.24 2057.1,1384.24 2076.85,1384.24 2096.6,1384.24 \n  2116.35,1384.24 2136.1,1384.24 2155.85,1384.24 2175.6,1384.24 2195.35,1384.24 2215.1,1384.24 2234.85,1384.24 2254.6,1384.24 2274.35,1384.24 2294.1,1384.24 \n  \n  \"/>\n<polyline clip-path=\"url(#clip922)\" style=\"stroke:#3da44d; stroke-linecap:butt; stroke-linejoin:round; stroke-width:4; stroke-opacity:1; fill:none\" points=\"\n  338.848,1120.46 358.598,1083.8 378.348,1031.49 398.098,1015.8 417.848,979.22 437.598,981.834 457.348,940.142 477.098,979.361 496.848,1013.36 516.598,1076.06 \n  536.348,1136.13 556.098,1170.09 575.848,1214.49 595.598,1253.66 615.348,1271.96 635.098,1287.63 654.848,1298.08 674.598,1318.96 694.348,1332.02 714.098,1339.85 \n  733.848,1347.69 753.598,1355.52 773.348,1360.74 793.098,1363.35 812.848,1365.96 832.598,1373.79 852.348,1373.79 872.098,1379.01 891.848,1379.01 911.598,1379.01 \n  931.348,1379.01 951.098,1379.01 970.848,1379.01 990.598,1379.01 1010.35,1379.01 1030.1,1381.63 1049.85,1381.63 1069.6,1381.63 1089.35,1384.24 1109.1,1384.24 \n  1128.85,1384.24 1148.6,1384.24 1168.35,1384.24 1188.1,1384.24 1207.85,1384.24 1227.6,1384.24 1247.35,1384.24 1267.1,1384.24 1286.85,1384.24 1306.6,1384.24 \n  1326.35,1384.24 1346.1,1384.24 1365.85,1384.24 1385.6,1384.24 1405.35,1384.24 1425.1,1384.24 1444.85,1384.24 1464.6,1384.24 1484.35,1384.24 1504.1,1384.24 \n  1523.85,1384.24 1543.6,1384.24 1563.35,1384.24 1583.1,1384.24 1602.85,1384.24 1622.6,1384.24 1642.35,1384.24 1662.1,1384.24 1681.85,1384.24 1701.6,1384.24 \n  1721.35,1384.24 1741.1,1384.24 1760.85,1384.24 1780.6,1384.24 1800.35,1384.24 1820.1,1384.24 1839.85,1384.24 1859.6,1384.24 1879.35,1384.24 1899.1,1384.24 \n  1918.85,1384.24 1938.6,1384.24 1958.35,1384.24 1978.1,1384.24 1997.85,1384.24 2017.6,1384.24 2037.35,1384.24 2057.1,1384.24 2076.85,1384.24 2096.6,1384.24 \n  2116.35,1384.24 2136.1,1384.24 2155.85,1384.24 2175.6,1384.24 2195.35,1384.24 2215.1,1384.24 2234.85,1384.24 2254.6,1384.24 2274.35,1384.24 2294.1,1384.24 \n  \n  \"/>\n<polyline clip-path=\"url(#clip922)\" style=\"stroke:#c271d2; stroke-linecap:butt; stroke-linejoin:round; stroke-width:4; stroke-opacity:1; fill:none\" points=\"\n  338.848,984.676 358.598,747.118 378.348,580.002 398.098,553.878 417.848,637.388 437.598,752.253 457.348,880.202 477.098,953.339 496.848,1042.12 516.598,1102.2 \n  536.348,1141.39 556.098,1204.05 575.848,1245.84 595.598,1271.94 615.348,1292.85 635.098,1311.13 654.848,1321.57 674.598,1329.4 694.348,1342.46 714.098,1342.47 \n  733.848,1352.91 753.598,1358.14 773.348,1363.36 793.098,1363.36 812.848,1373.8 832.598,1373.8 852.348,1373.8 872.098,1376.41 891.848,1379.02 911.598,1381.63 \n  931.348,1384.24 951.098,1384.24 970.848,1384.24 990.598,1384.24 1010.35,1384.24 1030.1,1384.24 1049.85,1384.24 1069.6,1384.24 1089.35,1384.24 1109.1,1384.24 \n  1128.85,1384.24 1148.6,1384.24 1168.35,1384.24 1188.1,1384.24 1207.85,1384.24 1227.6,1384.24 1247.35,1384.24 1267.1,1384.24 1286.85,1384.24 1306.6,1384.24 \n  1326.35,1384.24 1346.1,1384.24 1365.85,1384.24 1385.6,1384.24 1405.35,1384.24 1425.1,1384.24 1444.85,1384.24 1464.6,1384.24 1484.35,1384.24 1504.1,1384.24 \n  1523.85,1384.24 1543.6,1384.24 1563.35,1384.24 1583.1,1384.24 1602.85,1384.24 1622.6,1384.24 1642.35,1384.24 1662.1,1384.24 1681.85,1384.24 1701.6,1384.24 \n  1721.35,1384.24 1741.1,1384.24 1760.85,1384.24 1780.6,1384.24 1800.35,1384.24 1820.1,1384.24 1839.85,1384.24 1859.6,1384.24 1879.35,1384.24 1899.1,1384.24 \n  1918.85,1384.24 1938.6,1384.24 1958.35,1384.24 1978.1,1384.24 1997.85,1384.24 2017.6,1384.24 2037.35,1384.24 2057.1,1384.24 2076.85,1384.24 2096.6,1384.24 \n  2116.35,1384.24 2136.1,1384.24 2155.85,1384.24 2175.6,1384.24 2195.35,1384.24 2215.1,1384.24 2234.85,1384.24 2254.6,1384.24 2274.35,1384.24 2294.1,1384.24 \n  \n  \"/>\n<polyline clip-path=\"url(#clip922)\" style=\"stroke:#ac8d18; stroke-linecap:butt; stroke-linejoin:round; stroke-width:4; stroke-opacity:1; fill:none\" points=\"\n  338.848,924.718 358.598,655.745 378.348,574.8 398.098,653.078 417.848,827.962 437.598,921.996 457.348,1026.44 477.098,1102.17 496.848,1154.41 516.598,1190.98 \n  536.348,1222.33 556.098,1258.9 575.848,1282.39 595.598,1316.33 615.348,1329.39 635.098,1342.45 654.848,1347.68 674.598,1352.9 694.348,1358.13 714.098,1363.36 \n  733.848,1368.57 753.598,1368.58 773.348,1373.8 793.098,1373.8 812.848,1376.41 832.598,1379.01 852.348,1381.62 872.098,1381.62 891.848,1381.62 911.598,1381.62 \n  931.348,1384.24 951.098,1384.24 970.848,1384.24 990.598,1384.24 1010.35,1384.24 1030.1,1384.24 1049.85,1384.24 1069.6,1384.24 1089.35,1384.24 1109.1,1384.24 \n  1128.85,1384.24 1148.6,1384.24 1168.35,1384.24 1188.1,1384.24 1207.85,1384.24 1227.6,1384.24 1247.35,1384.24 1267.1,1384.24 1286.85,1384.24 1306.6,1384.24 \n  1326.35,1384.24 1346.1,1384.24 1365.85,1384.24 1385.6,1384.24 1405.35,1384.24 1425.1,1384.24 1444.85,1384.24 1464.6,1384.24 1484.35,1384.24 1504.1,1384.24 \n  1523.85,1384.24 1543.6,1384.24 1563.35,1384.24 1583.1,1384.24 1602.85,1384.24 1622.6,1384.24 1642.35,1384.24 1662.1,1384.24 1681.85,1384.24 1701.6,1384.24 \n  1721.35,1384.24 1741.1,1384.24 1760.85,1384.24 1780.6,1384.24 1800.35,1384.24 1820.1,1384.24 1839.85,1384.24 1859.6,1384.24 1879.35,1384.24 1899.1,1384.24 \n  1918.85,1384.24 1938.6,1384.24 1958.35,1384.24 1978.1,1384.24 1997.85,1384.24 2017.6,1384.24 2037.35,1384.24 2057.1,1384.24 2076.85,1384.24 2096.6,1384.24 \n  2116.35,1384.24 2136.1,1384.24 2155.85,1384.24 2175.6,1384.24 2195.35,1384.24 2215.1,1384.24 2234.85,1384.24 2254.6,1384.24 2274.35,1384.24 2294.1,1384.24 \n  \n  \"/>\n<polyline clip-path=\"url(#clip922)\" style=\"stroke:#00a9ad; stroke-linecap:butt; stroke-linejoin:round; stroke-width:4; stroke-opacity:1; fill:none\" points=\"\n  338.848,851.547 358.598,449.305 378.348,376.226 398.098,470.253 417.848,629.534 437.598,778.38 457.348,903.712 477.098,995.099 496.848,1068.23 516.598,1128.29 \n  536.348,1188.35 556.098,1235.34 575.848,1261.45 595.598,1290.18 615.348,1308.46 635.098,1316.31 654.848,1334.59 674.598,1342.43 694.348,1358.1 714.098,1363.32 \n  733.848,1365.94 753.598,1371.17 773.348,1373.78 793.098,1373.78 812.848,1373.79 832.598,1376.4 852.348,1379.01 872.098,1379.01 891.848,1381.62 911.598,1381.62 \n  931.348,1381.63 951.098,1384.24 970.848,1384.24 990.598,1384.24 1010.35,1384.24 1030.1,1384.24 1049.85,1384.24 1069.6,1384.24 1089.35,1384.24 1109.1,1384.24 \n  1128.85,1384.24 1148.6,1384.24 1168.35,1384.24 1188.1,1384.24 1207.85,1384.24 1227.6,1384.24 1247.35,1384.24 1267.1,1384.24 1286.85,1384.24 1306.6,1384.24 \n  1326.35,1384.24 1346.1,1384.24 1365.85,1384.24 1385.6,1384.24 1405.35,1384.24 1425.1,1384.24 1444.85,1384.24 1464.6,1384.24 1484.35,1384.24 1504.1,1384.24 \n  1523.85,1384.24 1543.6,1384.24 1563.35,1384.24 1583.1,1384.24 1602.85,1384.24 1622.6,1384.24 1642.35,1384.24 1662.1,1384.24 1681.85,1384.24 1701.6,1384.24 \n  1721.35,1384.24 1741.1,1384.24 1760.85,1384.24 1780.6,1384.24 1800.35,1384.24 1820.1,1384.24 1839.85,1384.24 1859.6,1384.24 1879.35,1384.24 1899.1,1384.24 \n  1918.85,1384.24 1938.6,1384.24 1958.35,1384.24 1978.1,1384.24 1997.85,1384.24 2017.6,1384.24 2037.35,1384.24 2057.1,1384.24 2076.85,1384.24 2096.6,1384.24 \n  2116.35,1384.24 2136.1,1384.24 2155.85,1384.24 2175.6,1384.24 2195.35,1384.24 2215.1,1384.24 2234.85,1384.24 2254.6,1384.24 2274.35,1384.24 2294.1,1384.24 \n  \n  \"/>\n<polyline clip-path=\"url(#clip922)\" style=\"stroke:#ed5d92; stroke-linecap:butt; stroke-linejoin:round; stroke-width:4; stroke-opacity:1; fill:none\" points=\"\n  338.848,851.328 358.598,376.211 378.348,368.35 398.098,519.812 417.848,741.78 437.598,877.591 457.348,961.15 477.098,1057.75 496.848,1099.57 516.598,1162.25 \n  536.348,1222.31 556.098,1256.25 575.848,1287.58 595.598,1298.05 615.348,1311.11 635.098,1321.56 654.848,1332.01 674.598,1339.85 694.348,1347.68 714.098,1358.13 \n  733.848,1371.18 753.598,1376.4 773.348,1379.01 793.098,1379.01 812.848,1379.01 832.598,1381.62 852.348,1381.62 872.098,1381.63 891.848,1381.63 911.598,1381.63 \n  931.348,1381.63 951.098,1381.63 970.848,1381.63 990.598,1381.63 1010.35,1381.63 1030.1,1381.63 1049.85,1384.24 1069.6,1384.24 1089.35,1384.24 1109.1,1384.24 \n  1128.85,1384.24 1148.6,1384.24 1168.35,1384.24 1188.1,1384.24 1207.85,1384.24 1227.6,1384.24 1247.35,1384.24 1267.1,1384.24 1286.85,1384.24 1306.6,1384.24 \n  1326.35,1384.24 1346.1,1384.24 1365.85,1384.24 1385.6,1384.24 1405.35,1384.24 1425.1,1384.24 1444.85,1384.24 1464.6,1384.24 1484.35,1384.24 1504.1,1384.24 \n  1523.85,1384.24 1543.6,1384.24 1563.35,1384.24 1583.1,1384.24 1602.85,1384.24 1622.6,1384.24 1642.35,1384.24 1662.1,1384.24 1681.85,1384.24 1701.6,1384.24 \n  1721.35,1384.24 1741.1,1384.24 1760.85,1384.24 1780.6,1384.24 1800.35,1384.24 1820.1,1384.24 1839.85,1384.24 1859.6,1384.24 1879.35,1384.24 1899.1,1384.24 \n  1918.85,1384.24 1938.6,1384.24 1958.35,1384.24 1978.1,1384.24 1997.85,1384.24 2017.6,1384.24 2037.35,1384.24 2057.1,1384.24 2076.85,1384.24 2096.6,1384.24 \n  2116.35,1384.24 2136.1,1384.24 2155.85,1384.24 2175.6,1384.24 2195.35,1384.24 2215.1,1384.24 2234.85,1384.24 2254.6,1384.24 2274.35,1384.24 2294.1,1384.24 \n  \n  \"/>\n<polyline clip-path=\"url(#clip922)\" style=\"stroke:#c68125; stroke-linecap:butt; stroke-linejoin:round; stroke-width:4; stroke-opacity:1; fill:none\" points=\"\n  338.848,725.896 358.598,360.337 378.348,449.149 398.098,611.104 417.848,754.778 437.598,859.26 457.348,958.512 477.098,1039.47 496.848,1109.98 516.598,1172.65 \n  536.348,1204 556.098,1245.78 575.848,1274.52 595.598,1295.42 615.348,1313.71 635.098,1324.15 654.848,1339.82 674.598,1352.88 694.348,1360.72 714.098,1365.95 \n  733.848,1368.56 753.598,1373.78 773.348,1376.39 793.098,1379 812.848,1379 832.598,1379 852.348,1379.01 872.098,1379.01 891.848,1379.01 911.598,1379.01 \n  931.348,1379.01 951.098,1379.01 970.848,1381.63 990.598,1381.63 1010.35,1384.24 1030.1,1384.24 1049.85,1384.24 1069.6,1384.24 1089.35,1384.24 1109.1,1384.24 \n  1128.85,1384.24 1148.6,1384.24 1168.35,1384.24 1188.1,1384.24 1207.85,1384.24 1227.6,1384.24 1247.35,1384.24 1267.1,1384.24 1286.85,1384.24 1306.6,1384.24 \n  1326.35,1384.24 1346.1,1384.24 1365.85,1384.24 1385.6,1384.24 1405.35,1384.24 1425.1,1384.24 1444.85,1384.24 1464.6,1384.24 1484.35,1384.24 1504.1,1384.24 \n  1523.85,1384.24 1543.6,1384.24 1563.35,1384.24 1583.1,1384.24 1602.85,1384.24 1622.6,1384.24 1642.35,1384.24 1662.1,1384.24 1681.85,1384.24 1701.6,1384.24 \n  1721.35,1384.24 1741.1,1384.24 1760.85,1384.24 1780.6,1384.24 1800.35,1384.24 1820.1,1384.24 1839.85,1384.24 1859.6,1384.24 1879.35,1384.24 1899.1,1384.24 \n  1918.85,1384.24 1938.6,1384.24 1958.35,1384.24 1978.1,1384.24 1997.85,1384.24 2017.6,1384.24 2037.35,1384.24 2057.1,1384.24 2076.85,1384.24 2096.6,1384.24 \n  2116.35,1384.24 2136.1,1384.24 2155.85,1384.24 2175.6,1384.24 2195.35,1384.24 2215.1,1384.24 2234.85,1384.24 2254.6,1384.24 2274.35,1384.24 2294.1,1384.24 \n  \n  \"/>\n<polyline clip-path=\"url(#clip922)\" style=\"stroke:#00a98d; stroke-linecap:butt; stroke-linejoin:round; stroke-width:4; stroke-opacity:1; fill:none\" points=\"\n  338.848,305.746 358.598,94.1223 378.348,334.364 398.098,561.567 417.848,733.909 437.598,867.081 457.348,966.319 477.098,1047.29 496.848,1120.4 516.598,1170.05 \n  536.348,1214.45 556.098,1245.8 575.848,1282.37 595.598,1300.66 615.348,1318.94 635.098,1339.82 654.848,1352.88 674.598,1355.5 694.348,1363.33 714.098,1368.56 \n  733.848,1376.39 753.598,1376.4 773.348,1376.4 793.098,1379.01 812.848,1381.62 832.598,1381.62 852.348,1384.23 872.098,1384.23 891.848,1384.23 911.598,1384.23 \n  931.348,1384.23 951.098,1384.24 970.848,1384.24 990.598,1384.24 1010.35,1384.24 1030.1,1384.24 1049.85,1384.24 1069.6,1384.24 1089.35,1384.24 1109.1,1384.24 \n  1128.85,1384.24 1148.6,1384.24 1168.35,1384.24 1188.1,1384.24 1207.85,1384.24 1227.6,1384.24 1247.35,1384.24 1267.1,1384.24 1286.85,1384.24 1306.6,1384.24 \n  1326.35,1384.24 1346.1,1384.24 1365.85,1384.24 1385.6,1384.24 1405.35,1384.24 1425.1,1384.24 1444.85,1384.24 1464.6,1384.24 1484.35,1384.24 1504.1,1384.24 \n  1523.85,1384.24 1543.6,1384.24 1563.35,1384.24 1583.1,1384.24 1602.85,1384.24 1622.6,1384.24 1642.35,1384.24 1662.1,1384.24 1681.85,1384.24 1701.6,1384.24 \n  1721.35,1384.24 1741.1,1384.24 1760.85,1384.24 1780.6,1384.24 1800.35,1384.24 1820.1,1384.24 1839.85,1384.24 1859.6,1384.24 1879.35,1384.24 1899.1,1384.24 \n  1918.85,1384.24 1938.6,1384.24 1958.35,1384.24 1978.1,1384.24 1997.85,1384.24 2017.6,1384.24 2037.35,1384.24 2057.1,1384.24 2076.85,1384.24 2096.6,1384.24 \n  2116.35,1384.24 2136.1,1384.24 2155.85,1384.24 2175.6,1384.24 2195.35,1384.24 2215.1,1384.24 2234.85,1384.24 2254.6,1384.24 2274.35,1384.24 2294.1,1384.24 \n  \n  \"/>\n<polyline clip-path=\"url(#clip922)\" style=\"stroke:#8e971d; stroke-linecap:butt; stroke-linejoin:round; stroke-width:4; stroke-opacity:1; fill:none\" points=\"\n  338.848,198.752 358.598,86.1857 378.348,329.079 398.098,545.852 417.848,689.508 437.598,843.585 457.348,955.875 477.098,1047.28 496.848,1130.85 516.598,1164.82 \n  536.348,1219.66 556.098,1261.45 575.848,1279.74 595.598,1300.65 615.348,1321.55 635.098,1334.6 654.848,1337.22 674.598,1355.49 694.348,1363.32 714.098,1368.55 \n  733.848,1368.56 753.598,1371.17 773.348,1371.17 793.098,1373.78 812.848,1373.79 832.598,1376.4 852.348,1379.01 872.098,1379.01 891.848,1379.01 911.598,1379.01 \n  931.348,1381.62 951.098,1381.62 970.848,1381.63 990.598,1381.63 1010.35,1381.63 1030.1,1381.63 1049.85,1381.63 1069.6,1381.63 1089.35,1381.63 1109.1,1384.24 \n  1128.85,1384.24 1148.6,1384.24 1168.35,1384.24 1188.1,1384.24 1207.85,1384.24 1227.6,1384.24 1247.35,1384.24 1267.1,1384.24 1286.85,1384.24 1306.6,1384.24 \n  1326.35,1384.24 1346.1,1384.24 1365.85,1384.24 1385.6,1384.24 1405.35,1384.24 1425.1,1384.24 1444.85,1384.24 1464.6,1384.24 1484.35,1384.24 1504.1,1384.24 \n  1523.85,1384.24 1543.6,1384.24 1563.35,1384.24 1583.1,1384.24 1602.85,1384.24 1622.6,1384.24 1642.35,1384.24 1662.1,1384.24 1681.85,1384.24 1701.6,1384.24 \n  1721.35,1384.24 1741.1,1384.24 1760.85,1384.24 1780.6,1384.24 1800.35,1384.24 1820.1,1384.24 1839.85,1384.24 1859.6,1384.24 1879.35,1384.24 1899.1,1384.24 \n  1918.85,1384.24 1938.6,1384.24 1958.35,1384.24 1978.1,1384.24 1997.85,1384.24 2017.6,1384.24 2037.35,1384.24 2057.1,1384.24 2076.85,1384.24 2096.6,1384.24 \n  2116.35,1384.24 2136.1,1384.24 2155.85,1384.24 2175.6,1384.24 2195.35,1384.24 2215.1,1384.24 2234.85,1384.24 2254.6,1384.24 2274.35,1384.24 2294.1,1384.24 \n  \n  \"/>\n<polyline clip-path=\"url(#clip922)\" style=\"stroke:#00a8cb; stroke-linecap:butt; stroke-linejoin:round; stroke-width:4; stroke-opacity:1; fill:none\" points=\"\n  338.848,399.634 358.598,404.743 378.348,538.009 398.098,720.837 417.848,854.021 437.598,974.169 457.348,1042.1 477.098,1099.59 496.848,1154.43 516.598,1201.43 \n  536.348,1235.38 556.098,1258.9 575.848,1298.06 595.598,1308.52 615.348,1324.18 635.098,1337.24 654.848,1339.85 674.598,1347.69 694.348,1352.91 714.098,1365.95 \n  733.848,1365.95 753.598,1368.57 773.348,1373.79 793.098,1373.79 812.848,1373.8 832.598,1373.8 852.348,1373.8 872.098,1376.41 891.848,1379.01 911.598,1379.01 \n  931.348,1381.63 951.098,1381.63 970.848,1381.63 990.598,1384.24 1010.35,1384.24 1030.1,1384.24 1049.85,1384.24 1069.6,1384.24 1089.35,1384.24 1109.1,1384.24 \n  1128.85,1384.24 1148.6,1384.24 1168.35,1384.24 1188.1,1384.24 1207.85,1384.24 1227.6,1384.24 1247.35,1384.24 1267.1,1384.24 1286.85,1384.24 1306.6,1384.24 \n  1326.35,1384.24 1346.1,1384.24 1365.85,1384.24 1385.6,1384.24 1405.35,1384.24 1425.1,1384.24 1444.85,1384.24 1464.6,1384.24 1484.35,1384.24 1504.1,1384.24 \n  1523.85,1384.24 1543.6,1384.24 1563.35,1384.24 1583.1,1384.24 1602.85,1384.24 1622.6,1384.24 1642.35,1384.24 1662.1,1384.24 1681.85,1384.24 1701.6,1384.24 \n  1721.35,1384.24 1741.1,1384.24 1760.85,1384.24 1780.6,1384.24 1800.35,1384.24 1820.1,1384.24 1839.85,1384.24 1859.6,1384.24 1879.35,1384.24 1899.1,1384.24 \n  1918.85,1384.24 1938.6,1384.24 1958.35,1384.24 1978.1,1384.24 1997.85,1384.24 2017.6,1384.24 2037.35,1384.24 2057.1,1384.24 2076.85,1384.24 2096.6,1384.24 \n  2116.35,1384.24 2136.1,1384.24 2155.85,1384.24 2175.6,1384.24 2195.35,1384.24 2215.1,1384.24 2234.85,1384.24 2254.6,1384.24 2274.35,1384.24 2294.1,1384.24 \n  \n  \"/>\n<path clip-path=\"url(#clip920)\" d=\"\nM1532.02 715.189 L2283.67 715.189 L2283.67 93.1086 L1532.02 93.1086  Z\n  \" fill=\"#ffffff\" fill-rule=\"evenodd\" fill-opacity=\"1\"/>\n<polyline clip-path=\"url(#clip920)\" style=\"stroke:#000000; stroke-linecap:butt; stroke-linejoin:round; stroke-width:4; stroke-opacity:1; fill:none\" points=\"\n  1532.02,715.189 2283.67,715.189 2283.67,93.1086 1532.02,93.1086 1532.02,715.189 \n  \"/>\n<polyline clip-path=\"url(#clip920)\" style=\"stroke:#009af9; stroke-linecap:butt; stroke-linejoin:round; stroke-width:4; stroke-opacity:1; fill:none\" points=\"\n  1555.05,144.949 1693.22,144.949 \n  \"/>\n<path clip-path=\"url(#clip920)\" d=\"M1728.19 130.747 Q1724.58 130.747 1722.76 134.312 Q1720.95 137.854 1720.95 144.983 Q1720.95 152.09 1722.76 155.655 Q1724.58 159.196 1728.19 159.196 Q1731.83 159.196 1733.63 155.655 Q1735.46 152.09 1735.46 144.983 Q1735.46 137.854 1733.63 134.312 Q1731.83 130.747 1728.19 130.747 M1728.19 127.044 Q1734 127.044 1737.06 131.65 Q1740.14 136.233 1740.14 144.983 Q1740.14 153.71 1737.06 158.317 Q1734 162.9 1728.19 162.9 Q1722.38 162.9 1719.31 158.317 Q1716.25 153.71 1716.25 144.983 Q1716.25 136.233 1719.31 131.65 Q1722.38 127.044 1728.19 127.044 Z\" fill=\"#000000\" fill-rule=\"evenodd\" fill-opacity=\"1\" /><path clip-path=\"url(#clip920)\" d=\"M1748.36 156.349 L1753.24 156.349 L1753.24 162.229 L1748.36 162.229 L1748.36 156.349 Z\" fill=\"#000000\" fill-rule=\"evenodd\" fill-opacity=\"1\" /><path clip-path=\"url(#clip920)\" d=\"M1767.45 158.293 L1783.77 158.293 L1783.77 162.229 L1761.83 162.229 L1761.83 158.293 Q1764.49 155.539 1769.07 150.909 Q1773.68 146.256 1774.86 144.914 Q1777.11 142.391 1777.99 140.655 Q1778.89 138.895 1778.89 137.206 Q1778.89 134.451 1776.94 132.715 Q1775.02 130.979 1771.92 130.979 Q1769.72 130.979 1767.27 131.743 Q1764.84 132.507 1762.06 134.057 L1762.06 129.335 Q1764.88 128.201 1767.34 127.622 Q1769.79 127.044 1771.83 127.044 Q1777.2 127.044 1780.39 129.729 Q1783.59 132.414 1783.59 136.905 Q1783.59 139.034 1782.78 140.956 Q1781.99 142.854 1779.88 145.446 Q1779.31 146.118 1776.2 149.335 Q1773.1 152.53 1767.45 158.293 Z\" fill=\"#000000\" fill-rule=\"evenodd\" fill-opacity=\"1\" /><path clip-path=\"url(#clip920)\" d=\"M1793.63 127.669 L1811.99 127.669 L1811.99 131.604 L1797.92 131.604 L1797.92 140.076 Q1798.94 139.729 1799.95 139.567 Q1800.97 139.382 1801.99 139.382 Q1807.78 139.382 1811.16 142.553 Q1814.54 145.724 1814.54 151.141 Q1814.54 156.719 1811.06 159.821 Q1807.59 162.9 1801.27 162.9 Q1799.1 162.9 1796.83 162.53 Q1794.58 162.159 1792.18 161.418 L1792.18 156.719 Q1794.26 157.854 1796.48 158.409 Q1798.7 158.965 1801.18 158.965 Q1805.19 158.965 1807.52 156.858 Q1809.86 154.752 1809.86 151.141 Q1809.86 147.53 1807.52 145.423 Q1805.19 143.317 1801.18 143.317 Q1799.31 143.317 1797.43 143.733 Q1795.58 144.15 1793.63 145.03 L1793.63 127.669 Z\" fill=\"#000000\" fill-rule=\"evenodd\" fill-opacity=\"1\" /><polyline clip-path=\"url(#clip920)\" style=\"stroke:#e26f46; stroke-linecap:butt; stroke-linejoin:round; stroke-width:4; stroke-opacity:1; fill:none\" points=\"\n  1555.05,196.789 1693.22,196.789 \n  \"/>\n<path clip-path=\"url(#clip920)\" d=\"M1728.19 182.587 Q1724.58 182.587 1722.76 186.152 Q1720.95 189.694 1720.95 196.823 Q1720.95 203.93 1722.76 207.495 Q1724.58 211.036 1728.19 211.036 Q1731.83 211.036 1733.63 207.495 Q1735.46 203.93 1735.46 196.823 Q1735.46 189.694 1733.63 186.152 Q1731.83 182.587 1728.19 182.587 M1728.19 178.884 Q1734 178.884 1737.06 183.49 Q1740.14 188.073 1740.14 196.823 Q1740.14 205.55 1737.06 210.157 Q1734 214.74 1728.19 214.74 Q1722.38 214.74 1719.31 210.157 Q1716.25 205.55 1716.25 196.823 Q1716.25 188.073 1719.31 183.49 Q1722.38 178.884 1728.19 178.884 Z\" fill=\"#000000\" fill-rule=\"evenodd\" fill-opacity=\"1\" /><path clip-path=\"url(#clip920)\" d=\"M1748.36 208.189 L1753.24 208.189 L1753.24 214.069 L1748.36 214.069 L1748.36 208.189 Z\" fill=\"#000000\" fill-rule=\"evenodd\" fill-opacity=\"1\" /><path clip-path=\"url(#clip920)\" d=\"M1763.47 179.509 L1781.83 179.509 L1781.83 183.444 L1767.75 183.444 L1767.75 191.916 Q1768.77 191.569 1769.79 191.407 Q1770.81 191.222 1771.83 191.222 Q1777.62 191.222 1781 194.393 Q1784.38 197.564 1784.38 202.981 Q1784.38 208.559 1780.9 211.661 Q1777.43 214.74 1771.11 214.74 Q1768.94 214.74 1766.67 214.37 Q1764.42 213.999 1762.01 213.258 L1762.01 208.559 Q1764.1 209.694 1766.32 210.249 Q1768.54 210.805 1771.02 210.805 Q1775.02 210.805 1777.36 208.698 Q1779.7 206.592 1779.7 202.981 Q1779.7 199.37 1777.36 197.263 Q1775.02 195.157 1771.02 195.157 Q1769.14 195.157 1767.27 195.573 Q1765.42 195.99 1763.47 196.87 L1763.47 179.509 Z\" fill=\"#000000\" fill-rule=\"evenodd\" fill-opacity=\"1\" /><polyline clip-path=\"url(#clip920)\" style=\"stroke:#3da44d; stroke-linecap:butt; stroke-linejoin:round; stroke-width:4; stroke-opacity:1; fill:none\" points=\"\n  1555.05,248.629 1693.22,248.629 \n  \"/>\n<path clip-path=\"url(#clip920)\" d=\"M1728.19 234.427 Q1724.58 234.427 1722.76 237.992 Q1720.95 241.534 1720.95 248.663 Q1720.95 255.77 1722.76 259.335 Q1724.58 262.876 1728.19 262.876 Q1731.83 262.876 1733.63 259.335 Q1735.46 255.77 1735.46 248.663 Q1735.46 241.534 1733.63 237.992 Q1731.83 234.427 1728.19 234.427 M1728.19 230.724 Q1734 230.724 1737.06 235.33 Q1740.14 239.913 1740.14 248.663 Q1740.14 257.39 1737.06 261.997 Q1734 266.58 1728.19 266.58 Q1722.38 266.58 1719.31 261.997 Q1716.25 257.39 1716.25 248.663 Q1716.25 239.913 1719.31 235.33 Q1722.38 230.724 1728.19 230.724 Z\" fill=\"#000000\" fill-rule=\"evenodd\" fill-opacity=\"1\" /><path clip-path=\"url(#clip920)\" d=\"M1748.36 260.029 L1753.24 260.029 L1753.24 265.909 L1748.36 265.909 L1748.36 260.029 Z\" fill=\"#000000\" fill-rule=\"evenodd\" fill-opacity=\"1\" /><path clip-path=\"url(#clip920)\" d=\"M1762.25 231.349 L1784.47 231.349 L1784.47 233.339 L1771.92 265.909 L1767.04 265.909 L1778.84 235.284 L1762.25 235.284 L1762.25 231.349 Z\" fill=\"#000000\" fill-rule=\"evenodd\" fill-opacity=\"1\" /><path clip-path=\"url(#clip920)\" d=\"M1806.44 235.423 L1794.63 253.872 L1806.44 253.872 L1806.44 235.423 M1805.21 231.349 L1811.09 231.349 L1811.09 253.872 L1816.02 253.872 L1816.02 257.761 L1811.09 257.761 L1811.09 265.909 L1806.44 265.909 L1806.44 257.761 L1790.83 257.761 L1790.83 253.247 L1805.21 231.349 Z\" fill=\"#000000\" fill-rule=\"evenodd\" fill-opacity=\"1\" /><path clip-path=\"url(#clip920)\" d=\"M1823.89 265.191 L1823.89 260.932 Q1825.65 261.765 1827.45 262.205 Q1829.26 262.645 1831 262.645 Q1835.62 262.645 1838.06 259.543 Q1840.51 256.418 1840.86 250.075 Q1839.51 252.066 1837.45 253.131 Q1835.39 254.196 1832.89 254.196 Q1827.71 254.196 1824.68 251.071 Q1821.67 247.923 1821.67 242.483 Q1821.67 237.159 1824.81 233.941 Q1827.96 230.724 1833.19 230.724 Q1839.19 230.724 1842.34 235.33 Q1845.51 239.913 1845.51 248.663 Q1845.51 256.835 1841.62 261.719 Q1837.75 266.58 1831.2 266.58 Q1829.44 266.58 1827.64 266.233 Q1825.83 265.885 1823.89 265.191 M1833.19 250.538 Q1836.34 250.538 1838.17 248.386 Q1840.02 246.233 1840.02 242.483 Q1840.02 238.756 1838.17 236.603 Q1836.34 234.427 1833.19 234.427 Q1830.05 234.427 1828.19 236.603 Q1826.37 238.756 1826.37 242.483 Q1826.37 246.233 1828.19 248.386 Q1830.05 250.538 1833.19 250.538 Z\" fill=\"#000000\" fill-rule=\"evenodd\" fill-opacity=\"1\" /><path clip-path=\"url(#clip920)\" d=\"M1854.05 265.191 L1854.05 260.932 Q1855.81 261.765 1857.62 262.205 Q1859.42 262.645 1861.16 262.645 Q1865.79 262.645 1868.22 259.543 Q1870.67 256.418 1871.02 250.075 Q1869.68 252.066 1867.62 253.131 Q1865.56 254.196 1863.06 254.196 Q1857.87 254.196 1854.84 251.071 Q1851.83 247.923 1851.83 242.483 Q1851.83 237.159 1854.98 233.941 Q1858.12 230.724 1863.36 230.724 Q1869.35 230.724 1872.5 235.33 Q1875.67 239.913 1875.67 248.663 Q1875.67 256.835 1871.78 261.719 Q1867.92 266.58 1861.37 266.58 Q1859.61 266.58 1857.8 266.233 Q1856 265.885 1854.05 265.191 M1863.36 250.538 Q1866.5 250.538 1868.33 248.386 Q1870.18 246.233 1870.18 242.483 Q1870.18 238.756 1868.33 236.603 Q1866.5 234.427 1863.36 234.427 Q1860.21 234.427 1858.36 236.603 Q1856.53 238.756 1856.53 242.483 Q1856.53 246.233 1858.36 248.386 Q1860.21 250.538 1863.36 250.538 Z\" fill=\"#000000\" fill-rule=\"evenodd\" fill-opacity=\"1\" /><path clip-path=\"url(#clip920)\" d=\"M1884.21 265.191 L1884.21 260.932 Q1885.97 261.765 1887.78 262.205 Q1889.58 262.645 1891.32 262.645 Q1895.95 262.645 1898.38 259.543 Q1900.83 256.418 1901.18 250.075 Q1899.84 252.066 1897.78 253.131 Q1895.72 254.196 1893.22 254.196 Q1888.03 254.196 1885 251.071 Q1881.99 247.923 1881.99 242.483 Q1881.99 237.159 1885.14 233.941 Q1888.29 230.724 1893.52 230.724 Q1899.51 230.724 1902.66 235.33 Q1905.83 239.913 1905.83 248.663 Q1905.83 256.835 1901.94 261.719 Q1898.08 266.58 1891.53 266.58 Q1889.77 266.58 1887.96 266.233 Q1886.16 265.885 1884.21 265.191 M1893.52 250.538 Q1896.67 250.538 1898.49 248.386 Q1900.35 246.233 1900.35 242.483 Q1900.35 238.756 1898.49 236.603 Q1896.67 234.427 1893.52 234.427 Q1890.37 234.427 1888.52 236.603 Q1886.69 238.756 1886.69 242.483 Q1886.69 246.233 1888.52 248.386 Q1890.37 250.538 1893.52 250.538 Z\" fill=\"#000000\" fill-rule=\"evenodd\" fill-opacity=\"1\" /><path clip-path=\"url(#clip920)\" d=\"M1914.37 265.191 L1914.37 260.932 Q1916.13 261.765 1917.94 262.205 Q1919.74 262.645 1921.48 262.645 Q1926.11 262.645 1928.54 259.543 Q1930.99 256.418 1931.34 250.075 Q1930 252.066 1927.94 253.131 Q1925.88 254.196 1923.38 254.196 Q1918.19 254.196 1915.16 251.071 Q1912.15 247.923 1912.15 242.483 Q1912.15 237.159 1915.3 233.941 Q1918.45 230.724 1923.68 230.724 Q1929.68 230.724 1932.82 235.33 Q1935.99 239.913 1935.99 248.663 Q1935.99 256.835 1932.11 261.719 Q1928.24 266.58 1921.69 266.58 Q1919.93 266.58 1918.12 266.233 Q1916.32 265.885 1914.37 265.191 M1923.68 250.538 Q1926.83 250.538 1928.66 248.386 Q1930.51 246.233 1930.51 242.483 Q1930.51 238.756 1928.66 236.603 Q1926.83 234.427 1923.68 234.427 Q1920.53 234.427 1918.68 236.603 Q1916.85 238.756 1916.85 242.483 Q1916.85 246.233 1918.68 248.386 Q1920.53 250.538 1923.68 250.538 Z\" fill=\"#000000\" fill-rule=\"evenodd\" fill-opacity=\"1\" /><path clip-path=\"url(#clip920)\" d=\"M1944.54 265.191 L1944.54 260.932 Q1946.3 261.765 1948.1 262.205 Q1949.91 262.645 1951.64 262.645 Q1956.27 262.645 1958.7 259.543 Q1961.16 256.418 1961.5 250.075 Q1960.16 252.066 1958.1 253.131 Q1956.04 254.196 1953.54 254.196 Q1948.36 254.196 1945.32 251.071 Q1942.31 247.923 1942.31 242.483 Q1942.31 237.159 1945.46 233.941 Q1948.61 230.724 1953.84 230.724 Q1959.84 230.724 1962.99 235.33 Q1966.16 239.913 1966.16 248.663 Q1966.16 256.835 1962.27 261.719 Q1958.4 266.58 1951.85 266.58 Q1950.09 266.58 1948.29 266.233 Q1946.48 265.885 1944.54 265.191 M1953.84 250.538 Q1956.99 250.538 1958.82 248.386 Q1960.67 246.233 1960.67 242.483 Q1960.67 238.756 1958.82 236.603 Q1956.99 234.427 1953.84 234.427 Q1950.69 234.427 1948.84 236.603 Q1947.01 238.756 1947.01 242.483 Q1947.01 246.233 1948.84 248.386 Q1950.69 250.538 1953.84 250.538 Z\" fill=\"#000000\" fill-rule=\"evenodd\" fill-opacity=\"1\" /><path clip-path=\"url(#clip920)\" d=\"M1974.7 265.191 L1974.7 260.932 Q1976.46 261.765 1978.26 262.205 Q1980.07 262.645 1981.8 262.645 Q1986.43 262.645 1988.86 259.543 Q1991.32 256.418 1991.67 250.075 Q1990.32 252.066 1988.26 253.131 Q1986.2 254.196 1983.7 254.196 Q1978.52 254.196 1975.49 251.071 Q1972.48 247.923 1972.48 242.483 Q1972.48 237.159 1975.62 233.941 Q1978.77 230.724 1984 230.724 Q1990 230.724 1993.15 235.33 Q1996.32 239.913 1996.32 248.663 Q1996.32 256.835 1992.43 261.719 Q1988.56 266.58 1982.01 266.58 Q1980.25 266.58 1978.45 266.233 Q1976.64 265.885 1974.7 265.191 M1984 250.538 Q1987.15 250.538 1988.98 248.386 Q1990.83 246.233 1990.83 242.483 Q1990.83 238.756 1988.98 236.603 Q1987.15 234.427 1984 234.427 Q1980.86 234.427 1979 236.603 Q1977.17 238.756 1977.17 242.483 Q1977.17 246.233 1979 248.386 Q1980.86 250.538 1984 250.538 Z\" fill=\"#000000\" fill-rule=\"evenodd\" fill-opacity=\"1\" /><path clip-path=\"url(#clip920)\" d=\"M2004.86 265.191 L2004.86 260.932 Q2006.62 261.765 2008.42 262.205 Q2010.23 262.645 2011.97 262.645 Q2016.6 262.645 2019.03 259.543 Q2021.48 256.418 2021.83 250.075 Q2020.48 252.066 2018.42 253.131 Q2016.36 254.196 2013.86 254.196 Q2008.68 254.196 2005.65 251.071 Q2002.64 247.923 2002.64 242.483 Q2002.64 237.159 2005.79 233.941 Q2008.93 230.724 2014.17 230.724 Q2020.16 230.724 2023.31 235.33 Q2026.48 239.913 2026.48 248.663 Q2026.48 256.835 2022.59 261.719 Q2018.73 266.58 2012.17 266.58 Q2010.42 266.58 2008.61 266.233 Q2006.8 265.885 2004.86 265.191 M2014.17 250.538 Q2017.31 250.538 2019.14 248.386 Q2020.99 246.233 2020.99 242.483 Q2020.99 238.756 2019.14 236.603 Q2017.31 234.427 2014.17 234.427 Q2011.02 234.427 2009.17 236.603 Q2007.34 238.756 2007.34 242.483 Q2007.34 246.233 2009.17 248.386 Q2011.02 250.538 2014.17 250.538 Z\" fill=\"#000000\" fill-rule=\"evenodd\" fill-opacity=\"1\" /><path clip-path=\"url(#clip920)\" d=\"M2035.02 265.191 L2035.02 260.932 Q2036.78 261.765 2038.59 262.205 Q2040.39 262.645 2042.13 262.645 Q2046.76 262.645 2049.19 259.543 Q2051.64 256.418 2051.99 250.075 Q2050.65 252.066 2048.59 253.131 Q2046.53 254.196 2044.03 254.196 Q2038.84 254.196 2035.81 251.071 Q2032.8 247.923 2032.8 242.483 Q2032.8 237.159 2035.95 233.941 Q2039.1 230.724 2044.33 230.724 Q2050.32 230.724 2053.47 235.33 Q2056.64 239.913 2056.64 248.663 Q2056.64 256.835 2052.75 261.719 Q2048.89 266.58 2042.34 266.58 Q2040.58 266.58 2038.77 266.233 Q2036.97 265.885 2035.02 265.191 M2044.33 250.538 Q2047.48 250.538 2049.3 248.386 Q2051.16 246.233 2051.16 242.483 Q2051.16 238.756 2049.3 236.603 Q2047.48 234.427 2044.33 234.427 Q2041.18 234.427 2039.33 236.603 Q2037.5 238.756 2037.5 242.483 Q2037.5 246.233 2039.33 248.386 Q2041.18 250.538 2044.33 250.538 Z\" fill=\"#000000\" fill-rule=\"evenodd\" fill-opacity=\"1\" /><path clip-path=\"url(#clip920)\" d=\"M2065.18 265.191 L2065.18 260.932 Q2066.94 261.765 2068.75 262.205 Q2070.55 262.645 2072.29 262.645 Q2076.92 262.645 2079.35 259.543 Q2081.8 256.418 2082.15 250.075 Q2080.81 252.066 2078.75 253.131 Q2076.69 254.196 2074.19 254.196 Q2069 254.196 2065.97 251.071 Q2062.96 247.923 2062.96 242.483 Q2062.96 237.159 2066.11 233.941 Q2069.26 230.724 2074.49 230.724 Q2080.48 230.724 2083.63 235.33 Q2086.8 239.913 2086.8 248.663 Q2086.8 256.835 2082.92 261.719 Q2079.05 266.58 2072.5 266.58 Q2070.74 266.58 2068.93 266.233 Q2067.13 265.885 2065.18 265.191 M2074.49 250.538 Q2077.64 250.538 2079.47 248.386 Q2081.32 246.233 2081.32 242.483 Q2081.32 238.756 2079.47 236.603 Q2077.64 234.427 2074.49 234.427 Q2071.34 234.427 2069.49 236.603 Q2067.66 238.756 2067.66 242.483 Q2067.66 246.233 2069.49 248.386 Q2071.34 250.538 2074.49 250.538 Z\" fill=\"#000000\" fill-rule=\"evenodd\" fill-opacity=\"1\" /><path clip-path=\"url(#clip920)\" d=\"M2095.35 265.191 L2095.35 260.932 Q2097.1 261.765 2098.91 262.205 Q2100.72 262.645 2102.45 262.645 Q2107.08 262.645 2109.51 259.543 Q2111.97 256.418 2112.31 250.075 Q2110.97 252.066 2108.91 253.131 Q2106.85 254.196 2104.35 254.196 Q2099.17 254.196 2096.13 251.071 Q2093.12 247.923 2093.12 242.483 Q2093.12 237.159 2096.27 233.941 Q2099.42 230.724 2104.65 230.724 Q2110.65 230.724 2113.79 235.33 Q2116.97 239.913 2116.97 248.663 Q2116.97 256.835 2113.08 261.719 Q2109.21 266.58 2102.66 266.58 Q2100.9 266.58 2099.1 266.233 Q2097.29 265.885 2095.35 265.191 M2104.65 250.538 Q2107.8 250.538 2109.63 248.386 Q2111.48 246.233 2111.48 242.483 Q2111.48 238.756 2109.63 236.603 Q2107.8 234.427 2104.65 234.427 Q2101.5 234.427 2099.65 236.603 Q2097.82 238.756 2097.82 242.483 Q2097.82 246.233 2099.65 248.386 Q2101.5 250.538 2104.65 250.538 Z\" fill=\"#000000\" fill-rule=\"evenodd\" fill-opacity=\"1\" /><path clip-path=\"url(#clip920)\" d=\"M2125.51 265.191 L2125.51 260.932 Q2127.27 261.765 2129.07 262.205 Q2130.88 262.645 2132.61 262.645 Q2137.24 262.645 2139.67 259.543 Q2142.13 256.418 2142.47 250.075 Q2141.13 252.066 2139.07 253.131 Q2137.01 254.196 2134.51 254.196 Q2129.33 254.196 2126.29 251.071 Q2123.29 247.923 2123.29 242.483 Q2123.29 237.159 2126.43 233.941 Q2129.58 230.724 2134.81 230.724 Q2140.81 230.724 2143.96 235.33 Q2147.13 239.913 2147.13 248.663 Q2147.13 256.835 2143.24 261.719 Q2139.37 266.58 2132.82 266.58 Q2131.06 266.58 2129.26 266.233 Q2127.45 265.885 2125.51 265.191 M2134.81 250.538 Q2137.96 250.538 2139.79 248.386 Q2141.64 246.233 2141.64 242.483 Q2141.64 238.756 2139.79 236.603 Q2137.96 234.427 2134.81 234.427 Q2131.66 234.427 2129.81 236.603 Q2127.98 238.756 2127.98 242.483 Q2127.98 246.233 2129.81 248.386 Q2131.66 250.538 2134.81 250.538 Z\" fill=\"#000000\" fill-rule=\"evenodd\" fill-opacity=\"1\" /><path clip-path=\"url(#clip920)\" d=\"M2155.67 265.191 L2155.67 260.932 Q2157.43 261.765 2159.23 262.205 Q2161.04 262.645 2162.78 262.645 Q2167.41 262.645 2169.84 259.543 Q2172.29 256.418 2172.64 250.075 Q2171.29 252.066 2169.23 253.131 Q2167.17 254.196 2164.67 254.196 Q2159.49 254.196 2156.46 251.071 Q2153.45 247.923 2153.45 242.483 Q2153.45 237.159 2156.6 233.941 Q2159.74 230.724 2164.97 230.724 Q2170.97 230.724 2174.12 235.33 Q2177.29 239.913 2177.29 248.663 Q2177.29 256.835 2173.4 261.719 Q2169.54 266.58 2162.98 266.58 Q2161.22 266.58 2159.42 266.233 Q2157.61 265.885 2155.67 265.191 M2164.97 250.538 Q2168.12 250.538 2169.95 248.386 Q2171.8 246.233 2171.8 242.483 Q2171.8 238.756 2169.95 236.603 Q2168.12 234.427 2164.97 234.427 Q2161.83 234.427 2159.97 236.603 Q2158.15 238.756 2158.15 242.483 Q2158.15 246.233 2159.97 248.386 Q2161.83 250.538 2164.97 250.538 Z\" fill=\"#000000\" fill-rule=\"evenodd\" fill-opacity=\"1\" /><path clip-path=\"url(#clip920)\" d=\"M2185.83 265.191 L2185.83 260.932 Q2187.59 261.765 2189.4 262.205 Q2191.2 262.645 2192.94 262.645 Q2197.57 262.645 2200 259.543 Q2202.45 256.418 2202.8 250.075 Q2201.46 252.066 2199.4 253.131 Q2197.34 254.196 2194.84 254.196 Q2189.65 254.196 2186.62 251.071 Q2183.61 247.923 2183.61 242.483 Q2183.61 237.159 2186.76 233.941 Q2189.91 230.724 2195.14 230.724 Q2201.13 230.724 2204.28 235.33 Q2207.45 239.913 2207.45 248.663 Q2207.45 256.835 2203.56 261.719 Q2199.7 266.58 2193.15 266.58 Q2191.39 266.58 2189.58 266.233 Q2187.78 265.885 2185.83 265.191 M2195.14 250.538 Q2198.28 250.538 2200.11 248.386 Q2201.97 246.233 2201.97 242.483 Q2201.97 238.756 2200.11 236.603 Q2198.28 234.427 2195.14 234.427 Q2191.99 234.427 2190.14 236.603 Q2188.31 238.756 2188.31 242.483 Q2188.31 246.233 2190.14 248.386 Q2191.99 250.538 2195.14 250.538 Z\" fill=\"#000000\" fill-rule=\"evenodd\" fill-opacity=\"1\" /><path clip-path=\"url(#clip920)\" d=\"M2215.99 265.191 L2215.99 260.932 Q2217.75 261.765 2219.56 262.205 Q2221.36 262.645 2223.1 262.645 Q2227.73 262.645 2230.16 259.543 Q2232.61 256.418 2232.96 250.075 Q2231.62 252.066 2229.56 253.131 Q2227.5 254.196 2225 254.196 Q2219.81 254.196 2216.78 251.071 Q2213.77 247.923 2213.77 242.483 Q2213.77 237.159 2216.92 233.941 Q2220.07 230.724 2225.3 230.724 Q2231.29 230.724 2234.44 235.33 Q2237.61 239.913 2237.61 248.663 Q2237.61 256.835 2233.72 261.719 Q2229.86 266.58 2223.31 266.58 Q2221.55 266.58 2219.74 266.233 Q2217.94 265.885 2215.99 265.191 M2225.3 250.538 Q2228.45 250.538 2230.28 248.386 Q2232.13 246.233 2232.13 242.483 Q2232.13 238.756 2230.28 236.603 Q2228.45 234.427 2225.3 234.427 Q2222.15 234.427 2220.3 236.603 Q2218.47 238.756 2218.47 242.483 Q2218.47 246.233 2220.3 248.386 Q2222.15 250.538 2225.3 250.538 Z\" fill=\"#000000\" fill-rule=\"evenodd\" fill-opacity=\"1\" /><polyline clip-path=\"url(#clip920)\" style=\"stroke:#c271d2; stroke-linecap:butt; stroke-linejoin:round; stroke-width:4; stroke-opacity:1; fill:none\" points=\"\n  1555.05,300.469 1693.22,300.469 \n  \"/>\n<path clip-path=\"url(#clip920)\" d=\"M1716.92 313.813 L1724.56 313.813 L1724.56 287.448 L1716.25 289.115 L1716.25 284.855 L1724.51 283.189 L1729.19 283.189 L1729.19 313.813 L1736.83 313.813 L1736.83 317.749 L1716.92 317.749 L1716.92 313.813 Z\" fill=\"#000000\" fill-rule=\"evenodd\" fill-opacity=\"1\" /><path clip-path=\"url(#clip920)\" d=\"M1746.27 311.869 L1751.16 311.869 L1751.16 317.749 L1746.27 317.749 L1746.27 311.869 Z\" fill=\"#000000\" fill-rule=\"evenodd\" fill-opacity=\"1\" /><path clip-path=\"url(#clip920)\" d=\"M1765.37 313.813 L1781.69 313.813 L1781.69 317.749 L1759.75 317.749 L1759.75 313.813 Q1762.41 311.059 1766.99 306.429 Q1771.6 301.776 1772.78 300.434 Q1775.02 297.911 1775.9 296.175 Q1776.81 294.415 1776.81 292.726 Q1776.81 289.971 1774.86 288.235 Q1772.94 286.499 1769.84 286.499 Q1767.64 286.499 1765.19 287.263 Q1762.75 288.027 1759.98 289.577 L1759.98 284.855 Q1762.8 283.721 1765.25 283.142 Q1767.71 282.564 1769.75 282.564 Q1775.12 282.564 1778.31 285.249 Q1781.5 287.934 1781.5 292.425 Q1781.5 294.554 1780.69 296.476 Q1779.91 298.374 1777.8 300.966 Q1777.22 301.638 1774.12 304.855 Q1771.02 308.05 1765.37 313.813 Z\" fill=\"#000000\" fill-rule=\"evenodd\" fill-opacity=\"1\" /><path clip-path=\"url(#clip920)\" d=\"M1791.55 283.189 L1809.91 283.189 L1809.91 287.124 L1795.83 287.124 L1795.83 295.596 Q1796.85 295.249 1797.87 295.087 Q1798.89 294.902 1799.91 294.902 Q1805.69 294.902 1809.07 298.073 Q1812.45 301.244 1812.45 306.661 Q1812.45 312.239 1808.98 315.341 Q1805.51 318.42 1799.19 318.42 Q1797.01 318.42 1794.75 318.05 Q1792.5 317.679 1790.09 316.938 L1790.09 312.239 Q1792.18 313.374 1794.4 313.929 Q1796.62 314.485 1799.1 314.485 Q1803.1 314.485 1805.44 312.378 Q1807.78 310.272 1807.78 306.661 Q1807.78 303.05 1805.44 300.943 Q1803.1 298.837 1799.1 298.837 Q1797.22 298.837 1795.35 299.253 Q1793.5 299.67 1791.55 300.55 L1791.55 283.189 Z\" fill=\"#000000\" fill-rule=\"evenodd\" fill-opacity=\"1\" /><polyline clip-path=\"url(#clip920)\" style=\"stroke:#ac8d18; stroke-linecap:butt; stroke-linejoin:round; stroke-width:4; stroke-opacity:1; fill:none\" points=\"\n  1555.05,352.309 1693.22,352.309 \n  \"/>\n<path clip-path=\"url(#clip920)\" d=\"M1716.92 365.653 L1724.56 365.653 L1724.56 339.288 L1716.25 340.955 L1716.25 336.695 L1724.51 335.029 L1729.19 335.029 L1729.19 365.653 L1736.83 365.653 L1736.83 369.589 L1716.92 369.589 L1716.92 365.653 Z\" fill=\"#000000\" fill-rule=\"evenodd\" fill-opacity=\"1\" /><path clip-path=\"url(#clip920)\" d=\"M1746.27 363.709 L1751.16 363.709 L1751.16 369.589 L1746.27 369.589 L1746.27 363.709 Z\" fill=\"#000000\" fill-rule=\"evenodd\" fill-opacity=\"1\" /><path clip-path=\"url(#clip920)\" d=\"M1760.16 335.029 L1782.38 335.029 L1782.38 337.019 L1769.84 369.589 L1764.95 369.589 L1776.76 338.964 L1760.16 338.964 L1760.16 335.029 Z\" fill=\"#000000\" fill-rule=\"evenodd\" fill-opacity=\"1\" /><path clip-path=\"url(#clip920)\" d=\"M1804.35 339.103 L1792.55 357.552 L1804.35 357.552 L1804.35 339.103 M1803.12 335.029 L1809 335.029 L1809 357.552 L1813.94 357.552 L1813.94 361.441 L1809 361.441 L1809 369.589 L1804.35 369.589 L1804.35 361.441 L1788.75 361.441 L1788.75 356.927 L1803.12 335.029 Z\" fill=\"#000000\" fill-rule=\"evenodd\" fill-opacity=\"1\" /><path clip-path=\"url(#clip920)\" d=\"M1821.81 368.871 L1821.81 364.612 Q1823.56 365.445 1825.37 365.885 Q1827.18 366.325 1828.91 366.325 Q1833.54 366.325 1835.97 363.223 Q1838.43 360.098 1838.77 353.755 Q1837.43 355.746 1835.37 356.811 Q1833.31 357.876 1830.81 357.876 Q1825.62 357.876 1822.59 354.751 Q1819.58 351.603 1819.58 346.163 Q1819.58 340.839 1822.73 337.621 Q1825.88 334.404 1831.11 334.404 Q1837.11 334.404 1840.25 339.01 Q1843.43 343.593 1843.43 352.343 Q1843.43 360.515 1839.54 365.399 Q1835.67 370.26 1829.12 370.26 Q1827.36 370.26 1825.56 369.913 Q1823.75 369.565 1821.81 368.871 M1831.11 354.218 Q1834.26 354.218 1836.09 352.066 Q1837.94 349.913 1837.94 346.163 Q1837.94 342.436 1836.09 340.283 Q1834.26 338.107 1831.11 338.107 Q1827.96 338.107 1826.11 340.283 Q1824.28 342.436 1824.28 346.163 Q1824.28 349.913 1826.11 352.066 Q1827.96 354.218 1831.11 354.218 Z\" fill=\"#000000\" fill-rule=\"evenodd\" fill-opacity=\"1\" /><path clip-path=\"url(#clip920)\" d=\"M1851.97 368.871 L1851.97 364.612 Q1853.73 365.445 1855.53 365.885 Q1857.34 366.325 1859.07 366.325 Q1863.7 366.325 1866.13 363.223 Q1868.59 360.098 1868.93 353.755 Q1867.59 355.746 1865.53 356.811 Q1863.47 357.876 1860.97 357.876 Q1855.79 357.876 1852.75 354.751 Q1849.75 351.603 1849.75 346.163 Q1849.75 340.839 1852.89 337.621 Q1856.04 334.404 1861.27 334.404 Q1867.27 334.404 1870.42 339.01 Q1873.59 343.593 1873.59 352.343 Q1873.59 360.515 1869.7 365.399 Q1865.83 370.26 1859.28 370.26 Q1857.52 370.26 1855.72 369.913 Q1853.91 369.565 1851.97 368.871 M1861.27 354.218 Q1864.42 354.218 1866.25 352.066 Q1868.1 349.913 1868.1 346.163 Q1868.1 342.436 1866.25 340.283 Q1864.42 338.107 1861.27 338.107 Q1858.12 338.107 1856.27 340.283 Q1854.44 342.436 1854.44 346.163 Q1854.44 349.913 1856.27 352.066 Q1858.12 354.218 1861.27 354.218 Z\" fill=\"#000000\" fill-rule=\"evenodd\" fill-opacity=\"1\" /><path clip-path=\"url(#clip920)\" d=\"M1882.13 368.871 L1882.13 364.612 Q1883.89 365.445 1885.69 365.885 Q1887.5 366.325 1889.24 366.325 Q1893.87 366.325 1896.3 363.223 Q1898.75 360.098 1899.1 353.755 Q1897.75 355.746 1895.69 356.811 Q1893.63 357.876 1891.13 357.876 Q1885.95 357.876 1882.92 354.751 Q1879.91 351.603 1879.91 346.163 Q1879.91 340.839 1883.06 337.621 Q1886.2 334.404 1891.43 334.404 Q1897.43 334.404 1900.58 339.01 Q1903.75 343.593 1903.75 352.343 Q1903.75 360.515 1899.86 365.399 Q1895.99 370.26 1889.44 370.26 Q1887.68 370.26 1885.88 369.913 Q1884.07 369.565 1882.13 368.871 M1891.43 354.218 Q1894.58 354.218 1896.41 352.066 Q1898.26 349.913 1898.26 346.163 Q1898.26 342.436 1896.41 340.283 Q1894.58 338.107 1891.43 338.107 Q1888.29 338.107 1886.43 340.283 Q1884.61 342.436 1884.61 346.163 Q1884.61 349.913 1886.43 352.066 Q1888.29 354.218 1891.43 354.218 Z\" fill=\"#000000\" fill-rule=\"evenodd\" fill-opacity=\"1\" /><path clip-path=\"url(#clip920)\" d=\"M1912.29 368.871 L1912.29 364.612 Q1914.05 365.445 1915.86 365.885 Q1917.66 366.325 1919.4 366.325 Q1924.03 366.325 1926.46 363.223 Q1928.91 360.098 1929.26 353.755 Q1927.92 355.746 1925.86 356.811 Q1923.8 357.876 1921.3 357.876 Q1916.11 357.876 1913.08 354.751 Q1910.07 351.603 1910.07 346.163 Q1910.07 340.839 1913.22 337.621 Q1916.37 334.404 1921.6 334.404 Q1927.59 334.404 1930.74 339.01 Q1933.91 343.593 1933.91 352.343 Q1933.91 360.515 1930.02 365.399 Q1926.16 370.26 1919.61 370.26 Q1917.85 370.26 1916.04 369.913 Q1914.24 369.565 1912.29 368.871 M1921.6 354.218 Q1924.74 354.218 1926.57 352.066 Q1928.43 349.913 1928.43 346.163 Q1928.43 342.436 1926.57 340.283 Q1924.74 338.107 1921.6 338.107 Q1918.45 338.107 1916.6 340.283 Q1914.77 342.436 1914.77 346.163 Q1914.77 349.913 1916.6 352.066 Q1918.45 354.218 1921.6 354.218 Z\" fill=\"#000000\" fill-rule=\"evenodd\" fill-opacity=\"1\" /><path clip-path=\"url(#clip920)\" d=\"M1942.45 368.871 L1942.45 364.612 Q1944.21 365.445 1946.02 365.885 Q1947.82 366.325 1949.56 366.325 Q1954.19 366.325 1956.62 363.223 Q1959.07 360.098 1959.42 353.755 Q1958.08 355.746 1956.02 356.811 Q1953.96 357.876 1951.46 357.876 Q1946.27 357.876 1943.24 354.751 Q1940.23 351.603 1940.23 346.163 Q1940.23 340.839 1943.38 337.621 Q1946.53 334.404 1951.76 334.404 Q1957.75 334.404 1960.9 339.01 Q1964.07 343.593 1964.07 352.343 Q1964.07 360.515 1960.18 365.399 Q1956.32 370.26 1949.77 370.26 Q1948.01 370.26 1946.2 369.913 Q1944.4 369.565 1942.45 368.871 M1951.76 354.218 Q1954.91 354.218 1956.74 352.066 Q1958.59 349.913 1958.59 346.163 Q1958.59 342.436 1956.74 340.283 Q1954.91 338.107 1951.76 338.107 Q1948.61 338.107 1946.76 340.283 Q1944.93 342.436 1944.93 346.163 Q1944.93 349.913 1946.76 352.066 Q1948.61 354.218 1951.76 354.218 Z\" fill=\"#000000\" fill-rule=\"evenodd\" fill-opacity=\"1\" /><path clip-path=\"url(#clip920)\" d=\"M1972.61 368.871 L1972.61 364.612 Q1974.37 365.445 1976.18 365.885 Q1977.99 366.325 1979.72 366.325 Q1984.35 366.325 1986.78 363.223 Q1989.24 360.098 1989.58 353.755 Q1988.24 355.746 1986.18 356.811 Q1984.12 357.876 1981.62 357.876 Q1976.43 357.876 1973.4 354.751 Q1970.39 351.603 1970.39 346.163 Q1970.39 340.839 1973.54 337.621 Q1976.69 334.404 1981.92 334.404 Q1987.92 334.404 1991.06 339.01 Q1994.24 343.593 1994.24 352.343 Q1994.24 360.515 1990.35 365.399 Q1986.48 370.26 1979.93 370.26 Q1978.17 370.26 1976.36 369.913 Q1974.56 369.565 1972.61 368.871 M1981.92 354.218 Q1985.07 354.218 1986.9 352.066 Q1988.75 349.913 1988.75 346.163 Q1988.75 342.436 1986.9 340.283 Q1985.07 338.107 1981.92 338.107 Q1978.77 338.107 1976.92 340.283 Q1975.09 342.436 1975.09 346.163 Q1975.09 349.913 1976.92 352.066 Q1978.77 354.218 1981.92 354.218 Z\" fill=\"#000000\" fill-rule=\"evenodd\" fill-opacity=\"1\" /><path clip-path=\"url(#clip920)\" d=\"M2002.78 368.871 L2002.78 364.612 Q2004.54 365.445 2006.34 365.885 Q2008.15 366.325 2009.88 366.325 Q2014.51 366.325 2016.94 363.223 Q2019.4 360.098 2019.74 353.755 Q2018.4 355.746 2016.34 356.811 Q2014.28 357.876 2011.78 357.876 Q2006.6 357.876 2003.56 354.751 Q2000.55 351.603 2000.55 346.163 Q2000.55 340.839 2003.7 337.621 Q2006.85 334.404 2012.08 334.404 Q2018.08 334.404 2021.23 339.01 Q2024.4 343.593 2024.4 352.343 Q2024.4 360.515 2020.51 365.399 Q2016.64 370.26 2010.09 370.26 Q2008.33 370.26 2006.53 369.913 Q2004.72 369.565 2002.78 368.871 M2012.08 354.218 Q2015.23 354.218 2017.06 352.066 Q2018.91 349.913 2018.91 346.163 Q2018.91 342.436 2017.06 340.283 Q2015.23 338.107 2012.08 338.107 Q2008.93 338.107 2007.08 340.283 Q2005.25 342.436 2005.25 346.163 Q2005.25 349.913 2007.08 352.066 Q2008.93 354.218 2012.08 354.218 Z\" fill=\"#000000\" fill-rule=\"evenodd\" fill-opacity=\"1\" /><path clip-path=\"url(#clip920)\" d=\"M2032.94 368.871 L2032.94 364.612 Q2034.7 365.445 2036.5 365.885 Q2038.31 366.325 2040.04 366.325 Q2044.67 366.325 2047.11 363.223 Q2049.56 360.098 2049.91 353.755 Q2048.56 355.746 2046.5 356.811 Q2044.44 357.876 2041.94 357.876 Q2036.76 357.876 2033.73 354.751 Q2030.72 351.603 2030.72 346.163 Q2030.72 340.839 2033.86 337.621 Q2037.01 334.404 2042.24 334.404 Q2048.24 334.404 2051.39 339.01 Q2054.56 343.593 2054.56 352.343 Q2054.56 360.515 2050.67 365.399 Q2046.8 370.26 2040.25 370.26 Q2038.49 370.26 2036.69 369.913 Q2034.88 369.565 2032.94 368.871 M2042.24 354.218 Q2045.39 354.218 2047.22 352.066 Q2049.07 349.913 2049.07 346.163 Q2049.07 342.436 2047.22 340.283 Q2045.39 338.107 2042.24 338.107 Q2039.1 338.107 2037.24 340.283 Q2035.42 342.436 2035.42 346.163 Q2035.42 349.913 2037.24 352.066 Q2039.1 354.218 2042.24 354.218 Z\" fill=\"#000000\" fill-rule=\"evenodd\" fill-opacity=\"1\" /><path clip-path=\"url(#clip920)\" d=\"M2063.1 368.871 L2063.1 364.612 Q2064.86 365.445 2066.67 365.885 Q2068.47 366.325 2070.21 366.325 Q2074.84 366.325 2077.27 363.223 Q2079.72 360.098 2080.07 353.755 Q2078.73 355.746 2076.67 356.811 Q2074.6 357.876 2072.1 357.876 Q2066.92 357.876 2063.89 354.751 Q2060.88 351.603 2060.88 346.163 Q2060.88 340.839 2064.03 337.621 Q2067.17 334.404 2072.41 334.404 Q2078.4 334.404 2081.55 339.01 Q2084.72 343.593 2084.72 352.343 Q2084.72 360.515 2080.83 365.399 Q2076.97 370.26 2070.42 370.26 Q2068.66 370.26 2066.85 369.913 Q2065.04 369.565 2063.1 368.871 M2072.41 354.218 Q2075.55 354.218 2077.38 352.066 Q2079.23 349.913 2079.23 346.163 Q2079.23 342.436 2077.38 340.283 Q2075.55 338.107 2072.41 338.107 Q2069.26 338.107 2067.41 340.283 Q2065.58 342.436 2065.58 346.163 Q2065.58 349.913 2067.41 352.066 Q2069.26 354.218 2072.41 354.218 Z\" fill=\"#000000\" fill-rule=\"evenodd\" fill-opacity=\"1\" /><path clip-path=\"url(#clip920)\" d=\"M2093.26 368.871 L2093.26 364.612 Q2095.02 365.445 2096.83 365.885 Q2098.63 366.325 2100.37 366.325 Q2105 366.325 2107.43 363.223 Q2109.88 360.098 2110.23 353.755 Q2108.89 355.746 2106.83 356.811 Q2104.77 357.876 2102.27 357.876 Q2097.08 357.876 2094.05 354.751 Q2091.04 351.603 2091.04 346.163 Q2091.04 340.839 2094.19 337.621 Q2097.34 334.404 2102.57 334.404 Q2108.56 334.404 2111.71 339.01 Q2114.88 343.593 2114.88 352.343 Q2114.88 360.515 2110.99 365.399 Q2107.13 370.26 2100.58 370.26 Q2098.82 370.26 2097.01 369.913 Q2095.21 369.565 2093.26 368.871 M2102.57 354.218 Q2105.72 354.218 2107.54 352.066 Q2109.4 349.913 2109.4 346.163 Q2109.4 342.436 2107.54 340.283 Q2105.72 338.107 2102.57 338.107 Q2099.42 338.107 2097.57 340.283 Q2095.74 342.436 2095.74 346.163 Q2095.74 349.913 2097.57 352.066 Q2099.42 354.218 2102.57 354.218 Z\" fill=\"#000000\" fill-rule=\"evenodd\" fill-opacity=\"1\" /><path clip-path=\"url(#clip920)\" d=\"M2123.42 368.871 L2123.42 364.612 Q2125.18 365.445 2126.99 365.885 Q2128.79 366.325 2130.53 366.325 Q2135.16 366.325 2137.59 363.223 Q2140.04 360.098 2140.39 353.755 Q2139.05 355.746 2136.99 356.811 Q2134.93 357.876 2132.43 357.876 Q2127.24 357.876 2124.21 354.751 Q2121.2 351.603 2121.2 346.163 Q2121.2 340.839 2124.35 337.621 Q2127.5 334.404 2132.73 334.404 Q2138.72 334.404 2141.87 339.01 Q2145.04 343.593 2145.04 352.343 Q2145.04 360.515 2141.16 365.399 Q2137.29 370.26 2130.74 370.26 Q2128.98 370.26 2127.17 369.913 Q2125.37 369.565 2123.42 368.871 M2132.73 354.218 Q2135.88 354.218 2137.71 352.066 Q2139.56 349.913 2139.56 346.163 Q2139.56 342.436 2137.71 340.283 Q2135.88 338.107 2132.73 338.107 Q2129.58 338.107 2127.73 340.283 Q2125.9 342.436 2125.9 346.163 Q2125.9 349.913 2127.73 352.066 Q2129.58 354.218 2132.73 354.218 Z\" fill=\"#000000\" fill-rule=\"evenodd\" fill-opacity=\"1\" /><path clip-path=\"url(#clip920)\" d=\"M2153.59 368.871 L2153.59 364.612 Q2155.35 365.445 2157.15 365.885 Q2158.96 366.325 2160.69 366.325 Q2165.32 366.325 2167.75 363.223 Q2170.21 360.098 2170.55 353.755 Q2169.21 355.746 2167.15 356.811 Q2165.09 357.876 2162.59 357.876 Q2157.41 357.876 2154.37 354.751 Q2151.36 351.603 2151.36 346.163 Q2151.36 340.839 2154.51 337.621 Q2157.66 334.404 2162.89 334.404 Q2168.89 334.404 2172.04 339.01 Q2175.21 343.593 2175.21 352.343 Q2175.21 360.515 2171.32 365.399 Q2167.45 370.26 2160.9 370.26 Q2159.14 370.26 2157.34 369.913 Q2155.53 369.565 2153.59 368.871 M2162.89 354.218 Q2166.04 354.218 2167.87 352.066 Q2169.72 349.913 2169.72 346.163 Q2169.72 342.436 2167.87 340.283 Q2166.04 338.107 2162.89 338.107 Q2159.74 338.107 2157.89 340.283 Q2156.06 342.436 2156.06 346.163 Q2156.06 349.913 2157.89 352.066 Q2159.74 354.218 2162.89 354.218 Z\" fill=\"#000000\" fill-rule=\"evenodd\" fill-opacity=\"1\" /><path clip-path=\"url(#clip920)\" d=\"M2183.75 368.871 L2183.75 364.612 Q2185.51 365.445 2187.31 365.885 Q2189.12 366.325 2190.85 366.325 Q2195.48 366.325 2197.91 363.223 Q2200.37 360.098 2200.72 353.755 Q2199.37 355.746 2197.31 356.811 Q2195.25 357.876 2192.75 357.876 Q2187.57 357.876 2184.53 354.751 Q2181.53 351.603 2181.53 346.163 Q2181.53 340.839 2184.67 337.621 Q2187.82 334.404 2193.05 334.404 Q2199.05 334.404 2202.2 339.01 Q2205.37 343.593 2205.37 352.343 Q2205.37 360.515 2201.48 365.399 Q2197.61 370.26 2191.06 370.26 Q2189.3 370.26 2187.5 369.913 Q2185.69 369.565 2183.75 368.871 M2193.05 354.218 Q2196.2 354.218 2198.03 352.066 Q2199.88 349.913 2199.88 346.163 Q2199.88 342.436 2198.03 340.283 Q2196.2 338.107 2193.05 338.107 Q2189.91 338.107 2188.05 340.283 Q2186.22 342.436 2186.22 346.163 Q2186.22 349.913 2188.05 352.066 Q2189.91 354.218 2193.05 354.218 Z\" fill=\"#000000\" fill-rule=\"evenodd\" fill-opacity=\"1\" /><path clip-path=\"url(#clip920)\" d=\"M2223.77 353.177 Q2220.44 353.177 2218.52 354.959 Q2216.62 356.741 2216.62 359.866 Q2216.62 362.991 2218.52 364.774 Q2220.44 366.556 2223.77 366.556 Q2227.1 366.556 2229.03 364.774 Q2230.95 362.968 2230.95 359.866 Q2230.95 356.741 2229.03 354.959 Q2227.13 353.177 2223.77 353.177 M2219.09 351.186 Q2216.09 350.445 2214.4 348.385 Q2212.73 346.325 2212.73 343.362 Q2212.73 339.218 2215.67 336.811 Q2218.63 334.404 2223.77 334.404 Q2228.93 334.404 2231.87 336.811 Q2234.81 339.218 2234.81 343.362 Q2234.81 346.325 2233.12 348.385 Q2231.46 350.445 2228.47 351.186 Q2231.85 351.973 2233.72 354.265 Q2235.62 356.556 2235.62 359.866 Q2235.62 364.89 2232.54 367.575 Q2229.49 370.26 2223.77 370.26 Q2218.05 370.26 2214.97 367.575 Q2211.92 364.89 2211.92 359.866 Q2211.92 356.556 2213.82 354.265 Q2215.72 351.973 2219.09 351.186 M2217.38 343.802 Q2217.38 346.487 2219.05 347.992 Q2220.74 349.496 2223.77 349.496 Q2226.78 349.496 2228.47 347.992 Q2230.18 346.487 2230.18 343.802 Q2230.18 341.117 2228.47 339.612 Q2226.78 338.107 2223.77 338.107 Q2220.74 338.107 2219.05 339.612 Q2217.38 341.117 2217.38 343.802 Z\" fill=\"#000000\" fill-rule=\"evenodd\" fill-opacity=\"1\" /><polyline clip-path=\"url(#clip920)\" style=\"stroke:#00a9ad; stroke-linecap:butt; stroke-linejoin:round; stroke-width:4; stroke-opacity:1; fill:none\" points=\"\n  1555.05,404.149 1693.22,404.149 \n  \"/>\n<path clip-path=\"url(#clip920)\" d=\"M1721.88 417.493 L1738.19 417.493 L1738.19 421.429 L1716.25 421.429 L1716.25 417.493 Q1718.91 414.739 1723.5 410.109 Q1728.1 405.456 1729.28 404.114 Q1731.53 401.591 1732.41 399.855 Q1733.31 398.095 1733.31 396.406 Q1733.31 393.651 1731.37 391.915 Q1729.44 390.179 1726.34 390.179 Q1724.14 390.179 1721.69 390.943 Q1719.26 391.707 1716.48 393.257 L1716.48 388.535 Q1719.31 387.401 1721.76 386.822 Q1724.21 386.244 1726.25 386.244 Q1731.62 386.244 1734.82 388.929 Q1738.01 391.614 1738.01 396.105 Q1738.01 398.234 1737.2 400.156 Q1736.41 402.054 1734.31 404.646 Q1733.73 405.318 1730.63 408.535 Q1727.52 411.73 1721.88 417.493 Z\" fill=\"#000000\" fill-rule=\"evenodd\" fill-opacity=\"1\" /><path clip-path=\"url(#clip920)\" d=\"M1748.01 415.549 L1752.89 415.549 L1752.89 421.429 L1748.01 421.429 L1748.01 415.549 Z\" fill=\"#000000\" fill-rule=\"evenodd\" fill-opacity=\"1\" /><path clip-path=\"url(#clip920)\" d=\"M1767.11 417.493 L1783.43 417.493 L1783.43 421.429 L1761.48 421.429 L1761.48 417.493 Q1764.14 414.739 1768.73 410.109 Q1773.33 405.456 1774.51 404.114 Q1776.76 401.591 1777.64 399.855 Q1778.54 398.095 1778.54 396.406 Q1778.54 393.651 1776.6 391.915 Q1774.68 390.179 1771.57 390.179 Q1769.38 390.179 1766.92 390.943 Q1764.49 391.707 1761.71 393.257 L1761.71 388.535 Q1764.54 387.401 1766.99 386.822 Q1769.44 386.244 1771.48 386.244 Q1776.85 386.244 1780.05 388.929 Q1783.24 391.614 1783.24 396.105 Q1783.24 398.234 1782.43 400.156 Q1781.64 402.054 1779.54 404.646 Q1778.96 405.318 1775.86 408.535 Q1772.75 411.73 1767.11 417.493 Z\" fill=\"#000000\" fill-rule=\"evenodd\" fill-opacity=\"1\" /><path clip-path=\"url(#clip920)\" d=\"M1793.29 386.869 L1811.64 386.869 L1811.64 390.804 L1797.57 390.804 L1797.57 399.276 Q1798.59 398.929 1799.61 398.767 Q1800.62 398.582 1801.64 398.582 Q1807.43 398.582 1810.81 401.753 Q1814.19 404.924 1814.19 410.341 Q1814.19 415.919 1810.72 419.021 Q1807.25 422.1 1800.93 422.1 Q1798.75 422.1 1796.48 421.73 Q1794.24 421.359 1791.83 420.618 L1791.83 415.919 Q1793.91 417.054 1796.13 417.609 Q1798.36 418.165 1800.83 418.165 Q1804.84 418.165 1807.18 416.058 Q1809.51 413.952 1809.51 410.341 Q1809.51 406.73 1807.18 404.623 Q1804.84 402.517 1800.83 402.517 Q1798.96 402.517 1797.08 402.933 Q1795.23 403.35 1793.29 404.23 L1793.29 386.869 Z\" fill=\"#000000\" fill-rule=\"evenodd\" fill-opacity=\"1\" /><polyline clip-path=\"url(#clip920)\" style=\"stroke:#ed5d92; stroke-linecap:butt; stroke-linejoin:round; stroke-width:4; stroke-opacity:1; fill:none\" points=\"\n  1555.05,455.989 1693.22,455.989 \n  \"/>\n<path clip-path=\"url(#clip920)\" d=\"M1721.88 469.333 L1738.19 469.333 L1738.19 473.269 L1716.25 473.269 L1716.25 469.333 Q1718.91 466.579 1723.5 461.949 Q1728.1 457.296 1729.28 455.954 Q1731.53 453.431 1732.41 451.695 Q1733.31 449.935 1733.31 448.246 Q1733.31 445.491 1731.37 443.755 Q1729.44 442.019 1726.34 442.019 Q1724.14 442.019 1721.69 442.783 Q1719.26 443.547 1716.48 445.097 L1716.48 440.375 Q1719.31 439.241 1721.76 438.662 Q1724.21 438.084 1726.25 438.084 Q1731.62 438.084 1734.82 440.769 Q1738.01 443.454 1738.01 447.945 Q1738.01 450.074 1737.2 451.996 Q1736.41 453.894 1734.31 456.486 Q1733.73 457.158 1730.63 460.375 Q1727.52 463.57 1721.88 469.333 Z\" fill=\"#000000\" fill-rule=\"evenodd\" fill-opacity=\"1\" /><path clip-path=\"url(#clip920)\" d=\"M1748.01 467.389 L1752.89 467.389 L1752.89 473.269 L1748.01 473.269 L1748.01 467.389 Z\" fill=\"#000000\" fill-rule=\"evenodd\" fill-opacity=\"1\" /><path clip-path=\"url(#clip920)\" d=\"M1761.9 438.709 L1784.12 438.709 L1784.12 440.699 L1771.57 473.269 L1766.69 473.269 L1778.5 442.644 L1761.9 442.644 L1761.9 438.709 Z\" fill=\"#000000\" fill-rule=\"evenodd\" fill-opacity=\"1\" /><path clip-path=\"url(#clip920)\" d=\"M1793.29 438.709 L1811.64 438.709 L1811.64 442.644 L1797.57 442.644 L1797.57 451.116 Q1798.59 450.769 1799.61 450.607 Q1800.62 450.422 1801.64 450.422 Q1807.43 450.422 1810.81 453.593 Q1814.19 456.764 1814.19 462.181 Q1814.19 467.759 1810.72 470.861 Q1807.25 473.94 1800.93 473.94 Q1798.75 473.94 1796.48 473.57 Q1794.24 473.199 1791.83 472.458 L1791.83 467.759 Q1793.91 468.894 1796.13 469.449 Q1798.36 470.005 1800.83 470.005 Q1804.84 470.005 1807.18 467.898 Q1809.51 465.792 1809.51 462.181 Q1809.51 458.57 1807.18 456.463 Q1804.84 454.357 1800.83 454.357 Q1798.96 454.357 1797.08 454.773 Q1795.23 455.19 1793.29 456.07 L1793.29 438.709 Z\" fill=\"#000000\" fill-rule=\"evenodd\" fill-opacity=\"1\" /><polyline clip-path=\"url(#clip920)\" style=\"stroke:#c68125; stroke-linecap:butt; stroke-linejoin:round; stroke-width:4; stroke-opacity:1; fill:none\" points=\"\n  1555.05,507.829 1693.22,507.829 \n  \"/>\n<path clip-path=\"url(#clip920)\" d=\"M1731.88 506.474 Q1735.23 507.192 1737.11 509.461 Q1739 511.729 1739 515.062 Q1739 520.178 1735.49 522.979 Q1731.97 525.78 1725.49 525.78 Q1723.31 525.78 1721 525.34 Q1718.7 524.923 1716.25 524.067 L1716.25 519.553 Q1718.19 520.687 1720.51 521.266 Q1722.82 521.845 1725.35 521.845 Q1729.75 521.845 1732.04 520.109 Q1734.35 518.373 1734.35 515.062 Q1734.35 512.007 1732.2 510.294 Q1730.07 508.558 1726.25 508.558 L1722.22 508.558 L1722.22 504.715 L1726.44 504.715 Q1729.88 504.715 1731.71 503.349 Q1733.54 501.961 1733.54 499.368 Q1733.54 496.706 1731.64 495.294 Q1729.77 493.859 1726.25 493.859 Q1724.33 493.859 1722.13 494.275 Q1719.93 494.692 1717.29 495.572 L1717.29 491.405 Q1719.95 490.664 1722.27 490.294 Q1724.61 489.924 1726.67 489.924 Q1731.99 489.924 1735.09 492.354 Q1738.19 494.762 1738.19 498.882 Q1738.19 501.752 1736.55 503.743 Q1734.91 505.711 1731.88 506.474 Z\" fill=\"#000000\" fill-rule=\"evenodd\" fill-opacity=\"1\" /><path clip-path=\"url(#clip920)\" d=\"M1747.87 519.229 L1752.75 519.229 L1752.75 525.109 L1747.87 525.109 L1747.87 519.229 Z\" fill=\"#000000\" fill-rule=\"evenodd\" fill-opacity=\"1\" /><path clip-path=\"url(#clip920)\" d=\"M1766.97 521.173 L1783.29 521.173 L1783.29 525.109 L1761.34 525.109 L1761.34 521.173 Q1764 518.419 1768.59 513.789 Q1773.19 509.136 1774.38 507.794 Q1776.62 505.271 1777.5 503.535 Q1778.4 501.775 1778.4 500.086 Q1778.4 497.331 1776.46 495.595 Q1774.54 493.859 1771.44 493.859 Q1769.24 493.859 1766.78 494.623 Q1764.35 495.387 1761.57 496.937 L1761.57 492.215 Q1764.4 491.081 1766.85 490.502 Q1769.31 489.924 1771.34 489.924 Q1776.71 489.924 1779.91 492.609 Q1783.1 495.294 1783.1 499.785 Q1783.1 501.914 1782.29 503.836 Q1781.5 505.734 1779.4 508.326 Q1778.82 508.998 1775.72 512.215 Q1772.62 515.41 1766.97 521.173 Z\" fill=\"#000000\" fill-rule=\"evenodd\" fill-opacity=\"1\" /><path clip-path=\"url(#clip920)\" d=\"M1793.15 490.549 L1811.5 490.549 L1811.5 494.484 L1797.43 494.484 L1797.43 502.956 Q1798.45 502.609 1799.47 502.447 Q1800.49 502.262 1801.5 502.262 Q1807.29 502.262 1810.67 505.433 Q1814.05 508.604 1814.05 514.021 Q1814.05 519.599 1810.58 522.701 Q1807.11 525.78 1800.79 525.78 Q1798.61 525.78 1796.34 525.41 Q1794.1 525.039 1791.69 524.298 L1791.69 519.599 Q1793.77 520.734 1796 521.289 Q1798.22 521.845 1800.69 521.845 Q1804.7 521.845 1807.04 519.738 Q1809.37 517.632 1809.37 514.021 Q1809.37 510.41 1807.04 508.303 Q1804.7 506.197 1800.69 506.197 Q1798.82 506.197 1796.94 506.613 Q1795.09 507.03 1793.15 507.91 L1793.15 490.549 Z\" fill=\"#000000\" fill-rule=\"evenodd\" fill-opacity=\"1\" /><polyline clip-path=\"url(#clip920)\" style=\"stroke:#00a98d; stroke-linecap:butt; stroke-linejoin:round; stroke-width:4; stroke-opacity:1; fill:none\" points=\"\n  1555.05,559.669 1693.22,559.669 \n  \"/>\n<path clip-path=\"url(#clip920)\" d=\"M1731.88 558.314 Q1735.23 559.032 1737.11 561.301 Q1739 563.569 1739 566.902 Q1739 572.018 1735.49 574.819 Q1731.97 577.62 1725.49 577.62 Q1723.31 577.62 1721 577.18 Q1718.7 576.763 1716.25 575.907 L1716.25 571.393 Q1718.19 572.527 1720.51 573.106 Q1722.82 573.685 1725.35 573.685 Q1729.75 573.685 1732.04 571.949 Q1734.35 570.213 1734.35 566.902 Q1734.35 563.847 1732.2 562.134 Q1730.07 560.398 1726.25 560.398 L1722.22 560.398 L1722.22 556.555 L1726.44 556.555 Q1729.88 556.555 1731.71 555.189 Q1733.54 553.801 1733.54 551.208 Q1733.54 548.546 1731.64 547.134 Q1729.77 545.699 1726.25 545.699 Q1724.33 545.699 1722.13 546.115 Q1719.93 546.532 1717.29 547.412 L1717.29 543.245 Q1719.95 542.504 1722.27 542.134 Q1724.61 541.764 1726.67 541.764 Q1731.99 541.764 1735.09 544.194 Q1738.19 546.602 1738.19 550.722 Q1738.19 553.592 1736.55 555.583 Q1734.91 557.551 1731.88 558.314 Z\" fill=\"#000000\" fill-rule=\"evenodd\" fill-opacity=\"1\" /><path clip-path=\"url(#clip920)\" d=\"M1747.87 571.069 L1752.75 571.069 L1752.75 576.949 L1747.87 576.949 L1747.87 571.069 Z\" fill=\"#000000\" fill-rule=\"evenodd\" fill-opacity=\"1\" /><path clip-path=\"url(#clip920)\" d=\"M1761.76 542.389 L1783.98 542.389 L1783.98 544.379 L1771.44 576.949 L1766.55 576.949 L1778.36 546.324 L1761.76 546.324 L1761.76 542.389 Z\" fill=\"#000000\" fill-rule=\"evenodd\" fill-opacity=\"1\" /><path clip-path=\"url(#clip920)\" d=\"M1793.15 542.389 L1811.5 542.389 L1811.5 546.324 L1797.43 546.324 L1797.43 554.796 Q1798.45 554.449 1799.47 554.287 Q1800.49 554.102 1801.5 554.102 Q1807.29 554.102 1810.67 557.273 Q1814.05 560.444 1814.05 565.861 Q1814.05 571.439 1810.58 574.541 Q1807.11 577.62 1800.79 577.62 Q1798.61 577.62 1796.34 577.25 Q1794.1 576.879 1791.69 576.138 L1791.69 571.439 Q1793.77 572.574 1796 573.129 Q1798.22 573.685 1800.69 573.685 Q1804.7 573.685 1807.04 571.578 Q1809.37 569.472 1809.37 565.861 Q1809.37 562.25 1807.04 560.143 Q1804.7 558.037 1800.69 558.037 Q1798.82 558.037 1796.94 558.453 Q1795.09 558.87 1793.15 559.75 L1793.15 542.389 Z\" fill=\"#000000\" fill-rule=\"evenodd\" fill-opacity=\"1\" /><polyline clip-path=\"url(#clip920)\" style=\"stroke:#8e971d; stroke-linecap:butt; stroke-linejoin:round; stroke-width:4; stroke-opacity:1; fill:none\" points=\"\n  1555.05,611.509 1693.22,611.509 \n  \"/>\n<path clip-path=\"url(#clip920)\" d=\"M1731.85 598.303 L1720.05 616.752 L1731.85 616.752 L1731.85 598.303 M1730.63 594.229 L1736.5 594.229 L1736.5 616.752 L1741.44 616.752 L1741.44 620.641 L1736.5 620.641 L1736.5 628.789 L1731.85 628.789 L1731.85 620.641 L1716.25 620.641 L1716.25 616.127 L1730.63 594.229 Z\" fill=\"#000000\" fill-rule=\"evenodd\" fill-opacity=\"1\" /><path clip-path=\"url(#clip920)\" d=\"M1749.17 622.909 L1754.05 622.909 L1754.05 628.789 L1749.17 628.789 L1749.17 622.909 Z\" fill=\"#000000\" fill-rule=\"evenodd\" fill-opacity=\"1\" /><path clip-path=\"url(#clip920)\" d=\"M1768.26 624.853 L1784.58 624.853 L1784.58 628.789 L1762.64 628.789 L1762.64 624.853 Q1765.3 622.099 1769.88 617.469 Q1774.49 612.816 1775.67 611.474 Q1777.92 608.951 1778.8 607.215 Q1779.7 605.455 1779.7 603.766 Q1779.7 601.011 1777.75 599.275 Q1775.83 597.539 1772.73 597.539 Q1770.53 597.539 1768.08 598.303 Q1765.65 599.067 1762.87 600.617 L1762.87 595.895 Q1765.69 594.761 1768.15 594.182 Q1770.6 593.604 1772.64 593.604 Q1778.01 593.604 1781.2 596.289 Q1784.4 598.974 1784.4 603.465 Q1784.4 605.594 1783.59 607.516 Q1782.8 609.414 1780.69 612.006 Q1780.12 612.678 1777.01 615.895 Q1773.91 619.09 1768.26 624.853 Z\" fill=\"#000000\" fill-rule=\"evenodd\" fill-opacity=\"1\" /><path clip-path=\"url(#clip920)\" d=\"M1794.44 594.229 L1812.8 594.229 L1812.8 598.164 L1798.73 598.164 L1798.73 606.636 Q1799.75 606.289 1800.76 606.127 Q1801.78 605.942 1802.8 605.942 Q1808.59 605.942 1811.97 609.113 Q1815.35 612.284 1815.35 617.701 Q1815.35 623.279 1811.87 626.381 Q1808.4 629.46 1802.08 629.46 Q1799.91 629.46 1797.64 629.09 Q1795.39 628.719 1792.99 627.978 L1792.99 623.279 Q1795.07 624.414 1797.29 624.969 Q1799.51 625.525 1801.99 625.525 Q1806 625.525 1808.33 623.418 Q1810.67 621.312 1810.67 617.701 Q1810.67 614.09 1808.33 611.983 Q1806 609.877 1801.99 609.877 Q1800.12 609.877 1798.24 610.293 Q1796.39 610.71 1794.44 611.59 L1794.44 594.229 Z\" fill=\"#000000\" fill-rule=\"evenodd\" fill-opacity=\"1\" /><polyline clip-path=\"url(#clip920)\" style=\"stroke:#00a8cb; stroke-linecap:butt; stroke-linejoin:round; stroke-width:4; stroke-opacity:1; fill:none\" points=\"\n  1555.05,663.349 1693.22,663.349 \n  \"/>\n<path clip-path=\"url(#clip920)\" d=\"M1731.85 650.143 L1720.05 668.592 L1731.85 668.592 L1731.85 650.143 M1730.63 646.069 L1736.5 646.069 L1736.5 668.592 L1741.44 668.592 L1741.44 672.481 L1736.5 672.481 L1736.5 680.629 L1731.85 680.629 L1731.85 672.481 L1716.25 672.481 L1716.25 667.967 L1730.63 646.069 Z\" fill=\"#000000\" fill-rule=\"evenodd\" fill-opacity=\"1\" /><path clip-path=\"url(#clip920)\" d=\"M1749.17 674.749 L1754.05 674.749 L1754.05 680.629 L1749.17 680.629 L1749.17 674.749 Z\" fill=\"#000000\" fill-rule=\"evenodd\" fill-opacity=\"1\" /><path clip-path=\"url(#clip920)\" d=\"M1763.06 646.069 L1785.28 646.069 L1785.28 648.059 L1772.73 680.629 L1767.85 680.629 L1779.65 650.004 L1763.06 650.004 L1763.06 646.069 Z\" fill=\"#000000\" fill-rule=\"evenodd\" fill-opacity=\"1\" /><path clip-path=\"url(#clip920)\" d=\"M1807.25 650.143 L1795.44 668.592 L1807.25 668.592 L1807.25 650.143 M1806.02 646.069 L1811.9 646.069 L1811.9 668.592 L1816.83 668.592 L1816.83 672.481 L1811.9 672.481 L1811.9 680.629 L1807.25 680.629 L1807.25 672.481 L1791.64 672.481 L1791.64 667.967 L1806.02 646.069 Z\" fill=\"#000000\" fill-rule=\"evenodd\" fill-opacity=\"1\" /><path clip-path=\"url(#clip920)\" d=\"M1824.7 679.911 L1824.7 675.652 Q1826.46 676.485 1828.26 676.925 Q1830.07 677.365 1831.81 677.365 Q1836.43 677.365 1838.87 674.263 Q1841.32 671.138 1841.67 664.795 Q1840.32 666.786 1838.26 667.851 Q1836.2 668.916 1833.7 668.916 Q1828.52 668.916 1825.49 665.791 Q1822.48 662.643 1822.48 657.203 Q1822.48 651.879 1825.62 648.661 Q1828.77 645.444 1834 645.444 Q1840 645.444 1843.15 650.05 Q1846.32 654.633 1846.32 663.383 Q1846.32 671.555 1842.43 676.439 Q1838.56 681.3 1832.01 681.3 Q1830.25 681.3 1828.45 680.953 Q1826.64 680.605 1824.7 679.911 M1834 665.258 Q1837.15 665.258 1838.98 663.106 Q1840.83 660.953 1840.83 657.203 Q1840.83 653.476 1838.98 651.323 Q1837.15 649.147 1834 649.147 Q1830.86 649.147 1829 651.323 Q1827.18 653.476 1827.18 657.203 Q1827.18 660.953 1829 663.106 Q1830.86 665.258 1834 665.258 Z\" fill=\"#000000\" fill-rule=\"evenodd\" fill-opacity=\"1\" /><path clip-path=\"url(#clip920)\" d=\"M1854.86 679.911 L1854.86 675.652 Q1856.62 676.485 1858.43 676.925 Q1860.23 677.365 1861.97 677.365 Q1866.6 677.365 1869.03 674.263 Q1871.48 671.138 1871.83 664.795 Q1870.49 666.786 1868.43 667.851 Q1866.37 668.916 1863.87 668.916 Q1858.68 668.916 1855.65 665.791 Q1852.64 662.643 1852.64 657.203 Q1852.64 651.879 1855.79 648.661 Q1858.93 645.444 1864.17 645.444 Q1870.16 645.444 1873.31 650.05 Q1876.48 654.633 1876.48 663.383 Q1876.48 671.555 1872.59 676.439 Q1868.73 681.3 1862.18 681.3 Q1860.42 681.3 1858.61 680.953 Q1856.81 680.605 1854.86 679.911 M1864.17 665.258 Q1867.31 665.258 1869.14 663.106 Q1870.99 660.953 1870.99 657.203 Q1870.99 653.476 1869.14 651.323 Q1867.31 649.147 1864.17 649.147 Q1861.02 649.147 1859.17 651.323 Q1857.34 653.476 1857.34 657.203 Q1857.34 660.953 1859.17 663.106 Q1861.02 665.258 1864.17 665.258 Z\" fill=\"#000000\" fill-rule=\"evenodd\" fill-opacity=\"1\" /><path clip-path=\"url(#clip920)\" d=\"M1885.02 679.911 L1885.02 675.652 Q1886.78 676.485 1888.59 676.925 Q1890.39 677.365 1892.13 677.365 Q1896.76 677.365 1899.19 674.263 Q1901.64 671.138 1901.99 664.795 Q1900.65 666.786 1898.59 667.851 Q1896.53 668.916 1894.03 668.916 Q1888.84 668.916 1885.81 665.791 Q1882.8 662.643 1882.8 657.203 Q1882.8 651.879 1885.95 648.661 Q1889.1 645.444 1894.33 645.444 Q1900.32 645.444 1903.47 650.05 Q1906.64 654.633 1906.64 663.383 Q1906.64 671.555 1902.75 676.439 Q1898.89 681.3 1892.34 681.3 Q1890.58 681.3 1888.77 680.953 Q1886.97 680.605 1885.02 679.911 M1894.33 665.258 Q1897.48 665.258 1899.3 663.106 Q1901.16 660.953 1901.16 657.203 Q1901.16 653.476 1899.3 651.323 Q1897.48 649.147 1894.33 649.147 Q1891.18 649.147 1889.33 651.323 Q1887.5 653.476 1887.5 657.203 Q1887.5 660.953 1889.33 663.106 Q1891.18 665.258 1894.33 665.258 Z\" fill=\"#000000\" fill-rule=\"evenodd\" fill-opacity=\"1\" /><path clip-path=\"url(#clip920)\" d=\"M1915.18 679.911 L1915.18 675.652 Q1916.94 676.485 1918.75 676.925 Q1920.55 677.365 1922.29 677.365 Q1926.92 677.365 1929.35 674.263 Q1931.8 671.138 1932.15 664.795 Q1930.81 666.786 1928.75 667.851 Q1926.69 668.916 1924.19 668.916 Q1919 668.916 1915.97 665.791 Q1912.96 662.643 1912.96 657.203 Q1912.96 651.879 1916.11 648.661 Q1919.26 645.444 1924.49 645.444 Q1930.49 645.444 1933.63 650.05 Q1936.8 654.633 1936.8 663.383 Q1936.8 671.555 1932.92 676.439 Q1929.05 681.3 1922.5 681.3 Q1920.74 681.3 1918.93 680.953 Q1917.13 680.605 1915.18 679.911 M1924.49 665.258 Q1927.64 665.258 1929.47 663.106 Q1931.32 660.953 1931.32 657.203 Q1931.32 653.476 1929.47 651.323 Q1927.64 649.147 1924.49 649.147 Q1921.34 649.147 1919.49 651.323 Q1917.66 653.476 1917.66 657.203 Q1917.66 660.953 1919.49 663.106 Q1921.34 665.258 1924.49 665.258 Z\" fill=\"#000000\" fill-rule=\"evenodd\" fill-opacity=\"1\" /><path clip-path=\"url(#clip920)\" d=\"M1945.35 679.911 L1945.35 675.652 Q1947.11 676.485 1948.91 676.925 Q1950.72 677.365 1952.45 677.365 Q1957.08 677.365 1959.51 674.263 Q1961.97 671.138 1962.31 664.795 Q1960.97 666.786 1958.91 667.851 Q1956.85 668.916 1954.35 668.916 Q1949.17 668.916 1946.13 665.791 Q1943.12 662.643 1943.12 657.203 Q1943.12 651.879 1946.27 648.661 Q1949.42 645.444 1954.65 645.444 Q1960.65 645.444 1963.8 650.05 Q1966.97 654.633 1966.97 663.383 Q1966.97 671.555 1963.08 676.439 Q1959.21 681.3 1952.66 681.3 Q1950.9 681.3 1949.1 680.953 Q1947.29 680.605 1945.35 679.911 M1954.65 665.258 Q1957.8 665.258 1959.63 663.106 Q1961.48 660.953 1961.48 657.203 Q1961.48 653.476 1959.63 651.323 Q1957.8 649.147 1954.65 649.147 Q1951.5 649.147 1949.65 651.323 Q1947.82 653.476 1947.82 657.203 Q1947.82 660.953 1949.65 663.106 Q1951.5 665.258 1954.65 665.258 Z\" fill=\"#000000\" fill-rule=\"evenodd\" fill-opacity=\"1\" /><path clip-path=\"url(#clip920)\" d=\"M1975.51 679.911 L1975.51 675.652 Q1977.27 676.485 1979.07 676.925 Q1980.88 677.365 1982.61 677.365 Q1987.24 677.365 1989.67 674.263 Q1992.13 671.138 1992.48 664.795 Q1991.13 666.786 1989.07 667.851 Q1987.01 668.916 1984.51 668.916 Q1979.33 668.916 1976.3 665.791 Q1973.29 662.643 1973.29 657.203 Q1973.29 651.879 1976.43 648.661 Q1979.58 645.444 1984.81 645.444 Q1990.81 645.444 1993.96 650.05 Q1997.13 654.633 1997.13 663.383 Q1997.13 671.555 1993.24 676.439 Q1989.37 681.3 1982.82 681.3 Q1981.06 681.3 1979.26 680.953 Q1977.45 680.605 1975.51 679.911 M1984.81 665.258 Q1987.96 665.258 1989.79 663.106 Q1991.64 660.953 1991.64 657.203 Q1991.64 653.476 1989.79 651.323 Q1987.96 649.147 1984.81 649.147 Q1981.67 649.147 1979.81 651.323 Q1977.99 653.476 1977.99 657.203 Q1977.99 660.953 1979.81 663.106 Q1981.67 665.258 1984.81 665.258 Z\" fill=\"#000000\" fill-rule=\"evenodd\" fill-opacity=\"1\" /><path clip-path=\"url(#clip920)\" d=\"M2005.67 679.911 L2005.67 675.652 Q2007.43 676.485 2009.23 676.925 Q2011.04 677.365 2012.78 677.365 Q2017.41 677.365 2019.84 674.263 Q2022.29 671.138 2022.64 664.795 Q2021.3 666.786 2019.23 667.851 Q2017.17 668.916 2014.67 668.916 Q2009.49 668.916 2006.46 665.791 Q2003.45 662.643 2003.45 657.203 Q2003.45 651.879 2006.6 648.661 Q2009.74 645.444 2014.98 645.444 Q2020.97 645.444 2024.12 650.05 Q2027.29 654.633 2027.29 663.383 Q2027.29 671.555 2023.4 676.439 Q2019.54 681.3 2012.98 681.3 Q2011.23 681.3 2009.42 680.953 Q2007.61 680.605 2005.67 679.911 M2014.98 665.258 Q2018.12 665.258 2019.95 663.106 Q2021.8 660.953 2021.8 657.203 Q2021.8 653.476 2019.95 651.323 Q2018.12 649.147 2014.98 649.147 Q2011.83 649.147 2009.98 651.323 Q2008.15 653.476 2008.15 657.203 Q2008.15 660.953 2009.98 663.106 Q2011.83 665.258 2014.98 665.258 Z\" fill=\"#000000\" fill-rule=\"evenodd\" fill-opacity=\"1\" /><path clip-path=\"url(#clip920)\" d=\"M2035.83 679.911 L2035.83 675.652 Q2037.59 676.485 2039.4 676.925 Q2041.2 677.365 2042.94 677.365 Q2047.57 677.365 2050 674.263 Q2052.45 671.138 2052.8 664.795 Q2051.46 666.786 2049.4 667.851 Q2047.34 668.916 2044.84 668.916 Q2039.65 668.916 2036.62 665.791 Q2033.61 662.643 2033.61 657.203 Q2033.61 651.879 2036.76 648.661 Q2039.91 645.444 2045.14 645.444 Q2051.13 645.444 2054.28 650.05 Q2057.45 654.633 2057.45 663.383 Q2057.45 671.555 2053.56 676.439 Q2049.7 681.3 2043.15 681.3 Q2041.39 681.3 2039.58 680.953 Q2037.78 680.605 2035.83 679.911 M2045.14 665.258 Q2048.29 665.258 2050.11 663.106 Q2051.97 660.953 2051.97 657.203 Q2051.97 653.476 2050.11 651.323 Q2048.29 649.147 2045.14 649.147 Q2041.99 649.147 2040.14 651.323 Q2038.31 653.476 2038.31 657.203 Q2038.31 660.953 2040.14 663.106 Q2041.99 665.258 2045.14 665.258 Z\" fill=\"#000000\" fill-rule=\"evenodd\" fill-opacity=\"1\" /><path clip-path=\"url(#clip920)\" d=\"M2065.99 679.911 L2065.99 675.652 Q2067.75 676.485 2069.56 676.925 Q2071.36 677.365 2073.1 677.365 Q2077.73 677.365 2080.16 674.263 Q2082.61 671.138 2082.96 664.795 Q2081.62 666.786 2079.56 667.851 Q2077.5 668.916 2075 668.916 Q2069.81 668.916 2066.78 665.791 Q2063.77 662.643 2063.77 657.203 Q2063.77 651.879 2066.92 648.661 Q2070.07 645.444 2075.3 645.444 Q2081.29 645.444 2084.44 650.05 Q2087.61 654.633 2087.61 663.383 Q2087.61 671.555 2083.73 676.439 Q2079.86 681.3 2073.31 681.3 Q2071.55 681.3 2069.74 680.953 Q2067.94 680.605 2065.99 679.911 M2075.3 665.258 Q2078.45 665.258 2080.28 663.106 Q2082.13 660.953 2082.13 657.203 Q2082.13 653.476 2080.28 651.323 Q2078.45 649.147 2075.3 649.147 Q2072.15 649.147 2070.3 651.323 Q2068.47 653.476 2068.47 657.203 Q2068.47 660.953 2070.3 663.106 Q2072.15 665.258 2075.3 665.258 Z\" fill=\"#000000\" fill-rule=\"evenodd\" fill-opacity=\"1\" /><path clip-path=\"url(#clip920)\" d=\"M2096.16 679.911 L2096.16 675.652 Q2097.92 676.485 2099.72 676.925 Q2101.53 677.365 2103.26 677.365 Q2107.89 677.365 2110.32 674.263 Q2112.78 671.138 2113.12 664.795 Q2111.78 666.786 2109.72 667.851 Q2107.66 668.916 2105.16 668.916 Q2099.98 668.916 2096.94 665.791 Q2093.93 662.643 2093.93 657.203 Q2093.93 651.879 2097.08 648.661 Q2100.23 645.444 2105.46 645.444 Q2111.46 645.444 2114.6 650.05 Q2117.78 654.633 2117.78 663.383 Q2117.78 671.555 2113.89 676.439 Q2110.02 681.3 2103.47 681.3 Q2101.71 681.3 2099.91 680.953 Q2098.1 680.605 2096.16 679.911 M2105.46 665.258 Q2108.61 665.258 2110.44 663.106 Q2112.29 660.953 2112.29 657.203 Q2112.29 653.476 2110.44 651.323 Q2108.61 649.147 2105.46 649.147 Q2102.31 649.147 2100.46 651.323 Q2098.63 653.476 2098.63 657.203 Q2098.63 660.953 2100.46 663.106 Q2102.31 665.258 2105.46 665.258 Z\" fill=\"#000000\" fill-rule=\"evenodd\" fill-opacity=\"1\" /><path clip-path=\"url(#clip920)\" d=\"M2126.32 679.911 L2126.32 675.652 Q2128.08 676.485 2129.88 676.925 Q2131.69 677.365 2133.42 677.365 Q2138.05 677.365 2140.48 674.263 Q2142.94 671.138 2143.29 664.795 Q2141.94 666.786 2139.88 667.851 Q2137.82 668.916 2135.32 668.916 Q2130.14 668.916 2127.1 665.791 Q2124.1 662.643 2124.1 657.203 Q2124.1 651.879 2127.24 648.661 Q2130.39 645.444 2135.62 645.444 Q2141.62 645.444 2144.77 650.05 Q2147.94 654.633 2147.94 663.383 Q2147.94 671.555 2144.05 676.439 Q2140.18 681.3 2133.63 681.3 Q2131.87 681.3 2130.07 680.953 Q2128.26 680.605 2126.32 679.911 M2135.62 665.258 Q2138.77 665.258 2140.6 663.106 Q2142.45 660.953 2142.45 657.203 Q2142.45 653.476 2140.6 651.323 Q2138.77 649.147 2135.62 649.147 Q2132.48 649.147 2130.62 651.323 Q2128.79 653.476 2128.79 657.203 Q2128.79 660.953 2130.62 663.106 Q2132.48 665.258 2135.62 665.258 Z\" fill=\"#000000\" fill-rule=\"evenodd\" fill-opacity=\"1\" /><path clip-path=\"url(#clip920)\" d=\"M2156.48 679.911 L2156.48 675.652 Q2158.24 676.485 2160.04 676.925 Q2161.85 677.365 2163.59 677.365 Q2168.22 677.365 2170.65 674.263 Q2173.1 671.138 2173.45 664.795 Q2172.1 666.786 2170.04 667.851 Q2167.98 668.916 2165.48 668.916 Q2160.3 668.916 2157.27 665.791 Q2154.26 662.643 2154.26 657.203 Q2154.26 651.879 2157.41 648.661 Q2160.55 645.444 2165.79 645.444 Q2171.78 645.444 2174.93 650.05 Q2178.1 654.633 2178.1 663.383 Q2178.1 671.555 2174.21 676.439 Q2170.35 681.3 2163.79 681.3 Q2162.04 681.3 2160.23 680.953 Q2158.42 680.605 2156.48 679.911 M2165.79 665.258 Q2168.93 665.258 2170.76 663.106 Q2172.61 660.953 2172.61 657.203 Q2172.61 653.476 2170.76 651.323 Q2168.93 649.147 2165.79 649.147 Q2162.64 649.147 2160.79 651.323 Q2158.96 653.476 2158.96 657.203 Q2158.96 660.953 2160.79 663.106 Q2162.64 665.258 2165.79 665.258 Z\" fill=\"#000000\" fill-rule=\"evenodd\" fill-opacity=\"1\" /><path clip-path=\"url(#clip920)\" d=\"M2186.64 679.911 L2186.64 675.652 Q2188.4 676.485 2190.21 676.925 Q2192.01 677.365 2193.75 677.365 Q2198.38 677.365 2200.81 674.263 Q2203.26 671.138 2203.61 664.795 Q2202.27 666.786 2200.21 667.851 Q2198.15 668.916 2195.65 668.916 Q2190.46 668.916 2187.43 665.791 Q2184.42 662.643 2184.42 657.203 Q2184.42 651.879 2187.57 648.661 Q2190.72 645.444 2195.95 645.444 Q2201.94 645.444 2205.09 650.05 Q2208.26 654.633 2208.26 663.383 Q2208.26 671.555 2204.37 676.439 Q2200.51 681.3 2193.96 681.3 Q2192.2 681.3 2190.39 680.953 Q2188.59 680.605 2186.64 679.911 M2195.95 665.258 Q2199.1 665.258 2200.92 663.106 Q2202.78 660.953 2202.78 657.203 Q2202.78 653.476 2200.92 651.323 Q2199.1 649.147 2195.95 649.147 Q2192.8 649.147 2190.95 651.323 Q2189.12 653.476 2189.12 657.203 Q2189.12 660.953 2190.95 663.106 Q2192.8 665.258 2195.95 665.258 Z\" fill=\"#000000\" fill-rule=\"evenodd\" fill-opacity=\"1\" /></svg>\n"
     },
     "execution_count": 19,
     "metadata": {},
     "output_type": "execute_result"
    }
   ],
   "source": [
    "# Same as before but applied on toulouse_neigh. May be a bit long to run.\n",
    "toulouse_neigh = barabasi_albert(1000, 1)\n",
    "\n",
    "betas = [0.05,0.1,0.15,0.25,0.35,0.45,0.55,0.65,0.75,0.85,0.95]\n",
    "alphas = [0.2,0.2,0.2,0.2,0.2,0.2,0.2,0.2,0.2,0.2,0.2]\n",
    "\n",
    "# Same thing here, the original timestep values were waaay too high. I really can't leave my computer\n",
    "# running overnight every time I want to run this script.\n",
    "\n",
    "# predictions, taus = Simulation_SIS(toulouse_neigh,100,betas,alphas,1000,100)\n",
    "predictions, taus = Simulation_SIR(toulouse_neigh,100,betas,alphas,100,100)\n",
    "\n",
    "Plots.plot(predictions[:,:,1], label=taus',xlabel=\"Time\",ylabel=\"Avg % of infected\")\n",
    "savefig(\"out/toulouse_neigh_predictions_SIR.png\") # comment this line if you want to see the plot"
   ]
  },
  {
   "cell_type": "markdown",
   "metadata": {},
   "source": [
    "<div style=\"width:75%;margin:0 auto;\">\n",
    "\n",
    "<strong style=\"color:cornflowerblue\">Question 14 (code):</strong> Implement a script plotting the number of infected over 75 time steps for $\\beta=0.3$ and $\\alpha=0.2$ fixed and on 3 contact networks:\n",
    "    \n",
    "* A regular graph of 200 vertices with degree 2.\n",
    "* A regular graph of 200 vertices with degree 5.\n",
    "* A regular graph of 200 vertices with degree 10.\n",
    "\n",
    "</div>\n",
    "\n",
    "    "
   ]
  },
  {
   "cell_type": "code",
   "execution_count": 25,
   "metadata": {},
   "outputs": [],
   "source": [
    "# Plots of the number of infected people according to tau over 75 time \n",
    "# steps for 3 contact networks.\n",
    "#########\n",
    "# Plots of the maximum percentage of infected people according to tau over 300 time \n",
    "# steps for 3 contact networks.\n",
    "\n",
    "samples = 10\n",
    "initial_infected = 5\n",
    "\n",
    "graph1 = random_regular_graph(200, 2)\n",
    "graph2 = random_regular_graph(200, 5)\n",
    "graph3 = random_regular_graph(200, 10)\n",
    "\n",
    "alphas=[0.3 for i in 1:samples]\n",
    "betas=[0.2 for i in 1:samples]\n",
    "taus = betas ./ alphas\n",
    "\n",
    "prediction1, ~ = Simulation_SIR(graph1, initial_infected, betas, alphas, 100, 1)\n",
    "prediction2, ~ = Simulation_SIR(graph2, initial_infected, betas, alphas, 100, 1)\n",
    "prediction3, ~ = Simulation_SIR(graph3, initial_infected, betas, alphas, 100, 1)\n",
    "# plot the results\n",
    "\n",
    "Plots.plot(prediction1[:,:,1], label=taus',xlabel=\"Time\",ylabel=\"% of infected\")\n",
    "savefig(\"out/SIR_2_infected.png\") # comment this line if you want to see the plot\n",
    "Plots.plot(prediction2[:,:,1], label=taus',xlabel=\"Time\",ylabel=\"% of infected\")\n",
    "savefig(\"out/SIR_5_infected.png\") # comment this line if you want to see the plot\n",
    "Plots.plot(prediction3[:,:,1], label=taus',xlabel=\"Time\",ylabel=\"% of infected\")\n",
    "savefig(\"out/SIR_10_infected.png\") # comment this line if you want to see the plot"
   ]
  },
  {
   "cell_type": "markdown",
   "metadata": {},
   "source": [
    "<div style=\"width:75%;margin:0 auto;\">\n",
    "\n",
    "<strong style=\"color:cadetblue\">Question 15 (written):</strong> From the previous figure, explain why lockdown can be interesting when hospital places are lacking ?\n",
    "\n",
    "<br>\n",
    "    \n",
    "On observe que plus le degré des sommets du graphe est faible plus le pourcentage d'infecté sera faible aussi. Cela signifie que moins une personne a de contact, moins la maladie se transmettra facilement. Le couvre feu permet de réduire ce nombre de contacts et donc aide à maintenir un taux de transmission plus faible.\n",
    "\n",
    "</div>\n"
   ]
  },
  {
   "cell_type": "markdown",
   "metadata": {},
   "source": [
    "<div style=\"width:75%;margin:0 auto;\">\n",
    "\n",
    "### 2.2 SAIR\n",
    "    \n",
    "<p style=\"text-align:justify;\">The vector containing the disease status <code>state</code> has to change a bit since we added a new state. Hence it will be an <code>Array{Int32,1}</code> where Susceptible=0, Infected=1, Recovered=2, and Alert=3.</p>\n",
    "\n",
    "</div>\n"
   ]
  },
  {
   "cell_type": "markdown",
   "metadata": {},
   "source": [
    "<div style=\"width:75%;margin:0 auto;\">\n",
    "    \n",
    "<strong style=\"color:cornflowerblue\">Question 16 (code):</strong> Implement the <code>function SAIR</code> (respect the header and the specifications). You can use <code>rand</code> to translate the probabilities. Test your algorithm on <code>karat7</code>, <code>n7_2A</code>, and <code>toulouse_neigh</code> with arbitrary $\\beta$, $\\alpha$, and $t$. Alerted vertices should appear in a different color (<code>colorant\"lightgreen\"</code>).\n",
    "    \n",
    "<span style=\"font-size:0.9em\">The corrector should be able to write <code>new_state = SAIR(net,state,beta0,beta1,alpha,kappa,t)</code> with your code.</span>\n",
    "\n",
    "</div>\n"
   ]
  },
  {
   "cell_type": "code",
   "execution_count": 105,
   "metadata": {},
   "outputs": [
    {
     "data": {
      "text/plain": [
       "SAIR"
      ]
     },
     "metadata": {},
     "output_type": "display_data"
    }
   ],
   "source": [
    "# Code can be found in sair.jl\n",
    "include(\"sair.jl\")"
   ]
  },
  {
   "cell_type": "code",
   "execution_count": null,
   "metadata": {},
   "outputs": [],
   "source": [
    "# Test on Karat7\n",
    "nombre_infecte = 1\n",
    "karat7 = smallgraph(:karate)\n",
    "state = init_State(nv(karat7), nombre_infecte)\n",
    "beta0 = 0.1\n",
    "beta1 = 0.02\n",
    "kappa = 0.6\n",
    "alpha = 0.3\n",
    "t = 10\n",
    "state = SAIR(karat7,state,beta0,beta1,alpha,kappa,t)\n",
    "draw_Net_Graph(karat7, state, \"SAIR_karat7.png\")"
   ]
  },
  {
   "cell_type": "code",
   "execution_count": null,
   "metadata": {},
   "outputs": [],
   "source": [
    "# Test on N7_2A\n",
    "nombre_infecte = 3\n",
    "c=[[10,0,0] [0.1,10,0] [0.1,0.1,10]]\n",
    "n=[100,70,50]\n",
    "n7_2A = stochastic_block_model(c,n)\n",
    "state = init_State(nv(n7_2A), nombre_infecte)\n",
    "beta0 = 0.1\n",
    "beta1 = 0.02\n",
    "kappa = 0.6\n",
    "alpha = 0.3\n",
    "t = 10\n",
    "state = SAIR(n7_2A,state,beta0,beta1,alpha,kappa,t)\n",
    "draw_Net_Graph(n7_2A, state, \"n7_2A.png\")"
   ]
  },
  {
   "cell_type": "code",
   "execution_count": null,
   "metadata": {},
   "outputs": [],
   "source": [
    "# Test on Toulouse_neigh\n",
    "nombre_infecte = 10\n",
    "toulouse_neigh = barabasi_albert(1000, 1)\n",
    "state = init_State(nv(toulouse_neigh), nombre_infecte)\n",
    "beta0 = 0.1\n",
    "beta1 = 0.02\n",
    "kappa = 0.6\n",
    "alpha = 0.3\n",
    "t = 10\n",
    "state = SAIR(toulouse_neigh,state,beta0,beta1,alpha,kappa,t)\n",
    "draw_Net_Graph(toulouse_neigh, state, \"toulouse_neigh.png\")"
   ]
  },
  {
   "cell_type": "markdown",
   "metadata": {},
   "source": [
    "<div style=\"width:75%;margin:0 auto;\">\n",
    "    \n",
    "<strong style=\"color:cornflowerblue\">Question 17 (code):</strong> Implement the <code>function Simulation_SAIR</code> (respect the header and the specifications).\n",
    "    \n",
    "<span style=\"font-size:0.9em\">The corrector should be able to write <code>predictions, taus = Simulation_SAIR(net,nbinf,betas0,betas1,alphas,kappas,t,nbsimu)</code> with your code.</span>\n",
    "</div>\n"
   ]
  },
  {
   "cell_type": "markdown",
   "metadata": {},
   "source": [
    "<div style=\"width:75%;margin:0 auto;\">\n",
    "\n",
    "<strong style=\"color:cadetblue\">Question 18 (written):</strong> Run the script below comparing the number of infected of SAIR and SIR and comment what you see.\n",
    "    \n",
    "<br>\n",
    "    \n",
    "<div style=\"background-color:#E7F1D1\"> <strong>Answer:</strong></div>\n",
    "</div>\n"
   ]
  },
  {
   "cell_type": "code",
   "execution_count": null,
   "metadata": {},
   "outputs": [],
   "source": [
    "# Script launching prediction on one disease on toulouse_neigh and plotting the percentage\n",
    "# of infected at each time step for SIR and SAIR.\n",
    "predictions1, taus1 = Simulation_SAIR(toulouse_neigh,2,[0.2],[0.1],[0.1],[0.4],100,1000)\n",
    "predictions2, taus2 = Simulation_SIR(toulouse_neigh,2,[0.2],[0.1],100,1000)\n",
    "\n",
    "Plots.plot([predictions1[:,:,1] predictions2[:,:,1]],\n",
    "           label=[\"SAIR\" \"SIR\"],xlabel=\"t\",ylabel=\"%\")"
   ]
  },
  {
   "cell_type": "markdown",
   "metadata": {},
   "source": [
    "<div style=\"width:75%;margin:0 auto;\">\n",
    "\n",
    "<strong style=\"color:cadetblue\">Question 19 (written):</strong> Of course the presented SIS, SIR, and SAIR models are limitated in their modelization of the reality. Formulate few of these limitations (at least 2). \n",
    "Propose few algorithm addons/ideas (at least 2) which would make the models more complex and more accurate in regards to the reality.\n",
    "    \n",
    "<br>\n",
    "    \n",
    "<div style=\"background-color:#E7F1D1\"> <strong>Answer: On a amélioré le modèle de base (SIS) en prenant en compte les ceux qui se retablissent, puisse ceux en état d'alerte. On pourrait aussi prendre en compte le taux de létalité, le taux de personnes suceptible d'être infecté une seconde fois. On peut aussi introduire des variants avec des taux d'infection, de létalité et de guérison différents pour affiner le modèle. </strong></div>\n",
    "</div>\n",
    "\n",
    "</div>\n"
   ]
  },
  {
   "cell_type": "markdown",
   "metadata": {},
   "source": [
    "<div style=\"width:75%;margin:0 auto;\">\n",
    "\n",
    "## Part 3 - Discover patient zero\n",
    "    \n",
    "<p style=\"text-align:justify;\"> In the two previous parts you may have realised that understanding and controlling the spread of epidemics on contact networks is an important task. However, information about\n",
    "the origin of the epidemic could be also extremely useful to reduce or prevent future outbreaks. Thus, in this part we will focus on algorithm solutions to answer this issue.</p>\n",
    "    \n",
    "<p style=\"text-align:justify;\"> The stochastic nature of infection propagation makes the estimation of the epidemic origin intrinsically hard: indeed, different initial conditions can lead to the same configuration at the observation time. Methods such as the distance centrality or the Jordan center try to approximate it. They both rely on spatial information by stating that the first infected is probably at the center of the cluster of infection. Mathematically:\n",
    "    \n",
    "* The jordan center is expressed as $\\min_{v\\in \\mathcal{I}}\\max_{n\\in \\mathcal{I}}d(v,n)$ where $\\mathcal{I}$ is a connected component of the original contact network containing all infected and recovered vertices, and where $d(\\cdot,\\cdot)$ is the distance (= the shortest path) between 2 vertices (if not weighted graph each edge accounts for 1 unit). \n",
    "* The distance centrality is expressed as $\\min_{v\\in \\mathcal{I}}\\sum_{n\\in \\mathcal{I}}d(v,n)(\\delta_{n,I} + \\delta_{n,R}/\\alpha)$, where $\\delta_{n,I}=1$ if the vertex n is infected ($=0$ otherwise), and where $\\delta_{n,R}=1$ if the vertex n is recovered ($=0$ otherwise). You may note that in distance centrality we increase the weight of the recovered vertices by a factor $1/\\alpha$, it translates the fact that recovered vertices tend to be closer to the origin of the epidemic since they probably got ill before.\n",
    "    \n",
    "    \n",
    "We formulate the problem as follow: given a contact network and a snapshot of epidemic spread at a certain time, determine the infection source. A snapshot is a given <code>state</code> array for a contact network.</p>\n",
    "\n",
    "<br>\n",
    "    \n",
    "<p style=\"font-size:0.9em\"> A. Y. Lokhov, M. Mézard, H. Ohta, and L. Zdeborová, <cite>\"Inferring the origin of an epidemic with a dynamic message-passing algorithm\"</cite>, Physical Review (2014)</p>\n",
    "\n",
    "</div>"
   ]
  },
  {
   "cell_type": "markdown",
   "metadata": {},
   "source": [
    "<div style=\"width:75%;margin:0 auto;\">\n",
    "    \n",
    "<strong style=\"color:cornflowerblue\">Question 20 (code):</strong> Implement the <code>function jordan</code> (respect the header and the specifications). You will need to use the function <code>dijkstra_shortest_paths</code> of the LighGraphs library, refer to the doc for more information. If there are multiple minimal vertices, then return the first one.\n",
    "    \n",
    "<span style=\"font-size:0.9em\">The corrector should be able to write <code>zero = jordan(g,state,alpha)</code> with your code.</span>\n",
    "</div>\n"
   ]
  },
  {
   "cell_type": "code",
   "execution_count": 75,
   "metadata": {},
   "outputs": [
    {
     "data": {
      "text/plain": [
       "jordan (generic function with 1 method)"
      ]
     },
     "metadata": {},
     "output_type": "display_data"
    }
   ],
   "source": [
    "function jordan(g,state)\n",
    "    \"\"\"Find patient zero by mean of the jordan center method.\n",
    "    \n",
    "    PARAMS\n",
    "        g (LightGraph): graph representing the contact network\n",
    "        state (Array{Int32,1}): disease status of each vertex\n",
    "    \n",
    "    RETURNS\n",
    "        (Int32): the patient zero vertex number \n",
    "    \"\"\"\n",
    "    distance_min = nv(g)\n",
    "    infected_vertices = []\n",
    "    for v in vertices(g)\n",
    "        if state[v] == 1 || state[v] == 2\n",
    "            push!(infected_vertices, v)\n",
    "        end\n",
    "    end\n",
    "\n",
    "    patient_zero = infected_vertices[1]\n",
    "\n",
    "    # Calculer la distance maximal pour chaque noeud\n",
    "    for v in infected_vertices\n",
    "        distance_v = 0\n",
    "        for v2 in infected_vertices\n",
    "            paths_v = dijkstra_shortest_paths(g, v)\n",
    "            d_v_v2 = sum(enumerate_paths(paths_v, v2))\n",
    "            distance_v = max(distance_v, d_v_v2)\n",
    "        end\n",
    "        \n",
    "        # Mettre à jour le minimum\n",
    "        if distance_v < distance_min\n",
    "            distance_min = distance_v\n",
    "            patient_zero = v\n",
    "        end\n",
    "\n",
    "    end\n",
    "    return patient_zero\n",
    "end"
   ]
  },
  {
   "cell_type": "markdown",
   "metadata": {},
   "source": [
    "<div style=\"width:75%;margin:0 auto;\">\n",
    "    \n",
    "<strong style=\"color:cornflowerblue\">Question 21 (code):</strong> Implement the <code>function distance</code> (respect the header and the specifications). You will need to use the function <code>dijkstra_shortest_paths</code> of the LighGraphs library, refer to the doc for more information. If there are multiple minimal vertices, then return the first one.\n",
    "    \n",
    "<span style=\"font-size:0.9em\">The corrector should be able to write <code>zero = distance(g,state,alpha)</code> with your code.</span>\n",
    "\n",
    "</div>\n"
   ]
  },
  {
   "cell_type": "code",
   "execution_count": 76,
   "metadata": {},
   "outputs": [
    {
     "data": {
      "text/plain": [
       "distance (generic function with 2 methods)"
      ]
     },
     "metadata": {},
     "output_type": "display_data"
    }
   ],
   "source": [
    "function distance(g,state,alpha=1.)\n",
    "    \"\"\"Find patient zero by mean of the distance centrality method.\n",
    "    \n",
    "    PARAMS\n",
    "        g (LightGraph): graph representing the contact network\n",
    "        state (Array{Int32,1}): disease status of each vertex\n",
    "        alpha (Float64): curing rate\n",
    "    \n",
    "    RETURNS\n",
    "        (Int32): the patient zero vertex number \n",
    "    \"\"\"\n",
    "    sum_distance_min = nv(g)\n",
    "    infected_vertices = []\n",
    "    for v in vertices(g)\n",
    "        if state[v] == 1 || state[v] == 2\n",
    "            push!(infected_vertices, v)\n",
    "        end\n",
    "    end\n",
    "    patient_zero = infected_vertices[1]\n",
    "\n",
    "    for v in infected_vertices\n",
    "        sum_distance_v = 0\n",
    "\n",
    "        \n",
    "        for v2 in infected_vertices\n",
    "            paths_v = dijkstra_shortest_paths(g, v)\n",
    "            d_v_v2 = sum(enumerate_paths(paths_v, v2))\n",
    "            if state[v2] == 1\n",
    "                sum_distance_v = sum_distance_v + d_v_v2\n",
    "            elseif state[v2] == 2\n",
    "                sum_distance_v = sum_distance_v + d_v_v2 / alpha\n",
    "            end\n",
    "        end\n",
    "        \n",
    "        # Mettre à jour le minimum\n",
    "        if sum_distance_v < sum_distance_min\n",
    "            distance_min = sum_distance_v\n",
    "            patient_zero = v\n",
    "        end\n",
    "\n",
    "    end\n",
    "    return patient_zero\n",
    "end"
   ]
  },
  {
   "cell_type": "markdown",
   "metadata": {},
   "source": [
    "<div style=\"width:75%;margin:0 auto;\">\n",
    "\n",
    "<strong style=\"color:cadetblue\">Question 22 (written):</strong> Run the 3 following scripts using your functions <code>jordan</code> and <code>distance</code> and comment on the results.\n",
    "    \n",
    "The contact network is karat7 for 2 different patient zero and a $50\\times 50$ grid. The real patient zero (\"Z\"), your jordan (\"J\") and distance (\"D\") approximations are appearing in <code>colorant\"lightblue\"</code>.\n",
    "    \n",
    "<br>\n",
    "    \n",
    "\n",
    "</div>\n"
   ]
  },
  {
   "cell_type": "code",
   "execution_count": 79,
   "metadata": {},
   "outputs": [],
   "source": [
    "# Loading a snapshot of karat7\n",
    "@load \"karat7_Q22_1.jld2\" g state pat_zero alpha beta loc_x loc_y\n",
    "\n",
    "# Run the patient zero finding function\n",
    "cent_pat_zero = distance(g,state,alpha)\n",
    "jor_pat_zero = jordan(g,state)\n",
    "\n",
    "# Some display options \n",
    "labels = Array{String, 1}(undef,nv(g))\n",
    "for k=1:nv(g)\n",
    "    if state[k]==1\n",
    "        labels[k]=\"I\"\n",
    "    elseif state[k]==2\n",
    "        labels[k]=\"R\"\n",
    "    else\n",
    "        labels[k]=\"S\"\n",
    "    end\n",
    "end\n",
    "\n",
    "if cent_pat_zero==jor_pat_zero==pat_zero\n",
    "    labels[cent_pat_zero]=\"C+J+Z\"\n",
    "elseif cent_pat_zero==jor_pat_zero\n",
    "    labels[cent_pat_zero]=\"C+J\"\n",
    "    labels[pat_zero]=\"Z\"\n",
    "elseif cent_pat_zero==pat_zero\n",
    "    labels[cent_pat_zero]=\"C+Z\"\n",
    "    labels[jor_pat_zero]=\"J\"\n",
    "elseif jor_pat_zero==pat_zero\n",
    "    labels[jor_pat_zero]=\"J+Z\"\n",
    "    labels[cent_pat_zero]=\"C\"\n",
    "else\n",
    "    labels[cent_pat_zero]=\"C\"\n",
    "    labels[jor_pat_zero]=\"J\"\n",
    "    labels[pat_zero]=\"Z\"\n",
    "end\n",
    "\n",
    "nodecolor = [colorant\"lightseagreen\", colorant\"orange\", colorant\"purple\"]\n",
    "colors = nodecolor[state + ones(Int32,nv(g))]\n",
    "colors[pat_zero] = colorant\"lightblue\"\n",
    "colors[cent_pat_zero] = colorant\"lightblue\"\n",
    "colors[jor_pat_zero] = colorant\"lightblue\"\n",
    "\n",
    "# Display\n",
    "draw(PNG(\"karat7_Q22_1.png\", 20cm, 20cm), gplot(g,loc_x,loc_y,nodefillc=colors,nodelabel=labels))"
   ]
  },
  {
   "cell_type": "code",
   "execution_count": 80,
   "metadata": {},
   "outputs": [],
   "source": [
    "# Loading a snapshot of karat7\n",
    "@load \"karat7_Q22_2.jld2\" g state pat_zero alpha beta loc_x loc_y\n",
    "\n",
    "# Run the patient zero finding function\n",
    "cent_pat_zero = distance(g,state,alpha)\n",
    "jor_pat_zero = jordan(g,state)\n",
    "\n",
    "# Some display options \n",
    "labels = Array{String, 1}(undef,nv(g))\n",
    "for k=1:nv(g)\n",
    "    if state[k]==1\n",
    "        labels[k]=\"I\"\n",
    "    elseif state[k]==2\n",
    "        labels[k]=\"R\"\n",
    "    else\n",
    "        labels[k]=\"S\"\n",
    "    end\n",
    "end\n",
    "\n",
    "if cent_pat_zero==jor_pat_zero==pat_zero\n",
    "    labels[cent_pat_zero]=\"C+J+Z\"\n",
    "elseif cent_pat_zero==jor_pat_zero\n",
    "    labels[cent_pat_zero]=\"C+J\"\n",
    "    labels[pat_zero]=\"Z\"\n",
    "elseif cent_pat_zero==pat_zero\n",
    "    labels[cent_pat_zero]=\"C+Z\"\n",
    "    labels[jor_pat_zero]=\"J\"\n",
    "elseif jor_pat_zero==pat_zero\n",
    "    labels[jor_pat_zero]=\"J+Z\"\n",
    "    labels[cent_pat_zero]=\"C\"\n",
    "else\n",
    "    labels[cent_pat_zero]=\"C\"\n",
    "    labels[jor_pat_zero]=\"J\"\n",
    "    labels[pat_zero]=\"Z\"\n",
    "end\n",
    "\n",
    "nodecolor = [colorant\"lightseagreen\", colorant\"orange\", colorant\"purple\"]\n",
    "colors = nodecolor[state + ones(Int32,nv(g))]\n",
    "colors[pat_zero] = colorant\"lightblue\"\n",
    "colors[cent_pat_zero] = colorant\"lightblue\"\n",
    "colors[jor_pat_zero] = colorant\"lightblue\"\n",
    "\n",
    "# Display\n",
    "draw(PNG(\"karat7_Q22_2.png\", 20cm, 20cm), gplot(g,loc_x,loc_y,nodefillc=colors,nodelabel=labels))"
   ]
  },
  {
   "cell_type": "code",
   "execution_count": 1,
   "metadata": {},
   "outputs": [
    {
     "ename": "LoadError",
     "evalue": "LoadError: UndefVarError: @load not defined\nin expression starting at In[1]:2",
     "output_type": "error",
     "traceback": [
      "LoadError: UndefVarError: @load not defined\nin expression starting at In[1]:2",
      "",
      "Stacktrace:",
      " [1] top-level scope",
      "   @ :0",
      " [2] eval",
      "   @ .\\boot.jl:373 [inlined]",
      " [3] include_string(mapexpr::typeof(REPL.softscope), mod::Module, code::String, filename::String)",
      "   @ Base .\\loading.jl:1196"
     ]
    }
   ],
   "source": [
    "# Loading a snapshot of grid50\n",
    "@load \"grid50_Q22.jld2\" g state pat_zero alpha beta loc_x loc_y\n",
    "\n",
    "# Run the patient zero finding function\n",
    "cent_pat_zero = distance(g,state,alpha)\n",
    "jor_pat_zero = jordan(g,state)\n",
    "\n",
    "# Some display options \n",
    "labels = Array{String, 1}(undef,nv(g))\n",
    "for k=1:nv(g)\n",
    "    if state[k]==1\n",
    "        labels[k]=\"I\"\n",
    "    elseif state[k]==2\n",
    "        labels[k]=\"R\"\n",
    "    else\n",
    "        labels[k]=\"S\"\n",
    "    end\n",
    "end\n",
    "\n",
    "if cent_pat_zero==jor_pat_zero==pat_zero\n",
    "    labels[cent_pat_zero]=\"C+J+Z\"\n",
    "elseif cent_pat_zero==jor_pat_zero\n",
    "    labels[cent_pat_zero]=\"C+J\"\n",
    "    labels[pat_zero]=\"Z\"\n",
    "elseif cent_pat_zero==pat_zero\n",
    "    labels[cent_pat_zero]=\"C+Z\"\n",
    "    labels[jor_pat_zero]=\"J\"\n",
    "elseif jor_pat_zero==pat_zero\n",
    "    labels[jor_pat_zero]=\"J+Z\"\n",
    "    labels[cent_pat_zero]=\"C\"\n",
    "else\n",
    "    labels[cent_pat_zero]=\"C\"\n",
    "    labels[jor_pat_zero]=\"J\"\n",
    "    labels[pat_zero]=\"Z\"\n",
    "end\n",
    "\n",
    "nodecolor = [colorant\"lightseagreen\", colorant\"orange\", colorant\"purple\"]\n",
    "colors = nodecolor[state + ones(Int32,nv(g))]\n",
    "colors[pat_zero] = colorant\"lightblue\"\n",
    "colors[cent_pat_zero] = colorant\"lightblue\"\n",
    "colors[jor_pat_zero] = colorant\"lightblue\"\n",
    "\n",
    "# Display\n",
    "draw(PNG(\"grid50_Q22.png\", 100cm, 100cm), gplot(g,loc_x,loc_y,nodefillc=colors,nodelabel=labels))"
   ]
  },
  {
   "cell_type": "code",
   "execution_count": null,
   "metadata": {},
   "outputs": [],
   "source": []
  }
 ],
 "metadata": {
  "kernelspec": {
   "display_name": "Julia 1.5.3",
   "language": "julia",
   "name": "julia-1.5"
  },
  "language_info": {
   "file_extension": ".jl",
   "mimetype": "application/julia",
   "name": "julia",
   "version": "1.5.3"
  }
 },
 "nbformat": 4,
 "nbformat_minor": 4
}
